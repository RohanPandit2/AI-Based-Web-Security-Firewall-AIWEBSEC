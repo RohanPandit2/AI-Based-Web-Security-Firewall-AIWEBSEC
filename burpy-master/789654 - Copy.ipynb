{
  "cells": [
    {
      "cell_type": "markdown",
      "metadata": {
        "id": "NjF_Kx8oIs9b"
      },
      "source": [
        "# **Preprocess**"
      ]
    },
    {
      "cell_type": "code",
      "execution_count": 11,
      "metadata": {
        "id": "JQOzYzlDlanZ"
      },
      "outputs": [],
      "source": [
        "import pandas as pd\n",
        "http = pd.read_csv(\"C:\\\\Users\\\\pranil\\\\Desktop\\\\burpy-master\\\\merge.csv\")"
      ]
    },
    {
      "cell_type": "code",
      "execution_count": 4,
      "metadata": {
        "colab": {
          "base_uri": "https://localhost:8080/",
          "height": 1000
        },
        "id": "iQbhHOSXmgME",
        "outputId": "8a3daff6-46a5-4f74-a552-e00bd0975532"
      },
      "outputs": [
        {
          "name": "stdout",
          "output_type": "stream",
          "text": [
            "Requirement already satisfied: pycaret in c:\\users\\pranil\\appdata\\local\\programs\\python\\python39\\lib\\site-packages (3.2.0)\n",
            "Requirement already satisfied: pmdarima!=1.8.1,<3.0.0,>=1.8.0 in c:\\users\\pranil\\appdata\\local\\programs\\python\\python39\\lib\\site-packages (from pycaret) (2.0.4)\n",
            "Requirement already satisfied: xxhash in c:\\users\\pranil\\appdata\\local\\programs\\python\\python39\\lib\\site-packages (from pycaret) (3.4.1)\n",
            "Requirement already satisfied: cloudpickle in c:\\users\\pranil\\appdata\\local\\programs\\python\\python39\\lib\\site-packages (from pycaret) (3.0.0)\n",
            "Requirement already satisfied: markupsafe>=2.0.1 in c:\\users\\pranil\\appdata\\local\\programs\\python\\python39\\lib\\site-packages (from pycaret) (2.1.2)\n",
            "Requirement already satisfied: joblib>=1.2.0 in c:\\users\\pranil\\appdata\\local\\programs\\python\\python39\\lib\\site-packages (from pycaret) (1.3.2)\n",
            "Requirement already satisfied: ipywidgets>=7.6.5 in c:\\users\\pranil\\appdata\\local\\programs\\python\\python39\\lib\\site-packages (from pycaret) (7.6.5)\n",
            "Requirement already satisfied: importlib-metadata>=4.12.0 in c:\\users\\pranil\\appdata\\local\\programs\\python\\python39\\lib\\site-packages (from pycaret) (6.8.0)\n",
            "Requirement already satisfied: ipython>=5.5.0 in c:\\users\\pranil\\appdata\\local\\programs\\python\\python39\\lib\\site-packages (from pycaret) (8.1.1)\n",
            "Requirement already satisfied: requests>=2.27.1 in c:\\users\\pranil\\appdata\\local\\programs\\python\\python39\\lib\\site-packages (from pycaret) (2.31.0)\n",
            "Requirement already satisfied: schemdraw==0.15 in c:\\users\\pranil\\appdata\\local\\programs\\python\\python39\\lib\\site-packages (from pycaret) (0.15)\n",
            "Requirement already satisfied: scikit-plot>=0.3.7 in c:\\users\\pranil\\appdata\\local\\programs\\python\\python39\\lib\\site-packages (from pycaret) (0.3.7)\n",
            "Requirement already satisfied: plotly>=5.0.0 in c:\\users\\pranil\\appdata\\local\\programs\\python\\python39\\lib\\site-packages (from pycaret) (5.18.0)\n",
            "Requirement already satisfied: category-encoders>=2.4.0 in c:\\users\\pranil\\appdata\\local\\programs\\python\\python39\\lib\\site-packages (from pycaret) (2.6.3)\n",
            "Requirement already satisfied: psutil>=5.9.0 in c:\\users\\pranil\\appdata\\local\\programs\\python\\python39\\lib\\site-packages (from pycaret) (5.9.6)\n",
            "Requirement already satisfied: scikit-learn<1.3.0,>=1.0 in c:\\users\\pranil\\appdata\\local\\programs\\python\\python39\\lib\\site-packages (from pycaret) (1.0.2)\n",
            "Requirement already satisfied: sktime!=0.17.1,!=0.17.2,!=0.18.0,<0.22.0,>=0.16.1 in c:\\users\\pranil\\appdata\\local\\programs\\python\\python39\\lib\\site-packages (from pycaret) (0.21.1)\n",
            "Requirement already satisfied: jinja2>=1.2 in c:\\users\\pranil\\appdata\\local\\programs\\python\\python39\\lib\\site-packages (from pycaret) (3.0.3)\n",
            "Requirement already satisfied: tqdm>=4.62.0 in c:\\users\\pranil\\appdata\\local\\programs\\python\\python39\\lib\\site-packages (from pycaret) (4.62.0)\n",
            "Requirement already satisfied: matplotlib<=3.6,>=3.3.0 in c:\\users\\pranil\\appdata\\local\\programs\\python\\python39\\lib\\site-packages (from pycaret) (3.4.3)\n",
            "Requirement already satisfied: lightgbm>=3.0.0 in c:\\users\\pranil\\appdata\\local\\programs\\python\\python39\\lib\\site-packages (from pycaret) (4.1.0)\n",
            "Requirement already satisfied: numba>=0.55.0 in c:\\users\\pranil\\appdata\\local\\programs\\python\\python39\\lib\\site-packages (from pycaret) (0.58.1)\n",
            "Requirement already satisfied: imbalanced-learn>=0.8.1 in c:\\users\\pranil\\appdata\\local\\programs\\python\\python39\\lib\\site-packages (from pycaret) (0.11.0)\n",
            "Requirement already satisfied: pandas<2.0.0,>=1.3.0 in c:\\users\\pranil\\appdata\\local\\programs\\python\\python39\\lib\\site-packages (from pycaret) (1.3.2)\n",
            "Requirement already satisfied: deprecation>=2.1.0 in c:\\users\\pranil\\appdata\\local\\programs\\python\\python39\\lib\\site-packages (from pycaret) (2.1.0)\n",
            "Requirement already satisfied: numpy<1.27,>=1.21 in c:\\users\\pranil\\appdata\\local\\programs\\python\\python39\\lib\\site-packages (from pycaret) (1.24.2)\n",
            "Requirement already satisfied: pyod>=1.0.8 in c:\\users\\pranil\\appdata\\local\\programs\\python\\python39\\lib\\site-packages (from pycaret) (1.1.2)\n",
            "Requirement already satisfied: scipy~=1.10.1 in c:\\users\\pranil\\appdata\\local\\programs\\python\\python39\\lib\\site-packages (from pycaret) (1.10.1)\n",
            "Requirement already satisfied: statsmodels>=0.12.1 in c:\\users\\pranil\\appdata\\local\\programs\\python\\python39\\lib\\site-packages (from pycaret) (0.14.0)\n",
            "Requirement already satisfied: tbats>=1.1.3 in c:\\users\\pranil\\appdata\\local\\programs\\python\\python39\\lib\\site-packages (from pycaret) (1.1.3)\n",
            "Requirement already satisfied: kaleido>=0.2.1 in c:\\users\\pranil\\appdata\\local\\programs\\python\\python39\\lib\\site-packages (from pycaret) (0.2.1)\n",
            "Requirement already satisfied: nbformat>=4.2.0 in c:\\users\\pranil\\appdata\\local\\programs\\python\\python39\\lib\\site-packages (from pycaret) (5.1.3)\n",
            "Requirement already satisfied: plotly-resampler>=0.8.3.1 in c:\\users\\pranil\\appdata\\local\\programs\\python\\python39\\lib\\site-packages (from pycaret) (0.9.1)\n",
            "Requirement already satisfied: yellowbrick>=1.4 in c:\\users\\pranil\\appdata\\local\\programs\\python\\python39\\lib\\site-packages (from pycaret) (1.5)\n",
            "Requirement already satisfied: patsy>=0.5.1 in c:\\users\\pranil\\appdata\\local\\programs\\python\\python39\\lib\\site-packages (from category-encoders>=2.4.0->pycaret) (0.5.3)\n",
            "Requirement already satisfied: packaging in c:\\users\\pranil\\appdata\\local\\programs\\python\\python39\\lib\\site-packages (from deprecation>=2.1.0->pycaret) (23.2)\n",
            "Requirement already satisfied: threadpoolctl>=2.0.0 in c:\\users\\pranil\\appdata\\local\\programs\\python\\python39\\lib\\site-packages (from imbalanced-learn>=0.8.1->pycaret) (3.1.0)\n",
            "Requirement already satisfied: zipp>=0.5 in c:\\users\\pranil\\appdata\\local\\programs\\python\\python39\\lib\\site-packages (from importlib-metadata>=4.12.0->pycaret) (3.8.0)\n",
            "Requirement already satisfied: stack-data in c:\\users\\pranil\\appdata\\local\\programs\\python\\python39\\lib\\site-packages (from ipython>=5.5.0->pycaret) (0.2.0)\n",
            "Requirement already satisfied: pickleshare in c:\\users\\pranil\\appdata\\local\\programs\\python\\python39\\lib\\site-packages (from ipython>=5.5.0->pycaret) (0.7.5)\n",
            "Requirement already satisfied: traitlets>=5 in c:\\users\\pranil\\appdata\\local\\programs\\python\\python39\\lib\\site-packages (from ipython>=5.5.0->pycaret) (5.1.1)\n",
            "Requirement already satisfied: setuptools>=18.5 in c:\\users\\pranil\\appdata\\local\\programs\\python\\python39\\lib\\site-packages (from ipython>=5.5.0->pycaret) (57.0.0)\n",
            "Requirement already satisfied: colorama in c:\\users\\pranil\\appdata\\local\\programs\\python\\python39\\lib\\site-packages (from ipython>=5.5.0->pycaret) (0.4.4)\n",
            "Requirement already satisfied: prompt-toolkit!=3.0.0,!=3.0.1,<3.1.0,>=2.0.0 in c:\\users\\pranil\\appdata\\local\\programs\\python\\python39\\lib\\site-packages (from ipython>=5.5.0->pycaret) (3.0.28)\n",
            "Requirement already satisfied: pygments>=2.4.0 in c:\\users\\pranil\\appdata\\local\\programs\\python\\python39\\lib\\site-packages (from ipython>=5.5.0->pycaret) (2.10.0)\n",
            "Requirement already satisfied: matplotlib-inline in c:\\users\\pranil\\appdata\\local\\programs\\python\\python39\\lib\\site-packages (from ipython>=5.5.0->pycaret) (0.1.3)\n",
            "Requirement already satisfied: backcall in c:\\users\\pranil\\appdata\\local\\programs\\python\\python39\\lib\\site-packages (from ipython>=5.5.0->pycaret) (0.2.0)\n",
            "Requirement already satisfied: decorator in c:\\users\\pranil\\appdata\\local\\programs\\python\\python39\\lib\\site-packages (from ipython>=5.5.0->pycaret) (4.4.2)\n",
            "Requirement already satisfied: jedi>=0.16 in c:\\users\\pranil\\appdata\\local\\programs\\python\\python39\\lib\\site-packages (from ipython>=5.5.0->pycaret) (0.18.1)\n",
            "Requirement already satisfied: jupyterlab-widgets>=1.0.0 in c:\\users\\pranil\\appdata\\local\\programs\\python\\python39\\lib\\site-packages (from ipywidgets>=7.6.5->pycaret) (1.0.2)\n",
            "Requirement already satisfied: widgetsnbextension~=3.5.0 in c:\\users\\pranil\\appdata\\local\\programs\\python\\python39\\lib\\site-packages (from ipywidgets>=7.6.5->pycaret) (3.5.2)\n",
            "Requirement already satisfied: ipykernel>=4.5.1 in c:\\users\\pranil\\appdata\\local\\programs\\python\\python39\\lib\\site-packages (from ipywidgets>=7.6.5->pycaret) (6.9.1)\n",
            "Requirement already satisfied: ipython-genutils~=0.2.0 in c:\\users\\pranil\\appdata\\local\\programs\\python\\python39\\lib\\site-packages (from ipywidgets>=7.6.5->pycaret) (0.2.0)\n",
            "Requirement already satisfied: pillow>=6.2.0 in c:\\users\\pranil\\appdata\\local\\programs\\python\\python39\\lib\\site-packages (from matplotlib<=3.6,>=3.3.0->pycaret) (9.4.0)\n",
            "Requirement already satisfied: pyparsing>=2.2.1 in c:\\users\\pranil\\appdata\\local\\programs\\python\\python39\\lib\\site-packages (from matplotlib<=3.6,>=3.3.0->pycaret) (2.4.7)\n",
            "Requirement already satisfied: cycler>=0.10 in c:\\users\\pranil\\appdata\\local\\programs\\python\\python39\\lib\\site-packages (from matplotlib<=3.6,>=3.3.0->pycaret) (0.10.0)\n",
            "Requirement already satisfied: kiwisolver>=1.0.1 in c:\\users\\pranil\\appdata\\local\\programs\\python\\python39\\lib\\site-packages (from matplotlib<=3.6,>=3.3.0->pycaret) (1.3.1)\n",
            "Requirement already satisfied: python-dateutil>=2.7 in c:\\users\\pranil\\appdata\\local\\programs\\python\\python39\\lib\\site-packages (from matplotlib<=3.6,>=3.3.0->pycaret) (2.8.2)\n",
            "Requirement already satisfied: jsonschema!=2.5.0,>=2.4 in c:\\users\\pranil\\appdata\\local\\programs\\python\\python39\\lib\\site-packages (from nbformat>=4.2.0->pycaret) (4.4.0)\n",
            "Requirement already satisfied: jupyter-core in c:\\users\\pranil\\appdata\\local\\programs\\python\\python39\\lib\\site-packages (from nbformat>=4.2.0->pycaret) (4.9.2)\n",
            "Requirement already satisfied: llvmlite<0.42,>=0.41.0dev0 in c:\\users\\pranil\\appdata\\local\\programs\\python\\python39\\lib\\site-packages (from numba>=0.55.0->pycaret) (0.41.1)\n",
            "Requirement already satisfied: pytz>=2017.3 in c:\\users\\pranil\\appdata\\local\\programs\\python\\python39\\lib\\site-packages (from pandas<2.0.0,>=1.3.0->pycaret) (2021.1)\n",
            "Requirement already satisfied: tenacity>=6.2.0 in c:\\users\\pranil\\appdata\\local\\programs\\python\\python39\\lib\\site-packages (from plotly>=5.0.0->pycaret) (8.2.3)\n",
            "Requirement already satisfied: dash<3.0.0,>=2.11.0 in c:\\users\\pranil\\appdata\\local\\programs\\python\\python39\\lib\\site-packages (from plotly-resampler>=0.8.3.1->pycaret) (2.14.2)\n",
            "Requirement already satisfied: tsdownsample==0.1.2 in c:\\users\\pranil\\appdata\\local\\programs\\python\\python39\\lib\\site-packages (from plotly-resampler>=0.8.3.1->pycaret) (0.1.2)\n",
            "Requirement already satisfied: orjson<4.0.0,>=3.8.0 in c:\\users\\pranil\\appdata\\local\\programs\\python\\python39\\lib\\site-packages (from plotly-resampler>=0.8.3.1->pycaret) (3.9.10)\n",
            "Requirement already satisfied: trace-updater>=0.0.8 in c:\\users\\pranil\\appdata\\local\\programs\\python\\python39\\lib\\site-packages (from plotly-resampler>=0.8.3.1->pycaret) (0.0.9.1)\n",
            "Requirement already satisfied: Cython!=0.29.18,!=0.29.31,>=0.29 in c:\\users\\pranil\\appdata\\local\\programs\\python\\python39\\lib\\site-packages (from pmdarima!=1.8.1,<3.0.0,>=1.8.0->pycaret) (0.29.24)\n",
            "Requirement already satisfied: urllib3 in c:\\users\\pranil\\appdata\\local\\programs\\python\\python39\\lib\\site-packages (from pmdarima!=1.8.1,<3.0.0,>=1.8.0->pycaret) (1.26.3)\n",
            "Requirement already satisfied: six in c:\\users\\pranil\\appdata\\local\\programs\\python\\python39\\lib\\site-packages (from pyod>=1.0.8->pycaret) (1.15.0)\n",
            "Requirement already satisfied: idna<4,>=2.5 in c:\\users\\pranil\\appdata\\local\\programs\\python\\python39\\lib\\site-packages (from requests>=2.27.1->pycaret) (2.10)\n",
            "Requirement already satisfied: charset-normalizer<4,>=2 in c:\\users\\pranil\\appdata\\local\\programs\\python\\python39\\lib\\site-packages (from requests>=2.27.1->pycaret) (3.3.2)\n",
            "Requirement already satisfied: certifi>=2017.4.17 in c:\\users\\pranil\\appdata\\local\\programs\\python\\python39\\lib\\site-packages (from requests>=2.27.1->pycaret) (2020.12.5)\n",
            "Requirement already satisfied: scikit-base<0.6.0 in c:\\users\\pranil\\appdata\\local\\programs\\python\\python39\\lib\\site-packages (from sktime!=0.17.1,!=0.17.2,!=0.18.0,<0.22.0,>=0.16.1->pycaret) (0.5.2)\n",
            "Requirement already satisfied: deprecated>=1.2.13 in c:\\users\\pranil\\appdata\\local\\programs\\python\\python39\\lib\\site-packages (from sktime!=0.17.1,!=0.17.2,!=0.18.0,<0.22.0,>=0.16.1->pycaret) (1.2.14)\n",
            "Requirement already satisfied: dash-html-components==2.0.0 in c:\\users\\pranil\\appdata\\local\\programs\\python\\python39\\lib\\site-packages (from dash<3.0.0,>=2.11.0->plotly-resampler>=0.8.3.1->pycaret) (2.0.0)\n"
          ]
        },
        {
          "name": "stderr",
          "output_type": "stream",
          "text": [
            "WARNING: There was an error checking the latest version of pip.\n"
          ]
        },
        {
          "name": "stdout",
          "output_type": "stream",
          "text": [
            "Requirement already satisfied: Werkzeug<3.1 in c:\\users\\pranil\\appdata\\local\\programs\\python\\python39\\lib\\site-packages (from dash<3.0.0,>=2.11.0->plotly-resampler>=0.8.3.1->pycaret) (2.2.3)\n",
            "Requirement already satisfied: nest-asyncio in c:\\users\\pranil\\appdata\\local\\programs\\python\\python39\\lib\\site-packages (from dash<3.0.0,>=2.11.0->plotly-resampler>=0.8.3.1->pycaret) (1.5.4)\n",
            "Requirement already satisfied: typing-extensions>=4.1.1 in c:\\users\\pranil\\appdata\\local\\programs\\python\\python39\\lib\\site-packages (from dash<3.0.0,>=2.11.0->plotly-resampler>=0.8.3.1->pycaret) (4.5.0)\n",
            "Requirement already satisfied: dash-table==5.0.0 in c:\\users\\pranil\\appdata\\local\\programs\\python\\python39\\lib\\site-packages (from dash<3.0.0,>=2.11.0->plotly-resampler>=0.8.3.1->pycaret) (5.0.0)\n",
            "Requirement already satisfied: ansi2html in c:\\users\\pranil\\appdata\\local\\programs\\python\\python39\\lib\\site-packages (from dash<3.0.0,>=2.11.0->plotly-resampler>=0.8.3.1->pycaret) (1.8.0)\n",
            "Requirement already satisfied: retrying in c:\\users\\pranil\\appdata\\local\\programs\\python\\python39\\lib\\site-packages (from dash<3.0.0,>=2.11.0->plotly-resampler>=0.8.3.1->pycaret) (1.3.4)\n",
            "Requirement already satisfied: Flask<3.1,>=1.0.4 in c:\\users\\pranil\\appdata\\local\\programs\\python\\python39\\lib\\site-packages (from dash<3.0.0,>=2.11.0->plotly-resampler>=0.8.3.1->pycaret) (2.2.3)\n",
            "Requirement already satisfied: dash-core-components==2.0.0 in c:\\users\\pranil\\appdata\\local\\programs\\python\\python39\\lib\\site-packages (from dash<3.0.0,>=2.11.0->plotly-resampler>=0.8.3.1->pycaret) (2.0.0)\n",
            "Requirement already satisfied: wrapt<2,>=1.10 in c:\\users\\pranil\\appdata\\local\\programs\\python\\python39\\lib\\site-packages (from deprecated>=1.2.13->sktime!=0.17.1,!=0.17.2,!=0.18.0,<0.22.0,>=0.16.1->pycaret) (1.12.1)\n",
            "Requirement already satisfied: tornado<7.0,>=4.2 in c:\\users\\pranil\\appdata\\local\\programs\\python\\python39\\lib\\site-packages (from ipykernel>=4.5.1->ipywidgets>=7.6.5->pycaret) (6.1)\n",
            "Requirement already satisfied: jupyter-client<8.0 in c:\\users\\pranil\\appdata\\local\\programs\\python\\python39\\lib\\site-packages (from ipykernel>=4.5.1->ipywidgets>=7.6.5->pycaret) (7.1.2)\n",
            "Requirement already satisfied: debugpy<2.0,>=1.0.0 in c:\\users\\pranil\\appdata\\local\\programs\\python\\python39\\lib\\site-packages (from ipykernel>=4.5.1->ipywidgets>=7.6.5->pycaret) (1.5.1)\n",
            "Requirement already satisfied: parso<0.9.0,>=0.8.0 in c:\\users\\pranil\\appdata\\local\\programs\\python\\python39\\lib\\site-packages (from jedi>=0.16->ipython>=5.5.0->pycaret) (0.8.3)\n",
            "Requirement already satisfied: pyrsistent!=0.17.0,!=0.17.1,!=0.17.2,>=0.14.0 in c:\\users\\pranil\\appdata\\local\\programs\\python\\python39\\lib\\site-packages (from jsonschema!=2.5.0,>=2.4->nbformat>=4.2.0->pycaret) (0.18.1)\n",
            "Requirement already satisfied: attrs>=17.4.0 in c:\\users\\pranil\\appdata\\local\\programs\\python\\python39\\lib\\site-packages (from jsonschema!=2.5.0,>=2.4->nbformat>=4.2.0->pycaret) (21.2.0)\n",
            "Requirement already satisfied: wcwidth in c:\\users\\pranil\\appdata\\local\\programs\\python\\python39\\lib\\site-packages (from prompt-toolkit!=3.0.0,!=3.0.1,<3.1.0,>=2.0.0->ipython>=5.5.0->pycaret) (0.2.5)\n",
            "Requirement already satisfied: notebook>=4.4.1 in c:\\users\\pranil\\appdata\\local\\programs\\python\\python39\\lib\\site-packages (from widgetsnbextension~=3.5.0->ipywidgets>=7.6.5->pycaret) (6.4.8)\n",
            "Requirement already satisfied: pywin32>=1.0 in c:\\users\\pranil\\appdata\\local\\programs\\python\\python39\\lib\\site-packages (from jupyter-core->nbformat>=4.2.0->pycaret) (301)\n",
            "Requirement already satisfied: asttokens in c:\\users\\pranil\\appdata\\local\\programs\\python\\python39\\lib\\site-packages (from stack-data->ipython>=5.5.0->pycaret) (2.0.5)\n",
            "Requirement already satisfied: executing in c:\\users\\pranil\\appdata\\local\\programs\\python\\python39\\lib\\site-packages (from stack-data->ipython>=5.5.0->pycaret) (0.8.3)\n",
            "Requirement already satisfied: pure-eval in c:\\users\\pranil\\appdata\\local\\programs\\python\\python39\\lib\\site-packages (from stack-data->ipython>=5.5.0->pycaret) (0.2.2)\n",
            "Requirement already satisfied: itsdangerous>=2.0 in c:\\users\\pranil\\appdata\\local\\programs\\python\\python39\\lib\\site-packages (from Flask<3.1,>=1.0.4->dash<3.0.0,>=2.11.0->plotly-resampler>=0.8.3.1->pycaret) (2.1.2)\n",
            "Requirement already satisfied: click>=8.0 in c:\\users\\pranil\\appdata\\local\\programs\\python\\python39\\lib\\site-packages (from Flask<3.1,>=1.0.4->dash<3.0.0,>=2.11.0->plotly-resampler>=0.8.3.1->pycaret) (8.1.3)\n",
            "Requirement already satisfied: pyzmq>=13 in c:\\users\\pranil\\appdata\\local\\programs\\python\\python39\\lib\\site-packages (from jupyter-client<8.0->ipykernel>=4.5.1->ipywidgets>=7.6.5->pycaret) (22.3.0)\n",
            "Requirement already satisfied: entrypoints in c:\\users\\pranil\\appdata\\local\\programs\\python\\python39\\lib\\site-packages (from jupyter-client<8.0->ipykernel>=4.5.1->ipywidgets>=7.6.5->pycaret) (0.4)\n",
            "Requirement already satisfied: argon2-cffi in c:\\users\\pranil\\appdata\\local\\programs\\python\\python39\\lib\\site-packages (from notebook>=4.4.1->widgetsnbextension~=3.5.0->ipywidgets>=7.6.5->pycaret) (21.3.0)\n",
            "Requirement already satisfied: nbconvert in c:\\users\\pranil\\appdata\\local\\programs\\python\\python39\\lib\\site-packages (from notebook>=4.4.1->widgetsnbextension~=3.5.0->ipywidgets>=7.6.5->pycaret) (6.4.2)\n",
            "Requirement already satisfied: Send2Trash>=1.8.0 in c:\\users\\pranil\\appdata\\local\\programs\\python\\python39\\lib\\site-packages (from notebook>=4.4.1->widgetsnbextension~=3.5.0->ipywidgets>=7.6.5->pycaret) (1.8.0)\n",
            "Requirement already satisfied: terminado>=0.8.3 in c:\\users\\pranil\\appdata\\local\\programs\\python\\python39\\lib\\site-packages (from notebook>=4.4.1->widgetsnbextension~=3.5.0->ipywidgets>=7.6.5->pycaret) (0.13.3)\n",
            "Requirement already satisfied: prometheus-client in c:\\users\\pranil\\appdata\\local\\programs\\python\\python39\\lib\\site-packages (from notebook>=4.4.1->widgetsnbextension~=3.5.0->ipywidgets>=7.6.5->pycaret) (0.13.1)\n",
            "Requirement already satisfied: pywinpty>=1.1.0 in c:\\users\\pranil\\appdata\\local\\programs\\python\\python39\\lib\\site-packages (from terminado>=0.8.3->notebook>=4.4.1->widgetsnbextension~=3.5.0->ipywidgets>=7.6.5->pycaret) (1.1.6)\n",
            "Requirement already satisfied: argon2-cffi-bindings in c:\\users\\pranil\\appdata\\local\\programs\\python\\python39\\lib\\site-packages (from argon2-cffi->notebook>=4.4.1->widgetsnbextension~=3.5.0->ipywidgets>=7.6.5->pycaret) (21.2.0)\n",
            "Requirement already satisfied: jupyterlab-pygments in c:\\users\\pranil\\appdata\\local\\programs\\python\\python39\\lib\\site-packages (from nbconvert->notebook>=4.4.1->widgetsnbextension~=3.5.0->ipywidgets>=7.6.5->pycaret) (0.1.2)\n",
            "Requirement already satisfied: testpath in c:\\users\\pranil\\appdata\\local\\programs\\python\\python39\\lib\\site-packages (from nbconvert->notebook>=4.4.1->widgetsnbextension~=3.5.0->ipywidgets>=7.6.5->pycaret) (0.6.0)\n",
            "Requirement already satisfied: defusedxml in c:\\users\\pranil\\appdata\\local\\programs\\python\\python39\\lib\\site-packages (from nbconvert->notebook>=4.4.1->widgetsnbextension~=3.5.0->ipywidgets>=7.6.5->pycaret) (0.7.1)\n",
            "Requirement already satisfied: nbclient<0.6.0,>=0.5.0 in c:\\users\\pranil\\appdata\\local\\programs\\python\\python39\\lib\\site-packages (from nbconvert->notebook>=4.4.1->widgetsnbextension~=3.5.0->ipywidgets>=7.6.5->pycaret) (0.5.12)\n",
            "Requirement already satisfied: pandocfilters>=1.4.1 in c:\\users\\pranil\\appdata\\local\\programs\\python\\python39\\lib\\site-packages (from nbconvert->notebook>=4.4.1->widgetsnbextension~=3.5.0->ipywidgets>=7.6.5->pycaret) (1.5.0)\n",
            "Requirement already satisfied: bleach in c:\\users\\pranil\\appdata\\local\\programs\\python\\python39\\lib\\site-packages (from nbconvert->notebook>=4.4.1->widgetsnbextension~=3.5.0->ipywidgets>=7.6.5->pycaret) (4.1.0)\n",
            "Requirement already satisfied: mistune<2,>=0.8.1 in c:\\users\\pranil\\appdata\\local\\programs\\python\\python39\\lib\\site-packages (from nbconvert->notebook>=4.4.1->widgetsnbextension~=3.5.0->ipywidgets>=7.6.5->pycaret) (0.8.4)\n",
            "Requirement already satisfied: cffi>=1.0.1 in c:\\users\\pranil\\appdata\\local\\programs\\python\\python39\\lib\\site-packages (from argon2-cffi-bindings->argon2-cffi->notebook>=4.4.1->widgetsnbextension~=3.5.0->ipywidgets>=7.6.5->pycaret) (1.15.0)\n",
            "Requirement already satisfied: webencodings in c:\\users\\pranil\\appdata\\local\\programs\\python\\python39\\lib\\site-packages (from bleach->nbconvert->notebook>=4.4.1->widgetsnbextension~=3.5.0->ipywidgets>=7.6.5->pycaret) (0.5.1)\n",
            "Requirement already satisfied: pycparser in c:\\users\\pranil\\appdata\\local\\programs\\python\\python39\\lib\\site-packages (from cffi>=1.0.1->argon2-cffi-bindings->argon2-cffi->notebook>=4.4.1->widgetsnbextension~=3.5.0->ipywidgets>=7.6.5->pycaret) (2.21)\n"
          ]
        }
      ],
      "source": [
        "!pip install pycaret"
      ]
    },
    {
      "cell_type": "code",
      "execution_count": 12,
      "metadata": {
        "colab": {
          "base_uri": "https://localhost:8080/",
          "height": 645
        },
        "id": "w2unQAeroBOi",
        "outputId": "620b422a-f5ec-4ec9-8c37-2fd574cbce91"
      },
      "outputs": [
        {
          "data": {
            "text/html": [
              "<style type=\"text/css\">\n",
              "#T_342af_row6_col1, #T_342af_row12_col1 {\n",
              "  background-color: lightgreen;\n",
              "}\n",
              "</style>\n",
              "<table id=\"T_342af_\">\n",
              "  <thead>\n",
              "    <tr>\n",
              "      <th class=\"blank level0\" >&nbsp;</th>\n",
              "      <th class=\"col_heading level0 col0\" >Description</th>\n",
              "      <th class=\"col_heading level0 col1\" >Value</th>\n",
              "    </tr>\n",
              "  </thead>\n",
              "  <tbody>\n",
              "    <tr>\n",
              "      <th id=\"T_342af_level0_row0\" class=\"row_heading level0 row0\" >0</th>\n",
              "      <td id=\"T_342af_row0_col0\" class=\"data row0 col0\" >Session id</td>\n",
              "      <td id=\"T_342af_row0_col1\" class=\"data row0 col1\" >3144</td>\n",
              "    </tr>\n",
              "    <tr>\n",
              "      <th id=\"T_342af_level0_row1\" class=\"row_heading level0 row1\" >1</th>\n",
              "      <td id=\"T_342af_row1_col0\" class=\"data row1 col0\" >Original data shape</td>\n",
              "      <td id=\"T_342af_row1_col1\" class=\"data row1 col1\" >(2342, 10)</td>\n",
              "    </tr>\n",
              "    <tr>\n",
              "      <th id=\"T_342af_level0_row2\" class=\"row_heading level0 row2\" >2</th>\n",
              "      <td id=\"T_342af_row2_col0\" class=\"data row2 col0\" >Transformed data shape</td>\n",
              "      <td id=\"T_342af_row2_col1\" class=\"data row2 col1\" >(2342, 2046)</td>\n",
              "    </tr>\n",
              "    <tr>\n",
              "      <th id=\"T_342af_level0_row3\" class=\"row_heading level0 row3\" >3</th>\n",
              "      <td id=\"T_342af_row3_col0\" class=\"data row3 col0\" >Ignore features</td>\n",
              "      <td id=\"T_342af_row3_col1\" class=\"data row3 col1\" >4</td>\n",
              "    </tr>\n",
              "    <tr>\n",
              "      <th id=\"T_342af_level0_row4\" class=\"row_heading level0 row4\" >4</th>\n",
              "      <td id=\"T_342af_row4_col0\" class=\"data row4 col0\" >Numeric features</td>\n",
              "      <td id=\"T_342af_row4_col1\" class=\"data row4 col1\" >6</td>\n",
              "    </tr>\n",
              "    <tr>\n",
              "      <th id=\"T_342af_level0_row5\" class=\"row_heading level0 row5\" >5</th>\n",
              "      <td id=\"T_342af_row5_col0\" class=\"data row5 col0\" >Categorical features</td>\n",
              "      <td id=\"T_342af_row5_col1\" class=\"data row5 col1\" >3</td>\n",
              "    </tr>\n",
              "    <tr>\n",
              "      <th id=\"T_342af_level0_row6\" class=\"row_heading level0 row6\" >6</th>\n",
              "      <td id=\"T_342af_row6_col0\" class=\"data row6 col0\" >Preprocess</td>\n",
              "      <td id=\"T_342af_row6_col1\" class=\"data row6 col1\" >True</td>\n",
              "    </tr>\n",
              "    <tr>\n",
              "      <th id=\"T_342af_level0_row7\" class=\"row_heading level0 row7\" >7</th>\n",
              "      <td id=\"T_342af_row7_col0\" class=\"data row7 col0\" >Imputation type</td>\n",
              "      <td id=\"T_342af_row7_col1\" class=\"data row7 col1\" >simple</td>\n",
              "    </tr>\n",
              "    <tr>\n",
              "      <th id=\"T_342af_level0_row8\" class=\"row_heading level0 row8\" >8</th>\n",
              "      <td id=\"T_342af_row8_col0\" class=\"data row8 col0\" >Numeric imputation</td>\n",
              "      <td id=\"T_342af_row8_col1\" class=\"data row8 col1\" >mean</td>\n",
              "    </tr>\n",
              "    <tr>\n",
              "      <th id=\"T_342af_level0_row9\" class=\"row_heading level0 row9\" >9</th>\n",
              "      <td id=\"T_342af_row9_col0\" class=\"data row9 col0\" >Categorical imputation</td>\n",
              "      <td id=\"T_342af_row9_col1\" class=\"data row9 col1\" >mode</td>\n",
              "    </tr>\n",
              "    <tr>\n",
              "      <th id=\"T_342af_level0_row10\" class=\"row_heading level0 row10\" >10</th>\n",
              "      <td id=\"T_342af_row10_col0\" class=\"data row10 col0\" >Maximum one-hot encoding</td>\n",
              "      <td id=\"T_342af_row10_col1\" class=\"data row10 col1\" >-1</td>\n",
              "    </tr>\n",
              "    <tr>\n",
              "      <th id=\"T_342af_level0_row11\" class=\"row_heading level0 row11\" >11</th>\n",
              "      <td id=\"T_342af_row11_col0\" class=\"data row11 col0\" >Encoding method</td>\n",
              "      <td id=\"T_342af_row11_col1\" class=\"data row11 col1\" >None</td>\n",
              "    </tr>\n",
              "    <tr>\n",
              "      <th id=\"T_342af_level0_row12\" class=\"row_heading level0 row12\" >12</th>\n",
              "      <td id=\"T_342af_row12_col0\" class=\"data row12 col0\" >Normalize</td>\n",
              "      <td id=\"T_342af_row12_col1\" class=\"data row12 col1\" >True</td>\n",
              "    </tr>\n",
              "    <tr>\n",
              "      <th id=\"T_342af_level0_row13\" class=\"row_heading level0 row13\" >13</th>\n",
              "      <td id=\"T_342af_row13_col0\" class=\"data row13 col0\" >Normalize method</td>\n",
              "      <td id=\"T_342af_row13_col1\" class=\"data row13 col1\" >zscore</td>\n",
              "    </tr>\n",
              "    <tr>\n",
              "      <th id=\"T_342af_level0_row14\" class=\"row_heading level0 row14\" >14</th>\n",
              "      <td id=\"T_342af_row14_col0\" class=\"data row14 col0\" >CPU Jobs</td>\n",
              "      <td id=\"T_342af_row14_col1\" class=\"data row14 col1\" >-1</td>\n",
              "    </tr>\n",
              "    <tr>\n",
              "      <th id=\"T_342af_level0_row15\" class=\"row_heading level0 row15\" >15</th>\n",
              "      <td id=\"T_342af_row15_col0\" class=\"data row15 col0\" >Use GPU</td>\n",
              "      <td id=\"T_342af_row15_col1\" class=\"data row15 col1\" >False</td>\n",
              "    </tr>\n",
              "    <tr>\n",
              "      <th id=\"T_342af_level0_row16\" class=\"row_heading level0 row16\" >16</th>\n",
              "      <td id=\"T_342af_row16_col0\" class=\"data row16 col0\" >Log Experiment</td>\n",
              "      <td id=\"T_342af_row16_col1\" class=\"data row16 col1\" >False</td>\n",
              "    </tr>\n",
              "    <tr>\n",
              "      <th id=\"T_342af_level0_row17\" class=\"row_heading level0 row17\" >17</th>\n",
              "      <td id=\"T_342af_row17_col0\" class=\"data row17 col0\" >Experiment Name</td>\n",
              "      <td id=\"T_342af_row17_col1\" class=\"data row17 col1\" >cluster-default-name</td>\n",
              "    </tr>\n",
              "    <tr>\n",
              "      <th id=\"T_342af_level0_row18\" class=\"row_heading level0 row18\" >18</th>\n",
              "      <td id=\"T_342af_row18_col0\" class=\"data row18 col0\" >USI</td>\n",
              "      <td id=\"T_342af_row18_col1\" class=\"data row18 col1\" >4252</td>\n",
              "    </tr>\n",
              "  </tbody>\n",
              "</table>\n"
            ],
            "text/plain": [
              "<pandas.io.formats.style.Styler at 0x1f38c9715e0>"
            ]
          },
          "metadata": {},
          "output_type": "display_data"
        }
      ],
      "source": [
        "from pycaret.clustering import *\n",
        "clu1 = setup(data = http, normalize = True,numeric_features = ['single_q','double_q','dashes','braces','spaces','badwords'],ignore_features = ['method','path','body','class'])\n"
      ]
    },
    {
      "cell_type": "code",
      "execution_count": 13,
      "metadata": {
        "colab": {
          "base_uri": "https://localhost:8080/",
          "height": 81,
          "referenced_widgets": [
            "25b6bed5b25045d5b57b8edc93917c4f",
            "adc2a024afca40a4b4742deaf2ba3316",
            "cbb1ab5aafb747f2ae50deaddaef5b34",
            "85f99bdf7a274e02a673a1b33bb4db88",
            "7e4b1b8b8cef4a86b5f42b5ea3a23ac1",
            "1cfe44965d3441f89cdf90f437b7d6cc",
            "1746b73a70a04aeca15d606f67cf41ca",
            "c3b403900bcf4791a79a45ac07bdeb7c",
            "b6b36b321158450d971aa23bb9343882",
            "176baefe68524523acf7f54a06ede7a2",
            "213f1a217e2d46f0b29a139361b366a2"
          ]
        },
        "id": "0plmFcnDogAV",
        "outputId": "0ce7e029-66b5-4a70-88cf-0ac8d523461a"
      },
      "outputs": [
        {
          "data": {
            "text/html": [],
            "text/plain": [
              "<IPython.core.display.HTML object>"
            ]
          },
          "metadata": {},
          "output_type": "display_data"
        },
        {
          "data": {
            "text/html": [
              "<style type=\"text/css\">\n",
              "</style>\n",
              "<table id=\"T_27b97_\">\n",
              "  <thead>\n",
              "    <tr>\n",
              "      <th class=\"blank level0\" >&nbsp;</th>\n",
              "      <th class=\"col_heading level0 col0\" >Silhouette</th>\n",
              "      <th class=\"col_heading level0 col1\" >Calinski-Harabasz</th>\n",
              "      <th class=\"col_heading level0 col2\" >Davies-Bouldin</th>\n",
              "      <th class=\"col_heading level0 col3\" >Homogeneity</th>\n",
              "      <th class=\"col_heading level0 col4\" >Rand Index</th>\n",
              "      <th class=\"col_heading level0 col5\" >Completeness</th>\n",
              "    </tr>\n",
              "  </thead>\n",
              "  <tbody>\n",
              "    <tr>\n",
              "      <th id=\"T_27b97_level0_row0\" class=\"row_heading level0 row0\" >0</th>\n",
              "      <td id=\"T_27b97_row0_col0\" class=\"data row0 col0\" >0.0486</td>\n",
              "      <td id=\"T_27b97_row0_col1\" class=\"data row0 col1\" >2.4338</td>\n",
              "      <td id=\"T_27b97_row0_col2\" class=\"data row0 col2\" >3.6227</td>\n",
              "      <td id=\"T_27b97_row0_col3\" class=\"data row0 col3\" >0</td>\n",
              "      <td id=\"T_27b97_row0_col4\" class=\"data row0 col4\" >0</td>\n",
              "      <td id=\"T_27b97_row0_col5\" class=\"data row0 col5\" >0</td>\n",
              "    </tr>\n",
              "  </tbody>\n",
              "</table>\n"
            ],
            "text/plain": [
              "<pandas.io.formats.style.Styler at 0x1f390672cd0>"
            ]
          },
          "metadata": {},
          "output_type": "display_data"
        },
        {
          "data": {
            "application/vnd.jupyter.widget-view+json": {
              "model_id": "8afa554092da425bbaaa292c01f5a74a",
              "version_major": 2,
              "version_minor": 0
            },
            "text/plain": [
              "Processing:   0%|          | 0/3 [00:00<?, ?it/s]"
            ]
          },
          "metadata": {},
          "output_type": "display_data"
        }
      ],
      "source": [
        "kmeans = create_model('kmeans', num_clusters = 2)"
      ]
    },
    {
      "cell_type": "code",
      "execution_count": 14,
      "metadata": {
        "colab": {
          "base_uri": "https://localhost:8080/",
          "height": 74
        },
        "id": "gCClu9cfpoDo",
        "outputId": "76e35491-0940-43a0-cbc7-c0f1ef644ae0"
      },
      "outputs": [
        {
          "data": {
            "text/plain": [
              "KMeans(n_clusters=2, random_state=3144)"
            ]
          },
          "execution_count": 14,
          "metadata": {},
          "output_type": "execute_result"
        }
      ],
      "source": [
        "kmeans"
      ]
    },
    {
      "cell_type": "code",
      "execution_count": 15,
      "metadata": {
        "colab": {
          "base_uri": "https://localhost:8080/",
          "height": 617
        },
        "id": "3ndu0e7mpqzW",
        "outputId": "df27edcd-e7d8-49a4-ec33-de0f7047e2b6"
      },
      "outputs": [
        {
          "data": {
            "text/html": [],
            "text/plain": [
              "<IPython.core.display.HTML object>"
            ]
          },
          "metadata": {},
          "output_type": "display_data"
        },
        {
          "data": {
            "application/vnd.plotly.v1+json": {
              "config": {
                "plotlyServerURL": "https://plot.ly"
              },
              "data": [
                {
                  "customdata": [
                    [
                      "POST"
                    ],
                    [
                      "GET"
                    ],
                    [
                      "GET"
                    ],
                    [
                      "GET"
                    ],
                    [
                      "GET"
                    ],
                    [
                      "GET"
                    ],
                    [
                      "GET"
                    ],
                    [
                      "GET"
                    ],
                    [
                      "GET"
                    ],
                    [
                      "GET"
                    ],
                    [
                      "GET"
                    ],
                    [
                      "GET"
                    ],
                    [
                      "POST"
                    ],
                    [
                      "GET"
                    ],
                    [
                      "GET"
                    ],
                    [
                      "GET"
                    ],
                    [
                      "GET"
                    ],
                    [
                      "GET"
                    ],
                    [
                      "GET"
                    ],
                    [
                      "POST"
                    ],
                    [
                      "GET"
                    ],
                    [
                      "POST"
                    ],
                    [
                      "GET"
                    ],
                    [
                      "GET"
                    ],
                    [
                      "POST"
                    ],
                    [
                      "GET"
                    ],
                    [
                      "GET"
                    ],
                    [
                      "GET"
                    ],
                    [
                      "GET"
                    ],
                    [
                      "GET"
                    ],
                    [
                      "GET"
                    ],
                    [
                      "POST"
                    ],
                    [
                      "GET"
                    ],
                    [
                      "GET"
                    ],
                    [
                      "GET"
                    ],
                    [
                      "GET"
                    ],
                    [
                      "GET"
                    ],
                    [
                      "GET"
                    ],
                    [
                      "GET"
                    ],
                    [
                      "GET"
                    ],
                    [
                      "GET"
                    ],
                    [
                      "GET"
                    ],
                    [
                      "GET"
                    ],
                    [
                      "GET"
                    ],
                    [
                      "GET"
                    ],
                    [
                      "GET"
                    ],
                    [
                      "GET"
                    ],
                    [
                      "GET"
                    ],
                    [
                      "GET"
                    ],
                    [
                      "GET"
                    ],
                    [
                      "GET"
                    ],
                    [
                      "GET"
                    ],
                    [
                      "GET"
                    ],
                    [
                      "GET"
                    ],
                    [
                      "GET"
                    ],
                    [
                      "GET"
                    ],
                    [
                      "GET"
                    ],
                    [
                      "GET"
                    ],
                    [
                      "GET"
                    ],
                    [
                      "GET"
                    ],
                    [
                      "GET"
                    ],
                    [
                      "GET"
                    ],
                    [
                      "GET"
                    ],
                    [
                      "GET"
                    ],
                    [
                      "GET"
                    ],
                    [
                      "GET"
                    ],
                    [
                      "GET"
                    ],
                    [
                      "GET"
                    ],
                    [
                      "GET"
                    ],
                    [
                      "GET"
                    ],
                    [
                      "GET"
                    ],
                    [
                      "GET"
                    ],
                    [
                      "GET"
                    ],
                    [
                      "GET"
                    ],
                    [
                      "GET"
                    ],
                    [
                      "GET"
                    ],
                    [
                      "GET"
                    ],
                    [
                      "GET"
                    ],
                    [
                      "GET"
                    ],
                    [
                      "GET"
                    ],
                    [
                      "GET"
                    ],
                    [
                      "GET"
                    ],
                    [
                      "GET"
                    ],
                    [
                      "GET"
                    ],
                    [
                      "GET"
                    ],
                    [
                      "GET"
                    ],
                    [
                      "GET"
                    ],
                    [
                      "GET"
                    ],
                    [
                      "GET"
                    ],
                    [
                      "GET"
                    ],
                    [
                      "GET"
                    ],
                    [
                      "GET"
                    ],
                    [
                      "GET"
                    ],
                    [
                      "GET"
                    ],
                    [
                      "GET"
                    ],
                    [
                      "GET"
                    ],
                    [
                      "GET"
                    ],
                    [
                      "GET"
                    ],
                    [
                      "GET"
                    ],
                    [
                      "GET"
                    ],
                    [
                      "GET"
                    ],
                    [
                      "GET"
                    ],
                    [
                      "GET"
                    ],
                    [
                      "POST"
                    ],
                    [
                      "GET"
                    ],
                    [
                      "GET"
                    ],
                    [
                      "GET"
                    ],
                    [
                      "GET"
                    ],
                    [
                      "POST"
                    ],
                    [
                      "GET"
                    ],
                    [
                      "GET"
                    ],
                    [
                      "GET"
                    ],
                    [
                      "GET"
                    ],
                    [
                      "GET"
                    ],
                    [
                      "GET"
                    ],
                    [
                      "GET"
                    ],
                    [
                      "GET"
                    ],
                    [
                      "GET"
                    ],
                    [
                      "GET"
                    ],
                    [
                      "GET"
                    ],
                    [
                      "GET"
                    ],
                    [
                      "GET"
                    ],
                    [
                      "GET"
                    ],
                    [
                      "GET"
                    ],
                    [
                      "GET"
                    ],
                    [
                      "GET"
                    ],
                    [
                      "GET"
                    ],
                    [
                      "GET"
                    ],
                    [
                      "GET"
                    ],
                    [
                      "GET"
                    ],
                    [
                      "GET"
                    ],
                    [
                      "GET"
                    ],
                    [
                      "GET"
                    ],
                    [
                      "GET"
                    ],
                    [
                      "GET"
                    ],
                    [
                      "GET"
                    ],
                    [
                      "GET"
                    ],
                    [
                      "GET"
                    ],
                    [
                      "GET"
                    ],
                    [
                      "GET"
                    ],
                    [
                      "GET"
                    ],
                    [
                      "GET"
                    ],
                    [
                      "GET"
                    ],
                    [
                      "GET"
                    ],
                    [
                      "GET"
                    ],
                    [
                      "GET"
                    ],
                    [
                      "GET"
                    ],
                    [
                      "GET"
                    ],
                    [
                      "GET"
                    ],
                    [
                      "GET"
                    ],
                    [
                      "GET"
                    ],
                    [
                      "GET"
                    ],
                    [
                      "GET"
                    ],
                    [
                      "GET"
                    ],
                    [
                      "GET"
                    ],
                    [
                      "GET"
                    ],
                    [
                      "GET"
                    ],
                    [
                      "GET"
                    ],
                    [
                      "GET"
                    ],
                    [
                      "GET"
                    ],
                    [
                      "GET"
                    ],
                    [
                      "GET"
                    ],
                    [
                      "GET"
                    ],
                    [
                      "GET"
                    ],
                    [
                      "GET"
                    ],
                    [
                      "GET"
                    ],
                    [
                      "GET"
                    ],
                    [
                      "GET"
                    ],
                    [
                      "GET"
                    ],
                    [
                      "GET"
                    ],
                    [
                      "GET"
                    ],
                    [
                      "GET"
                    ],
                    [
                      "GET"
                    ],
                    [
                      "GET"
                    ],
                    [
                      "GET"
                    ],
                    [
                      "GET"
                    ],
                    [
                      "GET"
                    ],
                    [
                      "GET"
                    ],
                    [
                      "GET"
                    ],
                    [
                      "GET"
                    ],
                    [
                      "GET"
                    ],
                    [
                      "GET"
                    ],
                    [
                      "GET"
                    ],
                    [
                      "GET"
                    ],
                    [
                      "GET"
                    ],
                    [
                      "GET"
                    ],
                    [
                      "GET"
                    ],
                    [
                      "GET"
                    ],
                    [
                      "GET"
                    ],
                    [
                      "GET"
                    ],
                    [
                      "POST"
                    ],
                    [
                      "POST"
                    ],
                    [
                      "GET"
                    ],
                    [
                      "POST"
                    ],
                    [
                      "GET"
                    ],
                    [
                      "GET"
                    ],
                    [
                      "GET"
                    ],
                    [
                      "GET"
                    ],
                    [
                      "GET"
                    ],
                    [
                      "GET"
                    ],
                    [
                      "GET"
                    ],
                    [
                      "GET"
                    ],
                    [
                      "GET"
                    ],
                    [
                      "GET"
                    ],
                    [
                      "GET"
                    ],
                    [
                      "GET"
                    ],
                    [
                      "GET"
                    ],
                    [
                      "GET"
                    ],
                    [
                      "GET"
                    ],
                    [
                      "GET"
                    ],
                    [
                      "GET"
                    ],
                    [
                      "GET"
                    ],
                    [
                      "GET"
                    ],
                    [
                      "GET"
                    ],
                    [
                      "GET"
                    ],
                    [
                      "GET"
                    ],
                    [
                      "GET"
                    ],
                    [
                      "GET"
                    ],
                    [
                      "GET"
                    ],
                    [
                      "GET"
                    ],
                    [
                      "GET"
                    ],
                    [
                      "GET"
                    ],
                    [
                      "GET"
                    ],
                    [
                      "GET"
                    ],
                    [
                      "GET"
                    ],
                    [
                      "GET"
                    ],
                    [
                      "GET"
                    ],
                    [
                      "GET"
                    ],
                    [
                      "GET"
                    ],
                    [
                      "GET"
                    ],
                    [
                      "GET"
                    ],
                    [
                      "GET"
                    ],
                    [
                      "GET"
                    ],
                    [
                      "GET"
                    ],
                    [
                      "GET"
                    ],
                    [
                      "GET"
                    ],
                    [
                      "GET"
                    ],
                    [
                      "GET"
                    ],
                    [
                      "GET"
                    ],
                    [
                      "GET"
                    ],
                    [
                      "GET"
                    ],
                    [
                      "GET"
                    ],
                    [
                      "GET"
                    ],
                    [
                      "GET"
                    ],
                    [
                      "GET"
                    ],
                    [
                      "GET"
                    ],
                    [
                      "GET"
                    ],
                    [
                      "GET"
                    ],
                    [
                      "GET"
                    ],
                    [
                      "GET"
                    ],
                    [
                      "GET"
                    ],
                    [
                      "GET"
                    ],
                    [
                      "GET"
                    ],
                    [
                      "GET"
                    ],
                    [
                      "GET"
                    ],
                    [
                      "GET"
                    ],
                    [
                      "GET"
                    ],
                    [
                      "GET"
                    ],
                    [
                      "GET"
                    ],
                    [
                      "GET"
                    ],
                    [
                      "GET"
                    ],
                    [
                      "GET"
                    ],
                    [
                      "GET"
                    ],
                    [
                      "GET"
                    ],
                    [
                      "GET"
                    ],
                    [
                      "GET"
                    ],
                    [
                      "GET"
                    ],
                    [
                      "GET"
                    ],
                    [
                      "GET"
                    ],
                    [
                      "GET"
                    ],
                    [
                      "GET"
                    ],
                    [
                      "GET"
                    ],
                    [
                      "GET"
                    ],
                    [
                      "GET"
                    ],
                    [
                      "GET"
                    ],
                    [
                      "GET"
                    ],
                    [
                      "GET"
                    ],
                    [
                      "GET"
                    ],
                    [
                      "GET"
                    ],
                    [
                      "GET"
                    ],
                    [
                      "GET"
                    ],
                    [
                      "GET"
                    ],
                    [
                      "GET"
                    ],
                    [
                      "GET"
                    ],
                    [
                      "GET"
                    ],
                    [
                      "GET"
                    ],
                    [
                      "GET"
                    ],
                    [
                      "GET"
                    ],
                    [
                      "GET"
                    ],
                    [
                      "GET"
                    ],
                    [
                      "GET"
                    ],
                    [
                      "GET"
                    ],
                    [
                      "GET"
                    ],
                    [
                      "GET"
                    ],
                    [
                      "GET"
                    ],
                    [
                      "GET"
                    ],
                    [
                      "GET"
                    ],
                    [
                      "GET"
                    ],
                    [
                      "GET"
                    ],
                    [
                      "GET"
                    ],
                    [
                      "GET"
                    ],
                    [
                      "GET"
                    ],
                    [
                      "GET"
                    ],
                    [
                      "GET"
                    ],
                    [
                      "GET"
                    ],
                    [
                      "GET"
                    ],
                    [
                      "GET"
                    ],
                    [
                      "GET"
                    ],
                    [
                      "GET"
                    ],
                    [
                      "GET"
                    ],
                    [
                      "GET"
                    ],
                    [
                      "GET"
                    ],
                    [
                      "GET"
                    ],
                    [
                      "GET"
                    ],
                    [
                      "GET"
                    ],
                    [
                      "GET"
                    ],
                    [
                      "GET"
                    ],
                    [
                      "GET"
                    ],
                    [
                      "GET"
                    ],
                    [
                      "GET"
                    ],
                    [
                      "GET"
                    ],
                    [
                      "GET"
                    ],
                    [
                      "GET"
                    ],
                    [
                      "GET"
                    ],
                    [
                      "GET"
                    ],
                    [
                      "GET"
                    ],
                    [
                      "GET"
                    ],
                    [
                      "GET"
                    ],
                    [
                      "GET"
                    ],
                    [
                      "GET"
                    ],
                    [
                      "GET"
                    ],
                    [
                      "GET"
                    ],
                    [
                      "GET"
                    ],
                    [
                      "GET"
                    ],
                    [
                      "GET"
                    ],
                    [
                      "GET"
                    ],
                    [
                      "GET"
                    ],
                    [
                      "GET"
                    ],
                    [
                      "GET"
                    ],
                    [
                      "GET"
                    ],
                    [
                      "GET"
                    ],
                    [
                      "GET"
                    ],
                    [
                      "GET"
                    ],
                    [
                      "GET"
                    ],
                    [
                      "GET"
                    ],
                    [
                      "GET"
                    ],
                    [
                      "GET"
                    ],
                    [
                      "GET"
                    ],
                    [
                      "GET"
                    ],
                    [
                      "GET"
                    ],
                    [
                      "GET"
                    ],
                    [
                      "GET"
                    ],
                    [
                      "GET"
                    ],
                    [
                      "GET"
                    ],
                    [
                      "GET"
                    ],
                    [
                      "GET"
                    ],
                    [
                      "GET"
                    ],
                    [
                      "GET"
                    ],
                    [
                      "GET"
                    ],
                    [
                      "GET"
                    ],
                    [
                      "GET"
                    ],
                    [
                      "GET"
                    ],
                    [
                      "GET"
                    ],
                    [
                      "GET"
                    ],
                    [
                      "GET"
                    ],
                    [
                      "GET"
                    ],
                    [
                      "GET"
                    ],
                    [
                      "GET"
                    ],
                    [
                      "GET"
                    ],
                    [
                      "GET"
                    ],
                    [
                      "GET"
                    ],
                    [
                      "GET"
                    ],
                    [
                      "GET"
                    ],
                    [
                      "GET"
                    ],
                    [
                      "GET"
                    ],
                    [
                      "GET"
                    ],
                    [
                      "GET"
                    ],
                    [
                      "GET"
                    ],
                    [
                      "GET"
                    ],
                    [
                      "GET"
                    ],
                    [
                      "GET"
                    ],
                    [
                      "GET"
                    ],
                    [
                      "GET"
                    ],
                    [
                      "GET"
                    ],
                    [
                      "GET"
                    ],
                    [
                      "GET"
                    ],
                    [
                      "GET"
                    ],
                    [
                      "GET"
                    ],
                    [
                      "GET"
                    ],
                    [
                      "GET"
                    ],
                    [
                      "GET"
                    ],
                    [
                      "GET"
                    ],
                    [
                      "GET"
                    ],
                    [
                      "GET"
                    ],
                    [
                      "GET"
                    ],
                    [
                      "GET"
                    ],
                    [
                      "GET"
                    ],
                    [
                      "GET"
                    ],
                    [
                      "GET"
                    ],
                    [
                      "GET"
                    ],
                    [
                      "GET"
                    ],
                    [
                      "GET"
                    ],
                    [
                      "GET"
                    ],
                    [
                      "GET"
                    ],
                    [
                      "GET"
                    ],
                    [
                      "GET"
                    ],
                    [
                      "GET"
                    ],
                    [
                      "GET"
                    ],
                    [
                      "GET"
                    ],
                    [
                      "GET"
                    ],
                    [
                      "GET"
                    ],
                    [
                      "GET"
                    ],
                    [
                      "GET"
                    ],
                    [
                      "GET"
                    ],
                    [
                      "GET"
                    ],
                    [
                      "GET"
                    ],
                    [
                      "GET"
                    ],
                    [
                      "GET"
                    ],
                    [
                      "GET"
                    ],
                    [
                      "GET"
                    ],
                    [
                      "GET"
                    ],
                    [
                      "GET"
                    ],
                    [
                      "GET"
                    ],
                    [
                      "GET"
                    ],
                    [
                      "GET"
                    ],
                    [
                      "GET"
                    ],
                    [
                      "GET"
                    ],
                    [
                      "GET"
                    ],
                    [
                      "POST"
                    ],
                    [
                      "GET"
                    ],
                    [
                      "GET"
                    ],
                    [
                      "GET"
                    ],
                    [
                      "GET"
                    ],
                    [
                      "GET"
                    ],
                    [
                      "GET"
                    ],
                    [
                      "GET"
                    ],
                    [
                      "GET"
                    ],
                    [
                      "GET"
                    ],
                    [
                      "GET"
                    ],
                    [
                      "GET"
                    ],
                    [
                      "GET"
                    ],
                    [
                      "GET"
                    ],
                    [
                      "GET"
                    ],
                    [
                      "GET"
                    ],
                    [
                      "GET"
                    ],
                    [
                      "GET"
                    ],
                    [
                      "GET"
                    ],
                    [
                      "GET"
                    ],
                    [
                      "GET"
                    ],
                    [
                      "GET"
                    ],
                    [
                      "GET"
                    ],
                    [
                      "GET"
                    ],
                    [
                      "GET"
                    ],
                    [
                      "GET"
                    ],
                    [
                      "GET"
                    ],
                    [
                      "GET"
                    ],
                    [
                      "GET"
                    ],
                    [
                      "GET"
                    ],
                    [
                      "GET"
                    ],
                    [
                      "GET"
                    ],
                    [
                      "GET"
                    ],
                    [
                      "GET"
                    ],
                    [
                      "GET"
                    ],
                    [
                      "GET"
                    ],
                    [
                      "GET"
                    ],
                    [
                      "GET"
                    ],
                    [
                      "GET"
                    ],
                    [
                      "GET"
                    ],
                    [
                      "GET"
                    ],
                    [
                      "GET"
                    ],
                    [
                      "GET"
                    ],
                    [
                      "GET"
                    ],
                    [
                      "GET"
                    ],
                    [
                      "POST"
                    ],
                    [
                      "GET"
                    ],
                    [
                      "GET"
                    ],
                    [
                      "GET"
                    ],
                    [
                      "POST"
                    ],
                    [
                      "GET"
                    ],
                    [
                      "GET"
                    ],
                    [
                      "GET"
                    ],
                    [
                      "GET"
                    ],
                    [
                      "GET"
                    ],
                    [
                      "GET"
                    ],
                    [
                      "GET"
                    ],
                    [
                      "GET"
                    ],
                    [
                      "GET"
                    ],
                    [
                      "GET"
                    ],
                    [
                      "GET"
                    ],
                    [
                      "GET"
                    ],
                    [
                      "GET"
                    ],
                    [
                      "GET"
                    ],
                    [
                      "GET"
                    ],
                    [
                      "GET"
                    ],
                    [
                      "POST"
                    ],
                    [
                      "POST"
                    ],
                    [
                      "GET"
                    ],
                    [
                      "GET"
                    ],
                    [
                      "GET"
                    ],
                    [
                      "GET"
                    ],
                    [
                      "GET"
                    ],
                    [
                      "GET"
                    ],
                    [
                      "GET"
                    ],
                    [
                      "POST"
                    ],
                    [
                      "GET"
                    ],
                    [
                      "GET"
                    ],
                    [
                      "POST"
                    ],
                    [
                      "GET"
                    ],
                    [
                      "GET"
                    ],
                    [
                      "GET"
                    ],
                    [
                      "GET"
                    ],
                    [
                      "GET"
                    ],
                    [
                      "GET"
                    ],
                    [
                      "GET"
                    ],
                    [
                      "GET"
                    ],
                    [
                      "GET"
                    ],
                    [
                      "GET"
                    ],
                    [
                      "GET"
                    ],
                    [
                      "GET"
                    ],
                    [
                      "GET"
                    ],
                    [
                      "GET"
                    ],
                    [
                      "GET"
                    ],
                    [
                      "GET"
                    ],
                    [
                      "GET"
                    ],
                    [
                      "GET"
                    ],
                    [
                      "GET"
                    ],
                    [
                      "GET"
                    ],
                    [
                      "GET"
                    ],
                    [
                      "GET"
                    ],
                    [
                      "GET"
                    ],
                    [
                      "GET"
                    ],
                    [
                      "GET"
                    ],
                    [
                      "GET"
                    ],
                    [
                      "GET"
                    ],
                    [
                      "GET"
                    ],
                    [
                      "GET"
                    ],
                    [
                      "GET"
                    ],
                    [
                      "GET"
                    ],
                    [
                      "GET"
                    ],
                    [
                      "GET"
                    ],
                    [
                      "GET"
                    ],
                    [
                      "GET"
                    ],
                    [
                      "GET"
                    ],
                    [
                      "GET"
                    ],
                    [
                      "GET"
                    ],
                    [
                      "GET"
                    ],
                    [
                      "GET"
                    ],
                    [
                      "GET"
                    ],
                    [
                      "GET"
                    ],
                    [
                      "POST"
                    ],
                    [
                      "GET"
                    ],
                    [
                      "GET"
                    ],
                    [
                      "GET"
                    ],
                    [
                      "GET"
                    ],
                    [
                      "GET"
                    ],
                    [
                      "GET"
                    ],
                    [
                      "GET"
                    ],
                    [
                      "GET"
                    ],
                    [
                      "GET"
                    ],
                    [
                      "GET"
                    ],
                    [
                      "GET"
                    ],
                    [
                      "GET"
                    ],
                    [
                      "GET"
                    ],
                    [
                      "GET"
                    ],
                    [
                      "GET"
                    ],
                    [
                      "GET"
                    ],
                    [
                      "GET"
                    ],
                    [
                      "GET"
                    ],
                    [
                      "GET"
                    ],
                    [
                      "GET"
                    ],
                    [
                      "GET"
                    ],
                    [
                      "GET"
                    ],
                    [
                      "GET"
                    ],
                    [
                      "GET"
                    ],
                    [
                      "GET"
                    ],
                    [
                      "GET"
                    ],
                    [
                      "GET"
                    ],
                    [
                      "GET"
                    ],
                    [
                      "GET"
                    ],
                    [
                      "GET"
                    ],
                    [
                      "GET"
                    ],
                    [
                      "GET"
                    ],
                    [
                      "GET"
                    ],
                    [
                      "GET"
                    ],
                    [
                      "GET"
                    ],
                    [
                      "GET"
                    ],
                    [
                      "GET"
                    ],
                    [
                      "GET"
                    ],
                    [
                      "GET"
                    ],
                    [
                      "GET"
                    ],
                    [
                      "GET"
                    ],
                    [
                      "GET"
                    ],
                    [
                      "GET"
                    ],
                    [
                      "GET"
                    ],
                    [
                      "GET"
                    ],
                    [
                      "GET"
                    ],
                    [
                      "GET"
                    ],
                    [
                      "GET"
                    ],
                    [
                      "GET"
                    ],
                    [
                      "GET"
                    ],
                    [
                      "GET"
                    ],
                    [
                      "GET"
                    ],
                    [
                      "GET"
                    ],
                    [
                      "GET"
                    ],
                    [
                      "GET"
                    ],
                    [
                      "GET"
                    ],
                    [
                      "GET"
                    ],
                    [
                      "GET"
                    ],
                    [
                      "GET"
                    ],
                    [
                      "GET"
                    ],
                    [
                      "GET"
                    ],
                    [
                      "GET"
                    ],
                    [
                      "GET"
                    ],
                    [
                      "GET"
                    ],
                    [
                      "GET"
                    ],
                    [
                      "GET"
                    ],
                    [
                      "GET"
                    ],
                    [
                      "GET"
                    ],
                    [
                      "GET"
                    ],
                    [
                      "GET"
                    ],
                    [
                      "GET"
                    ],
                    [
                      "GET"
                    ],
                    [
                      "GET"
                    ],
                    [
                      "GET"
                    ],
                    [
                      "GET"
                    ],
                    [
                      "GET"
                    ],
                    [
                      "GET"
                    ],
                    [
                      "GET"
                    ],
                    [
                      "GET"
                    ],
                    [
                      "GET"
                    ],
                    [
                      "GET"
                    ],
                    [
                      "POST"
                    ],
                    [
                      "GET"
                    ],
                    [
                      "POST"
                    ],
                    [
                      "POST"
                    ],
                    [
                      "GET"
                    ],
                    [
                      "GET"
                    ],
                    [
                      "GET"
                    ],
                    [
                      "GET"
                    ],
                    [
                      "GET"
                    ],
                    [
                      "GET"
                    ],
                    [
                      "GET"
                    ],
                    [
                      "POST"
                    ],
                    [
                      "GET"
                    ],
                    [
                      "POST"
                    ],
                    [
                      "GET"
                    ],
                    [
                      "GET"
                    ],
                    [
                      "POST"
                    ],
                    [
                      "GET"
                    ],
                    [
                      "GET"
                    ],
                    [
                      "GET"
                    ],
                    [
                      "GET"
                    ],
                    [
                      "GET"
                    ],
                    [
                      "GET"
                    ],
                    [
                      "GET"
                    ],
                    [
                      "GET"
                    ],
                    [
                      "GET"
                    ],
                    [
                      "GET"
                    ],
                    [
                      "GET"
                    ],
                    [
                      "GET"
                    ],
                    [
                      "GET"
                    ],
                    [
                      "GET"
                    ],
                    [
                      "GET"
                    ],
                    [
                      "POST"
                    ],
                    [
                      "GET"
                    ],
                    [
                      "GET"
                    ],
                    [
                      "GET"
                    ],
                    [
                      "GET"
                    ],
                    [
                      "GET"
                    ],
                    [
                      "GET"
                    ],
                    [
                      "GET"
                    ],
                    [
                      "GET"
                    ],
                    [
                      "GET"
                    ],
                    [
                      "GET"
                    ],
                    [
                      "GET"
                    ],
                    [
                      "GET"
                    ],
                    [
                      "GET"
                    ],
                    [
                      "GET"
                    ],
                    [
                      "GET"
                    ],
                    [
                      "GET"
                    ],
                    [
                      "GET"
                    ],
                    [
                      "POST"
                    ],
                    [
                      "GET"
                    ],
                    [
                      "GET"
                    ],
                    [
                      "GET"
                    ],
                    [
                      "GET"
                    ],
                    [
                      "GET"
                    ],
                    [
                      "GET"
                    ],
                    [
                      "GET"
                    ],
                    [
                      "GET"
                    ],
                    [
                      "GET"
                    ],
                    [
                      "GET"
                    ],
                    [
                      "GET"
                    ],
                    [
                      "GET"
                    ],
                    [
                      "GET"
                    ],
                    [
                      "GET"
                    ],
                    [
                      "GET"
                    ],
                    [
                      "GET"
                    ],
                    [
                      "GET"
                    ],
                    [
                      "GET"
                    ],
                    [
                      "GET"
                    ],
                    [
                      "GET"
                    ],
                    [
                      "GET"
                    ],
                    [
                      "GET"
                    ],
                    [
                      "GET"
                    ],
                    [
                      "GET"
                    ],
                    [
                      "GET"
                    ],
                    [
                      "GET"
                    ],
                    [
                      "GET"
                    ],
                    [
                      "GET"
                    ],
                    [
                      "GET"
                    ],
                    [
                      "POST"
                    ],
                    [
                      "GET"
                    ],
                    [
                      "GET"
                    ],
                    [
                      "POST"
                    ],
                    [
                      "GET"
                    ],
                    [
                      "GET"
                    ],
                    [
                      "GET"
                    ],
                    [
                      "GET"
                    ],
                    [
                      "GET"
                    ],
                    [
                      "GET"
                    ],
                    [
                      "GET"
                    ],
                    [
                      "GET"
                    ],
                    [
                      "GET"
                    ],
                    [
                      "GET"
                    ],
                    [
                      "GET"
                    ],
                    [
                      "GET"
                    ],
                    [
                      "GET"
                    ],
                    [
                      "GET"
                    ],
                    [
                      "POST"
                    ],
                    [
                      "GET"
                    ],
                    [
                      "GET"
                    ],
                    [
                      "GET"
                    ],
                    [
                      "GET"
                    ],
                    [
                      "GET"
                    ],
                    [
                      "GET"
                    ],
                    [
                      "POST"
                    ],
                    [
                      "POST"
                    ],
                    [
                      "GET"
                    ],
                    [
                      "GET"
                    ],
                    [
                      "GET"
                    ],
                    [
                      "POST"
                    ],
                    [
                      "GET"
                    ],
                    [
                      "GET"
                    ],
                    [
                      "GET"
                    ],
                    [
                      "POST"
                    ],
                    [
                      "POST"
                    ],
                    [
                      "POST"
                    ],
                    [
                      "GET"
                    ],
                    [
                      "GET"
                    ],
                    [
                      "GET"
                    ],
                    [
                      "POST"
                    ],
                    [
                      "GET"
                    ],
                    [
                      "GET"
                    ],
                    [
                      "GET"
                    ],
                    [
                      "POST"
                    ],
                    [
                      "GET"
                    ],
                    [
                      "GET"
                    ],
                    [
                      "POST"
                    ],
                    [
                      "GET"
                    ],
                    [
                      "GET"
                    ],
                    [
                      "POST"
                    ],
                    [
                      "GET"
                    ],
                    [
                      "GET"
                    ],
                    [
                      "POST"
                    ],
                    [
                      "POST"
                    ],
                    [
                      "GET"
                    ],
                    [
                      "GET"
                    ],
                    [
                      "GET"
                    ],
                    [
                      "POST"
                    ],
                    [
                      "POST"
                    ],
                    [
                      "POST"
                    ],
                    [
                      "POST"
                    ],
                    [
                      "POST"
                    ],
                    [
                      "GET"
                    ],
                    [
                      "POST"
                    ],
                    [
                      "POST"
                    ],
                    [
                      "POST"
                    ],
                    [
                      "POST"
                    ],
                    [
                      "POST"
                    ],
                    [
                      "POST"
                    ],
                    [
                      "POST"
                    ],
                    [
                      "GET"
                    ],
                    [
                      "GET"
                    ],
                    [
                      "GET"
                    ],
                    [
                      "GET"
                    ],
                    [
                      "GET"
                    ],
                    [
                      "GET"
                    ],
                    [
                      "GET"
                    ],
                    [
                      "GET"
                    ],
                    [
                      "GET"
                    ],
                    [
                      "GET"
                    ],
                    [
                      "GET"
                    ],
                    [
                      "GET"
                    ],
                    [
                      "GET"
                    ],
                    [
                      "GET"
                    ],
                    [
                      "GET"
                    ],
                    [
                      "GET"
                    ],
                    [
                      "POST"
                    ],
                    [
                      "GET"
                    ],
                    [
                      "GET"
                    ],
                    [
                      "GET"
                    ],
                    [
                      "GET"
                    ],
                    [
                      "GET"
                    ],
                    [
                      "GET"
                    ],
                    [
                      "POST"
                    ],
                    [
                      "GET"
                    ],
                    [
                      "GET"
                    ],
                    [
                      "GET"
                    ],
                    [
                      "GET"
                    ],
                    [
                      "GET"
                    ],
                    [
                      "POST"
                    ],
                    [
                      "POST"
                    ],
                    [
                      "POST"
                    ],
                    [
                      "GET"
                    ],
                    [
                      "POST"
                    ],
                    [
                      "GET"
                    ],
                    [
                      "POST"
                    ],
                    [
                      "GET"
                    ],
                    [
                      "POST"
                    ],
                    [
                      "POST"
                    ],
                    [
                      "GET"
                    ],
                    [
                      "GET"
                    ],
                    [
                      "POST"
                    ],
                    [
                      "POST"
                    ],
                    [
                      "POST"
                    ],
                    [
                      "GET"
                    ],
                    [
                      "GET"
                    ],
                    [
                      "GET"
                    ],
                    [
                      "GET"
                    ],
                    [
                      "GET"
                    ],
                    [
                      "POST"
                    ],
                    [
                      "POST"
                    ],
                    [
                      "POST"
                    ],
                    [
                      "GET"
                    ],
                    [
                      "GET"
                    ],
                    [
                      "GET"
                    ],
                    [
                      "GET"
                    ],
                    [
                      "GET"
                    ],
                    [
                      "GET"
                    ],
                    [
                      "GET"
                    ],
                    [
                      "GET"
                    ],
                    [
                      "GET"
                    ],
                    [
                      "GET"
                    ],
                    [
                      "POST"
                    ],
                    [
                      "GET"
                    ],
                    [
                      "GET"
                    ],
                    [
                      "POST"
                    ],
                    [
                      "GET"
                    ],
                    [
                      "POST"
                    ],
                    [
                      "GET"
                    ],
                    [
                      "GET"
                    ],
                    [
                      "GET"
                    ],
                    [
                      "GET"
                    ],
                    [
                      "GET"
                    ],
                    [
                      "POST"
                    ],
                    [
                      "POST"
                    ],
                    [
                      "GET"
                    ],
                    [
                      "GET"
                    ],
                    [
                      "GET"
                    ],
                    [
                      "POST"
                    ],
                    [
                      "GET"
                    ],
                    [
                      "GET"
                    ],
                    [
                      "GET"
                    ],
                    [
                      "GET"
                    ],
                    [
                      "GET"
                    ],
                    [
                      "GET"
                    ],
                    [
                      "GET"
                    ],
                    [
                      "GET"
                    ],
                    [
                      "GET"
                    ],
                    [
                      "GET"
                    ],
                    [
                      "GET"
                    ],
                    [
                      "GET"
                    ],
                    [
                      "POST"
                    ],
                    [
                      "GET"
                    ],
                    [
                      "GET"
                    ],
                    [
                      "GET"
                    ],
                    [
                      "GET"
                    ],
                    [
                      "GET"
                    ],
                    [
                      "GET"
                    ],
                    [
                      "GET"
                    ],
                    [
                      "GET"
                    ],
                    [
                      "GET"
                    ],
                    [
                      "GET"
                    ],
                    [
                      "GET"
                    ],
                    [
                      "GET"
                    ],
                    [
                      "GET"
                    ],
                    [
                      "GET"
                    ],
                    [
                      "GET"
                    ],
                    [
                      "GET"
                    ],
                    [
                      "GET"
                    ],
                    [
                      "GET"
                    ],
                    [
                      "GET"
                    ],
                    [
                      "GET"
                    ],
                    [
                      "GET"
                    ],
                    [
                      "GET"
                    ],
                    [
                      "GET"
                    ],
                    [
                      "GET"
                    ],
                    [
                      "GET"
                    ],
                    [
                      "GET"
                    ],
                    [
                      "GET"
                    ],
                    [
                      "GET"
                    ],
                    [
                      "POST"
                    ],
                    [
                      "GET"
                    ],
                    [
                      "POST"
                    ],
                    [
                      "GET"
                    ],
                    [
                      "GET"
                    ],
                    [
                      "GET"
                    ],
                    [
                      "GET"
                    ],
                    [
                      "GET"
                    ],
                    [
                      "GET"
                    ],
                    [
                      "GET"
                    ],
                    [
                      "GET"
                    ],
                    [
                      "GET"
                    ],
                    [
                      "GET"
                    ],
                    [
                      "GET"
                    ],
                    [
                      "GET"
                    ],
                    [
                      "GET"
                    ],
                    [
                      "GET"
                    ],
                    [
                      "GET"
                    ],
                    [
                      "GET"
                    ],
                    [
                      "GET"
                    ],
                    [
                      "GET"
                    ],
                    [
                      "GET"
                    ],
                    [
                      "GET"
                    ],
                    [
                      "GET"
                    ],
                    [
                      "GET"
                    ],
                    [
                      "GET"
                    ],
                    [
                      "GET"
                    ],
                    [
                      "POST"
                    ],
                    [
                      "GET"
                    ],
                    [
                      "GET"
                    ],
                    [
                      "GET"
                    ],
                    [
                      "GET"
                    ],
                    [
                      "GET"
                    ],
                    [
                      "GET"
                    ],
                    [
                      "GET"
                    ],
                    [
                      "GET"
                    ],
                    [
                      "GET"
                    ],
                    [
                      "GET"
                    ],
                    [
                      "GET"
                    ],
                    [
                      "GET"
                    ],
                    [
                      "GET"
                    ],
                    [
                      "GET"
                    ],
                    [
                      "GET"
                    ],
                    [
                      "GET"
                    ],
                    [
                      "GET"
                    ],
                    [
                      "GET"
                    ],
                    [
                      "GET"
                    ],
                    [
                      "POST"
                    ],
                    [
                      "GET"
                    ],
                    [
                      "GET"
                    ],
                    [
                      "GET"
                    ],
                    [
                      "GET"
                    ],
                    [
                      "GET"
                    ],
                    [
                      "GET"
                    ],
                    [
                      "GET"
                    ],
                    [
                      "GET"
                    ],
                    [
                      "GET"
                    ],
                    [
                      "POST"
                    ],
                    [
                      "GET"
                    ],
                    [
                      "POST"
                    ],
                    [
                      "GET"
                    ],
                    [
                      "GET"
                    ],
                    [
                      "GET"
                    ],
                    [
                      "GET"
                    ],
                    [
                      "GET"
                    ],
                    [
                      "GET"
                    ],
                    [
                      "GET"
                    ],
                    [
                      "GET"
                    ],
                    [
                      "GET"
                    ],
                    [
                      "GET"
                    ],
                    [
                      "GET"
                    ],
                    [
                      "GET"
                    ],
                    [
                      "GET"
                    ],
                    [
                      "GET"
                    ],
                    [
                      "GET"
                    ],
                    [
                      "GET"
                    ],
                    [
                      "GET"
                    ],
                    [
                      "GET"
                    ],
                    [
                      "CONNECT"
                    ],
                    [
                      "GET"
                    ],
                    [
                      "POST"
                    ],
                    [
                      "GET"
                    ],
                    [
                      "POST"
                    ],
                    [
                      "GET"
                    ],
                    [
                      "GET"
                    ],
                    [
                      "GET"
                    ],
                    [
                      "GET"
                    ],
                    [
                      "GET"
                    ],
                    [
                      "GET"
                    ],
                    [
                      "GET"
                    ],
                    [
                      "GET"
                    ],
                    [
                      "GET"
                    ],
                    [
                      "GET"
                    ],
                    [
                      "GET"
                    ],
                    [
                      "GET"
                    ],
                    [
                      "GET"
                    ],
                    [
                      "GET"
                    ],
                    [
                      "GET"
                    ],
                    [
                      "GET"
                    ],
                    [
                      "GET"
                    ],
                    [
                      "GET"
                    ],
                    [
                      "GET"
                    ],
                    [
                      "GET"
                    ],
                    [
                      "GET"
                    ],
                    [
                      "GET"
                    ],
                    [
                      "GET"
                    ],
                    [
                      "POST"
                    ],
                    [
                      "<script>alert(12345)</script>"
                    ],
                    [
                      "GET"
                    ],
                    [
                      "GET"
                    ],
                    [
                      "GET"
                    ],
                    [
                      "GET"
                    ],
                    [
                      "GET"
                    ],
                    [
                      "GET"
                    ],
                    [
                      "GET"
                    ],
                    [
                      "GET"
                    ],
                    [
                      "GET"
                    ],
                    [
                      "GET"
                    ],
                    [
                      "GET"
                    ],
                    [
                      "GET"
                    ],
                    [
                      "GET"
                    ],
                    [
                      "GET"
                    ],
                    [
                      "GET"
                    ],
                    [
                      "GET"
                    ],
                    [
                      "GET"
                    ],
                    [
                      "GET"
                    ],
                    [
                      "GET"
                    ],
                    [
                      "GET"
                    ],
                    [
                      "GET"
                    ],
                    [
                      "GET"
                    ],
                    [
                      "GET"
                    ],
                    [
                      "GET"
                    ],
                    [
                      "GET"
                    ],
                    [
                      "GET"
                    ],
                    [
                      "GET"
                    ],
                    [
                      "GET"
                    ],
                    [
                      "GET"
                    ],
                    [
                      "GET"
                    ],
                    [
                      "GET"
                    ],
                    [
                      "GET"
                    ],
                    [
                      "GET"
                    ],
                    [
                      "GET"
                    ],
                    [
                      "GET"
                    ],
                    [
                      "GET"
                    ],
                    [
                      "GET"
                    ],
                    [
                      "GET"
                    ],
                    [
                      "GET"
                    ],
                    [
                      "GET"
                    ],
                    [
                      "GET"
                    ],
                    [
                      "GET"
                    ],
                    [
                      "GET"
                    ],
                    [
                      "GET"
                    ],
                    [
                      "GET"
                    ],
                    [
                      "GET"
                    ],
                    [
                      "GET"
                    ],
                    [
                      "GET"
                    ],
                    [
                      "GET"
                    ],
                    [
                      "GET"
                    ],
                    [
                      "GET"
                    ],
                    [
                      "GET"
                    ],
                    [
                      "GET"
                    ],
                    [
                      "GET"
                    ],
                    [
                      "GET"
                    ],
                    [
                      "GET"
                    ],
                    [
                      "GET"
                    ],
                    [
                      "GET"
                    ],
                    [
                      "GET"
                    ],
                    [
                      "GET"
                    ],
                    [
                      "GET"
                    ],
                    [
                      "GET"
                    ],
                    [
                      "GET"
                    ],
                    [
                      "GET"
                    ],
                    [
                      "GET"
                    ],
                    [
                      "GET"
                    ],
                    [
                      "GET"
                    ],
                    [
                      "GET"
                    ],
                    [
                      "GET"
                    ],
                    [
                      "GET"
                    ],
                    [
                      "GET"
                    ],
                    [
                      "GET"
                    ],
                    [
                      "GET"
                    ],
                    [
                      "GET"
                    ],
                    [
                      "GET"
                    ],
                    [
                      "GET"
                    ],
                    [
                      "GET"
                    ],
                    [
                      "GET"
                    ],
                    [
                      "GET"
                    ],
                    [
                      "GET"
                    ],
                    [
                      "GET"
                    ],
                    [
                      "GET"
                    ],
                    [
                      "GET"
                    ],
                    [
                      "GET"
                    ],
                    [
                      "GET"
                    ],
                    [
                      "GET"
                    ],
                    [
                      "GET"
                    ],
                    [
                      "GET"
                    ],
                    [
                      "GET"
                    ],
                    [
                      "GET"
                    ],
                    [
                      "GET"
                    ],
                    [
                      "GET"
                    ],
                    [
                      "POST"
                    ],
                    [
                      "GET"
                    ],
                    [
                      "GET"
                    ],
                    [
                      "GET"
                    ],
                    [
                      "GET"
                    ],
                    [
                      "GET"
                    ],
                    [
                      "GET"
                    ],
                    [
                      "GET"
                    ],
                    [
                      "POST"
                    ],
                    [
                      "GET"
                    ],
                    [
                      "POST"
                    ],
                    [
                      "GET"
                    ],
                    [
                      "GET"
                    ],
                    [
                      "GET"
                    ],
                    [
                      "GET"
                    ],
                    [
                      "GET"
                    ],
                    [
                      "GET"
                    ],
                    [
                      "GET"
                    ],
                    [
                      "GET"
                    ],
                    [
                      "GET"
                    ],
                    [
                      "GET"
                    ],
                    [
                      "GET"
                    ],
                    [
                      "GET"
                    ],
                    [
                      "GET"
                    ],
                    [
                      "GET"
                    ],
                    [
                      "GET"
                    ],
                    [
                      "GET"
                    ],
                    [
                      "GET"
                    ],
                    [
                      "GET"
                    ],
                    [
                      "GET"
                    ],
                    [
                      "GET"
                    ],
                    [
                      "GET"
                    ],
                    [
                      "GET"
                    ],
                    [
                      "GET"
                    ],
                    [
                      "GET"
                    ],
                    [
                      "GET"
                    ],
                    [
                      "GET"
                    ],
                    [
                      "GET"
                    ],
                    [
                      "GET"
                    ],
                    [
                      "GET"
                    ],
                    [
                      "GET"
                    ],
                    [
                      "GET"
                    ],
                    [
                      "GET"
                    ],
                    [
                      "GET"
                    ],
                    [
                      "POST"
                    ],
                    [
                      "GET"
                    ],
                    [
                      "GET"
                    ],
                    [
                      "GET"
                    ],
                    [
                      "GET"
                    ],
                    [
                      "GET"
                    ],
                    [
                      "GET"
                    ],
                    [
                      "GET"
                    ],
                    [
                      "GET"
                    ],
                    [
                      "GET"
                    ],
                    [
                      "GET"
                    ],
                    [
                      "GET"
                    ],
                    [
                      "GET"
                    ],
                    [
                      "GET"
                    ],
                    [
                      "GET"
                    ],
                    [
                      "GET"
                    ],
                    [
                      "GET"
                    ],
                    [
                      "GET"
                    ],
                    [
                      "GET"
                    ],
                    [
                      "GET"
                    ],
                    [
                      "GET"
                    ],
                    [
                      "GET"
                    ],
                    [
                      "GET"
                    ],
                    [
                      "GET"
                    ],
                    [
                      "GET"
                    ],
                    [
                      "GET"
                    ],
                    [
                      "GET"
                    ],
                    [
                      "GET"
                    ],
                    [
                      "GET"
                    ],
                    [
                      "GET"
                    ],
                    [
                      "GET"
                    ],
                    [
                      "GET"
                    ],
                    [
                      "GET"
                    ],
                    [
                      "GET"
                    ],
                    [
                      "GET"
                    ],
                    [
                      "POST"
                    ],
                    [
                      "POST"
                    ],
                    [
                      "GET"
                    ],
                    [
                      "GET"
                    ],
                    [
                      "GET"
                    ],
                    [
                      "GET"
                    ],
                    [
                      "GET"
                    ],
                    [
                      "GET"
                    ],
                    [
                      "GET"
                    ],
                    [
                      "POST"
                    ],
                    [
                      "POST"
                    ],
                    [
                      "POST"
                    ],
                    [
                      "GET"
                    ],
                    [
                      "GET"
                    ],
                    [
                      "GET"
                    ],
                    [
                      "GET"
                    ],
                    [
                      "POST"
                    ],
                    [
                      "POST"
                    ],
                    [
                      "GET"
                    ],
                    [
                      "GET"
                    ],
                    [
                      "GET"
                    ],
                    [
                      "GET"
                    ],
                    [
                      "GET"
                    ],
                    [
                      "GET"
                    ],
                    [
                      "POST"
                    ],
                    [
                      "GET"
                    ],
                    [
                      "GET"
                    ],
                    [
                      "POST"
                    ],
                    [
                      "POST"
                    ],
                    [
                      "POST"
                    ],
                    [
                      "GET"
                    ],
                    [
                      "GET"
                    ],
                    [
                      "GET"
                    ],
                    [
                      "GET"
                    ],
                    [
                      "GET"
                    ],
                    [
                      "GET"
                    ],
                    [
                      "GET"
                    ],
                    [
                      "POST"
                    ],
                    [
                      "GET"
                    ],
                    [
                      "GET"
                    ],
                    [
                      "GET"
                    ],
                    [
                      "OPTIONS"
                    ],
                    [
                      "GET"
                    ],
                    [
                      "GET"
                    ],
                    [
                      "GET"
                    ],
                    [
                      "GET"
                    ],
                    [
                      "GET"
                    ],
                    [
                      "OPTIONS"
                    ],
                    [
                      "POST"
                    ],
                    [
                      "POST"
                    ],
                    [
                      "GET"
                    ],
                    [
                      "GET"
                    ],
                    [
                      "OPTIONS"
                    ],
                    [
                      "GET"
                    ],
                    [
                      "GET"
                    ],
                    [
                      "GET"
                    ],
                    [
                      "GET"
                    ],
                    [
                      "GET"
                    ],
                    [
                      "GET"
                    ],
                    [
                      "GET"
                    ],
                    [
                      "POST"
                    ],
                    [
                      "POST"
                    ],
                    [
                      "POST"
                    ],
                    [
                      "GET"
                    ],
                    [
                      "GET"
                    ],
                    [
                      "GET"
                    ],
                    [
                      "GET"
                    ],
                    [
                      "GET"
                    ],
                    [
                      "GET"
                    ],
                    [
                      "GET"
                    ],
                    [
                      "GET"
                    ],
                    [
                      "GET"
                    ],
                    [
                      "GET"
                    ],
                    [
                      "GET"
                    ],
                    [
                      "GET"
                    ],
                    [
                      "GET"
                    ],
                    [
                      "GET"
                    ],
                    [
                      "GET"
                    ],
                    [
                      "GET"
                    ],
                    [
                      "GET"
                    ],
                    [
                      "GET"
                    ],
                    [
                      "GET"
                    ],
                    [
                      "GET"
                    ],
                    [
                      "POST"
                    ],
                    [
                      "GET"
                    ],
                    [
                      "GET"
                    ],
                    [
                      "POST"
                    ],
                    [
                      "GET"
                    ],
                    [
                      "POST"
                    ],
                    [
                      "GET"
                    ],
                    [
                      "GET"
                    ],
                    [
                      "GET"
                    ],
                    [
                      "GET"
                    ],
                    [
                      "GET"
                    ],
                    [
                      "GET"
                    ],
                    [
                      "POST"
                    ],
                    [
                      "GET"
                    ],
                    [
                      "GET"
                    ],
                    [
                      "GET"
                    ],
                    [
                      "POST"
                    ],
                    [
                      "POST"
                    ],
                    [
                      "POST"
                    ],
                    [
                      "POST"
                    ],
                    [
                      "POST"
                    ],
                    [
                      "POST"
                    ],
                    [
                      "POST"
                    ],
                    [
                      "POST"
                    ],
                    [
                      "GET"
                    ],
                    [
                      "GET"
                    ],
                    [
                      "GET"
                    ],
                    [
                      "GET"
                    ],
                    [
                      "POST"
                    ],
                    [
                      "POST"
                    ],
                    [
                      "GET"
                    ],
                    [
                      "GET"
                    ],
                    [
                      "POST"
                    ],
                    [
                      "GET"
                    ],
                    [
                      "GET"
                    ],
                    [
                      "GET"
                    ],
                    [
                      "GET"
                    ],
                    [
                      "GET"
                    ],
                    [
                      "GET"
                    ],
                    [
                      "GET"
                    ],
                    [
                      "GET"
                    ],
                    [
                      "GET"
                    ],
                    [
                      "GET"
                    ],
                    [
                      "GET"
                    ],
                    [
                      "GET"
                    ],
                    [
                      "GET"
                    ],
                    [
                      "GET"
                    ],
                    [
                      "GET"
                    ],
                    [
                      "GET"
                    ],
                    [
                      "GET"
                    ],
                    [
                      "GET"
                    ],
                    [
                      "GET"
                    ],
                    [
                      "GET"
                    ],
                    [
                      "GET"
                    ],
                    [
                      "GET"
                    ],
                    [
                      "POST"
                    ],
                    [
                      "GET"
                    ],
                    [
                      "GET"
                    ],
                    [
                      "GET"
                    ],
                    [
                      "GET"
                    ],
                    [
                      "GET"
                    ],
                    [
                      "GET"
                    ],
                    [
                      "POST"
                    ],
                    [
                      "GET"
                    ],
                    [
                      "POST"
                    ],
                    [
                      "POST"
                    ],
                    [
                      "GET"
                    ],
                    [
                      "GET"
                    ],
                    [
                      "GET"
                    ],
                    [
                      "GET"
                    ],
                    [
                      "GET"
                    ],
                    [
                      "GET"
                    ],
                    [
                      "GET"
                    ],
                    [
                      "GET"
                    ],
                    [
                      "GET"
                    ],
                    [
                      "GET"
                    ],
                    [
                      "GET"
                    ],
                    [
                      "GET"
                    ],
                    [
                      "GET"
                    ],
                    [
                      "GET"
                    ],
                    [
                      "GET"
                    ],
                    [
                      "GET"
                    ],
                    [
                      "GET"
                    ],
                    [
                      "GET"
                    ],
                    [
                      "GET"
                    ],
                    [
                      "GET"
                    ],
                    [
                      "GET"
                    ],
                    [
                      "GET"
                    ],
                    [
                      "POST"
                    ],
                    [
                      "GET"
                    ],
                    [
                      "GET"
                    ],
                    [
                      "GET"
                    ],
                    [
                      "GET"
                    ],
                    [
                      "GET"
                    ],
                    [
                      "GET"
                    ],
                    [
                      "GET"
                    ],
                    [
                      "GET"
                    ],
                    [
                      "GET"
                    ],
                    [
                      "GET"
                    ],
                    [
                      "GET"
                    ],
                    [
                      "GET"
                    ],
                    [
                      "GET"
                    ],
                    [
                      "GET"
                    ],
                    [
                      "GET"
                    ],
                    [
                      "GET"
                    ],
                    [
                      "GET"
                    ],
                    [
                      "GET"
                    ],
                    [
                      "GET"
                    ],
                    [
                      "GET"
                    ],
                    [
                      "POST"
                    ],
                    [
                      "GET"
                    ],
                    [
                      "POST"
                    ],
                    [
                      "GET"
                    ],
                    [
                      "GET"
                    ],
                    [
                      "GET"
                    ],
                    [
                      "GET"
                    ],
                    [
                      "GET"
                    ],
                    [
                      "GET"
                    ],
                    [
                      "GET"
                    ],
                    [
                      "GET"
                    ],
                    [
                      "GET"
                    ],
                    [
                      "GET"
                    ],
                    [
                      "GET"
                    ],
                    [
                      "GET"
                    ],
                    [
                      "GET"
                    ],
                    [
                      "POST"
                    ],
                    [
                      "GET"
                    ],
                    [
                      "GET"
                    ],
                    [
                      "GET"
                    ],
                    [
                      "GET"
                    ],
                    [
                      "GET"
                    ],
                    [
                      "GET"
                    ],
                    [
                      "POST"
                    ],
                    [
                      "GET"
                    ],
                    [
                      "GET"
                    ],
                    [
                      "GET"
                    ],
                    [
                      "GET"
                    ],
                    [
                      "GET"
                    ],
                    [
                      "GET"
                    ],
                    [
                      "GET"
                    ],
                    [
                      "GET"
                    ],
                    [
                      "GET"
                    ],
                    [
                      "GET"
                    ],
                    [
                      "GET"
                    ],
                    [
                      "POST"
                    ],
                    [
                      "GET"
                    ],
                    [
                      "GET"
                    ],
                    [
                      "GET"
                    ],
                    [
                      "POST"
                    ],
                    [
                      "GET"
                    ],
                    [
                      "GET"
                    ],
                    [
                      "GET"
                    ],
                    [
                      "POST"
                    ],
                    [
                      "GET"
                    ],
                    [
                      "GET"
                    ],
                    [
                      "GET"
                    ],
                    [
                      "OPTIONS"
                    ],
                    [
                      "GET"
                    ],
                    [
                      "GET"
                    ],
                    [
                      "GET"
                    ],
                    [
                      "GET"
                    ],
                    [
                      "GET"
                    ],
                    [
                      "GET"
                    ],
                    [
                      "GET"
                    ],
                    [
                      "GET"
                    ],
                    [
                      "GET"
                    ],
                    [
                      "GET"
                    ],
                    [
                      "GET"
                    ],
                    [
                      "GET"
                    ],
                    [
                      "GET"
                    ],
                    [
                      "GET"
                    ],
                    [
                      "GET"
                    ],
                    [
                      "GET"
                    ],
                    [
                      "GET"
                    ],
                    [
                      "GET"
                    ],
                    [
                      "GET"
                    ],
                    [
                      "GET"
                    ],
                    [
                      "GET"
                    ],
                    [
                      "GET"
                    ],
                    [
                      "GET"
                    ],
                    [
                      "GET"
                    ],
                    [
                      "GET"
                    ],
                    [
                      "GET"
                    ],
                    [
                      "GET"
                    ],
                    [
                      "GET"
                    ],
                    [
                      "GET"
                    ],
                    [
                      "GET"
                    ],
                    [
                      "GET"
                    ],
                    [
                      "GET"
                    ],
                    [
                      "GET"
                    ],
                    [
                      "GET"
                    ],
                    [
                      "GET"
                    ],
                    [
                      "GET"
                    ],
                    [
                      "GET"
                    ],
                    [
                      "GET"
                    ],
                    [
                      "GET"
                    ],
                    [
                      "GET"
                    ],
                    [
                      "GET"
                    ],
                    [
                      "POST"
                    ],
                    [
                      "POST"
                    ],
                    [
                      "POST"
                    ],
                    [
                      "POST"
                    ],
                    [
                      "POST"
                    ],
                    [
                      "GET"
                    ],
                    [
                      "POST"
                    ],
                    [
                      "POST"
                    ],
                    [
                      "POST"
                    ],
                    [
                      "POST"
                    ],
                    [
                      "POST"
                    ],
                    [
                      "POST"
                    ],
                    [
                      "POST"
                    ],
                    [
                      "GET"
                    ],
                    [
                      "POST"
                    ],
                    [
                      "GET"
                    ],
                    [
                      "POST"
                    ],
                    [
                      "GET"
                    ],
                    [
                      "POST"
                    ],
                    [
                      "POST"
                    ],
                    [
                      "POST"
                    ],
                    [
                      "POST"
                    ],
                    [
                      "GET"
                    ],
                    [
                      "POST"
                    ],
                    [
                      "GET"
                    ],
                    [
                      "POST"
                    ],
                    [
                      "POST"
                    ],
                    [
                      "POST"
                    ],
                    [
                      "POST"
                    ],
                    [
                      "POST"
                    ],
                    [
                      "POST"
                    ],
                    [
                      "POST"
                    ],
                    [
                      "POST"
                    ],
                    [
                      "POST"
                    ],
                    [
                      "POST"
                    ],
                    [
                      "POST"
                    ],
                    [
                      "POST"
                    ],
                    [
                      "POST"
                    ],
                    [
                      "POST"
                    ],
                    [
                      "POST"
                    ],
                    [
                      "POST"
                    ],
                    [
                      "POST"
                    ],
                    [
                      "POST"
                    ],
                    [
                      "POST"
                    ],
                    [
                      "POST"
                    ],
                    [
                      "POST"
                    ],
                    [
                      "POST"
                    ],
                    [
                      "POST"
                    ],
                    [
                      "GET"
                    ],
                    [
                      "GET"
                    ],
                    [
                      "POST"
                    ],
                    [
                      "POST"
                    ],
                    [
                      "POST"
                    ],
                    [
                      "POST"
                    ],
                    [
                      "POST"
                    ],
                    [
                      "POST"
                    ],
                    [
                      "POST"
                    ],
                    [
                      "POST"
                    ],
                    [
                      "GET"
                    ],
                    [
                      "POST"
                    ],
                    [
                      "POST"
                    ],
                    [
                      "POST"
                    ],
                    [
                      "POST"
                    ],
                    [
                      "POST"
                    ],
                    [
                      "POST"
                    ],
                    [
                      "POST"
                    ],
                    [
                      "GET"
                    ],
                    [
                      "GET"
                    ],
                    [
                      "POST"
                    ],
                    [
                      "POST"
                    ],
                    [
                      "POST"
                    ],
                    [
                      "GET"
                    ],
                    [
                      "POST"
                    ],
                    [
                      "POST"
                    ],
                    [
                      "POST"
                    ],
                    [
                      "POST"
                    ],
                    [
                      "POST"
                    ],
                    [
                      "POST"
                    ],
                    [
                      "GET"
                    ],
                    [
                      "POST"
                    ],
                    [
                      "POST"
                    ],
                    [
                      "POST"
                    ],
                    [
                      "POST"
                    ],
                    [
                      "POST"
                    ],
                    [
                      "POST"
                    ],
                    [
                      "POST"
                    ],
                    [
                      "POST"
                    ],
                    [
                      "POST"
                    ],
                    [
                      "GET"
                    ],
                    [
                      "POST"
                    ],
                    [
                      "POST"
                    ],
                    [
                      "POST"
                    ],
                    [
                      "POST"
                    ],
                    [
                      "POST"
                    ],
                    [
                      "POST"
                    ],
                    [
                      "GET"
                    ],
                    [
                      "GET"
                    ],
                    [
                      "POST"
                    ],
                    [
                      "POST"
                    ],
                    [
                      "POST"
                    ],
                    [
                      "POST"
                    ],
                    [
                      "POST"
                    ],
                    [
                      "GET"
                    ],
                    [
                      "POST"
                    ],
                    [
                      "POST"
                    ],
                    [
                      "POST"
                    ],
                    [
                      "GET"
                    ],
                    [
                      "POST"
                    ],
                    [
                      "POST"
                    ],
                    [
                      "POST"
                    ],
                    [
                      "POST"
                    ],
                    [
                      "POST"
                    ],
                    [
                      "GET"
                    ],
                    [
                      "POST"
                    ],
                    [
                      "POST"
                    ],
                    [
                      "POST"
                    ],
                    [
                      "POST"
                    ],
                    [
                      "POST"
                    ],
                    [
                      "POST"
                    ],
                    [
                      "POST"
                    ],
                    [
                      "POST"
                    ],
                    [
                      "POST"
                    ],
                    [
                      "POST"
                    ],
                    [
                      "GET"
                    ],
                    [
                      "GET"
                    ],
                    [
                      "GET"
                    ],
                    [
                      "POST"
                    ],
                    [
                      "POST"
                    ],
                    [
                      "POST"
                    ],
                    [
                      "POST"
                    ],
                    [
                      "POST"
                    ],
                    [
                      "POST"
                    ],
                    [
                      "GET"
                    ],
                    [
                      "POST"
                    ],
                    [
                      "POST"
                    ],
                    [
                      "POST"
                    ],
                    [
                      "POST"
                    ],
                    [
                      "POST"
                    ],
                    [
                      "POST"
                    ],
                    [
                      "POST"
                    ],
                    [
                      "POST"
                    ],
                    [
                      "GET"
                    ],
                    [
                      "GET"
                    ],
                    [
                      "GET"
                    ],
                    [
                      "GET"
                    ],
                    [
                      "GET"
                    ],
                    [
                      "GET"
                    ],
                    [
                      "GET"
                    ],
                    [
                      "GET"
                    ],
                    [
                      "GET"
                    ],
                    [
                      "GET"
                    ],
                    [
                      "GET"
                    ],
                    [
                      "GET"
                    ],
                    [
                      "GET"
                    ],
                    [
                      "GET"
                    ],
                    [
                      "GET"
                    ],
                    [
                      "GET"
                    ],
                    [
                      "GET"
                    ],
                    [
                      "GET"
                    ],
                    [
                      "GET"
                    ],
                    [
                      "GET"
                    ],
                    [
                      "GET"
                    ],
                    [
                      "GET"
                    ],
                    [
                      "GET"
                    ],
                    [
                      "GET"
                    ],
                    [
                      "GET"
                    ],
                    [
                      "GET"
                    ],
                    [
                      "GET"
                    ],
                    [
                      "GET"
                    ],
                    [
                      "GET"
                    ],
                    [
                      "GET"
                    ],
                    [
                      "GET"
                    ],
                    [
                      "GET"
                    ],
                    [
                      "GET"
                    ],
                    [
                      "GET"
                    ],
                    [
                      "GET"
                    ],
                    [
                      "GET"
                    ],
                    [
                      "GET"
                    ],
                    [
                      "GET"
                    ],
                    [
                      "GET"
                    ],
                    [
                      "GET"
                    ],
                    [
                      "GET"
                    ],
                    [
                      "GET"
                    ],
                    [
                      "GET"
                    ],
                    [
                      "GET"
                    ],
                    [
                      "GET"
                    ],
                    [
                      "GET"
                    ],
                    [
                      "GET"
                    ],
                    [
                      "GET"
                    ],
                    [
                      "GET"
                    ],
                    [
                      "GET"
                    ],
                    [
                      "GET"
                    ],
                    [
                      "GET"
                    ],
                    [
                      "GET"
                    ],
                    [
                      "GET"
                    ],
                    [
                      "GET"
                    ],
                    [
                      "GET"
                    ],
                    [
                      "GET"
                    ],
                    [
                      "GET"
                    ],
                    [
                      "GET"
                    ],
                    [
                      "GET"
                    ],
                    [
                      "GET"
                    ],
                    [
                      "GET"
                    ],
                    [
                      "GET"
                    ],
                    [
                      "GET"
                    ],
                    [
                      "GET"
                    ],
                    [
                      "GET"
                    ],
                    [
                      "GET"
                    ],
                    [
                      "GET"
                    ],
                    [
                      "GET"
                    ],
                    [
                      "GET"
                    ],
                    [
                      "GET"
                    ],
                    [
                      "GET"
                    ],
                    [
                      "GET"
                    ],
                    [
                      "GET"
                    ],
                    [
                      "GET"
                    ],
                    [
                      "GET"
                    ],
                    [
                      "GET"
                    ],
                    [
                      "GET"
                    ],
                    [
                      "GET"
                    ],
                    [
                      "GET"
                    ],
                    [
                      "GET"
                    ],
                    [
                      "GET"
                    ],
                    [
                      "GET"
                    ],
                    [
                      "GET"
                    ],
                    [
                      "GET"
                    ],
                    [
                      "GET"
                    ],
                    [
                      "GET"
                    ],
                    [
                      "GET"
                    ],
                    [
                      "GET"
                    ],
                    [
                      "GET"
                    ],
                    [
                      "GET"
                    ],
                    [
                      "GET"
                    ],
                    [
                      "GET"
                    ],
                    [
                      "GET"
                    ],
                    [
                      "GET"
                    ],
                    [
                      "GET"
                    ],
                    [
                      "GET"
                    ],
                    [
                      "GET"
                    ],
                    [
                      "GET"
                    ],
                    [
                      "GET"
                    ],
                    [
                      "GET"
                    ],
                    [
                      "GET"
                    ],
                    [
                      "GET"
                    ],
                    [
                      "GET"
                    ],
                    [
                      "GET"
                    ],
                    [
                      "GET"
                    ],
                    [
                      "GET"
                    ],
                    [
                      "GET"
                    ],
                    [
                      "GET"
                    ],
                    [
                      "GET"
                    ],
                    [
                      "GET"
                    ],
                    [
                      "GET"
                    ],
                    [
                      "GET"
                    ],
                    [
                      "GET"
                    ],
                    [
                      "GET"
                    ],
                    [
                      "GET"
                    ],
                    [
                      "GET"
                    ],
                    [
                      "GET"
                    ],
                    [
                      "GET"
                    ],
                    [
                      "GET"
                    ],
                    [
                      "GET"
                    ],
                    [
                      "GET"
                    ],
                    [
                      "GET"
                    ],
                    [
                      "GET"
                    ],
                    [
                      "GET"
                    ],
                    [
                      "GET"
                    ],
                    [
                      "GET"
                    ],
                    [
                      "GET"
                    ],
                    [
                      "GET"
                    ],
                    [
                      "GET"
                    ],
                    [
                      "GET"
                    ],
                    [
                      "GET"
                    ],
                    [
                      "GET"
                    ],
                    [
                      "GET"
                    ],
                    [
                      "GET"
                    ],
                    [
                      "GET"
                    ],
                    [
                      "GET"
                    ],
                    [
                      "GET"
                    ],
                    [
                      "GET"
                    ],
                    [
                      "GET"
                    ],
                    [
                      "GET"
                    ],
                    [
                      "GET"
                    ],
                    [
                      "GET"
                    ],
                    [
                      "GET"
                    ],
                    [
                      "GET"
                    ],
                    [
                      "GET"
                    ],
                    [
                      "GET"
                    ],
                    [
                      "GET"
                    ],
                    [
                      "GET"
                    ],
                    [
                      "GET"
                    ],
                    [
                      "GET"
                    ],
                    [
                      "GET"
                    ],
                    [
                      "POST"
                    ],
                    [
                      "GET"
                    ],
                    [
                      "GET"
                    ],
                    [
                      "GET"
                    ],
                    [
                      "GET"
                    ],
                    [
                      "GET"
                    ],
                    [
                      "GET"
                    ],
                    [
                      "GET"
                    ],
                    [
                      "GET"
                    ],
                    [
                      "GET"
                    ],
                    [
                      "GET"
                    ],
                    [
                      "GET"
                    ],
                    [
                      "GET"
                    ],
                    [
                      "GET"
                    ],
                    [
                      "GET"
                    ],
                    [
                      "POST"
                    ],
                    [
                      "GET"
                    ],
                    [
                      "GET"
                    ],
                    [
                      "GET"
                    ],
                    [
                      "GET"
                    ],
                    [
                      "POST"
                    ],
                    [
                      "GET"
                    ],
                    [
                      "POST"
                    ],
                    [
                      "GET"
                    ],
                    [
                      "GET"
                    ],
                    [
                      "GET"
                    ],
                    [
                      "GET"
                    ],
                    [
                      "POST"
                    ],
                    [
                      "POST"
                    ],
                    [
                      "GET"
                    ],
                    [
                      "GET"
                    ],
                    [
                      "POST"
                    ],
                    [
                      "GET"
                    ],
                    [
                      "POST"
                    ],
                    [
                      "GET"
                    ],
                    [
                      "GET"
                    ],
                    [
                      "GET"
                    ],
                    [
                      "GET"
                    ],
                    [
                      "GET"
                    ],
                    [
                      "GET"
                    ],
                    [
                      "GET"
                    ],
                    [
                      "GET"
                    ],
                    [
                      "GET"
                    ],
                    [
                      "GET"
                    ],
                    [
                      "GET"
                    ],
                    [
                      "GET"
                    ],
                    [
                      "GET"
                    ],
                    [
                      "GET"
                    ],
                    [
                      "GET"
                    ],
                    [
                      "GET"
                    ],
                    [
                      "GET"
                    ],
                    [
                      "GET"
                    ],
                    [
                      "GET"
                    ],
                    [
                      "GET"
                    ],
                    [
                      "GET"
                    ],
                    [
                      "GET"
                    ],
                    [
                      "GET"
                    ],
                    [
                      "GET"
                    ],
                    [
                      "GET"
                    ],
                    [
                      "GET"
                    ],
                    [
                      "GET"
                    ],
                    [
                      "GET"
                    ],
                    [
                      "GET"
                    ],
                    [
                      "GET"
                    ],
                    [
                      "GET"
                    ],
                    [
                      "GET"
                    ],
                    [
                      "GET"
                    ],
                    [
                      "GET"
                    ],
                    [
                      "GET"
                    ],
                    [
                      "POST"
                    ],
                    [
                      "POST"
                    ],
                    [
                      "POST"
                    ],
                    [
                      "POST"
                    ],
                    [
                      "GET"
                    ],
                    [
                      "GET"
                    ],
                    [
                      "POST"
                    ],
                    [
                      "GET"
                    ],
                    [
                      "GET"
                    ],
                    [
                      "POST"
                    ],
                    [
                      "POST"
                    ],
                    [
                      "POST"
                    ],
                    [
                      "GET"
                    ],
                    [
                      "GET"
                    ],
                    [
                      "GET"
                    ],
                    [
                      "GET"
                    ],
                    [
                      "GET"
                    ],
                    [
                      "GET"
                    ],
                    [
                      "GET"
                    ],
                    [
                      "GET"
                    ],
                    [
                      "GET"
                    ],
                    [
                      "GET"
                    ],
                    [
                      "POST"
                    ],
                    [
                      "POST"
                    ],
                    [
                      "GET"
                    ],
                    [
                      "GET"
                    ],
                    [
                      "GET"
                    ],
                    [
                      "POST"
                    ],
                    [
                      "GET"
                    ],
                    [
                      "GET"
                    ],
                    [
                      "POST"
                    ],
                    [
                      "POST"
                    ],
                    [
                      "POST"
                    ],
                    [
                      "OPTIONS"
                    ],
                    [
                      "GET"
                    ],
                    [
                      "POST"
                    ],
                    [
                      "POST"
                    ],
                    [
                      "GET"
                    ],
                    [
                      "GET"
                    ],
                    [
                      "GET"
                    ],
                    [
                      "POST"
                    ],
                    [
                      "POST"
                    ],
                    [
                      "POST"
                    ],
                    [
                      "GET"
                    ],
                    [
                      "GET"
                    ],
                    [
                      "GET"
                    ],
                    [
                      "GET"
                    ],
                    [
                      "GET"
                    ],
                    [
                      "POST"
                    ],
                    [
                      "POST"
                    ],
                    [
                      "POST"
                    ],
                    [
                      "GET"
                    ],
                    [
                      "GET"
                    ],
                    [
                      "POST"
                    ],
                    [
                      "POST"
                    ],
                    [
                      "POST"
                    ],
                    [
                      "GET"
                    ],
                    [
                      "GET"
                    ],
                    [
                      "GET"
                    ],
                    [
                      "POST"
                    ],
                    [
                      "GET"
                    ],
                    [
                      "POST"
                    ],
                    [
                      "POST"
                    ],
                    [
                      "GET"
                    ],
                    [
                      "GET"
                    ],
                    [
                      "GET"
                    ],
                    [
                      "OPTIONS"
                    ],
                    [
                      "POST"
                    ],
                    [
                      "GET"
                    ],
                    [
                      "POST"
                    ],
                    [
                      "GET"
                    ],
                    [
                      "GET"
                    ],
                    [
                      "GET"
                    ],
                    [
                      "GET"
                    ],
                    [
                      "GET"
                    ],
                    [
                      "GET"
                    ],
                    [
                      "GET"
                    ],
                    [
                      "GET"
                    ],
                    [
                      "GET"
                    ],
                    [
                      "GET"
                    ],
                    [
                      "GET"
                    ],
                    [
                      "GET"
                    ],
                    [
                      "GET"
                    ],
                    [
                      "GET"
                    ],
                    [
                      "GET"
                    ],
                    [
                      "GET"
                    ],
                    [
                      "GET"
                    ],
                    [
                      "GET"
                    ],
                    [
                      "GET"
                    ],
                    [
                      "GET"
                    ],
                    [
                      "GET"
                    ],
                    [
                      "GET"
                    ],
                    [
                      "GET"
                    ],
                    [
                      "GET"
                    ],
                    [
                      "GET"
                    ],
                    [
                      "GET"
                    ],
                    [
                      "GET"
                    ],
                    [
                      "GET"
                    ],
                    [
                      "GET"
                    ],
                    [
                      "GET"
                    ],
                    [
                      "GET"
                    ],
                    [
                      "GET"
                    ],
                    [
                      "GET"
                    ],
                    [
                      "GET"
                    ],
                    [
                      "GET"
                    ],
                    [
                      "GET"
                    ],
                    [
                      "GET"
                    ],
                    [
                      "GET"
                    ],
                    [
                      "GET"
                    ],
                    [
                      "GET"
                    ],
                    [
                      "GET"
                    ],
                    [
                      "GET"
                    ],
                    [
                      "GET"
                    ],
                    [
                      "GET"
                    ],
                    [
                      "GET"
                    ],
                    [
                      "GET"
                    ],
                    [
                      "GET"
                    ],
                    [
                      "GET"
                    ],
                    [
                      "GET"
                    ],
                    [
                      "GET"
                    ],
                    [
                      "GET"
                    ],
                    [
                      "GET"
                    ],
                    [
                      "GET"
                    ],
                    [
                      "GET"
                    ],
                    [
                      "GET"
                    ],
                    [
                      "GET"
                    ],
                    [
                      "GET"
                    ],
                    [
                      "GET"
                    ],
                    [
                      "GET"
                    ],
                    [
                      "GET"
                    ],
                    [
                      "GET"
                    ],
                    [
                      "GET"
                    ],
                    [
                      "GET"
                    ],
                    [
                      "GET"
                    ],
                    [
                      "GET"
                    ],
                    [
                      "GET"
                    ],
                    [
                      "GET"
                    ],
                    [
                      "GET"
                    ],
                    [
                      "GET"
                    ],
                    [
                      "GET"
                    ],
                    [
                      "GET"
                    ],
                    [
                      "GET"
                    ],
                    [
                      "GET"
                    ],
                    [
                      "GET"
                    ],
                    [
                      "GET"
                    ],
                    [
                      "GET"
                    ],
                    [
                      "GET"
                    ],
                    [
                      "GET"
                    ],
                    [
                      "GET"
                    ],
                    [
                      "GET"
                    ],
                    [
                      "GET"
                    ],
                    [
                      "GET"
                    ],
                    [
                      "GET"
                    ],
                    [
                      "GET"
                    ],
                    [
                      "GET"
                    ],
                    [
                      "GET"
                    ],
                    [
                      "GET"
                    ],
                    [
                      "GET"
                    ],
                    [
                      "GET"
                    ],
                    [
                      "GET"
                    ],
                    [
                      "GET"
                    ],
                    [
                      "GET"
                    ],
                    [
                      "GET"
                    ],
                    [
                      "GET"
                    ],
                    [
                      "GET"
                    ],
                    [
                      "GET"
                    ],
                    [
                      "GET"
                    ],
                    [
                      "GET"
                    ],
                    [
                      "GET"
                    ],
                    [
                      "GET"
                    ],
                    [
                      "GET"
                    ],
                    [
                      "GET"
                    ],
                    [
                      "GET"
                    ],
                    [
                      "GET"
                    ],
                    [
                      "GET"
                    ],
                    [
                      "GET"
                    ],
                    [
                      "GET"
                    ],
                    [
                      "GET"
                    ],
                    [
                      "GET"
                    ],
                    [
                      "GET"
                    ],
                    [
                      "GET"
                    ],
                    [
                      "GET"
                    ],
                    [
                      "GET"
                    ],
                    [
                      "GET"
                    ],
                    [
                      "GET"
                    ],
                    [
                      "GET"
                    ],
                    [
                      "GET"
                    ],
                    [
                      "GET"
                    ],
                    [
                      "GET"
                    ],
                    [
                      "GET"
                    ],
                    [
                      "GET"
                    ],
                    [
                      "GET"
                    ],
                    [
                      "GET"
                    ],
                    [
                      "GET"
                    ],
                    [
                      "GET"
                    ],
                    [
                      "GET"
                    ],
                    [
                      "GET"
                    ],
                    [
                      "GET"
                    ],
                    [
                      "GET"
                    ],
                    [
                      "GET"
                    ],
                    [
                      "GET"
                    ],
                    [
                      "GET"
                    ],
                    [
                      "GET"
                    ],
                    [
                      "GET"
                    ],
                    [
                      "GET"
                    ],
                    [
                      "GET"
                    ],
                    [
                      "GET"
                    ],
                    [
                      "GET"
                    ],
                    [
                      "GET"
                    ],
                    [
                      "GET"
                    ],
                    [
                      "GET"
                    ],
                    [
                      "GET"
                    ],
                    [
                      "GET"
                    ],
                    [
                      "GET"
                    ],
                    [
                      "GET"
                    ],
                    [
                      "GET"
                    ],
                    [
                      "GET"
                    ],
                    [
                      "GET"
                    ],
                    [
                      "POST"
                    ],
                    [
                      "POST"
                    ],
                    [
                      "GET"
                    ],
                    [
                      "GET"
                    ],
                    [
                      "GET"
                    ],
                    [
                      "GET"
                    ],
                    [
                      "GET"
                    ],
                    [
                      "GET"
                    ],
                    [
                      "GET"
                    ],
                    [
                      "GET"
                    ],
                    [
                      "GET"
                    ],
                    [
                      "GET"
                    ],
                    [
                      "GET"
                    ],
                    [
                      "GET"
                    ],
                    [
                      "GET"
                    ],
                    [
                      "GET"
                    ],
                    [
                      "GET"
                    ],
                    [
                      "GET"
                    ],
                    [
                      "GET"
                    ],
                    [
                      "GET"
                    ],
                    [
                      "GET"
                    ],
                    [
                      "GET"
                    ],
                    [
                      "GET"
                    ],
                    [
                      "GET"
                    ],
                    [
                      "GET"
                    ],
                    [
                      "GET"
                    ],
                    [
                      "GET"
                    ],
                    [
                      "GET"
                    ],
                    [
                      "GET"
                    ],
                    [
                      "GET"
                    ],
                    [
                      "POST"
                    ],
                    [
                      "GET"
                    ],
                    [
                      "GET"
                    ],
                    [
                      "GET"
                    ],
                    [
                      "POST"
                    ],
                    [
                      "GET"
                    ],
                    [
                      "GET"
                    ],
                    [
                      "GET"
                    ],
                    [
                      "POST"
                    ],
                    [
                      "GET"
                    ],
                    [
                      "POST"
                    ],
                    [
                      "GET"
                    ],
                    [
                      "GET"
                    ],
                    [
                      "GET"
                    ],
                    [
                      "POST"
                    ],
                    [
                      "GET"
                    ],
                    [
                      "GET"
                    ],
                    [
                      "GET"
                    ],
                    [
                      "GET"
                    ],
                    [
                      "POST"
                    ],
                    [
                      "GET"
                    ],
                    [
                      "GET"
                    ],
                    [
                      "GET"
                    ],
                    [
                      "GET"
                    ],
                    [
                      "POST"
                    ],
                    [
                      "POST"
                    ],
                    [
                      "GET"
                    ],
                    [
                      "GET"
                    ],
                    [
                      "GET"
                    ],
                    [
                      "GET"
                    ],
                    [
                      "GET"
                    ],
                    [
                      "GET"
                    ],
                    [
                      "POST"
                    ],
                    [
                      "GET"
                    ],
                    [
                      "GET"
                    ],
                    [
                      "GET"
                    ],
                    [
                      "GET"
                    ],
                    [
                      "GET"
                    ],
                    [
                      "GET"
                    ],
                    [
                      "POST"
                    ],
                    [
                      "GET"
                    ],
                    [
                      "GET"
                    ],
                    [
                      "GET"
                    ],
                    [
                      "GET"
                    ],
                    [
                      "GET"
                    ],
                    [
                      "GET"
                    ],
                    [
                      "GET"
                    ],
                    [
                      "GET"
                    ],
                    [
                      "GET"
                    ],
                    [
                      "GET"
                    ],
                    [
                      "GET"
                    ],
                    [
                      "GET"
                    ],
                    [
                      "GET"
                    ],
                    [
                      "GET"
                    ],
                    [
                      "GET"
                    ],
                    [
                      "GET"
                    ],
                    [
                      "GET"
                    ],
                    [
                      "GET"
                    ],
                    [
                      "GET"
                    ],
                    [
                      "GET"
                    ],
                    [
                      "GET"
                    ],
                    [
                      "GET"
                    ],
                    [
                      "GET"
                    ],
                    [
                      "GET"
                    ],
                    [
                      "GET"
                    ],
                    [
                      "GET"
                    ],
                    [
                      "GET"
                    ],
                    [
                      "GET"
                    ],
                    [
                      "GET"
                    ],
                    [
                      "GET"
                    ],
                    [
                      "GET"
                    ],
                    [
                      "GET"
                    ],
                    [
                      "GET"
                    ],
                    [
                      "GET"
                    ],
                    [
                      "GET"
                    ],
                    [
                      "GET"
                    ],
                    [
                      "GET"
                    ],
                    [
                      "GET"
                    ],
                    [
                      "GET"
                    ],
                    [
                      "GET"
                    ],
                    [
                      "GET"
                    ],
                    [
                      "GET"
                    ],
                    [
                      "GET"
                    ],
                    [
                      "GET"
                    ],
                    [
                      "GET"
                    ],
                    [
                      "GET"
                    ],
                    [
                      "GET"
                    ],
                    [
                      "GET"
                    ],
                    [
                      "POST"
                    ],
                    [
                      "GET"
                    ],
                    [
                      "GET"
                    ],
                    [
                      "GET"
                    ],
                    [
                      "GET"
                    ],
                    [
                      "GET"
                    ],
                    [
                      "GET"
                    ],
                    [
                      "GET"
                    ],
                    [
                      "GET"
                    ],
                    [
                      "GET"
                    ],
                    [
                      "GET"
                    ],
                    [
                      "GET"
                    ],
                    [
                      "GET"
                    ],
                    [
                      "GET"
                    ],
                    [
                      "GET"
                    ],
                    [
                      "GET"
                    ],
                    [
                      "GET"
                    ],
                    [
                      "GET"
                    ],
                    [
                      "GET"
                    ],
                    [
                      "GET"
                    ],
                    [
                      "GET"
                    ],
                    [
                      "GET"
                    ],
                    [
                      "GET"
                    ],
                    [
                      "GET"
                    ],
                    [
                      "GET"
                    ],
                    [
                      "GET"
                    ],
                    [
                      "GET"
                    ],
                    [
                      "GET"
                    ],
                    [
                      "GET"
                    ],
                    [
                      "POST"
                    ],
                    [
                      "GET"
                    ],
                    [
                      "GET"
                    ],
                    [
                      "GET"
                    ],
                    [
                      "POST"
                    ],
                    [
                      "GET"
                    ],
                    [
                      "GET"
                    ],
                    [
                      "GET"
                    ],
                    [
                      "GET"
                    ],
                    [
                      "GET"
                    ],
                    [
                      "GET"
                    ],
                    [
                      "GET"
                    ],
                    [
                      "GET"
                    ],
                    [
                      "GET"
                    ],
                    [
                      "GET"
                    ],
                    [
                      "GET"
                    ],
                    [
                      "GET"
                    ],
                    [
                      "GET"
                    ],
                    [
                      "GET"
                    ],
                    [
                      "GET"
                    ],
                    [
                      "POST"
                    ],
                    [
                      "GET"
                    ],
                    [
                      "POST"
                    ],
                    [
                      "GET"
                    ],
                    [
                      "GET"
                    ],
                    [
                      "POST"
                    ],
                    [
                      "GET"
                    ],
                    [
                      "GET"
                    ],
                    [
                      "POST"
                    ],
                    [
                      "POST"
                    ],
                    [
                      "POST"
                    ],
                    [
                      "GET"
                    ],
                    [
                      "GET"
                    ],
                    [
                      "POST"
                    ],
                    [
                      "GET"
                    ],
                    [
                      "POST"
                    ],
                    [
                      "GET"
                    ],
                    [
                      "POST"
                    ],
                    [
                      "POST"
                    ],
                    [
                      "GET"
                    ],
                    [
                      "GET"
                    ],
                    [
                      "GET"
                    ],
                    [
                      "GET"
                    ],
                    [
                      "POST"
                    ],
                    [
                      "POST"
                    ],
                    [
                      "POST"
                    ],
                    [
                      "GET"
                    ],
                    [
                      "GET"
                    ],
                    [
                      "GET"
                    ],
                    [
                      "GET"
                    ],
                    [
                      "POST"
                    ],
                    [
                      "POST"
                    ],
                    [
                      "GET"
                    ],
                    [
                      "GET"
                    ],
                    [
                      "GET"
                    ],
                    [
                      "GET"
                    ],
                    [
                      "GET"
                    ],
                    [
                      "GET"
                    ],
                    [
                      "GET"
                    ],
                    [
                      "GET"
                    ],
                    [
                      "GET"
                    ],
                    [
                      "GET"
                    ],
                    [
                      "GET"
                    ],
                    [
                      "GET"
                    ],
                    [
                      "GET"
                    ],
                    [
                      "POST"
                    ],
                    [
                      "POST"
                    ],
                    [
                      "POST"
                    ],
                    [
                      "GET"
                    ],
                    [
                      "GET"
                    ],
                    [
                      "POST"
                    ],
                    [
                      "GET"
                    ],
                    [
                      "GET"
                    ],
                    [
                      "GET"
                    ],
                    [
                      "GET"
                    ],
                    [
                      "GET"
                    ],
                    [
                      "GET"
                    ],
                    [
                      "GET"
                    ],
                    [
                      "GET"
                    ],
                    [
                      "GET"
                    ],
                    [
                      "GET"
                    ],
                    [
                      "GET"
                    ],
                    [
                      "GET"
                    ],
                    [
                      "GET"
                    ],
                    [
                      "GET"
                    ],
                    [
                      "GET"
                    ],
                    [
                      "GET"
                    ],
                    [
                      "GET"
                    ],
                    [
                      "GET"
                    ],
                    [
                      "GET"
                    ],
                    [
                      "GET"
                    ],
                    [
                      "POST"
                    ],
                    [
                      "POST"
                    ],
                    [
                      "GET"
                    ],
                    [
                      "GET"
                    ],
                    [
                      "GET"
                    ],
                    [
                      "GET"
                    ],
                    [
                      "GET"
                    ],
                    [
                      "GET"
                    ],
                    [
                      "GET"
                    ],
                    [
                      "POST"
                    ],
                    [
                      "GET"
                    ],
                    [
                      "GET"
                    ],
                    [
                      "GET"
                    ],
                    [
                      "GET"
                    ],
                    [
                      "GET"
                    ],
                    [
                      "POST"
                    ],
                    [
                      "POST"
                    ],
                    [
                      "POST"
                    ],
                    [
                      "POST"
                    ],
                    [
                      "POST"
                    ],
                    [
                      "GET"
                    ],
                    [
                      "GET"
                    ],
                    [
                      "GET"
                    ],
                    [
                      "GET"
                    ],
                    [
                      "GET"
                    ],
                    [
                      "GET"
                    ],
                    [
                      "GET"
                    ],
                    [
                      "POST"
                    ],
                    [
                      "POST"
                    ],
                    [
                      "GET"
                    ],
                    [
                      "POST"
                    ],
                    [
                      "GET"
                    ],
                    [
                      "POST"
                    ],
                    [
                      "GET"
                    ],
                    [
                      "GET"
                    ],
                    [
                      "GET"
                    ],
                    [
                      "GET"
                    ],
                    [
                      "POST"
                    ],
                    [
                      "POST"
                    ],
                    [
                      "POST"
                    ],
                    [
                      "POST"
                    ],
                    [
                      "GET"
                    ],
                    [
                      "POST"
                    ],
                    [
                      "POST"
                    ],
                    [
                      "POST"
                    ],
                    [
                      "GET"
                    ],
                    [
                      "GET"
                    ],
                    [
                      "POST"
                    ],
                    [
                      "GET"
                    ],
                    [
                      "POST"
                    ],
                    [
                      "POST"
                    ],
                    [
                      "GET"
                    ],
                    [
                      "POST"
                    ]
                  ],
                  "hovertemplate": "Cluster=Cluster 0<br>PCA1=%{x}<br>PCA2=%{y}<br>Feature=%{customdata[0]}<extra></extra>",
                  "legendgroup": "Cluster 0",
                  "marker": {
                    "color": "#636efa",
                    "opacity": 0.5,
                    "symbol": "circle"
                  },
                  "mode": "markers",
                  "name": "Cluster 0",
                  "showlegend": true,
                  "textposition": "top center",
                  "type": "scattergl",
                  "x": [
                    6.327052145585221,
                    -0.9788065283745491,
                    -0.9789454645227992,
                    -0.9788745934201138,
                    -0.9787824760568503,
                    -0.9787925191447381,
                    -0.9787963706492193,
                    -0.9789415493452845,
                    -0.5388974185056616,
                    -0.9788657604307641,
                    -0.9789702543888712,
                    -0.9787749494067857,
                    3.455548235967944,
                    -0.9788449368579012,
                    -0.9788835366405793,
                    -0.9788031240722948,
                    -0.978753150466369,
                    -0.9789019396483732,
                    -0.9790337899138437,
                    10.867711560866319,
                    -0.9788840030195066,
                    10.867780887473627,
                    -0.9787788126194715,
                    -0.518640360557645,
                    4.076342575716109,
                    -0.978875569272893,
                    -0.9787826877496553,
                    -0.9788638949770668,
                    -0.6869394370506663,
                    -0.9788099072481794,
                    -0.978854101748205,
                    3.616740670215162,
                    -0.9788817754990881,
                    -0.9651285584392519,
                    -0.9789328961999231,
                    -0.9789344124624701,
                    -0.9787623765501032,
                    -0.9787935765438487,
                    -0.9789078998806277,
                    -0.9790756763782112,
                    -0.9787740925661903,
                    -0.978843052704193,
                    -0.9788008754708183,
                    -0.9789297153215373,
                    -0.9788155844670374,
                    -0.9789125838745165,
                    -0.9787877367289641,
                    -0.9787277620816562,
                    -0.9788780267766362,
                    -0.9787807555774665,
                    -0.9787595060652253,
                    -0.9788629283833825,
                    -0.9789879648729641,
                    -0.9790756763782112,
                    -0.9788607422215513,
                    -0.9789408217862423,
                    -0.9788482258675312,
                    -0.9787699896412047,
                    -0.9788179114780037,
                    -0.9788942172359391,
                    -0.9787151417348874,
                    -0.9788584526274295,
                    -0.9788304592564497,
                    -0.9788794759480869,
                    -0.9787757535027992,
                    -0.9787759877226849,
                    -0.9787648316170381,
                    -0.9788864675335421,
                    -0.9788666776404724,
                    -0.9787950796765147,
                    -0.9788431839060445,
                    -0.9787722187260818,
                    -0.9789019603641207,
                    -0.9789019603641207,
                    -0.9788059392631913,
                    -0.9787797866668456,
                    -0.9787731223342756,
                    -0.9788185641828026,
                    -0.9788545399287726,
                    -0.9788658865033654,
                    -0.9786641168330993,
                    -0.9788278973311427,
                    -0.9788365269713706,
                    -0.9789290064196199,
                    -0.9787750651388796,
                    -0.9789422973747403,
                    -0.9787033648178373,
                    -0.978865847919415,
                    -0.9789177549959189,
                    -0.9788528392156725,
                    -0.9788669036519273,
                    -0.978835133924149,
                    -0.9788130463832331,
                    -0.9788249215062155,
                    -0.9788378593196613,
                    -0.9787825436933957,
                    -0.9787404133457069,
                    -0.9788239437358,
                    -0.9788195228723048,
                    -0.978829130331995,
                    -0.978902771606967,
                    -0.9789791266806183,
                    -0.9787471547593827,
                    3.716120687723776,
                    -0.9651285584392519,
                    -0.9788804538790037,
                    -0.9788975409426887,
                    -0.9788132135004589,
                    3.276479954317002,
                    -0.9789450729270903,
                    -0.978896007949309,
                    -0.9788076185452023,
                    -0.9788899099416873,
                    -0.9788802010758285,
                    -0.9786880162306354,
                    -0.9791731980871673,
                    -0.9788647436819486,
                    -0.9789187529943655,
                    -0.978889663072272,
                    -0.9788273654309896,
                    -0.9788845022139898,
                    -0.9788903245154209,
                    -0.9788116844338294,
                    -0.9789405607002298,
                    -0.9788971157040861,
                    -0.9787935538243858,
                    -0.9788832611489913,
                    -0.9788380022090262,
                    -0.9788961837556533,
                    -0.9788878275210081,
                    -0.9788879193700946,
                    -0.9789594932022431,
                    -0.9788451239600836,
                    -0.9788201060011744,
                    -0.978908401422668,
                    -0.9788995340219577,
                    -0.978890654106815,
                    -0.9788036176625312,
                    -0.9788784022957538,
                    -0.9789108215934001,
                    -0.9788869126381238,
                    0.5416092928286342,
                    -0.9789830760160894,
                    -0.9788346373298292,
                    -0.9788624691913119,
                    -0.9787699083475182,
                    -0.9788418741552377,
                    -0.9787990717867415,
                    -0.9787990189035648,
                    -0.9788925567882911,
                    -0.9788205559552685,
                    -0.9788607375967875,
                    -0.9788347821376601,
                    -0.9789818360645308,
                    -0.9788184594291687,
                    -0.9789027261353312,
                    -0.9788653125048696,
                    -0.9789597975668718,
                    -0.9788167249460935,
                    -0.9788024265320102,
                    -0.9788853195378087,
                    -0.9786585619104011,
                    -0.9788168718605583,
                    -0.9788062254753006,
                    -0.9788669708812526,
                    -0.9788441779770235,
                    -0.9788761353333645,
                    -0.9788581820820841,
                    -0.978740468092574,
                    -0.9788610609796707,
                    -0.9789578412939068,
                    -0.9787609493620215,
                    -0.978932095735621,
                    -0.9789354723006466,
                    -0.9787891309945563,
                    -0.9787822386234847,
                    -0.9788258034821197,
                    -0.9787595971336239,
                    -0.9787715745755775,
                    -0.9788576215798722,
                    -0.9788705884888282,
                    -0.9788705659282103,
                    -0.978824803723446,
                    -0.9788771800881255,
                    -0.9787906305323638,
                    -0.9788179459647245,
                    -0.9787431059118543,
                    -0.9788454228610189,
                    -0.9789622910317048,
                    -0.9808964772656277,
                    1.7320964704242865,
                    16.88688404601844,
                    -0.9788640874327162,
                    4.796944468813541,
                    -0.9788953570760041,
                    -0.978794128033826,
                    -0.978783884479545,
                    -0.97879851339664,
                    -0.9788349640130882,
                    -0.9788868553671494,
                    -0.9811082794300556,
                    -0.9789123579695147,
                    -0.9788957793394643,
                    -0.9787567127750453,
                    -0.9787537513971556,
                    -0.978758049031918,
                    -0.9651285584392519,
                    -0.8540411517821819,
                    -0.9787298672198741,
                    -0.9787817164231413,
                    -0.9651285584392519,
                    -0.9788112152220247,
                    -0.9787741488390445,
                    -0.9788547688725086,
                    -0.9789622910317048,
                    -0.9788073791781658,
                    -0.9651285584392519,
                    -0.9789169724100296,
                    -0.9789498583642662,
                    -0.9788587017206452,
                    -0.978865602754577,
                    -0.978803865527359,
                    -0.9788567990878475,
                    -0.9788301689548699,
                    -0.9787924570340795,
                    -0.9787729463510697,
                    -0.9788660711322427,
                    -0.9788885351341746,
                    -0.9787511995278724,
                    -0.9787327017036556,
                    -0.9787238790492648,
                    -0.9789412029733685,
                    -0.9788604395422642,
                    -0.9788715529946966,
                    -0.9788092558516405,
                    -0.9787373241262655,
                    -0.9786658746808561,
                    -0.9788793432907266,
                    -0.978934021139159,
                    -0.9788444929645099,
                    -0.9789879121133276,
                    -0.9788126319427292,
                    -0.978849156133401,
                    -0.9788296183344665,
                    -0.9789171300996333,
                    -0.9787895929509361,
                    -0.9789104460911261,
                    -0.978766848031039,
                    -0.978893437714163,
                    -0.9789437949113183,
                    -0.9789242166864435,
                    -0.9789985785843343,
                    -0.9789332530276372,
                    -0.9789189111916726,
                    -0.9788162311688443,
                    -0.9789188956948232,
                    -0.9786584447253976,
                    -0.9811082794300556,
                    -0.9787871434955456,
                    -0.9651285584392519,
                    -0.9651285584392519,
                    -0.9799165603820227,
                    -0.9788976509030789,
                    -0.9799594553383639,
                    -0.9651285584392519,
                    -0.980136917887244,
                    -0.9808885967813221,
                    -0.9788348676735867,
                    -0.9788794343074063,
                    -0.9787978894788558,
                    -0.9802323012276405,
                    -0.9808885967813221,
                    -0.9788362129839135,
                    -0.980136917887244,
                    -0.9788272864142625,
                    -0.9788640200044239,
                    -0.9651285584392519,
                    -0.9787692502438203,
                    -0.9789102894079602,
                    -0.9786390695012118,
                    -0.978847110634046,
                    -0.9799594553383639,
                    -0.9799165603820227,
                    -0.9788156574879502,
                    -0.978825835197443,
                    -0.9789142346514311,
                    -0.978725524757398,
                    -0.9802323012276405,
                    -0.9651285584392519,
                    -0.9787940154034934,
                    -0.9789214193182871,
                    -0.9788711616568675,
                    -0.9788146159977632,
                    -0.9799594553383639,
                    -0.9799165603820227,
                    -0.9802323012276405,
                    -0.9651285584392519,
                    -0.980136917887244,
                    -0.9789125646177499,
                    -0.9651285584392519,
                    -0.9811082794300556,
                    -0.9788740308221069,
                    -0.9788506434948177,
                    -0.9651285584392519,
                    -0.9787916162626428,
                    -0.9808964772656277,
                    -0.9651285584392519,
                    -0.9808885967813221,
                    -0.9794089125325139,
                    -0.9808964772656277,
                    -0.9788274897493227,
                    -0.9651285584392519,
                    -0.9789110532528021,
                    -0.9808885967813221,
                    -0.9808964772656277,
                    -0.9651285584392519,
                    -0.9799165603820227,
                    -0.9811082794300556,
                    -0.9799594553383639,
                    -0.9651285584392519,
                    -0.980136917887244,
                    -0.9808885967813221,
                    -0.9788000262282375,
                    -0.9786922225637538,
                    -0.9788722593319299,
                    -0.9802323012276405,
                    -0.9651285584392519,
                    -0.9799594553383639,
                    -0.9799165603820227,
                    -0.9808885967813221,
                    -0.978703115205615,
                    -0.9788881589945191,
                    -0.9788657079274095,
                    -0.9651285584392519,
                    -0.9811082794300556,
                    -0.9792016979264622,
                    -0.9787980273515161,
                    -0.9651285584392519,
                    -0.9651285584392519,
                    -0.9790718930456266,
                    -0.9790360147350382,
                    -0.9651285584392519,
                    -0.9802323012276405,
                    -0.9808964772656277,
                    -0.9651285584392519,
                    -0.9792802019307677,
                    -0.9794089125325139,
                    -0.9651285584392519,
                    -0.9802323012276405,
                    -0.980136917887244,
                    -0.9808885967813221,
                    -0.9811082794300556,
                    -0.978860550158283,
                    -0.9788574239098383,
                    -0.9788835362055186,
                    -0.9787922573832388,
                    -0.9808964772656277,
                    -0.9811082794300556,
                    -0.9808964772656277,
                    -0.9651285584392519,
                    -0.9651285584392519,
                    -0.9793434608753763,
                    -0.9788337653832971,
                    -0.980136917887244,
                    -0.9811082794300556,
                    -0.9788652317141169,
                    -0.9789569525853443,
                    -0.9789027544328064,
                    -0.9790234675735925,
                    -0.9789048364564047,
                    -0.9788678577476863,
                    -0.7605887460250931,
                    -0.978974722619445,
                    -0.978916881240571,
                    -0.978782384929617,
                    -0.9789230870248512,
                    -0.9788702743189159,
                    -0.9789843537386334,
                    -0.978974722619445,
                    -0.7605887460250931,
                    -0.9789843537386334,
                    -0.9790234675735925,
                    -0.9789230870248512,
                    -0.9808964772656277,
                    -0.9808964772656277,
                    -0.9651285584392519,
                    -0.9799594553383639,
                    -0.9799165603820227,
                    -0.9802323012276405,
                    -0.9651285584392519,
                    -0.9788730133998332,
                    -0.980136917887244,
                    -0.9808885967813221,
                    -0.9789054765226369,
                    -0.9787887688821618,
                    -0.9788785478721662,
                    -0.9811082794300556,
                    -0.9788702743189159,
                    -0.9788641229776988,
                    -0.9789048364564047,
                    -0.978916881240571,
                    -0.9789027544328064,
                    -0.9788443108462644,
                    -0.978852219098897,
                    -0.9651285584392519,
                    -0.9789830719768952,
                    -0.9789385738803027,
                    -0.9808885967813221,
                    -0.9811082794300556,
                    -0.9808964772656277,
                    -0.9794089125325139,
                    -0.9793434608753763,
                    -0.9651285584392519,
                    -0.9792802019307677,
                    -0.9651285584392519,
                    -0.9792016979264622,
                    -0.9651285584392519,
                    -0.9792016979264622,
                    -0.9792802019307677,
                    -0.9651285584392519,
                    -0.9788730133998332,
                    -0.9787503802033843,
                    -0.9788192186343576,
                    -0.9788291601350302,
                    -0.9788181771271887,
                    -0.9787982403830292,
                    -0.9788965027331663,
                    -0.9788678577476863,
                    3.186926067371328,
                    -0.7605887460250931,
                    -0.9789569525853443,
                    -0.9651285584392519,
                    -0.9794089125325139,
                    -0.9651285584392519,
                    -0.9793434608753763,
                    -0.9788207199352624,
                    -0.9787276693976208,
                    -0.9811082794300556,
                    -0.9808885967813221,
                    -0.9788823273322417,
                    -0.9787652640739785,
                    -0.9787256761573443,
                    -0.9787874032277936,
                    -0.9788576261111901,
                    -0.9789520850470761,
                    -0.9787985380166419,
                    -0.9788470721614961,
                    -0.9789419101924328,
                    -0.978934834715,
                    -0.9788208927876249,
                    -0.9789075135946715,
                    -0.9789305600910604,
                    -0.9788840239766616,
                    -0.9788748464076189,
                    -0.9789677253369788,
                    -0.9787312690477723,
                    -0.9788807822008484,
                    -0.9788129873930665,
                    -0.9788746864485712,
                    -0.9787807697723139,
                    -0.978951442337071,
                    -0.9788307538211478,
                    -0.9788228598453702,
                    -0.978926396846407,
                    -0.9788145555250711,
                    -0.23374388172016214,
                    -0.9788070540556736,
                    -0.9788458899446657,
                    -0.9787854104981257,
                    -0.9788167507802985,
                    -0.978839980710659,
                    -0.9789047031887069,
                    -0.9788120110208356,
                    3.841040441017022,
                    -0.536844999797227,
                    -0.9789789719005297,
                    -0.6869394370506663,
                    3.9109495018412366,
                    -0.9788220888788233,
                    -0.4192603430490308,
                    -0.9789533684285554,
                    -0.9788095351981663,
                    -0.978896007949309,
                    -0.9787704240928038,
                    -0.9787591672294024,
                    -0.9789533684285554,
                    -0.9787099781867876,
                    -0.9788334250003313,
                    -0.5370595771397244,
                    -0.979001858429897,
                    -0.9789731492426627,
                    -0.9787618403432776,
                    -0.9788600312992073,
                    -0.978823812161535,
                    3.459638415614988,
                    3.852560600274055,
                    -0.978776736784981,
                    -0.9788063315784571,
                    -0.9787691451346844,
                    -0.9788756315642166,
                    -0.9787328994818534,
                    -0.9788221773356885,
                    -0.9787871913677542,
                    3.4605016614818838,
                    -0.978811423988354,
                    -0.9790337899138437,
                    4.035759418372496,
                    -0.978837722461055,
                    -0.9787867387689145,
                    -0.9787641584559028,
                    -0.9789450729270903,
                    -0.518640360557645,
                    -0.9808964772656277,
                    -0.9811082794300556,
                    -0.9651285584392519,
                    -0.9651285584392519,
                    -0.9794089125325139,
                    -0.9793434608753763,
                    -0.9808964772656277,
                    -0.9792802019307677,
                    -0.9811082794300556,
                    -0.9788147906384441,
                    -0.9789571672340189,
                    -0.9788617593444183,
                    -0.9787678775665619,
                    -0.9651285584392519,
                    -0.9651285584392519,
                    -0.9788224450765945,
                    -0.9788810806629202,
                    -0.9787534272705755,
                    -0.9787090506784195,
                    -0.9788144971413459,
                    -0.9788549699942659,
                    -0.9808964772656277,
                    -0.9811082794300556,
                    -0.9651285584392519,
                    -0.9799594553383639,
                    -0.9799165603820227,
                    -0.9802323012276405,
                    -0.9651285584392519,
                    -0.980136917887244,
                    -0.9811082794300556,
                    -0.9651285584392519,
                    -0.9808885967813221,
                    -0.9788559458466302,
                    -0.9808885967813221,
                    -0.9787876361827446,
                    -0.9651285584392519,
                    -0.9789564368663268,
                    2.936156317631577,
                    -0.9788251646166963,
                    -0.9788049571822139,
                    -0.9788021559925427,
                    -0.9788391129694188,
                    -0.978828289822528,
                    -0.978847334338838,
                    -0.9788648042283591,
                    -0.9788532660676162,
                    -0.9787997858005082,
                    -0.9788227691132292,
                    -0.9788890291712038,
                    -0.9788235143598936,
                    -0.9790337899138437,
                    -0.9788635920003942,
                    -0.5370595771397244,
                    -0.9787137913431422,
                    -0.9787747544219179,
                    -0.9787969930467589,
                    -0.4192603430490308,
                    -0.9790083266594223,
                    -0.9788093111143766,
                    -0.9788076409729339,
                    -0.9788420601673942,
                    -0.978657309446671,
                    -0.518640360557645,
                    -0.9788232709378142,
                    -0.9788800393161142,
                    -0.9788626756982813,
                    -0.9789448997521292,
                    -0.9788719340042502,
                    -0.978851868143878,
                    -0.978845365155865,
                    -0.9808964772656277,
                    -0.9788096673139827,
                    -0.9787729758389652,
                    -0.9788815262459123,
                    -0.8827143437242554,
                    -0.8826804936446154,
                    -0.9787321313600567,
                    -0.7577434235557498,
                    -0.8827186074671441,
                    -0.8827361729114549,
                    -0.8827305242187174,
                    -0.8826654272251454,
                    -0.7578050944538547,
                    -0.8826799437426365,
                    -0.8827611628001099,
                    -0.8539623524591615,
                    -0.8827276631516959,
                    -0.9789231989642996,
                    -0.8828094100851402,
                    -0.8828141179302801,
                    -0.8825948625536054,
                    -0.7577264493129173,
                    -0.757702791913841,
                    -0.7577039471770309,
                    -0.8827064873785612,
                    -0.8827360065821933,
                    -0.8826164875284026,
                    -0.8828205871199746,
                    -0.8827277926446643,
                    -0.632904280510952,
                    -0.8827084633785227,
                    -0.9788000031556844,
                    -0.8827258584151976,
                    -0.8826785420692645,
                    -0.8828202762850799,
                    -0.882666551206207,
                    -0.8827756602527637,
                    -0.8828514810852013,
                    -0.7866011064667727,
                    -0.8826606466501854,
                    -0.9788542538040685,
                    -0.978968027219608,
                    -0.9791123201167599,
                    -0.9791587882682584,
                    -0.9790186203327806,
                    -0.9787801425586211,
                    -0.8827177761925362,
                    -0.9789550036445205,
                    -0.9787782850667099,
                    5.659331397215548,
                    -0.8826914686142066,
                    5.447661832488321,
                    4.191113504271121,
                    -0.7578030967540791,
                    -0.9788621580069308,
                    -0.9788101175975268,
                    -0.9787983093063235,
                    -0.9789577057676612,
                    -0.8827066510453477,
                    -0.8826788971020094,
                    5.4636059697726465,
                    -0.8828923876284478,
                    5.659443399344806,
                    -0.9788080193187478,
                    -0.882699933615812,
                    4.190978468607056,
                    -0.8826826454112542,
                    -0.9788683910727046,
                    -0.7578505468185595,
                    -0.8826934650061049,
                    -0.9789491250271029,
                    -0.9789261675051844,
                    -0.9789111513936192,
                    -0.8827190947432274,
                    -0.9788124717012396,
                    -0.8828310729702877,
                    -0.8827032141683575,
                    -0.9788957851723527,
                    -0.9788062227026013,
                    -0.9788643213469146,
                    -0.9788045241751387,
                    3.951411748978617,
                    -0.9789375229388939,
                    -0.9789109274441123,
                    -0.9788167969446888,
                    -0.9788753236187141,
                    -0.9789211792817447,
                    -0.9788480796720451,
                    -0.9787398561692406,
                    -0.9788892829127646,
                    -0.9788576167773,
                    -0.978840330186532,
                    -0.9787504389307358,
                    -0.978740421350042,
                    -0.9789509836380601,
                    -0.9787800896565878,
                    -0.9788854392622411,
                    -0.9789209341424465,
                    -0.9808964772656277,
                    3.459652908772815,
                    -0.9789484942027376,
                    -0.9789186172016305,
                    -0.9788277781952428,
                    -0.9787134509675431,
                    -0.978759497183038,
                    -0.9789830760160894,
                    -0.9788653301210815,
                    -0.97887571278737,
                    -0.978974932206018,
                    -0.9788726339792022,
                    -0.9788939367878404,
                    -0.9789211792817447,
                    -0.9788374856891325,
                    -0.9789118166778231,
                    -0.978840171529096,
                    -0.9788497234776417,
                    -0.9789457815276554,
                    -0.9789251041963071,
                    -0.9790012584033991,
                    -0.9789062777815202,
                    -0.9790012584033991,
                    -0.9787559791770949,
                    -0.9787764916673948,
                    -0.9790921574345466,
                    -0.88265320424143,
                    -0.8826940321627995,
                    -0.8827907628675661,
                    -0.978910731828285,
                    -0.9788046649546969,
                    3.7416604235084066,
                    -0.9789564368663268,
                    -0.978843077649926,
                    3.639195272887096,
                    -0.9787897263119306,
                    -0.9789008138250119,
                    -0.9788584526274295,
                    -0.9788352222673584,
                    -0.978816807337757,
                    -0.9788726339792022,
                    -0.9787805991469632,
                    -0.9788741456183347,
                    -0.9787209794768238,
                    -0.9788676889456676,
                    -0.9651285584392519,
                    -0.9788329775876895,
                    -0.9788556655811574,
                    -0.7579953716563872,
                    4.0253182529951355,
                    -0.9787503344665313,
                    -0.8827352892804325,
                    -0.9787813136591721,
                    -0.978844181568845,
                    -0.9787927593172231,
                    -0.9789454037553902,
                    5.659417962096104,
                    5.433655688993081,
                    -0.9790186203327806,
                    -0.8825762015122764,
                    -0.7577899913884419,
                    4.025249314993015,
                    -0.9787444537220972,
                    -0.9788926450465386,
                    -0.8826732151241312,
                    5.659446908642238,
                    4.191112223863634,
                    5.454107989212542,
                    -0.9791123201167599,
                    -0.9788619241640115,
                    -0.9790935085966939,
                    4.025323393130178,
                    -0.7578053142794582,
                    -0.9790293867281612,
                    -0.9788743148899716,
                    10.00515481561025,
                    -0.9791587882682584,
                    -0.9789583166682129,
                    5.65932885006285,
                    -0.8827409047275186,
                    -0.9788731733981213,
                    4.190877262490904,
                    -0.7577961735696155,
                    -0.9788963175206475,
                    5.436781004257939,
                    4.1909002507606425,
                    -0.7579628233557392,
                    -0.8827034187550619,
                    -0.9790921574345466,
                    6.327052145585241,
                    5.4425447395305016,
                    4.586514329948545,
                    6.262408056617242,
                    6.559714837573493,
                    -0.8827759802366842,
                    6.420602219925629,
                    6.43128355819666,
                    6.272708912189846,
                    4.831488075060804,
                    6.919035337216065,
                    4.891266320845575,
                    4.878075324999265,
                    -0.8827522382425841,
                    -0.7865493823005424,
                    -0.978910731828285,
                    -0.9790101554862763,
                    -0.9787565675209055,
                    -0.9788580842135698,
                    -0.9789231989642996,
                    -0.8827270829155415,
                    -0.8827070037785835,
                    -0.8828514810852013,
                    -0.8827270829155415,
                    -0.8827759802366842,
                    -0.8828514810852013,
                    -0.8827336607484743,
                    -0.9790101554862763,
                    -0.9789978059229762,
                    4.025247744573918,
                    -0.9789978059229762,
                    -0.8827070037785835,
                    -0.979090003492552,
                    -0.979161870251261,
                    -0.9788699950915843,
                    -0.8541398338437142,
                    4.191020064171124,
                    -0.7578559943377301,
                    -0.9789027524993633,
                    -0.9651285584392519,
                    -0.9790154481412578,
                    -0.9788119421972458,
                    5.4519196035946615,
                    4.61727431187866,
                    6.063110543966308,
                    -0.9790569635982698,
                    6.8823583333251666,
                    -0.8827353047500377,
                    4.533153991927394,
                    -0.8828184884754204,
                    7.02231599973681,
                    5.6593573307591,
                    -0.8827065846578936,
                    -0.9788224834559764,
                    5.445794456499604,
                    5.659308526589548,
                    4.1909269088137036,
                    -0.7579015178974874,
                    -0.9789679248510483,
                    -0.9788787885473851,
                    -0.9788829523681274,
                    -0.8826601752694195,
                    5.659250964318324,
                    5.4406450814008265,
                    4.190929226530241,
                    -0.7577864122345128,
                    -0.9787488580377707,
                    -0.8827084640951557,
                    -0.7578646075127549,
                    -0.9789910019830322,
                    -0.978879253439221,
                    -0.9790194318960693,
                    -0.9787137408680472,
                    -0.9789702555376434,
                    -0.9787063106891972,
                    9.038224209752823,
                    -0.9789801768749004,
                    -0.9790859347468077,
                    1.731852782877817,
                    -0.9789040107739148,
                    2.0539348708966165,
                    -0.9788236793600114,
                    -0.9788992450685642,
                    -0.9788774708928485,
                    -0.9785988133213251,
                    -0.9651285584392519,
                    12.91876389988234,
                    4.578014262408588,
                    -0.9789290042750085,
                    -0.9788806421530573,
                    -0.9788703082274144,
                    4.190953372499077,
                    -0.8825768345048768,
                    -0.632947874143596,
                    -0.9788349418986588,
                    -0.979041940871317,
                    -0.9790453609637179,
                    -0.9789702555376434,
                    -0.9790754887154143,
                    -0.9790243350867414,
                    -0.9793798215319475,
                    -0.9787996099218136,
                    -0.8828002916268812,
                    -0.9793798215319475,
                    1.732041123295996,
                    -0.8828226975500558,
                    -0.9789556862048279,
                    -0.9790129966985215,
                    -0.9788757195321791,
                    -0.9811082794300556,
                    -0.9788448967794897,
                    -0.9788991507228844,
                    -0.9787530134213501,
                    -0.9788786502141849,
                    -0.978756693063491,
                    -0.9789781644813748,
                    -0.9788989642108216,
                    -0.9788548833297822,
                    -0.9788743998166822,
                    -0.9788154617528937,
                    -0.9789480752394157,
                    -0.9787788091171281,
                    -0.9791731980871673,
                    -0.9787848425388591,
                    -0.9788520159531724,
                    -0.9651285584392519,
                    -0.978837450964526,
                    -0.9787347329715783,
                    -0.9789955705547323,
                    -0.9788944887551192,
                    -0.9651285584392519,
                    -0.9787849941388431,
                    -0.9788204294199304,
                    3.273418490227902,
                    -0.9651285584392519,
                    3.6393397938403242,
                    -0.9787807840784675,
                    -0.9789062172928032,
                    -0.9651285584392519,
                    -0.9788477522940716,
                    -0.9788014096575601,
                    -0.6082504852723032,
                    -0.9789498583642662,
                    -0.6082504852723032,
                    -0.9790756763782112,
                    -0.9788153982331352,
                    -0.978839948699497,
                    -0.9787662926998097,
                    -0.978861425899512,
                    -0.9788789653937315,
                    -0.9788397639600289,
                    -0.9788275778176376,
                    -0.9787520610058694,
                    -0.9787898512656047,
                    -0.9788285500365975,
                    -0.9787616998361877,
                    -0.9789035965984526,
                    -0.9787976196185986,
                    -0.9786936384455522,
                    -0.9788129159118851,
                    3.6612528148203554,
                    -0.8179431237232558,
                    -0.978849503057903,
                    -0.9789218162561423,
                    -0.9787486781255151,
                    -0.9787696779057146,
                    -0.978912489651421,
                    -0.978912287392386,
                    -0.9789553526503806,
                    -0.9788160441629539,
                    -0.978926878431834,
                    -0.978882607048888,
                    -0.9787571923331712,
                    -0.8540374013546663,
                    -0.9788137183241754,
                    -0.9788616077162817,
                    -0.9787195970367216,
                    -0.9787951730742208,
                    -0.978825721433969,
                    -0.3877445908186058,
                    2.9363161219995977,
                    -0.9789033049579331,
                    -0.9787592646129085,
                    -0.9788771589506252,
                    -0.9787891553073116,
                    -0.978836940082505,
                    -0.978772627385021,
                    -0.9788523761995717,
                    -0.978984209744156,
                    -0.9789203293937119,
                    4.021359341922239,
                    -0.9788071895484217,
                    4.021391061226427,
                    -0.9788574539488647,
                    -0.9787487912557505,
                    -0.978769862735789,
                    -0.978859319307159,
                    -0.9788752216470715,
                    -0.979010271273673,
                    -0.978809649182574,
                    -0.9651285584392519,
                    -0.9787855365170548,
                    -0.9788205992617142,
                    -0.978891415117278,
                    -0.9787714844622145,
                    -0.9789561731158392,
                    -0.9789164257462675,
                    -0.9789592538858606,
                    -0.9651285584392519,
                    -0.9787570339195835,
                    -0.8178009525281734,
                    0.4824434542729205,
                    -0.9787812748416245,
                    4.178586506310905,
                    -0.9787747934054859,
                    4.834384165168753,
                    -0.9787994754066079,
                    -0.9788598507645602,
                    -0.9790155444783358,
                    -0.9788517404525816,
                    -0.9790155444783358,
                    -0.978800332489445,
                    -0.9788609461533724,
                    -0.9787138949069267,
                    -0.6880607702313359,
                    -0.978749418344642,
                    -0.9789125367465441,
                    -0.9787096614841662,
                    -0.9787667710723795,
                    -0.5384645625868011,
                    -0.978802886579909,
                    -0.9788701404455218,
                    -0.9788389621767551,
                    -0.9787599890643085,
                    -0.9787576914135118,
                    -0.979010271273673,
                    -0.9787522689798982,
                    -0.9651285584392519,
                    -0.979010271273673,
                    3.456592909265112,
                    0.16725514653674908,
                    -0.978866365356524,
                    -0.9790155444783358,
                    -0.9787329859229729,
                    -0.9788627436954157,
                    -0.9789910559083539,
                    -0.9789009332168712,
                    -0.9788199596791884,
                    -0.9789116871038225,
                    -0.9787266847825197,
                    -0.9788830278577154,
                    -0.9788517229823231,
                    -0.9788221635251718,
                    -0.9789100037451489,
                    -0.9787832955987531,
                    -0.9787882817953031,
                    -0.9788330994972941,
                    -0.9787533173101935,
                    -0.978823049356361,
                    -0.9788272844939975,
                    -0.9789260241255207,
                    -0.9787124489794645,
                    -0.9787944826477815,
                    -0.9787724578517892,
                    -0.9788552404171885,
                    -0.9789188192711555,
                    -0.9787732025663811,
                    -0.9787750841467198,
                    -0.9787773528513165,
                    -0.9788569768877825,
                    -0.9787337616493856,
                    -0.978876356223172,
                    -0.9788591827678359,
                    -0.9788148007910108,
                    -0.9788971413756509,
                    -0.9788458336114181,
                    -0.9787916923513421,
                    -0.9787529323999629,
                    -0.9788526618054127,
                    -0.9788960789601594,
                    -0.9788690604155653,
                    -0.9789910559083539,
                    -0.9787922904292166,
                    -0.9789553526503806,
                    -0.9788717726440153,
                    -0.9787924916921472,
                    -0.9787664033343344,
                    -0.9788426696721035,
                    -0.9787781299720689,
                    -0.978879468112736,
                    -0.9789027228256885,
                    -0.9790033680434466,
                    -0.9789566584247579,
                    -0.9790095845671046,
                    -0.978797705773162,
                    -0.9802323012276405,
                    -0.9651285584392519,
                    -0.978708468346564,
                    -0.9790360147350382,
                    -0.9788396363796882,
                    -0.980136917887244,
                    -0.9788915021428957,
                    -0.9788645279314004,
                    -0.9788664105463043,
                    -0.9788753157386457,
                    -0.9787190355308851,
                    -0.9788544024619873,
                    -0.9790718930456266,
                    -0.9788740314037893,
                    -0.9787506881805891,
                    -0.9788704234570215,
                    -0.9791731980871673,
                    -0.9786647550077645,
                    -0.9788098076755518,
                    -0.978869319525694,
                    -0.9788292151588529,
                    -0.9788397392838902,
                    -0.978795830937548,
                    -0.9789040250954275,
                    -0.9651285584392519,
                    -0.9786991933966704,
                    -0.9786780753877963,
                    -0.9787816609111776,
                    -0.9788258530864309,
                    -0.9788360963974481,
                    -0.9790080748131434,
                    -0.9788042570368221,
                    -0.9787641914748719,
                    -0.9787726251793801,
                    -0.927334843558164,
                    -0.9788806178970267,
                    -0.9788616734726527,
                    -0.9788080337391633,
                    4.210568394138682,
                    -0.9791731980871673,
                    -0.9788949375371615,
                    -0.9787773739215547,
                    -0.9787919336210776,
                    -0.978923757664384,
                    -0.9788700224975189,
                    -0.9788215903791104,
                    4.2107549815911,
                    -0.9788589443795835,
                    3.604646884928083,
                    -0.6082504852723032,
                    -0.9787951939994735,
                    -0.9788631340820506,
                    -0.978696049493554,
                    -0.9787741315709054,
                    -0.9787719589018182,
                    -0.9788865946335299,
                    -0.9788575814108051,
                    -0.9789337484266365,
                    -0.9787701702834823,
                    -0.9788829116779247,
                    -0.6880607702313359,
                    -0.9787483350657915,
                    -0.9788565460774761,
                    -0.9788838008454057,
                    -0.9789181055853435,
                    -0.9789051675809821,
                    -0.9787954719854329,
                    -0.9788833130797304,
                    -0.9808885967813221,
                    -0.9788079836544391,
                    -0.978810844711033,
                    -0.9788545515871435,
                    -0.9787785332350163,
                    -0.978874631432071,
                    -0.978694908986105,
                    -0.9788525898840125,
                    -0.979016543360386,
                    -0.9788111797221132,
                    -0.9789206831818561,
                    -0.9788031657676827,
                    -0.9788171582871223,
                    -0.9789089037367834,
                    3.5364428982890965,
                    -0.9788917000853793,
                    -0.9788125527580985,
                    -0.9788630696137719,
                    -0.9788203203510624,
                    -0.9788875593844946,
                    -0.9788250328180237,
                    -0.9788774347166888,
                    -0.9788016601777794,
                    -0.9788074065492983,
                    -0.9788939639755366,
                    -0.9787560419029125,
                    -0.9787337067297661,
                    -0.9788724806302773,
                    -0.9788688925610891,
                    -0.9787708697787524,
                    -0.9787883337492466,
                    -0.9788750712187674,
                    -0.979016543360386,
                    -0.9787960790802291,
                    -0.9788965543369472,
                    -0.978795094737592,
                    -0.978815370457706,
                    -0.9789172047298497,
                    -0.9790129966985215,
                    -0.9787798770871939,
                    -0.853912643411769,
                    -0.8539935468993697,
                    -0.9788988109388057,
                    -0.9790630636421864,
                    -0.9789441440159405,
                    -0.9790719489343851,
                    -0.9789195446855843,
                    -0.9787353429644755,
                    -0.978834323085158,
                    5.74412526385511,
                    5.74416232270687,
                    -0.9788014952679406,
                    -0.9788636135824803,
                    -0.9788083224074932,
                    -0.9787841035374344,
                    -0.9787915889619327,
                    -0.7292594502968023,
                    -0.7290188580108237,
                    4.031067217327502,
                    4.030977438986439,
                    4.031067708827363,
                    -0.9789198849691817,
                    -0.9788044636599346,
                    -0.9788442136030614,
                    -0.8541282939674093,
                    4.051145014906902,
                    5.74418072254814,
                    -0.9787400664768089,
                    -0.9788395918120237,
                    -0.9788782306714202,
                    -0.9787630963521851,
                    -0.8539890282413446,
                    -0.9787094790574369,
                    4.0310087130914205,
                    -0.9788347766026887,
                    -0.9787918586504513,
                    5.825779050803278,
                    5.825727050233819,
                    5.8258032300547145,
                    -0.9788873537945402,
                    -0.9788592455780859,
                    -0.978855486151117,
                    -0.9787836007150158,
                    -0.9788923185863626,
                    -0.9787656753972812,
                    -0.9787834516626455,
                    3.8297432730865153,
                    -0.9789195446855843,
                    -0.9787635504193896,
                    -0.9788255156513751,
                    0.8681741599433779,
                    -0.9788836008239081,
                    -0.9787354966466281,
                    -0.9788972351591293,
                    -0.9789299884253484,
                    -0.9788476518892905,
                    0.404948507408647,
                    1.731972470332925,
                    4.383412418606758,
                    -0.8415027299380478,
                    -0.9787814941076239,
                    0.5423493895568096,
                    -0.9787652447302176,
                    -0.9788776405371143,
                    -0.978829676316937,
                    -0.9788705410499807,
                    -0.9787938072805992,
                    -0.9788511753749457,
                    -0.9789136201171053,
                    4.031094887619339,
                    4.030948818226371,
                    4.031004147009334,
                    -0.9787435768227332,
                    -0.9789433434848978,
                    -0.9787997313024015,
                    -0.9788237188914537,
                    -0.9787096723915584,
                    -0.9788829717830179,
                    -0.9790952950151056,
                    -0.9788018454292728,
                    -0.9787895753444233,
                    -0.8827459806784566,
                    -0.7292243297236166,
                    -0.9788331868424953,
                    -0.9787503632487352,
                    -0.9787529695133322,
                    -0.9788277226506034,
                    -0.9788687870651644,
                    -0.9790050388070951,
                    -0.9787131879341066,
                    -0.8540651453095387,
                    -0.978769027205854,
                    6.2029495309409866,
                    -0.9787618438650627,
                    -0.8540181055287207,
                    4.046150055497767,
                    -0.9787922588180358,
                    4.022490890474514,
                    -0.383260534970074,
                    -0.9787673292320017,
                    -0.9788431864573,
                    -0.8540651453095387,
                    -0.8539792117088115,
                    -0.9787920346986981,
                    4.022092885493477,
                    -0.9787707764612108,
                    -0.9787391736532677,
                    -0.9787870564935829,
                    4.030334708628824,
                    4.030954121499894,
                    4.031062060349768,
                    4.036133780360512,
                    4.030987677994541,
                    5.972161319547814,
                    4.030954684113146,
                    4.030927845942495,
                    -0.9788069053698911,
                    -0.9787287496267781,
                    -0.8539354023974574,
                    -0.9788429314702972,
                    4.030987465513465,
                    4.0309543284098295,
                    -0.9788160722176051,
                    -0.9789266584594866,
                    4.031005672854617,
                    -0.978746440542356,
                    -0.9789607771259885,
                    -0.9787233675656704,
                    -0.9789082650415891,
                    -0.9788036999903295,
                    -0.9787993396005977,
                    -0.9787316167314948,
                    -0.9787248380076548,
                    -0.9788400585937379,
                    -0.8826741492056072,
                    -0.8539765658813578,
                    -0.9788668594632813,
                    -0.9788127047052593,
                    -0.978899751979878,
                    -0.854011662748448,
                    -0.8541079375760349,
                    -0.9788360588153673,
                    -0.28726694879148895,
                    -0.9788444352242075,
                    -0.9787433416380396,
                    -0.9788343885515753,
                    -0.979090003492552,
                    2.0540305672408423,
                    -0.9788691097671416,
                    -0.9787618105947316,
                    -0.9789215794806949,
                    -0.9789286137328628,
                    -0.6329862139558265,
                    -0.9788814013696294,
                    1.7320447215422061,
                    -0.5655002566780986,
                    1.8568234013254181,
                    1.7320873924198636,
                    -0.978814953463017,
                    -0.9789025452280425,
                    -0.9788930952608589,
                    -0.9787497462834577,
                    -0.9789661777624329,
                    -0.9788258025525944,
                    -0.978879400769457,
                    -0.9790719489343851,
                    -0.978910941782004,
                    -0.9788558855164344,
                    -0.9790719489343851,
                    -0.9788266058812269,
                    -0.979161870251261,
                    -0.9789146975989341,
                    -0.9787697902049348,
                    -0.9787742505258363,
                    -0.9787697787037003,
                    -0.9788813438651589,
                    -0.9790935085966939,
                    -0.9788166415477395,
                    -0.9787571988751484,
                    -0.9790754887154143,
                    4.025218163042154,
                    -0.9788870920941863,
                    -0.8826221538535498,
                    -0.9788642240007438,
                    -0.9789452152460995,
                    -0.978811265342222,
                    -0.9790293867281612,
                    -0.9787377049127399,
                    -0.978807028801679,
                    -0.9787577148072089,
                    -0.9789211383392148,
                    -0.9788427552889701,
                    -0.9788830944596055,
                    -0.8539956579412011,
                    -0.7290434646341825,
                    -0.9789134257565806,
                    -0.9788237612378343,
                    -0.9787155353051546,
                    -0.9789299335650492,
                    -0.6330310303571374,
                    -0.9793798215319475,
                    4.574729955520992,
                    -0.7577398416206287,
                    9.497564453699885,
                    -0.978774354033091,
                    -0.9786970365213726,
                    -0.9793798215319475,
                    -0.9788789712145389,
                    -0.9789040107739148,
                    -0.9789290042750085,
                    -0.9788201785797088,
                    -0.9790859347468077,
                    -0.9789145193544236,
                    -0.7865579053954196,
                    -0.9788302803058273,
                    -0.9789012182363519,
                    -0.9788623701679157,
                    7.86727917892676,
                    -0.9788828031161705,
                    -0.9788726213837138,
                    -0.9787934755723624,
                    -0.9788286006866236,
                    -0.9787768678729174,
                    -0.9787639424897037,
                    4.6170211521564966,
                    -0.9789136201171053,
                    -0.9789359322410303,
                    -0.978767474901095,
                    -0.9787653130213168,
                    -0.9788471767032063,
                    -0.9787823465556188,
                    -0.9788274296487962,
                    -0.9788920936508667,
                    -0.854016421080329,
                    -0.9787864004972692,
                    -0.9789134694846814,
                    13.355161229049493,
                    -0.9788709682992298,
                    -0.9788628409092942,
                    -0.9787791964248231,
                    13.811783124524968,
                    -0.8540239593525583,
                    -0.9789435167096859,
                    -0.9790630636421864,
                    11.382725779790947,
                    -0.978916510191023,
                    -0.8539738406513111,
                    -0.8539874711220921,
                    1.2716102913260212,
                    -0.9788526136402865,
                    -0.9788429084085805,
                    -0.97866663180937,
                    -0.9788126623913063,
                    -0.9789088572816337,
                    -0.9788563827022219,
                    -0.7291401861654913,
                    -0.9788976519452585,
                    -0.9789281838328852,
                    -0.9789126163050945,
                    -0.9787542573616147,
                    -0.9789662675648602,
                    -0.9788342936869823,
                    -0.9788771412214826,
                    -0.978990251153968,
                    -0.9788572933403875,
                    -0.9789200751592108,
                    -0.9787200463579175,
                    -0.9787804290077791,
                    -0.9788637464915579,
                    -0.9787785401506055,
                    -0.8540737598302219,
                    -0.978849192129234,
                    -0.9651285584392519,
                    -0.9788066513619545,
                    -0.9787472594108408,
                    -0.9787961346044537,
                    -0.8539126012174842,
                    -0.978760419942861,
                    -0.9788189636770642,
                    -0.9788492498242598,
                    -0.9788154666984407,
                    -0.9787244521097318,
                    -0.9789678828147245,
                    -0.9788255248383351,
                    -0.978796569520824,
                    -0.9788359269525242,
                    -0.9788573289804852,
                    -0.9789111513936192,
                    -0.8540468605884665,
                    -0.9788750158290132,
                    5.230362741341261,
                    4.8707111374536485,
                    6.413525986141648,
                    6.420034990787018,
                    6.326552239376902,
                    -0.8828067435240696,
                    6.459176488902713,
                    4.500046470106932,
                    4.877660191393773,
                    4.701107332907492,
                    4.707580115919917,
                    6.272358271514638,
                    6.673463326974078,
                    -0.9789376220681024,
                    4.990069723823465,
                    -0.9790186203327806,
                    6.2619036418994485,
                    -0.9791587882682584,
                    4.513411827775245,
                    4.897046104349496,
                    7.401335905422898,
                    6.3265374354230195,
                    -0.8826447635845465,
                    6.20957460641054,
                    -0.9791123201167599,
                    4.727555622712996,
                    4.727474703061024,
                    4.727662198912025,
                    6.432861011472969,
                    7.194062239283521,
                    6.420011788870173,
                    6.272272981823656,
                    4.707570299785564,
                    6.261743565756378,
                    4.857464922998711,
                    6.420157943245065,
                    4.513400653992385,
                    6.261797963788927,
                    6.209571887196754,
                    5.056109363592779,
                    4.877687950804221,
                    6.272256627899091,
                    6.438812380489503,
                    7.401284768363331,
                    4.707562074172059,
                    4.727434293437192,
                    4.727402236610053,
                    6.326613382597362,
                    -0.8829490285085259,
                    -0.8825566763691025,
                    4.72760976591089,
                    6.400219718480943,
                    6.420096342793887,
                    4.897097166658603,
                    6.660367707903225,
                    4.957064166961283,
                    4.87758404520969,
                    6.326451379072619,
                    -0.8827669079231986,
                    4.707612663778277,
                    7.194157775918824,
                    4.687614259086425,
                    5.217205571992422,
                    4.493470152550435,
                    6.27220662978048,
                    6.441384319469371,
                    -0.8827553178331561,
                    -0.9788262414463769,
                    6.261772039364994,
                    5.056317522010769,
                    4.877620446253274,
                    -0.9788904901306164,
                    4.060057796493418,
                    6.91842744807935,
                    5.44205707788509,
                    4.707388318658172,
                    4.661369938496201,
                    4.661355216084116,
                    -0.9789600015698849,
                    6.427177910794267,
                    6.419980091446398,
                    4.586164317114918,
                    4.890888698900604,
                    4.877574305863556,
                    6.261892068326443,
                    6.272206837475246,
                    6.559035175274125,
                    4.8309980454388075,
                    -0.9788154502489251,
                    4.021778273979868,
                    5.442544739530502,
                    4.586514329948546,
                    6.262408056617243,
                    6.559714837573493,
                    6.420602219925629,
                    -0.8827522382425841,
                    -0.9789037696842833,
                    6.43128355819666,
                    4.831488075060804,
                    6.919035337216065,
                    4.891266320845575,
                    4.878075324999265,
                    -0.9789172047298497,
                    4.022111368203678,
                    6.272708912189846,
                    6.326456909802927,
                    -0.8826056742526653,
                    6.42711908652943,
                    4.857424673115181,
                    5.217043747161108,
                    6.446377067356004,
                    6.326602883189614,
                    -0.8827665543615604,
                    4.957119516313472,
                    6.2722551740271335,
                    4.877555683943387,
                    4.687740752670617,
                    4.493483310128449,
                    6.4002806315811585,
                    6.419961626904152,
                    6.2617713841750575,
                    6.660317502641849,
                    4.707657106602286,
                    -0.9793798215319475,
                    -0.8826254429412609,
                    -0.9788619241640115,
                    6.559005196470309,
                    6.918293439780851,
                    6.419961954495236,
                    4.586070488865841,
                    6.326603204365516,
                    6.261822495070449,
                    -0.8827314536589059,
                    6.272200046574327,
                    5.442050340514146,
                    4.7076285030928915,
                    4.66126371367927,
                    4.661330199194899,
                    4.890782013977353,
                    4.877580007069104,
                    4.8309107342536635,
                    -0.9788554574820455,
                    -0.9788481988255252,
                    -0.978743991456086,
                    -0.9787602195266104,
                    -0.9789449519887022,
                    -0.3833704902488169,
                    -0.853941971316193,
                    -0.729246152463235,
                    -0.9787045674931636,
                    -0.8825657496263102,
                    -0.9788770347073986,
                    -0.9787886524022242,
                    -0.8827459806784566,
                    -0.7291244049368051,
                    -0.8540189990547672,
                    -0.7290809881046808,
                    -0.7291069110745454,
                    -0.7290918879575358,
                    -0.9787768388538104,
                    -0.7290631543338998,
                    -0.9788414954329889,
                    -0.7289788459294481,
                    -0.9788902612903086,
                    -0.9789144085244373,
                    -0.38322527100383796,
                    -0.3833584106683651,
                    -0.3833268149652856,
                    -0.8826912598313268,
                    -0.9787891687802559,
                    -0.6330772775242444,
                    -0.7290567908178034,
                    -0.28724350406950244,
                    -0.9787964436541888,
                    -0.978880836599501,
                    -0.28721068802341826,
                    -0.3832518034556849,
                    -0.9788037155056654,
                    -0.9789418265503841,
                    -0.7578216191208975,
                    -0.9789732018412877,
                    -0.7290955598510965,
                    -0.9788951352482592,
                    -0.2871955186343594,
                    -0.8540001864962575,
                    -0.9787904528987575,
                    -0.9789491250271029,
                    -0.8539532737545124,
                    -0.9788486970674949,
                    -0.8539381918074879,
                    -0.9787402321200042,
                    -0.9789114104120288,
                    -0.9787996998828195,
                    -0.9651285584392519,
                    -0.9788769704136744,
                    -0.8827575633441735,
                    -0.9787939923195942,
                    -0.9789091994278812,
                    -0.9787448717770816,
                    -0.7291766517690303,
                    -0.9787974237972934,
                    -0.9787982425024718,
                    -0.9789550390893476,
                    -0.978781666237288,
                    -0.9788999338647699,
                    -0.7578374949158285,
                    -0.9787860063605068,
                    -0.9788319020022659,
                    -0.9786899898106004,
                    -0.978627944910816,
                    -0.853869947580982,
                    -0.882717260686812,
                    -0.7291885197547651,
                    -0.8540126248898334,
                    -0.9788033680152847,
                    -0.8540669334829187,
                    -0.2871329533926761,
                    -0.38333759359276237,
                    -0.9788460519464078,
                    -0.9788091394402325,
                    -0.9788569478819864,
                    -0.9787580917448461,
                    -0.978863839832576,
                    -0.9787754206321571,
                    -0.7578524162816055,
                    -0.9788645752932144,
                    -0.9787527983354006,
                    -0.978798339214895,
                    -0.9788273429415382,
                    -0.978823314876122,
                    -0.7291458140176074,
                    -0.729300728573722,
                    -0.978807593600945,
                    -0.8826904152751657,
                    -0.978790006290039,
                    -0.882688541832668,
                    -0.978907552622437,
                    -0.9787567473757451,
                    -0.882702267060873,
                    -0.9788926432941272,
                    -0.9788693541805567,
                    -0.8826092854103273,
                    -0.882605562356767,
                    -0.9787943287126221,
                    -0.9789290042750085,
                    -0.8826464488467594,
                    -0.8828010429043459,
                    -0.8827971782954657,
                    -0.8827230264177973,
                    -0.8827275818256222,
                    -0.9788731541043594,
                    -0.7579300815718883,
                    -0.757779145691496,
                    -0.7578648421543411,
                    -0.28718539504783186,
                    -0.9789639050809119,
                    -0.9788312965730585,
                    -0.9788165531690902,
                    -0.9788368813491407,
                    -0.8540708179382227,
                    -0.8539532016063509,
                    -0.9788365112362286,
                    -0.8827213707399465,
                    -0.9787530813336324,
                    -0.9789231649071498,
                    -0.25847539319814183,
                    -0.6330299554128784,
                    -0.3832558749150137,
                    -0.9788410762543491,
                    -0.9789435348110155,
                    -0.7579558093240965,
                    -0.8539712416997636,
                    -0.7577606808669184,
                    -0.7292125976757992,
                    -0.7578203907877009,
                    -0.7579389568330334,
                    -0.8540027995186402,
                    -0.8539078521715878,
                    -0.978840074726223,
                    -0.757819796344896,
                    -0.7578020423970611,
                    -0.8826671655019543,
                    -0.9789073887831298,
                    -0.7578347283050482,
                    -0.757801352366899,
                    -0.8826863961444865,
                    -0.9787172105389781,
                    -0.978826861117071,
                    -0.8540672675227481,
                    -0.8539413503174605,
                    -0.9651285584392519,
                    -0.9793798215319475,
                    -0.7579105985973393,
                    1.7320902002187606,
                    -0.979161870251261,
                    -0.9788506843789263,
                    -0.9788863898195472,
                    -0.979041940871317,
                    -0.978815102097597,
                    -0.9790935085966939,
                    -0.7578981547659815,
                    -0.978793804949388,
                    -0.9788413908570762,
                    -0.9790215059089271,
                    -0.9789074613511102,
                    -0.979090003492552,
                    -0.9788285348809415,
                    -0.9790754887154143,
                    1.7320928247393073,
                    -0.8826398499998638,
                    -0.8827037693123969,
                    -0.9789910019830322,
                    -0.978801882231718,
                    4.533218163319104,
                    -0.9790453609637179,
                    4.59749927978618,
                    -0.9790569635982698,
                    -0.8828184884754204,
                    -0.9788372712632891,
                    -0.8828002916268812,
                    8.457234500435135,
                    2.0539043956878853,
                    -0.6330225469585696,
                    -0.9790243350867414,
                    4.19094180494867,
                    -0.9790859347468077,
                    8.659898670829051,
                    -0.9788395603327943,
                    -0.9788493877429352,
                    -0.9808885967813221,
                    -0.9808964772656277,
                    -0.9651285584392519,
                    -0.9793434608753763,
                    -0.9788650371617247,
                    -0.9794089125325139,
                    -0.9651285584392519,
                    -0.9792016979264622,
                    -0.9788317516457444,
                    -0.9788351437509525,
                    -0.9787884605384616,
                    -0.9811082794300556,
                    -0.9792802019307677,
                    -0.9651285584392519,
                    -0.9788909783723267,
                    -0.980136917887244,
                    -0.9788923083935703,
                    -0.9789213689538677,
                    -0.9788186704745763,
                    -0.9787819842845455,
                    -0.9787057504219809,
                    -0.9787498897800417,
                    -0.9811082794300556,
                    -0.8541398338437142,
                    -0.9787112231108105,
                    -0.9651285584392519,
                    -0.9799165603820227,
                    -0.9799594553383639,
                    -0.9802323012276405,
                    -0.9651285584392519,
                    -0.9788565931152595,
                    -0.9788014255499967,
                    -0.9790194318960693,
                    6.063056589671543,
                    5.446835618295846,
                    5.659320681935869,
                    4.19096289410727,
                    -0.7577765971800225,
                    -0.7865046429435908,
                    4.18747237488228,
                    -0.8827834383046961,
                    -0.9787734082354537,
                    5.659333824442072,
                    5.453404229092231,
                    4.190946197211387,
                    -0.7578799634654886,
                    -0.9787351834014534,
                    -0.9788674302082345,
                    -0.8827443075897048,
                    -0.9788980101505427,
                    -0.9789289257043945,
                    -0.7577541971208631,
                    -0.9787612967819641,
                    -0.8826333369426195,
                    -0.7291071825541715,
                    5.461042127245642,
                    4.190969919693576,
                    -0.7578320702905967,
                    -0.9789707781488107,
                    -0.9788684989659411,
                    3.664599985028123,
                    -0.9788556707944288,
                    -0.8826389787641977,
                    5.659293385558547,
                    5.43786617013276,
                    4.190923815819137,
                    0.8521252877307335,
                    -0.882743026659733,
                    5.659354127511815,
                    5.4539341251401305,
                    -0.9788963477189424,
                    -0.9789288923413643,
                    -0.8826487061287449,
                    5.659416312783565,
                    5.440712743341807,
                    4.190987170655277,
                    -0.7865099531830472,
                    -0.7577771066758272,
                    -0.9651285584392519,
                    -0.9790154481412578,
                    -0.9789252361663885,
                    4.617206902653826,
                    7.0223249690241945,
                    6.866897890937493,
                    -0.9789347526714574,
                    -0.7579896361681792,
                    4.190926048272147,
                    5.449634833937804,
                    4.191028472032803,
                    -0.7578186755671941,
                    -0.9787838522606584,
                    -0.9789071094960361,
                    5.440434604749061,
                    -0.8827350973097089,
                    5.659385746385758,
                    4.1910334469150605,
                    -0.7577543889109175,
                    -0.8826727778851873,
                    -0.9788607283715972,
                    0.8521252877307335,
                    3.6644979139638196,
                    -0.8827434017887834,
                    5.659284706941411,
                    -0.9808885967813221,
                    -0.9788543989552907,
                    -0.9788514808942738,
                    -0.9808964772656277,
                    -0.9788787889885998,
                    -0.9788817115935423,
                    -0.9788379851999878,
                    -0.9787827695428765,
                    -0.9787794462589536,
                    -0.9788458327148948,
                    -0.9788538665783458,
                    -0.9787850993082479,
                    -0.9789164446633708,
                    -0.9788706783735934,
                    -0.9787994468665504,
                    -0.97878121525301,
                    -0.9786977338442155,
                    -0.9787909807090468,
                    -0.9788053879741889,
                    -0.9788140426144464,
                    -0.978753110339416,
                    -0.9787547024668928,
                    -0.9787440936871733,
                    -0.9788290227035663,
                    -0.9788315554953576,
                    -0.9788042944148676,
                    -0.9788189718374061,
                    -0.9787625681404909,
                    -0.9789076290480426,
                    -0.9788747008002733,
                    -0.9790265354402464,
                    -0.9788638162038419,
                    -0.9787966320143687,
                    -0.9787683440137581,
                    -0.9787104896239043,
                    -0.9787384287406182,
                    -0.9788178354526703,
                    -0.9651285584392519,
                    -0.9799594553383639,
                    -0.9799165603820227,
                    -0.9788057701270385,
                    -0.978874351094712,
                    -0.9808964772656277,
                    -0.9651285584392519,
                    -0.9799594553383639,
                    -0.9799165603820227,
                    -0.9788368718097566,
                    -0.9802323012276405,
                    -0.980136917887244,
                    -0.9651285584392519,
                    -0.9808885967813221,
                    -0.9811082794300556,
                    -0.9788625138072912,
                    -0.9788709947103335,
                    -0.9651285584392519,
                    -0.978863545534698,
                    -0.9808885967813221,
                    -0.9811082794300556,
                    -0.9802323012276405,
                    -0.9651285584392519,
                    -0.980136917887244,
                    -0.9787923546672435,
                    -0.9811082794300556,
                    -0.9808885967813221,
                    -0.9787599813146525,
                    -0.9787916772958695,
                    -0.978956040326034,
                    -0.9808964772656277,
                    -0.9651285584392519,
                    -0.9799165603820227,
                    -0.9799594553383639,
                    -0.9651285584392519,
                    -0.9802323012276405,
                    -0.9808964772656277,
                    -0.9788805745982956,
                    -0.9788215278499033,
                    -0.9787942959472331,
                    -0.9651285584392519,
                    -0.9802323012276405,
                    -0.980136917887244,
                    -0.9808885967813221,
                    -0.9811082794300556,
                    -0.9787822566764294,
                    -0.9799594553383639,
                    -0.9788263225040174,
                    -0.9789274105544261,
                    -0.9808964772656277,
                    -0.9651285584392519,
                    -0.9651285584392519,
                    -0.9793434608753763,
                    -0.9794089125325139,
                    -0.9788232674207872,
                    -0.9792802019307677,
                    -0.9799165603820227,
                    -0.9651285584392519,
                    -0.9808885967813221,
                    -0.9651285584392519,
                    -0.9799594553383639,
                    -0.9799165603820227,
                    -0.9802323012276405,
                    -0.9651285584392519,
                    -0.9651285584392519,
                    -0.980136917887244,
                    -0.9811082794300556,
                    -0.978784716467859,
                    -0.9788208926531083,
                    -0.9788570625216324,
                    -0.9808885967813221,
                    -0.9808964772656277,
                    -0.9788765044218634,
                    -0.9651285584392519,
                    -0.9792016979264622,
                    -0.978910237499856,
                    -0.9788121643781961,
                    -0.9788822715041466,
                    -0.9788785001820504,
                    -0.9788890195600504,
                    -0.9651285584392519,
                    -0.9651285584392519,
                    -0.9788712826398075,
                    -0.9790360147350382,
                    -0.9802323012276405,
                    -0.9651285584392519,
                    -0.980136917887244,
                    -0.978729171794122,
                    -0.9811082794300556,
                    -0.9787372113503852,
                    -0.9790718930456266,
                    -0.978821713859975,
                    -0.9787278450507776,
                    -0.9788493729497003,
                    -0.9787519831422906,
                    -0.9787180969066828,
                    -0.9788885366986521,
                    -0.9808885967813221,
                    -0.9811082794300556,
                    -0.9788390966351875,
                    -0.9808964772656277,
                    -0.9787612767493178,
                    -0.9788878250418837,
                    -0.9789305372465793,
                    -0.9788500202560465,
                    -0.9788169302439326,
                    -0.9789305372465793,
                    -0.9788053103518594,
                    -0.9788921260371096,
                    -0.9808885967813221,
                    -0.7577781902498847,
                    5.659356484248432,
                    5.659278878358223,
                    -0.97887951404895,
                    -0.9787594371150659,
                    -0.9788095254190599,
                    -0.9789071164643735,
                    -0.978910111735415,
                    -0.9789071347906695,
                    -0.9788519989100979,
                    -0.9788825216741773,
                    -0.9787955656679641,
                    -0.9787913100779626,
                    -0.9789391461581074,
                    -0.9787946050491765,
                    -0.9788213925620927,
                    -0.9787662760745948,
                    -0.9786740030892179,
                    -0.9787829650022332,
                    -0.9651285584392519,
                    -0.9788196769353054,
                    -0.978741392399324,
                    -0.9789333581254298,
                    -0.8539055430908589,
                    -0.978701752742357,
                    -0.9788017382881057,
                    -0.9787575003430081,
                    -0.9788695854255453,
                    -0.9651285584392519,
                    -0.8539894137935107,
                    -0.8540267627081579,
                    4.024651604186433,
                    -0.9651285584392519,
                    -0.8540822382136593,
                    -0.7291427291177047,
                    7.142936152517799,
                    -0.9787323629755345,
                    -0.9787936252521872,
                    -0.978867491166259,
                    1.7318656747730887,
                    -0.9788212419829696,
                    4.195262467187145,
                    -0.9789285689768562,
                    -0.978930104001525,
                    -0.9788006268592693,
                    5.022072953917328,
                    -0.9788444699194645,
                    -0.978807565977968,
                    -0.9788116792492204,
                    -0.9787626878978933,
                    4.190994118104904,
                    -0.9788697000602045,
                    -0.9788539985655159,
                    -0.9788443077649913,
                    -0.9788649121254632,
                    4.028693145715269,
                    4.518831869130482,
                    -0.9789098821819704,
                    -0.978888196571014,
                    -0.9788536900109048,
                    -0.9787787300995938,
                    -0.9788568128235436,
                    -0.9788432474308217,
                    13.791155668123004,
                    -0.9788253212097597,
                    -0.9788532403559043,
                    -0.978713010595126,
                    -0.9790719489343851,
                    -0.978758435960948,
                    -0.9787782255810384,
                    4.435882208425056,
                    -0.9788756689322048,
                    -0.9788193607779969,
                    -0.8539484881142061,
                    -0.7292644139872261,
                    -0.978838343936056,
                    -0.978784257567934,
                    -0.9788774708928485,
                    -0.9789029010507223,
                    -0.9788163666232261,
                    -0.9788352784712752,
                    -0.9790024337140439,
                    -0.9787629485580861,
                    -0.88265793480151,
                    -0.9788172415246272,
                    -0.9789350664156885,
                    -0.8826869697030992,
                    -0.9789435348110155,
                    -0.8540325967960714,
                    -0.9788528935128811,
                    -0.9789978059229762,
                    -0.8541398338437142,
                    -0.9787500447291384,
                    -0.8540275360007701,
                    -0.40708188753418184,
                    -0.854004847579545,
                    -0.9789801768749004,
                    -0.8826596732490309,
                    -0.9788687635742721,
                    -0.9788205547099437,
                    -0.9788353674942974,
                    -0.8540572145594393,
                    -0.9788656769180675,
                    -0.8540132422529778,
                    -0.9788707190417323,
                    -0.9787358333692733,
                    -0.9785841049450625,
                    -0.9788604932131364,
                    -0.9788039953239192,
                    -0.8827234611802217,
                    -0.9789770837477668,
                    -0.7291817069467506,
                    -0.6043006369276441,
                    -0.9787626812535025,
                    -0.9651285584392519,
                    -0.6329551585880901,
                    -0.9788279519144585,
                    -0.8827298677000452,
                    -0.9789516814738817,
                    4.025244788751894,
                    -0.9789188969045385,
                    -0.978846738057051,
                    -0.9789158820686112,
                    -0.9651285584392519,
                    -0.9788396977573649,
                    -0.9789636067453893,
                    -0.8539674431325093,
                    -0.5082161876910681,
                    -0.978777198939347,
                    -0.9787635640352381,
                    -0.8827165602732199,
                    -0.8540325967960714,
                    -0.9787825160459913,
                    -0.9788613367865908,
                    -0.8538597669543576,
                    -0.9788723077328986,
                    -0.8539326586459576,
                    -0.882660328027777,
                    -0.729147532561266,
                    -0.633001886670374,
                    -0.853942911435395,
                    -0.9790921574345466,
                    -0.9787669536040393,
                    -0.9787456033195316,
                    -0.9787976422156561,
                    -0.9788169714368233,
                    -0.9790090216031695,
                    -0.9787382158010659,
                    1.7320113297718662,
                    -0.9790935085966939,
                    -0.7578262042732079,
                    -0.9790859347468077,
                    8.659774550609464,
                    -0.9651285584392519,
                    -0.979090003492552,
                    -0.8541398338437142,
                    -0.9788909349954766,
                    -0.9788320281396451,
                    -0.9787562325994669,
                    -0.9790293867281612,
                    -0.978932670236244,
                    -0.8826986304062158,
                    -0.978906738655219,
                    -0.8826849613245776,
                    -0.9789225983025115,
                    -0.9787903664048576,
                    -0.8828184884754204,
                    -0.9790569635982698,
                    4.533095224019139,
                    -0.9790243350867414,
                    4.1909338978261665,
                    -0.8828002916268812,
                    -0.6329085990722358,
                    8.457328328089705,
                    -0.979041940871317,
                    -0.9790754887154143,
                    2.053912087109652,
                    1.731952012830595,
                    4.612212061042451,
                    -0.9793798215319475,
                    -0.979161870251261,
                    5.659403540946506,
                    -0.978852731230853,
                    5.442623900543633,
                    -0.7578848749042368,
                    5.451654834246602,
                    4.190905236671388,
                    -0.7579379007145193,
                    -0.9789123700414529,
                    -0.9788182192839247,
                    -0.8827367712156522,
                    5.659338403091848,
                    5.453879719948297,
                    4.1911278304089885,
                    -0.7579216111642487,
                    -0.978887549138868,
                    -0.9787724430265584,
                    -0.8825639181578168,
                    5.4406649342421005,
                    5.659307000780749,
                    -0.882753169909479,
                    -0.9788626387093877,
                    -0.9788757374554341,
                    -0.7865217544520089,
                    -0.978968027219608,
                    -0.9791123201167599,
                    -0.9791587882682584,
                    -0.9787993074443558,
                    -0.9787711678028265,
                    -0.9788232909944559,
                    -0.9787602946330413,
                    -0.9787240004836735,
                    -0.8827260848839295,
                    5.659324786535147,
                    5.451937668102962,
                    4.191149168698103,
                    -0.7578790165223882,
                    -0.9788862267284859,
                    4.191065789588513,
                    -0.9789695890123499,
                    -0.8826405806323316,
                    -0.9789280680589464,
                    -0.9788903681463963,
                    -0.9788274316287435,
                    -0.9787393647890479,
                    -0.9788454839065441,
                    -0.9787641601412714,
                    -0.9788739299711153,
                    -0.9788694431531958,
                    -0.9787903800522911,
                    -0.9789019730032646,
                    -0.978809720397865,
                    -0.9788646555391692,
                    -0.9788079514228374,
                    -0.8539257320338622,
                    -0.9787735129378565,
                    -0.9788017218521193,
                    -0.8540768815585493,
                    -0.9788252945199898,
                    9.01967259368405,
                    1.7320348173919435,
                    -0.9787460605915136,
                    -0.9788517857032255,
                    -0.9788232131107693,
                    -0.9787541713785058,
                    -0.978874086332038,
                    -0.9788123370222322,
                    -0.9789476105807688,
                    4.548371338103012,
                    -0.9787903299698315,
                    -0.9787988730008189,
                    -0.978859488418136,
                    -0.853922378024693,
                    -0.9790630636421864,
                    17.855888798981756,
                    1.7320090736499454,
                    1.7320671446654936,
                    4.191027210452507,
                    4.022111368203678,
                    -0.9787767440778439,
                    -0.7577731742171482,
                    -0.9788674302082345,
                    -0.7577566506742789,
                    -0.9651285584392519,
                    -0.9790194318960693,
                    -0.9788812558890196,
                    4.617294021894702,
                    6.062956993968736,
                    -0.9790154481412578,
                    7.022265578348849,
                    -0.9788809184975916,
                    6.894719583108812,
                    -0.8826578132996642,
                    -0.9789910019830322,
                    -0.9790453609637179,
                    -0.7579427987445301,
                    5.659349634199378,
                    4.19094439856047,
                    5.444990188966302,
                    4.187435859265278,
                    -0.8827366819814427,
                    5.6594287406760735,
                    5.4456694700111195,
                    4.1909598630247595,
                    -0.7576658920244811,
                    -0.9788038413091185,
                    4.031022570506553,
                    -0.9788701482132225,
                    4.031026734728365,
                    4.030949630722876,
                    -0.8826870428414294,
                    4.03105767510174
                  ],
                  "xaxis": "x",
                  "y": [
                    0.18175228092013537,
                    0.1761466827364429,
                    0.1759738649791173,
                    0.18443315710679148,
                    0.19023008752788487,
                    0.18126764866529907,
                    0.17941990860460774,
                    0.17962603668397606,
                    -0.2854356488112641,
                    0.19293929970065773,
                    0.19241379786341237,
                    0.19076397399149272,
                    -1.9088322269190476,
                    0.1748800729497365,
                    0.17995539870631336,
                    0.17914875551172152,
                    0.18169055690188676,
                    0.18033585655221374,
                    0.17782717826648864,
                    -3.0157047514825606,
                    0.1932331354195712,
                    -3.0023988399481154,
                    0.18379097632378288,
                    -0.25085284053318674,
                    -2.8932840163068096,
                    0.18579620613023765,
                    0.1987782890491362,
                    0.19002669077607504,
                    -0.07870310245721157,
                    0.1789457357781838,
                    0.18119489281580117,
                    -1.994567049095027,
                    0.19027605749224133,
                    0.17271550012014675,
                    0.17901846351344153,
                    0.19200451006123898,
                    0.17411853727044724,
                    0.1902618596833536,
                    0.1879485065529043,
                    0.186540543389936,
                    0.18748437206881458,
                    0.1893289575677371,
                    0.18277850992560973,
                    0.19309328164457407,
                    0.19082341151414003,
                    0.18773069456676683,
                    0.19028958111145164,
                    0.18110863110706535,
                    0.1930903382346094,
                    0.18319487725875197,
                    0.19463518206148664,
                    0.1940514962361264,
                    0.19531919088720176,
                    0.186540543389936,
                    0.19053964750479835,
                    0.18836193237352272,
                    0.17400968740353995,
                    0.17322547596535445,
                    0.1813424014992428,
                    0.18755897296086715,
                    0.18939966809954759,
                    0.18127230285880752,
                    0.19152049795440027,
                    0.18919319116211547,
                    0.19268462644064024,
                    0.1849293787988278,
                    0.1887727557130135,
                    0.19749432667570463,
                    0.19662089461396487,
                    0.18525682715037553,
                    0.16735339647393602,
                    0.19515956717094543,
                    0.18528862706982288,
                    0.18528862706982288,
                    0.18028619331401977,
                    0.19157327915346262,
                    0.19437602335424872,
                    0.17992919969154705,
                    0.18475739980538847,
                    0.19385054169729615,
                    0.1800026057926207,
                    0.17405781795511893,
                    0.18852061203785783,
                    0.18679978054974672,
                    0.18007321263980217,
                    0.19338428500009006,
                    0.1835492270089719,
                    0.18361712660235255,
                    0.1808800454411124,
                    0.18326281669273115,
                    0.1889722530315721,
                    0.195586875811641,
                    0.17880258635935126,
                    0.19909856937147288,
                    0.17897029368854253,
                    0.1819919839071859,
                    0.18769712199164745,
                    0.19079179662085272,
                    0.18332012821629806,
                    0.1883630688262649,
                    0.18891437049439666,
                    0.1788519307981848,
                    0.18391034037842938,
                    -2.101862862245931,
                    0.17271550012014675,
                    0.18751028993917718,
                    0.19460081203900575,
                    0.17974975735158175,
                    -1.540135672304787,
                    0.19156352597364315,
                    0.17488727572731738,
                    0.18965572494353344,
                    0.18573914203158146,
                    0.20255683300926838,
                    0.18518622983445795,
                    0.18490186402013417,
                    0.18488863346004583,
                    0.18720552155172185,
                    0.1729187474211735,
                    0.19276308280022195,
                    0.18651164044859367,
                    0.1795576861917184,
                    0.18293328765915418,
                    0.18992111110196888,
                    0.17996027932824252,
                    0.1812031932658911,
                    0.18882877747591284,
                    0.182816584558944,
                    0.19072634324547824,
                    0.17993716250287362,
                    0.18547780585651413,
                    0.18678542627764888,
                    0.18671853638697478,
                    0.19290847036385877,
                    0.1829846476947842,
                    0.1820285918922054,
                    0.18819288323472622,
                    0.17689120232241318,
                    0.18732343911195948,
                    0.18768936968297245,
                    0.17285487930536605,
                    -0.7271373516867435,
                    0.17999591326875128,
                    0.17433625132842429,
                    0.18928504143900982,
                    0.1781983530652715,
                    0.1828375844504251,
                    0.18409310238642868,
                    0.1788745241095784,
                    0.1955071960069656,
                    0.19081850380640744,
                    0.18957846769979583,
                    0.18492195208746515,
                    0.1920999605742988,
                    0.18235521849005829,
                    0.18921715638292413,
                    0.19479074059619547,
                    0.1952253855047941,
                    0.17487373945431847,
                    0.1745323484443527,
                    0.1856651124915284,
                    0.17006442146873157,
                    0.1916894051875317,
                    0.18711830515563566,
                    0.178638637302143,
                    0.1753973304492041,
                    0.18968688752950297,
                    0.1862765861396636,
                    0.18456040152692185,
                    0.19611950971072228,
                    0.18647832923512228,
                    0.18945342947266602,
                    0.19838762289456865,
                    0.17852009993628443,
                    0.19471685744072031,
                    0.18657947429846106,
                    0.18583449017527687,
                    0.18529091993421049,
                    0.1797952359508766,
                    0.19129337088358148,
                    0.18857667193085054,
                    0.19871039350499703,
                    0.1918942779445461,
                    0.16582298920997185,
                    0.18937322741883025,
                    0.1857951131547236,
                    0.18333861364151277,
                    0.16972177574451264,
                    0.1811234949387984,
                    0.1858023207141602,
                    -0.7114375835558278,
                    18.909845304821758,
                    0.18203520863570372,
                    -0.8623775988149787,
                    0.19101394005838027,
                    0.18296885820393416,
                    0.18724692468061838,
                    0.18395823094537034,
                    0.16773768855948748,
                    0.19242853048237027,
                    0.18575921577779542,
                    0.18194116667120067,
                    0.18486780148723894,
                    0.19673960044046404,
                    0.169839757871357,
                    0.17954872821684373,
                    0.17271550012014675,
                    -0.0579699137755499,
                    0.18357904974740427,
                    0.18474953991062718,
                    0.17271550012014675,
                    0.18958090586131784,
                    0.19132597430316844,
                    0.19134778686643986,
                    0.1811234949387984,
                    0.19520257172667926,
                    0.17271550012014675,
                    0.18709565259767313,
                    0.1925265647541945,
                    0.19477851498933438,
                    0.1851936478268281,
                    0.17371332693210242,
                    0.1867698347320277,
                    0.18629974474662336,
                    0.17972486082725164,
                    0.17768482013641693,
                    0.1688589681802868,
                    0.188743685990939,
                    0.18495581649827877,
                    0.17838513682350995,
                    0.18054144482975956,
                    0.19659972280448118,
                    0.18900433804173986,
                    0.18756917107699964,
                    0.18039121617264672,
                    0.18655413277596133,
                    0.1840661413229807,
                    0.1850039149384972,
                    0.1885913885984717,
                    0.17849136176660504,
                    0.18767435903379467,
                    0.19163260869399812,
                    0.19754523652036154,
                    0.1820230734405008,
                    0.18773664529393383,
                    0.20402378115206496,
                    0.18636676990631806,
                    0.17639842467617792,
                    0.19131670127191489,
                    0.19241872692542733,
                    0.192866138920486,
                    0.18453576397950536,
                    0.18726618437433212,
                    0.18927030900555744,
                    0.19525555836009073,
                    0.19559664711753535,
                    0.18892866964973606,
                    0.18575921577779542,
                    0.18618388471769912,
                    0.17271550012014675,
                    0.17271550012014675,
                    0.1901126199349987,
                    0.1853807901899963,
                    0.1898181011953056,
                    0.17271550012014675,
                    0.18702704831327885,
                    0.18713924418548103,
                    0.18566718903329746,
                    0.1807201801073233,
                    0.17828763232571612,
                    0.18844471661372617,
                    0.18713924418548103,
                    0.18660610949602066,
                    0.18702704831327885,
                    0.18728289901427456,
                    0.17913271153947027,
                    0.17271550012014675,
                    0.1829146125409657,
                    0.18125497267605348,
                    0.16468764114148735,
                    0.18994769524527336,
                    0.1898181011953056,
                    0.1901126199349987,
                    0.17614660011813893,
                    0.18171457414678752,
                    0.1894610679908317,
                    0.18524105062725715,
                    0.18844471661372617,
                    0.17271550012014675,
                    0.18278551960619743,
                    0.18548460171999845,
                    0.17967672431406978,
                    0.1942255951819521,
                    0.1898181011953056,
                    0.1901126199349987,
                    0.18844471661372617,
                    0.17271550012014675,
                    0.18702704831327885,
                    0.186156140807328,
                    0.17271550012014675,
                    0.18575921577779542,
                    0.18744422003481018,
                    0.18673950261703226,
                    0.17271550012014675,
                    0.18992802363768588,
                    0.1858023207141602,
                    0.17271550012014675,
                    0.18713924418548103,
                    0.18457403247970725,
                    0.1858023207141602,
                    0.18045599429826564,
                    0.17271550012014675,
                    0.20238767935881344,
                    0.18713924418548103,
                    0.1858023207141602,
                    0.17271550012014675,
                    0.1901126199349987,
                    0.18575921577779542,
                    0.1898181011953056,
                    0.17271550012014675,
                    0.18702704831327885,
                    0.18713924418548103,
                    0.19447995490446154,
                    0.1898588771439473,
                    0.1827691343273662,
                    0.18844471661372617,
                    0.17271550012014675,
                    0.1898181011953056,
                    0.1901126199349987,
                    0.18713924418548103,
                    0.1906511926518045,
                    0.17423726163634698,
                    0.19341963777942905,
                    0.17271550012014675,
                    0.18575921577779542,
                    0.18905919205490146,
                    0.1841518550199275,
                    0.17271550012014675,
                    0.17271550012014675,
                    0.19281779476098235,
                    0.18617193329417822,
                    0.17271550012014675,
                    0.18844471661372617,
                    0.1858023207141602,
                    0.17271550012014675,
                    0.18659218715551032,
                    0.18457403247970725,
                    0.17271550012014675,
                    0.18844471661372617,
                    0.18702704831327885,
                    0.18713924418548103,
                    0.18575921577779542,
                    0.19564760362262187,
                    0.18013515428223834,
                    0.1835468323914761,
                    0.19205640149177405,
                    0.1858023207141602,
                    0.18575921577779542,
                    0.1858023207141602,
                    0.17271550012014675,
                    0.17271550012014675,
                    0.18514241396117326,
                    0.1902668918068881,
                    0.18702704831327885,
                    0.18575921577779542,
                    0.1766955713182462,
                    0.1846009671703221,
                    0.1832342986796299,
                    0.18217839592882057,
                    0.18428740080042208,
                    0.18192211874869493,
                    -0.007521582089237616,
                    0.18258508588785835,
                    0.19319627912889553,
                    0.19083244512149058,
                    0.18396513983224277,
                    0.18567184078334067,
                    0.19102530743268772,
                    0.18258508588785835,
                    -0.007521582089237616,
                    0.19102530743268772,
                    0.18217839592882057,
                    0.18396513983224277,
                    0.1858023207141602,
                    0.1858023207141602,
                    0.17271550012014675,
                    0.1898181011953056,
                    0.1901126199349987,
                    0.18844471661372617,
                    0.17271550012014675,
                    0.18540967453951254,
                    0.18702704831327885,
                    0.18713924418548103,
                    0.18448039473758737,
                    0.1907884979811712,
                    0.18388147938822347,
                    0.18575921577779542,
                    0.18567184078334067,
                    0.18935824054783792,
                    0.18428740080042208,
                    0.19319627912889553,
                    0.1832342986796299,
                    0.19524818091553853,
                    0.1808366773698904,
                    0.17271550012014675,
                    0.1909624371105223,
                    0.178456952250241,
                    0.18713924418548103,
                    0.18575921577779542,
                    0.1858023207141602,
                    0.18457403247970725,
                    0.18514241396117326,
                    0.17271550012014675,
                    0.18659218715551032,
                    0.17271550012014675,
                    0.18905919205490146,
                    0.17271550012014675,
                    0.18905919205490146,
                    0.18659218715551032,
                    0.17271550012014675,
                    0.18540967453951254,
                    0.18033053159046125,
                    0.19038740317821531,
                    0.19389531044029323,
                    0.19646130235882064,
                    0.18502822551739606,
                    0.1777705415115955,
                    0.18192211874869493,
                    -1.4272228871567607,
                    -0.007521582089237616,
                    0.1846009671703221,
                    0.17271550012014675,
                    0.18457403247970725,
                    0.17271550012014675,
                    0.18514241396117326,
                    0.18965858262712587,
                    0.18205006816420974,
                    0.18575921577779542,
                    0.18713924418548103,
                    0.1890458271429997,
                    0.1964658268930684,
                    0.18534464481228852,
                    0.18366947376698667,
                    0.19709774171535732,
                    0.1763594996256933,
                    0.18674348048546088,
                    0.17575146273531564,
                    0.1880282397970329,
                    0.17858514361648906,
                    0.17419606511424865,
                    0.18293856403190953,
                    0.1819294330519108,
                    0.1896328957932406,
                    0.19325008082037515,
                    0.19012937660639556,
                    0.1893416050799143,
                    0.18569792656254736,
                    0.19292748034380355,
                    0.1951143186899238,
                    0.19429623062546,
                    0.19222935660596616,
                    0.18305165204670726,
                    0.19143623232527182,
                    0.18479141051894338,
                    0.18929120896167753,
                    -0.6670396227845036,
                    0.18232899994676988,
                    0.19377268122518843,
                    0.18354476293025218,
                    0.18779829689272057,
                    0.1833084488245914,
                    0.1779626671013287,
                    0.1767353173760919,
                    -2.3353106791023808,
                    -0.2551114540920063,
                    0.18182266284813106,
                    -0.07870310245721157,
                    -2.5407478273604185,
                    0.18046198223727944,
                    -0.3581486536840913,
                    0.18178386065705882,
                    0.17749763613351113,
                    0.17488727572731738,
                    0.18412944163351874,
                    0.17456709131290818,
                    0.18178386065705882,
                    0.1920501386666436,
                    0.18407656966991187,
                    0.07520870435345602,
                    0.18391286934021772,
                    0.19023563653283718,
                    0.187060817887597,
                    0.1832041783550411,
                    0.17604341875108193,
                    -1.0349604789775855,
                    -2.3486092613700715,
                    0.18416054825976522,
                    0.19354303491483113,
                    0.18317687546169648,
                    0.18610198345597367,
                    0.17913297751631302,
                    0.1885766276053184,
                    0.19970083459237523,
                    -1.8356423753791773,
                    0.18963730907760024,
                    0.17782717826648864,
                    -2.77302748425328,
                    0.17458274256958478,
                    0.18161602159960694,
                    0.18111788738781082,
                    0.19156352597364315,
                    -0.25085284053318674,
                    0.1858023207141602,
                    0.18575921577779542,
                    0.17271550012014675,
                    0.17271550012014675,
                    0.18457403247970725,
                    0.18514241396117326,
                    0.1858023207141602,
                    0.18659218715551032,
                    0.18575921577779542,
                    0.20292105578446146,
                    0.17522661281607382,
                    0.18144751008888707,
                    0.17356259502385024,
                    0.17271550012014675,
                    0.17271550012014675,
                    0.18294004107549752,
                    0.18328652503106804,
                    0.18916715923668348,
                    0.1867587243497463,
                    0.1771548777377867,
                    0.1798966308961834,
                    0.1858023207141602,
                    0.18575921577779542,
                    0.17271550012014675,
                    0.1898181011953056,
                    0.1901126199349987,
                    0.18844471661372617,
                    0.17271550012014675,
                    0.18702704831327885,
                    0.18575921577779542,
                    0.17271550012014675,
                    0.18713924418548103,
                    0.17412662575889246,
                    0.18713924418548103,
                    0.18672958495655462,
                    0.17271550012014675,
                    0.17728604603645737,
                    -1.1160291028465565,
                    0.19185589074972526,
                    0.1861605248011996,
                    0.17318067316545996,
                    0.1879010737240307,
                    0.18675562119821404,
                    0.18105416149080972,
                    0.19380335112283706,
                    0.18030670223501105,
                    0.1693113035802676,
                    0.16897364541942994,
                    0.18978928287781235,
                    0.1744823268585152,
                    0.17782717826648864,
                    0.1809807445470371,
                    0.07520870435345602,
                    0.1888936673814522,
                    0.17116431798086632,
                    0.18242679715254817,
                    -0.3581486536840913,
                    0.19173553392526504,
                    0.19087610010637684,
                    0.17558012096114256,
                    0.18976482619373014,
                    0.18030337690349488,
                    -0.25085284053318674,
                    0.18142252348335253,
                    0.18560963963248342,
                    0.19260835771671606,
                    0.1868793276916406,
                    0.18412981321112457,
                    0.18260464649129313,
                    0.17126462246751545,
                    0.1858023207141602,
                    0.18670880788013586,
                    0.19248376093602262,
                    0.18914862177954103,
                    0.14039090012718383,
                    0.14921125615264413,
                    0.1823891246941935,
                    -0.08822493604058466,
                    0.14498525116955585,
                    0.14118007600517862,
                    0.14463285902435247,
                    0.13461805600794569,
                    -0.10483648123685793,
                    0.13965710574622417,
                    0.14645379775010847,
                    -0.05314342274668556,
                    0.13860312014839057,
                    0.17801682799312873,
                    0.15368263645442531,
                    0.15898519620297408,
                    0.14058548958493816,
                    -0.09431558303444468,
                    -0.09415907405443137,
                    -0.1014463413394863,
                    0.14050949993814316,
                    0.1337447726745312,
                    0.13747519409071535,
                    0.1370590418039967,
                    0.14118148978727413,
                    -0.32771822288038543,
                    0.14703907322996693,
                    0.1807070622387699,
                    0.13662281601885212,
                    0.16087208395397842,
                    0.13590329543524846,
                    0.1432256970828786,
                    0.13584084004589464,
                    0.1459971528799992,
                    0.10618602271977388,
                    0.13995573459958957,
                    0.18849973163662484,
                    0.18249148387910516,
                    0.18179984679424063,
                    0.18318145237879088,
                    0.18191315660076038,
                    0.19023010853807581,
                    0.14791449980136334,
                    0.19283577389366202,
                    0.18649088539186473,
                    -2.742762054356151,
                    0.13806968049982143,
                    -2.8133119863944587,
                    -2.7039154888461954,
                    -0.09499345340985065,
                    0.17927049531353237,
                    0.18981496306651421,
                    0.18804011226264936,
                    0.19458732417911545,
                    0.14288564784676805,
                    0.1408790686894112,
                    -3.7658894833887073,
                    0.13897508419495425,
                    -2.743743686474561,
                    0.1834995865400726,
                    0.12571150373660958,
                    -2.7047481231856816,
                    0.1344103772325453,
                    0.18592019219730552,
                    -0.1104241952217677,
                    0.14093494128255443,
                    0.18784046947252372,
                    0.1916443420897575,
                    0.17905069299129223,
                    0.13476124812706805,
                    0.18512337009051638,
                    0.14209845253022396,
                    0.14312210029752684,
                    0.19106214603759666,
                    0.18434349153283786,
                    0.18182172667986468,
                    0.19215659943830926,
                    -2.6595106827960544,
                    0.18556818372228595,
                    0.19135119597352745,
                    0.19566601341205186,
                    0.19031013383471743,
                    0.18999936317379118,
                    0.18001628060738312,
                    0.19325863463664025,
                    0.20330156273562316,
                    0.18621087371972445,
                    0.1946303191375711,
                    0.18640657346276154,
                    0.19275159256250546,
                    0.18965733945844448,
                    0.18086075216509556,
                    0.18519414631154618,
                    0.18416990800098532,
                    0.1858023207141602,
                    -1.0418107490754918,
                    0.18765121158876807,
                    0.19056874036063334,
                    0.17864823809307767,
                    0.18967173874999368,
                    0.18283639263222856,
                    0.17999591326875128,
                    0.18215626962231501,
                    0.19105174120166665,
                    0.19700539826386762,
                    0.18142005203837108,
                    0.18573176388678617,
                    0.18999936317379118,
                    0.1904353652065363,
                    0.19483354913678547,
                    0.17772217802991522,
                    0.18825904357317594,
                    0.19249353050433674,
                    0.1857917070233657,
                    0.19081500727551767,
                    0.192323329799738,
                    0.19081500727551767,
                    0.1825916661029183,
                    0.17399222648338672,
                    0.18657872330193853,
                    0.14794492126413578,
                    0.14135749808382495,
                    0.14167088317782311,
                    0.18515967986098653,
                    0.17415649182324283,
                    -2.2280148659514767,
                    0.17728604603645737,
                    0.18369166700375933,
                    -1.5403592702608848,
                    0.1842346489130926,
                    0.18529371838121303,
                    0.18127230285880752,
                    0.18489565990784532,
                    0.17502330275217598,
                    0.18142005203837108,
                    0.1876427624557156,
                    0.18890816318824788,
                    0.18394708457456743,
                    0.19871686703759894,
                    0.17271550012014675,
                    0.19694151189237202,
                    0.18253740714769318,
                    -0.10306530413354831,
                    -2.817827182657578,
                    0.18189657309105564,
                    0.1525877906362717,
                    0.18440063508431428,
                    0.19163748552445703,
                    0.18393438335104162,
                    0.17596938305102916,
                    -2.743240406653906,
                    -1.4961650999267782,
                    0.18191315660076038,
                    0.14449818398804418,
                    -0.10800677732023953,
                    -2.827919205006958,
                    0.18924245859007865,
                    0.1964459690864536,
                    0.13499964766789624,
                    -2.7525665036247444,
                    -2.696118516782078,
                    -3.0482673851355195,
                    0.18179984679424063,
                    0.1943246794489742,
                    0.17974296261696185,
                    -2.8456254007427724,
                    -0.10319380487534868,
                    0.1819059689307023,
                    0.18958524249727865,
                    6.208132503248731,
                    0.18318145237879088,
                    0.18791603494532644,
                    -2.7463028074998563,
                    0.13195859673098262,
                    0.1907938239129144,
                    -2.7047551022303,
                    -0.09260048596303416,
                    0.1895957123360314,
                    -3.3726821351521594,
                    -2.699249383087297,
                    -0.09214040005152181,
                    0.13086424202514152,
                    0.18657872330193853,
                    0.18175228092013768,
                    -3.4381841938500397,
                    -2.5299632287199216,
                    0.9111160816775363,
                    1.9404842204557213,
                    0.14683047956921907,
                    1.9736960852379946,
                    1.410949196191847,
                    2.3780025557431714,
                    -2.3936620771252204,
                    1.9645325532043068,
                    -1.9933850819196144,
                    -1.9851979539226248,
                    0.13694883104446953,
                    0.08852925370438507,
                    0.18515967986098653,
                    0.184604886978938,
                    0.19350032358780225,
                    0.17590918160756874,
                    0.17801682799312873,
                    0.1390843762064439,
                    0.1403440967424364,
                    0.1459971528799992,
                    0.1390843762064439,
                    0.14683047956921907,
                    0.1459971528799992,
                    0.1402755813649325,
                    0.184604886978938,
                    0.18458576641080285,
                    -2.8223029638930246,
                    0.18458576641080285,
                    0.1403440967424364,
                    0.18983785741641954,
                    0.18189301464974417,
                    0.1972031566483539,
                    -0.04854114317756614,
                    -2.6987616658444553,
                    -0.09682176204403985,
                    0.19075225944784746,
                    0.17271550012014675,
                    0.18536523299031146,
                    0.1879354728535654,
                    -2.865413806162092,
                    -2.7913257690822295,
                    -2.853489782620839,
                    0.1874117689233111,
                    -2.68789282245815,
                    0.1400867551152645,
                    -2.5152548006834143,
                    0.1376849904949393,
                    -3.1265210057495216,
                    -2.744461373124151,
                    0.14348914551237155,
                    0.19968860375416608,
                    -2.5719540869603654,
                    -2.750445217957063,
                    -2.706819904386959,
                    -0.0921452853922898,
                    0.19020315422480863,
                    0.17531185208363081,
                    0.18773016258113626,
                    0.13994685538756757,
                    -2.7382566437647133,
                    0.6040370132477835,
                    -2.7118247459366844,
                    -0.09774513683482759,
                    0.17626348569336597,
                    0.14342681015291758,
                    -0.09570068949182062,
                    0.18608835273281465,
                    0.1945402525372886,
                    0.18751342162057028,
                    0.185739063012069,
                    0.17836671426721365,
                    0.1811341760544707,
                    5.026190121534918,
                    0.1774180383740841,
                    0.18522020785655482,
                    -0.7072648656127488,
                    0.1799946061808451,
                    0.4225412586614112,
                    0.18915604049325827,
                    0.1817040116492874,
                    0.1790183097140174,
                    0.1863270659205891,
                    0.17271550012014675,
                    7.589976861751087,
                    1.5801189645810112,
                    0.18445110558026495,
                    0.18447500099629907,
                    0.1828117170704994,
                    -2.7057478916770914,
                    0.1461384715912274,
                    -0.3287645673075272,
                    0.18878152543177537,
                    0.1869957391410601,
                    0.1851572962267852,
                    0.17836671426721365,
                    0.18409729513138956,
                    0.19205249638010835,
                    0.18125546087428576,
                    0.18246225930116755,
                    0.13816000288611824,
                    0.18125546087428576,
                    -0.7130177140286772,
                    0.14258161572427827,
                    0.18514662181957067,
                    0.18875595959754118,
                    0.18891411433424,
                    0.18575921577779542,
                    0.17857397425935012,
                    0.19307279322444137,
                    0.1797805943133196,
                    0.19530087335000534,
                    0.1963399051052096,
                    0.18939331905781875,
                    0.1882267438518293,
                    0.1782051735170097,
                    0.18628514471452515,
                    0.18323422974199488,
                    0.17606938017425178,
                    0.19398585093662205,
                    0.18490186402013417,
                    0.18958861446921985,
                    0.18999388155596486,
                    0.17271550012014675,
                    0.18422145317085825,
                    0.2052951411220272,
                    0.18212680908715903,
                    0.18373068690286268,
                    0.17271550012014675,
                    0.1974543565733652,
                    0.18709669653052244,
                    -1.5025867499333323,
                    0.17271550012014675,
                    -1.5427004484822824,
                    0.18727443111816916,
                    0.1907386066405403,
                    0.17271550012014675,
                    0.19242345992591242,
                    0.1880495648236693,
                    -0.22747174836701095,
                    0.1925265647541945,
                    -0.22747174836701095,
                    0.186540543389936,
                    0.19827408557664147,
                    0.19248093115387993,
                    0.16475938040457797,
                    0.19375751390774576,
                    0.1975600431947862,
                    0.17767372077867,
                    0.19288908409552635,
                    0.19167946493932397,
                    0.18371941332364924,
                    0.2017274224050741,
                    0.18390361047870707,
                    0.1891866317943462,
                    0.18496967147607668,
                    0.18949650100289744,
                    0.17964052574721961,
                    -2.333459609835787,
                    0.7482356017722657,
                    0.1900583786295882,
                    0.1853060968633345,
                    0.18895986556965608,
                    0.19863082485550806,
                    0.18929079300259757,
                    0.18660933022466414,
                    0.19021462639891243,
                    0.18256926644835403,
                    0.19726775266438148,
                    0.18512726310843564,
                    0.1809799612653199,
                    -0.06087621016716956,
                    0.18043109178657968,
                    0.1739268983748241,
                    0.17679472502482188,
                    0.18350647814202004,
                    0.1732839175767188,
                    -0.17663075910492654,
                    -1.1233711039750858,
                    0.18648788331428662,
                    0.18269192279456187,
                    0.1906802244424405,
                    0.18140497128181246,
                    0.17967988541217078,
                    0.18202711820173187,
                    0.17199353987413654,
                    0.18711653310326604,
                    0.18003073656433294,
                    -2.813433079269858,
                    0.18811195172407394,
                    -2.830822272439907,
                    0.19773207442913868,
                    0.19074297216768266,
                    0.18121475621670324,
                    0.18662447874514307,
                    0.19066401050314183,
                    0.18294993780543323,
                    0.17743772437081134,
                    0.17271550012014675,
                    0.18798747190048665,
                    0.17476469697117308,
                    0.18385690575354266,
                    0.1813698378630254,
                    0.18046825476907005,
                    0.18450034499676043,
                    0.18029683170966365,
                    0.17271550012014675,
                    0.18924830312339697,
                    0.7682754146740816,
                    1.2208138396282397,
                    0.18668451353012652,
                    -1.9590553630345562,
                    0.17887511890030133,
                    1.3375641992512246,
                    0.18084778778304614,
                    0.1786145374644852,
                    0.18294232623956797,
                    0.1778179400718552,
                    0.18294232623956797,
                    0.17755106096826317,
                    0.185891037992497,
                    0.1838167762268933,
                    -0.0649706363856101,
                    0.18526164952543253,
                    0.19696147116767063,
                    0.18893773970812658,
                    0.18637175189608118,
                    -0.15692703610359274,
                    0.18115284429712852,
                    0.18865948391428392,
                    0.18673155807992792,
                    0.17728106324808915,
                    0.18514725273948632,
                    0.18294993780543323,
                    0.2005304918133128,
                    0.17271550012014675,
                    0.18294993780543323,
                    -1.5986802979483081,
                    -0.19260981617861725,
                    0.18534351214815056,
                    0.18294232623956797,
                    0.18550308574728386,
                    0.19863293233155063,
                    0.17869336795961513,
                    0.18660725219370503,
                    0.19243573202603564,
                    0.1984831625484315,
                    0.18095446456802092,
                    0.18731823611029055,
                    0.18098970766514483,
                    0.18631072053858244,
                    0.1883698487933473,
                    0.18353243037038428,
                    0.1964118642433794,
                    0.1795011292787063,
                    0.1811175075505448,
                    0.1769320427130768,
                    0.19329025369178446,
                    0.19096329612198576,
                    0.1784768835528422,
                    0.17643392157157056,
                    0.18784971581223303,
                    0.17673314421946779,
                    0.1824074487839166,
                    0.18950880535279943,
                    0.17598117354687196,
                    0.19020560242195297,
                    0.17306524038026316,
                    0.1916099209093926,
                    0.1767487319043523,
                    0.18474556980923149,
                    0.183129970127906,
                    0.1921097811754975,
                    0.19212013233287964,
                    0.1854674940854244,
                    0.1997458306067765,
                    0.1849221971290453,
                    0.181208886666912,
                    0.17491152404347193,
                    0.17869336795961513,
                    0.19264577200308478,
                    0.19021462639891243,
                    0.19294254589589047,
                    0.19538707198468944,
                    0.18177087679436882,
                    0.17427497244761747,
                    0.18976152538288274,
                    0.18689076500112145,
                    0.19548937079225825,
                    0.18922282731629975,
                    0.18239969662443187,
                    0.18234469889197663,
                    0.182204029616099,
                    0.18844471661372617,
                    0.17271550012014675,
                    0.1922257963982328,
                    0.18617193329417822,
                    0.18734531716159714,
                    0.18702704831327885,
                    0.185064160293413,
                    0.18941034900653167,
                    0.17395664854996673,
                    0.18298369150511176,
                    0.18874357604999617,
                    0.19729916794766558,
                    0.19281779476098235,
                    0.18916883507170457,
                    0.18077087701731018,
                    0.17373339041470226,
                    0.18490186402013417,
                    0.18851266672536984,
                    0.19185794726014807,
                    0.20414576655483557,
                    0.181476757167912,
                    0.18104677269007088,
                    0.18641037445133335,
                    0.19436710124829706,
                    0.17271550012014675,
                    0.1827094367081054,
                    0.18630683481059226,
                    0.18348082009786928,
                    0.18584141629209872,
                    0.19415976500202914,
                    0.19306325676973085,
                    0.16738915872764568,
                    0.17878113439740004,
                    0.19674187900521842,
                    -0.47435173793003577,
                    0.19094150289160494,
                    0.18522432257497295,
                    0.18819012376640545,
                    -3.3030697388250814,
                    0.18490186402013417,
                    0.18587233477687598,
                    0.1877097064117053,
                    0.1825648320628269,
                    0.17660009146445052,
                    0.1879344025294232,
                    0.18034513299696633,
                    -3.309110692312874,
                    0.17494524709229678,
                    -1.9714455917250875,
                    -0.22747174836701095,
                    0.1916262739026299,
                    0.1848013864523021,
                    0.18431618980118616,
                    0.17619648731905638,
                    0.19253387565212582,
                    0.18719525508237425,
                    0.1892366256725606,
                    0.17852999068751288,
                    0.18470611921885563,
                    0.18708716533978295,
                    -0.0649706363856101,
                    0.17998005101840756,
                    0.1733131750031487,
                    0.1884305421224427,
                    0.18735467443840745,
                    0.1830469078921674,
                    0.192303718484739,
                    0.1757037478631381,
                    0.18713924418548103,
                    0.17982337954515937,
                    0.18233837884435874,
                    0.16995665592077652,
                    0.17890273971039244,
                    0.18310608386080482,
                    0.1794739675965981,
                    0.17701930406975805,
                    0.18034270367402547,
                    0.1749436427099758,
                    0.17223232968803226,
                    0.19698647375974798,
                    0.19284628945161622,
                    0.190372793405379,
                    -2.101179952942927,
                    0.16793049826660753,
                    0.18481364527139346,
                    0.18670368246888355,
                    0.1970142540664524,
                    0.19220469177266034,
                    0.18849726193683375,
                    0.1967446377929795,
                    0.17964449530560797,
                    0.18771859425131693,
                    0.17615019182686678,
                    0.18349668677700856,
                    0.18263347814614347,
                    0.1761754224243365,
                    0.189569673477599,
                    0.19540066364688752,
                    0.18068420866470067,
                    0.18932686939354101,
                    0.18034270367402547,
                    0.19874280255940963,
                    0.1829589314032347,
                    0.17294693882380732,
                    0.17689236014925855,
                    0.1911360900123729,
                    0.18875595959754118,
                    0.1908054341459255,
                    -0.04845507881598055,
                    -0.045344714011466,
                    0.1834038878095094,
                    0.18814814325893614,
                    0.19284265242560153,
                    0.19179330321519317,
                    0.1779968001604793,
                    0.1932869626195193,
                    0.18085876457817812,
                    0.9045181473843841,
                    0.8874827167019228,
                    0.19225822705800044,
                    0.18358903638728633,
                    0.18134900672904547,
                    0.18408148021782886,
                    0.18095653847103133,
                    -0.2837707275143234,
                    -0.2947888355754681,
                    -2.10059692462839,
                    -2.1097100762370387,
                    -2.1046134579479783,
                    0.1863523611849828,
                    0.1740436940977533,
                    0.1811169353184585,
                    -0.061267651968951425,
                    -3.0959229331878446,
                    0.9036393789026714,
                    0.1836595286684221,
                    0.18441213557070027,
                    0.19651538629982895,
                    0.1901163379822836,
                    -0.06154795174121193,
                    0.18482388292626617,
                    -2.113727103717816,
                    0.178168426966099,
                    0.19164070062607794,
                    2.85641527154726,
                    2.8453897724651065,
                    2.840056665678808,
                    0.18420754333353276,
                    0.18633516190765279,
                    0.18404760880647467,
                    0.17456677819977987,
                    0.19345305611317226,
                    0.18260451234975186,
                    0.1911008543563169,
                    -0.7188133342338517,
                    0.1779968001604793,
                    0.17713395686363337,
                    0.18145111047994247,
                    -0.12810896692288098,
                    0.1895638409420349,
                    0.18689410830530803,
                    0.18174131273946229,
                    0.18802466609987623,
                    0.18555713646981992,
                    -0.13818964677846182,
                    -0.7102593044495437,
                    -1.3861970750274888,
                    0.20132958152409222,
                    0.17911484662248606,
                    -0.12366576391097199,
                    0.18784808993754232,
                    0.1866059439253074,
                    0.1928994700021848,
                    0.18565171683523493,
                    0.1847460723394711,
                    0.19908234122366034,
                    0.1706025763124346,
                    -2.108600099427504,
                    -2.1221191152867647,
                    -2.111407384197756,
                    0.17931332389261365,
                    0.18937423986532428,
                    0.18750175912545347,
                    0.181103543509279,
                    0.18621406245111227,
                    0.18950015179652197,
                    0.1914835494180895,
                    0.1805742325762648,
                    0.18272536091576438,
                    0.1444820904210762,
                    -0.2869823029933364,
                    0.1861373324391091,
                    0.19212812559442988,
                    0.17876140867410378,
                    0.18823709442778166,
                    0.18061754253153217,
                    0.18843634445502547,
                    0.18306698154562065,
                    -0.0433148896447876,
                    0.18483874609175927,
                    -3.2410072884347287,
                    0.18597177983362123,
                    -0.04187655166954668,
                    -1.6452255170881105,
                    0.18680980457250523,
                    -3.2114087574354744,
                    -0.8071137524107805,
                    0.19111710606291438,
                    0.1814460327056156,
                    -0.0433148896447876,
                    -0.057499498855531524,
                    0.1853093556054732,
                    -3.532769933949415,
                    0.1819660809128623,
                    0.1955198962884101,
                    0.1845183279101847,
                    -2.160827016695129,
                    -2.1108914471406544,
                    -2.107718270320868,
                    -0.7395481160646135,
                    -2.113045798756744,
                    -1.213923662375552,
                    -2.108488025294526,
                    -2.1141260462196207,
                    0.1817914895600959,
                    0.17697362207906472,
                    -0.06279314293688565,
                    0.18932216377423997,
                    -2.120597335986013,
                    -2.113135853500799,
                    0.19271288111827525,
                    0.18371790093323212,
                    -2.104129876717037,
                    0.1930777054479117,
                    0.1861437832445235,
                    0.18574548406079008,
                    0.18448930836483068,
                    0.1897785218253624,
                    0.18296429911670933,
                    0.1882826385619779,
                    0.19187350770193515,
                    0.18070680789144009,
                    0.14545078535674222,
                    -0.061143877536994386,
                    0.2017836267471364,
                    0.1944987624361487,
                    0.18886209180767427,
                    -0.051430614471782835,
                    -0.055653508917824064,
                    0.16643316810708264,
                    -0.8439835704872561,
                    0.17681844397811428,
                    0.18266215793708804,
                    0.1843136678491438,
                    0.18983785741641954,
                    0.42229049218515424,
                    0.18436450623195197,
                    0.1827786297454227,
                    0.17285488871962743,
                    0.18122590648230932,
                    -0.32579742063665496,
                    0.17760907557877673,
                    -0.7085688231455926,
                    -0.19185746571209747,
                    -0.9462046191588911,
                    -0.7254796184060237,
                    0.18762577743239897,
                    0.19280361411217192,
                    0.18828457915539115,
                    0.1926269634960906,
                    0.18303374485789964,
                    0.1799077989643436,
                    0.1865030230530199,
                    0.19179330321519317,
                    0.18297599609290593,
                    0.18115506988279428,
                    0.19179330321519317,
                    0.19282960019165188,
                    0.18189301464974417,
                    0.18196364257369993,
                    0.17469142745428015,
                    0.18102507234736587,
                    0.18446978601743635,
                    0.1814224844844201,
                    0.17974296261696185,
                    0.17252129311223102,
                    0.18293190844824733,
                    0.18409729513138956,
                    -2.830568526859394,
                    0.17108424906431008,
                    0.14084884933477163,
                    0.19473267584337983,
                    0.17857251865826654,
                    0.1710695427840436,
                    0.1819059689307023,
                    0.18709185513598192,
                    0.19455918834563615,
                    0.19903187131572964,
                    0.19376253028468154,
                    0.18927343585097095,
                    0.1790723949657381,
                    -0.0466221895631524,
                    -0.2916964364308179,
                    0.1733515571909835,
                    0.19316877619025075,
                    0.19611672533317565,
                    0.18301183899126222,
                    -0.3197395177768782,
                    0.18125546087428576,
                    -0.7195793498971442,
                    -0.09389834493300381,
                    5.701901932595138,
                    0.1873716360470159,
                    0.18302986495853285,
                    0.18125546087428576,
                    0.1899290814890803,
                    0.1799946061808451,
                    0.18445110558026495,
                    0.19804163594146532,
                    0.18522020785655482,
                    0.2032050829529348,
                    0.09767034925507113,
                    0.19177459925405993,
                    0.19901976644963165,
                    0.1905162756064951,
                    -6.500678911852055,
                    0.17971772666929003,
                    0.18584577209220732,
                    0.1778273562931922,
                    0.18672522255635737,
                    0.17863942905832142,
                    0.1882545032152249,
                    -2.1233556217343166,
                    0.1706025763124346,
                    0.18727128065251528,
                    0.18935065091187556,
                    0.1851497512146809,
                    0.19037515634568491,
                    0.1893508757628938,
                    0.1869538890590029,
                    0.18865600062462165,
                    -0.06100650786374584,
                    0.1927562531993332,
                    0.19368255343107468,
                    -5.249270227246206,
                    0.1807858077526787,
                    0.18867266272961455,
                    0.1810015116844687,
                    -5.387234240514939,
                    -0.05828526740958335,
                    0.19018332521792028,
                    0.18814814325893614,
                    12.210558116745096,
                    0.1828958038688316,
                    -0.04828935599280627,
                    -0.0575203342778424,
                    -1.5070935815798963,
                    0.18739462420810202,
                    0.18416883393464342,
                    0.18606330143872105,
                    0.181278024107453,
                    0.17909152357599764,
                    0.17515229978265176,
                    -0.2955496644249376,
                    0.1827344509107261,
                    0.17953157059898173,
                    0.18175223714135802,
                    0.19029554062400625,
                    0.19356738998558076,
                    0.17368586143503176,
                    0.19098810163190155,
                    0.18141926088008117,
                    0.18648967293879537,
                    0.19066121836148175,
                    0.17747405637393932,
                    0.18765816143852532,
                    0.17921974359901527,
                    0.18704183505545097,
                    -0.0649360705602495,
                    0.1915706625474083,
                    0.17271550012014675,
                    0.18821719222264388,
                    0.17642676335004187,
                    0.18542478350125532,
                    -0.054560250109871186,
                    0.1842780902737712,
                    0.17415136187450075,
                    0.18855323163945872,
                    0.1936300512536902,
                    0.1796274793490659,
                    0.19199572124243736,
                    0.1908203228107078,
                    0.18525601108979994,
                    0.19176149694706027,
                    0.18490961507550313,
                    0.17905069299129223,
                    -0.05274106034407463,
                    0.18802720752128096,
                    -3.378476442779033,
                    -2.404932834306756,
                    1.9741360462230553,
                    1.9628764363489568,
                    0.1850362428488819,
                    0.13939900646486456,
                    -0.18041130694444224,
                    -2.5111961696117406,
                    -1.993024189220774,
                    -2.0334583677560603,
                    -2.0495185285187794,
                    2.3812355157641485,
                    2.035285594849448,
                    0.1805314160413492,
                    -2.031013140172585,
                    0.18191315660076038,
                    0.9209465538406219,
                    0.18318145237879088,
                    -2.508629488512757,
                    -2.420620402292713,
                    1.8302919565970404,
                    0.19089562239480665,
                    0.13961039525359722,
                    -3.655214195986887,
                    0.18179984679424063,
                    -2.041792632871167,
                    -2.0328469311855377,
                    -2.035024362211944,
                    1.9750057609166698,
                    1.752311345997544,
                    1.9671575744231384,
                    2.3766413763237457,
                    -2.0419649108742606,
                    0.9209432778851946,
                    -2.422078282948999,
                    1.971837164246185,
                    -2.514337067654864,
                    0.9215885246696175,
                    -3.6596308682671146,
                    -2.0320243480230205,
                    -1.9859841772873592,
                    2.371619582640497,
                    1.278327866061536,
                    1.8099041751804303,
                    -2.0431182773162977,
                    -2.035658677724051,
                    -2.046619024282299,
                    0.1877674573292183,
                    0.1470220549714818,
                    0.13422089748763313,
                    -2.0451076267759616,
                    1.9651319812742885,
                    1.9690121428427643,
                    -2.421413277064203,
                    2.040381061348328,
                    -2.0218481218237088,
                    -1.99834353712261,
                    0.18620009110074126,
                    0.13855518981734857,
                    -2.031833802611909,
                    1.7581093882699301,
                    -2.0375939839439394,
                    -3.3739362052578774,
                    -2.5008640628852836,
                    2.3720592412878996,
                    1.0287874023663202,
                    0.13752379400463027,
                    0.18523067197509266,
                    0.9227106562584693,
                    -2.02921248739514,
                    -1.9721632832621578,
                    0.18275131591253577,
                    -1.5327613053228135,
                    1.9543747507838327,
                    -3.4541110323459394,
                    -2.041073705853119,
                    -2.012674356932096,
                    -2.01004605857285,
                    0.18204222549324944,
                    2.669197233821253,
                    1.9753646233989042,
                    -2.515589776889141,
                    -1.981370039989284,
                    -1.9734727171817845,
                    0.9149440697601338,
                    2.3766161128703325,
                    1.9380077521947028,
                    -2.397544889229393,
                    0.17612219368667403,
                    -1.8358576601810228,
                    -3.4381841938500264,
                    -2.529963228719925,
                    0.9111160816775432,
                    1.9404842204557162,
                    1.9736960852379977,
                    0.1369488310444741,
                    0.19338653473899786,
                    1.4109491961918585,
                    -2.393662077125217,
                    1.964532553204305,
                    -1.993385081919614,
                    -1.9851979539226248,
                    0.1911360900123728,
                    -1.8336099154555643,
                    2.378002555743162,
                    0.17723749749571652,
                    0.13842272734698657,
                    2.6783126576982754,
                    -2.407502539903616,
                    -3.386841145650757,
                    2.493066939432034,
                    0.18391219522029628,
                    0.13919177880022923,
                    -2.0145028745383855,
                    2.3595777011086585,
                    -1.9783119914273408,
                    -2.03193546808431,
                    -2.505860962904888,
                    1.965212567975867,
                    1.9802167731495608,
                    0.9070081685275376,
                    2.0401058041354885,
                    -2.0376995984751156,
                    0.18125546087428576,
                    0.1388220604414353,
                    0.1943246794489742,
                    1.9384502216257127,
                    1.9614341166531657,
                    1.9808842341359292,
                    -2.5226164652934133,
                    0.17630724593446512,
                    0.9160477840126908,
                    0.14021427512442877,
                    2.3618333083759437,
                    -3.4397540846002324,
                    -2.050403356782288,
                    -2.023970948012561,
                    -2.0443216511357107,
                    -1.9856167856503524,
                    -1.9994983903215513,
                    -2.4071550945128855,
                    0.19089348828896044,
                    0.19290634977854465,
                    0.17933507150287112,
                    0.170146040969594,
                    0.19163076511925758,
                    -0.7974956918779202,
                    -0.04984482142081054,
                    -0.294754975285363,
                    0.1846378527285071,
                    0.13363147813937085,
                    0.18654474662372764,
                    0.17663219085318718,
                    0.1444820904210762,
                    -0.28853792113809296,
                    -0.04217506216730071,
                    -0.2854011934831863,
                    -0.29053690087007783,
                    -0.28124741545109283,
                    0.18429218344276546,
                    -0.2928789364710584,
                    0.19182888533134906,
                    -0.2959795553417416,
                    0.18927038279796723,
                    0.18485845170582724,
                    -0.794794427673504,
                    -0.8071320827993699,
                    -0.8103028094237629,
                    0.1450983973374726,
                    0.1990496803628616,
                    -0.33986028275189467,
                    -0.2855617635740583,
                    -0.8512968462780206,
                    0.20302097666020336,
                    0.18800558910831683,
                    -0.8680037539560376,
                    -0.7993602828376365,
                    0.19719044638150782,
                    0.18749833694138915,
                    -0.08994102298003243,
                    0.1873367382264031,
                    -0.2909899887387443,
                    0.1859606520555891,
                    -0.8625972000401865,
                    -0.05395311852395443,
                    0.2024469399550599,
                    0.18784046947252372,
                    -0.056173526130039425,
                    0.18336334083178304,
                    -0.04454529910772118,
                    0.17849034319999196,
                    0.16980721506086635,
                    0.17238097540984637,
                    0.17271550012014675,
                    0.20127302845622633,
                    0.13325240760858434,
                    0.17718686551693402,
                    0.18417448677023893,
                    0.19051469211461194,
                    -0.2908704233027857,
                    0.1788753476921558,
                    0.18634823627224664,
                    0.19698740108196233,
                    0.18461051143177096,
                    0.18502747489981525,
                    -0.0947181069470268,
                    0.18786743092131944,
                    0.1759939362479424,
                    0.19253283062842838,
                    0.17792130475675,
                    -0.04629494955044725,
                    0.1500069255478038,
                    -0.29038385794284993,
                    -0.05108186397225615,
                    0.18741746469323423,
                    -0.04960004784315511,
                    -0.8560455474047954,
                    -0.8082369821213335,
                    0.1833507711162735,
                    0.18190802092978509,
                    0.18734740347428422,
                    0.1834479689943179,
                    0.18600575601276623,
                    0.18929456883250806,
                    -0.09675942926445473,
                    0.17456426086185514,
                    0.18599790456579085,
                    0.18266333526887635,
                    0.19105688855749514,
                    0.18803170629358615,
                    -0.27994456453316524,
                    -0.29909101308987823,
                    0.18560029744323542,
                    0.13342113666066951,
                    0.17843589914631294,
                    0.13640666956865383,
                    0.19070923525946795,
                    0.17175409339788159,
                    0.14102402121802507,
                    0.17113330693170875,
                    0.1878886991394572,
                    0.1268026381329123,
                    0.15613846957841615,
                    0.18359853117958577,
                    0.18445110558026495,
                    0.13272294164953558,
                    0.13963113926186044,
                    0.13648371721241725,
                    0.1578132647979981,
                    0.14726022509368566,
                    0.18661458296321853,
                    -0.09254605178478037,
                    -0.1045298862942681,
                    -0.09351481854719462,
                    -0.8441246089426991,
                    0.19225249222156482,
                    0.17870728185617737,
                    0.18059797594749058,
                    0.19439860877720053,
                    -0.04876498395734555,
                    -0.04722317856096493,
                    0.18118139412187695,
                    0.13362060137211257,
                    0.17867124305576385,
                    0.19278386072177825,
                    -1.032127433707629,
                    -0.3366558297163395,
                    -0.7999340017179608,
                    0.16865814412691515,
                    0.18498589258968723,
                    -0.10830370829640772,
                    -0.03823547912522512,
                    -0.09186136137867332,
                    -0.29607126487268465,
                    -0.09460527188952389,
                    -0.08660984596197926,
                    -0.03822411343124142,
                    -0.05555033910920629,
                    0.17591968178828332,
                    -0.09877225251294766,
                    -0.10037942469711048,
                    0.14626763101584192,
                    0.1894957144725019,
                    -0.1043263023440137,
                    -0.10243188171766335,
                    0.14278939250116296,
                    0.17663029593554722,
                    0.19493672704083412,
                    -0.05112948418728958,
                    -0.04096421974212634,
                    0.17271550012014675,
                    0.18125546087428576,
                    -0.09601456228321191,
                    -0.7236286112892212,
                    0.18189301464974417,
                    0.18797984200790457,
                    0.1736665846930627,
                    0.1869957391410601,
                    0.18231246836408313,
                    0.17974296261696185,
                    -0.09079677656427868,
                    0.19304901395825677,
                    0.18646792781804628,
                    0.17450322607794613,
                    0.18190449072769385,
                    0.18983785741641954,
                    0.1890957357367569,
                    0.18409729513138956,
                    -0.7122380947371022,
                    0.13546823760171103,
                    0.1484362013214985,
                    0.18608835273281465,
                    0.19342107364339944,
                    -2.5168102837130837,
                    0.1851572962267852,
                    -2.082046273333417,
                    0.1874117689233111,
                    0.1376849904949393,
                    0.19177727481033477,
                    0.13816000288611824,
                    4.266220427227885,
                    0.42160143404461714,
                    -0.3406712721914945,
                    0.19205249638010835,
                    -2.701470669384341,
                    0.18522020785655482,
                    5.683825689235493,
                    0.18439588477046326,
                    0.18760435366073952,
                    0.18713924418548103,
                    0.1858023207141602,
                    0.17271550012014675,
                    0.18514241396117326,
                    0.1843696772867046,
                    0.18457403247970725,
                    0.17271550012014675,
                    0.18905919205490146,
                    0.19979147705331352,
                    0.19760349241677155,
                    0.1851587984442672,
                    0.18575921577779542,
                    0.18659218715551032,
                    0.17271550012014675,
                    0.1784257859325056,
                    0.18702704831327885,
                    0.18475787735671093,
                    0.19054573817988585,
                    0.1958815458774862,
                    0.18183137098636176,
                    0.19304245881213225,
                    0.18427413767108614,
                    0.18575921577779542,
                    -0.04854114317756614,
                    0.18216728294896836,
                    0.17271550012014675,
                    0.1901126199349987,
                    0.1898181011953056,
                    0.18844471661372617,
                    0.17271550012014675,
                    0.20396993075190933,
                    0.18839984665768197,
                    0.18751342162057028,
                    -2.851083064378694,
                    -1.611257035520201,
                    -2.7479898737256683,
                    -2.692991076651735,
                    -0.0991214177032089,
                    0.09208932497922208,
                    -2.564114556893306,
                    0.13734469086813353,
                    0.17135337146613386,
                    -2.7416765969675456,
                    -3.391901484409465,
                    -2.701825267028175,
                    -0.11160470456096731,
                    0.17653762145284368,
                    0.1894512229898753,
                    0.14321677470198121,
                    0.18340293356578,
                    0.1949528377003548,
                    -0.10003433314930837,
                    0.1774330516709608,
                    0.14404636754748096,
                    -0.29939128510384694,
                    -0.5936025544752113,
                    -2.709149828491171,
                    -0.09825449529528114,
                    0.17937548475959697,
                    0.18355717748547407,
                    -1.4118462074537592,
                    0.19461333329638383,
                    0.12726929292806452,
                    -2.760148971108367,
                    -0.6060350433554644,
                    -2.715695430631411,
                    -0.42719658518054465,
                    0.14724308888072465,
                    -2.7474011711105595,
                    -3.7895141121101137,
                    0.18591838155464302,
                    0.1872653899429935,
                    0.13549355174403796,
                    -2.7358713566344757,
                    -2.267228855322061,
                    -2.7003168773700876,
                    0.10071781100148408,
                    -0.0927761750458981,
                    0.17271550012014675,
                    0.18536523299031146,
                    0.19317110173871352,
                    -2.805667134278108,
                    -3.1212985774344104,
                    -3.7716716386203504,
                    0.18023633564814384,
                    -0.09064191317827375,
                    -2.693230520591121,
                    -0.7023739319619432,
                    -2.6962102305905775,
                    -0.0850949957221126,
                    0.1733647782014469,
                    0.1883481160544316,
                    -4.722842661998414,
                    0.15029363427753206,
                    -2.7506790909125445,
                    -2.7196935272983196,
                    -0.08689515319168914,
                    0.13026334718343796,
                    0.1868546123303334,
                    -0.42719658518054465,
                    -1.4048606822223444,
                    0.1520249558113486,
                    -2.7365392669490003,
                    0.18713924418548103,
                    0.18961003910540775,
                    0.18452132331055882,
                    0.1858023207141602,
                    0.18452195366553228,
                    0.18361519145974772,
                    0.18416767730421757,
                    0.18721134361014427,
                    0.1847198483931675,
                    0.198580422242193,
                    0.18233768641749298,
                    0.18393142682720534,
                    0.18856947079842248,
                    0.18833883155888848,
                    0.195385932948476,
                    0.18620589156453346,
                    0.1931743624695168,
                    0.19283914386130965,
                    0.1727101100945271,
                    0.190907532226527,
                    0.1866931627295023,
                    0.17652498716338794,
                    0.18811837896644537,
                    0.19295186620379617,
                    0.18479818644034532,
                    0.1873889926502981,
                    0.18021455841040734,
                    0.18052036415167247,
                    0.190413596370108,
                    0.17846732435706503,
                    0.1900263815868757,
                    0.1878067988315128,
                    0.2062224538018089,
                    0.17528929327746484,
                    0.18665617692348718,
                    0.19217406048641897,
                    0.1969162497492127,
                    0.17271550012014675,
                    0.1898181011953056,
                    0.1901126199349987,
                    0.19016746383848804,
                    0.1956885263008148,
                    0.1858023207141602,
                    0.17271550012014675,
                    0.1898181011953056,
                    0.1901126199349987,
                    0.19639112275479398,
                    0.18844471661372617,
                    0.18702704831327885,
                    0.17271550012014675,
                    0.18713924418548103,
                    0.18575921577779542,
                    0.18367564504985887,
                    0.19669698133376484,
                    0.17271550012014675,
                    0.18176923189285382,
                    0.18713924418548103,
                    0.18575921577779542,
                    0.18844471661372617,
                    0.17271550012014675,
                    0.18702704831327885,
                    0.18205382288065855,
                    0.18575921577779542,
                    0.18713924418548103,
                    0.17062896529300717,
                    0.1793543694746577,
                    0.1928487082783146,
                    0.1858023207141602,
                    0.17271550012014675,
                    0.1901126199349987,
                    0.1898181011953056,
                    0.17271550012014675,
                    0.18844471661372617,
                    0.1858023207141602,
                    0.1817700782957809,
                    0.18787317372677614,
                    0.19870029373275008,
                    0.17271550012014675,
                    0.18844471661372617,
                    0.18702704831327885,
                    0.18713924418548103,
                    0.18575921577779542,
                    0.17889918115699485,
                    0.1898181011953056,
                    0.17275597541698606,
                    0.18227798575883922,
                    0.1858023207141602,
                    0.17271550012014675,
                    0.17271550012014675,
                    0.18514241396117326,
                    0.18457403247970725,
                    0.18726452304267316,
                    0.18659218715551032,
                    0.1901126199349987,
                    0.17271550012014675,
                    0.18713924418548103,
                    0.17271550012014675,
                    0.1898181011953056,
                    0.1901126199349987,
                    0.18844471661372617,
                    0.17271550012014675,
                    0.17271550012014675,
                    0.18702704831327885,
                    0.18575921577779542,
                    0.18525444095604712,
                    0.18544892659025886,
                    0.19129399918868412,
                    0.18713924418548103,
                    0.1858023207141602,
                    0.18992079897481842,
                    0.17271550012014675,
                    0.18905919205490146,
                    0.1809676204788995,
                    0.18605876056439616,
                    0.18041213400700765,
                    0.18319390973706978,
                    0.1804163111458498,
                    0.17271550012014675,
                    0.17271550012014675,
                    0.1790730429382307,
                    0.18617193329417822,
                    0.18844471661372617,
                    0.17271550012014675,
                    0.18702704831327885,
                    0.1831559513822238,
                    0.18575921577779542,
                    0.18202461171565082,
                    0.19281779476098235,
                    0.18747889585832792,
                    0.16754043097007512,
                    0.19892282691529503,
                    0.1955973393522838,
                    0.18017466754066366,
                    0.19654100683547876,
                    0.18713924418548103,
                    0.18575921577779542,
                    0.18352006380255095,
                    0.1858023207141602,
                    0.18050914341236152,
                    0.19023978361043956,
                    0.1837143289432281,
                    0.19452596830899627,
                    0.1754716011802634,
                    0.1837143289432281,
                    0.1829684443090583,
                    0.18243116097121093,
                    0.18713924418548103,
                    -0.08553920374354443,
                    -2.739137800703677,
                    -2.734257073067932,
                    0.179682807200666,
                    0.18733796449155568,
                    0.19688138356668622,
                    0.19501340099425662,
                    0.17463463696073597,
                    0.18473067424171008,
                    0.1818146330633164,
                    0.19220481423416333,
                    0.17102890622679853,
                    0.1774304513284176,
                    0.18679133468112952,
                    0.18210215540213562,
                    0.1959117452090935,
                    0.18152475144473887,
                    0.18663272068157,
                    0.17821907958814473,
                    0.17271550012014675,
                    0.1855622194079119,
                    0.18385902249758726,
                    0.19710806368887815,
                    -0.04407128388632168,
                    0.18566437306424832,
                    0.18057407448087104,
                    0.18113630688402596,
                    0.18169853516929999,
                    0.17271550012014675,
                    -0.05374978620264001,
                    -0.045832866518338525,
                    -1.582114800946215,
                    0.17271550012014675,
                    -0.046240790434617964,
                    -0.2973282333973522,
                    -0.1577955486126906,
                    0.1869708520515287,
                    0.1862314387908637,
                    0.18971921734003308,
                    -0.7144964554927276,
                    0.18124220828208404,
                    -3.7411569107380336,
                    0.17975565176175617,
                    0.1823886298544383,
                    0.20760869272876706,
                    1.7752693443043006,
                    0.17236066329913996,
                    0.18031381078733613,
                    0.1838586548950526,
                    0.18273665707792544,
                    -2.691898383515855,
                    0.19371359309878924,
                    0.17803692599110188,
                    0.185891609412586,
                    0.19006079152356847,
                    -1.845454756438224,
                    -1.3065616784998644,
                    0.18660468218416973,
                    0.18864313358016355,
                    0.1892770095578291,
                    0.18510982450516839,
                    0.18191335813215082,
                    0.192300386934486,
                    41.70038219249416,
                    0.17568648181726626,
                    0.18930539391995604,
                    0.18862650472849443,
                    0.19179330321519317,
                    0.18346679645616865,
                    0.19652770027932187,
                    -1.40342229445851,
                    0.18404995348915498,
                    0.20533998233980824,
                    -0.05086324826897238,
                    -0.28295649040308724,
                    0.19955574186806674,
                    0.1783624860226698,
                    0.1790183097140174,
                    0.1807445487264825,
                    0.19446943122339788,
                    0.19071214530442296,
                    0.19285889213908675,
                    0.17382554408248638,
                    0.13638892208449144,
                    0.20218576307606625,
                    0.17572739962294856,
                    0.13798156421179808,
                    0.18498589258968723,
                    -0.057029557521258864,
                    0.18139329791899814,
                    0.18458576641080285,
                    -0.04854114317756614,
                    0.18930691672223166,
                    -0.04874437246942968,
                    0.8462781549303553,
                    -0.040363895921919156,
                    0.1774180383740841,
                    0.1408602395230998,
                    0.1820471210073152,
                    0.18302305845863376,
                    0.17944542456932197,
                    -0.034330216621017554,
                    0.17899435181719708,
                    -0.04720899608801514,
                    0.1915388816135191,
                    0.19468571948827684,
                    0.18517590815569168,
                    0.19039562784071418,
                    0.17270923467001387,
                    0.13797798830130456,
                    0.1881926366820031,
                    -0.2839728267013018,
                    -0.531039305187778,
                    0.18951501827171416,
                    0.17271550012014675,
                    -0.33848712460096575,
                    0.17639396384680112,
                    0.1492898821072473,
                    0.18020156211348756,
                    -2.824695886118378,
                    0.18548158334619252,
                    0.182767376212865,
                    0.18774807135035673,
                    0.17271550012014675,
                    0.18604488827933333,
                    0.17006657541210266,
                    -0.055018983489292815,
                    -0.560823675741837,
                    0.19731619304505815,
                    0.1736254883827251,
                    0.13038592862142281,
                    -0.057029557521258864,
                    0.17695006987633227,
                    0.18779515040635916,
                    -0.04410558506925636,
                    0.189079232303515,
                    -0.06107804304945351,
                    0.1450048120152755,
                    -0.28825420310520417,
                    -0.33285352422054576,
                    -0.04560082483257027,
                    0.18657872330193853,
                    0.18867765781129692,
                    0.18412730777707964,
                    0.19749508519191306,
                    0.1787420987847439,
                    0.17912098434137716,
                    0.17858953284419254,
                    -0.7156042855630005,
                    0.17974296261696185,
                    -0.10070816425982373,
                    0.18522020785655482,
                    5.678611703591491,
                    0.17271550012014675,
                    0.18983785741641954,
                    -0.04854114317756614,
                    0.17699994161525265,
                    0.20124972012917983,
                    0.1808299569226296,
                    0.1819059689307023,
                    0.18367517982974962,
                    0.13144362441876073,
                    0.17683618928235587,
                    0.1525095046035287,
                    0.20794543824017223,
                    0.18834374972496928,
                    0.1376849904949393,
                    0.1874117689233111,
                    -2.518277415198235,
                    0.19205249638010835,
                    -2.7105846521400827,
                    0.13816000288611824,
                    -0.34221266559901137,
                    4.274799926164909,
                    0.1869957391410601,
                    0.18409729513138956,
                    0.4251288978103947,
                    -0.7072112689221924,
                    -0.4403191668962534,
                    0.18125546087428576,
                    0.18189301464974417,
                    -2.7373521365497604,
                    0.19271985540066178,
                    -1.5528595677558934,
                    -0.10018155466153056,
                    -0.7895899690715921,
                    -2.6918550655243765,
                    -0.08224642914170821,
                    0.18610122832817988,
                    0.17831837585194799,
                    0.1276826375830332,
                    -2.731365452874063,
                    -1.9310700500634845,
                    -2.7086805394418896,
                    -0.10284191873653305,
                    0.19934086258642925,
                    0.18066464074332445,
                    0.1258140663061437,
                    -1.6134931784093691,
                    -2.7387962788851126,
                    0.15552155310335106,
                    0.17789963637571302,
                    0.1794649003652944,
                    0.10125154378199956,
                    0.18249148387910516,
                    0.18179984679424063,
                    0.18318145237879088,
                    0.18925149491611026,
                    0.1839347251548678,
                    0.17919052701818758,
                    0.1838670654078621,
                    0.19577570335613026,
                    0.1266961615497101,
                    -2.7384852712956302,
                    -0.8029386418506517,
                    -2.7091998693767883,
                    -0.09891621529812758,
                    0.1882911389686878,
                    -2.7177476613928095,
                    0.1844236569380473,
                    0.14858359971453344,
                    0.18164889872684623,
                    0.18991092747386687,
                    0.18395849088892408,
                    0.17254815819390867,
                    0.19791984233041698,
                    0.1818297415592996,
                    0.18568308614012152,
                    0.1739080625502381,
                    0.18077037658840295,
                    0.1897930005049436,
                    0.17206433712507704,
                    0.18315215616433325,
                    0.18476198925337217,
                    -0.05799468337550098,
                    0.17994514729637914,
                    0.19511758379248037,
                    -0.060623402493543116,
                    0.19116165664189125,
                    -4.719302240775151,
                    -0.7222668623361164,
                    0.19054270857896524,
                    0.20051800975364223,
                    0.18819829328775434,
                    0.1895349925281387,
                    0.18096430728766733,
                    0.18802004914502365,
                    0.19128111286380403,
                    -1.4417017096492468,
                    0.20050276890084592,
                    0.19107157127099675,
                    0.18670023753562698,
                    -0.044504610182822875,
                    0.18814814325893614,
                    53.10683082445986,
                    -0.711158628298112,
                    -0.7236804735576887,
                    -2.7000364566405977,
                    -1.8336099154555638,
                    0.19072486925736276,
                    -0.09583155958628073,
                    0.1894512229898753,
                    -0.0994912510738837,
                    0.17271550012014675,
                    0.18751342162057028,
                    0.18790433127666561,
                    -2.7920173722999544,
                    -2.8566461652171524,
                    0.18536523299031146,
                    -3.1244938705363294,
                    0.1727834404687106,
                    -3.4251184134669295,
                    0.1437039357973526,
                    0.18608835273281465,
                    0.1851572962267852,
                    -0.09691807544093362,
                    -2.7442901652969556,
                    -2.7100421202102694,
                    -3.339235743644234,
                    -2.566892141073604,
                    0.1419895534173029,
                    -2.7303010793086377,
                    -0.3629651316676875,
                    -2.7223690917010512,
                    -0.09401050114564903,
                    0.19147884851391833,
                    -2.108458724694489,
                    0.18762681216701677,
                    -2.116223381540254,
                    -2.104237684269961,
                    0.1504955366589642,
                    -2.1132787998490103
                  ],
                  "yaxis": "y"
                },
                {
                  "customdata": [
                    [
                      "POST"
                    ],
                    [
                      "POST"
                    ],
                    [
                      "POST"
                    ],
                    [
                      "POST"
                    ],
                    [
                      "POST"
                    ],
                    [
                      "POST"
                    ],
                    [
                      "POST"
                    ],
                    [
                      "POST"
                    ],
                    [
                      "POST"
                    ]
                  ],
                  "hovertemplate": "Cluster=Cluster 1<br>PCA1=%{x}<br>PCA2=%{y}<br>Feature=%{customdata[0]}<extra></extra>",
                  "legendgroup": "Cluster 1",
                  "marker": {
                    "color": "#EF553B",
                    "opacity": 0.5,
                    "symbol": "circle"
                  },
                  "mode": "markers",
                  "name": "Cluster 1",
                  "showlegend": true,
                  "textposition": "top center",
                  "type": "scattergl",
                  "x": [
                    6.845530857882463,
                    6.844967719316462,
                    6.844976349818106,
                    6.845023897131835,
                    6.845026594052362,
                    6.844955485624687,
                    6.845029650094634,
                    6.845530857882463,
                    6.844985466972217
                  ],
                  "xaxis": "x",
                  "y": [
                    1.5502213447847013,
                    1.5327376349571677,
                    1.5358100051352477,
                    1.5361651197694213,
                    1.5264733554777696,
                    1.5359821032673486,
                    1.526137716260011,
                    1.5502213447847013,
                    1.5285970395353599
                  ],
                  "yaxis": "y"
                }
              ],
              "layout": {
                "height": 600,
                "legend": {
                  "title": {
                    "text": "Cluster"
                  },
                  "tracegroupgap": 0
                },
                "margin": {
                  "t": 60
                },
                "plot_bgcolor": "rgb(240,240,240)",
                "template": {
                  "data": {
                    "bar": [
                      {
                        "error_x": {
                          "color": "#2a3f5f"
                        },
                        "error_y": {
                          "color": "#2a3f5f"
                        },
                        "marker": {
                          "line": {
                            "color": "#E5ECF6",
                            "width": 0.5
                          },
                          "pattern": {
                            "fillmode": "overlay",
                            "size": 10,
                            "solidity": 0.2
                          }
                        },
                        "type": "bar"
                      }
                    ],
                    "barpolar": [
                      {
                        "marker": {
                          "line": {
                            "color": "#E5ECF6",
                            "width": 0.5
                          },
                          "pattern": {
                            "fillmode": "overlay",
                            "size": 10,
                            "solidity": 0.2
                          }
                        },
                        "type": "barpolar"
                      }
                    ],
                    "carpet": [
                      {
                        "aaxis": {
                          "endlinecolor": "#2a3f5f",
                          "gridcolor": "white",
                          "linecolor": "white",
                          "minorgridcolor": "white",
                          "startlinecolor": "#2a3f5f"
                        },
                        "baxis": {
                          "endlinecolor": "#2a3f5f",
                          "gridcolor": "white",
                          "linecolor": "white",
                          "minorgridcolor": "white",
                          "startlinecolor": "#2a3f5f"
                        },
                        "type": "carpet"
                      }
                    ],
                    "choropleth": [
                      {
                        "colorbar": {
                          "outlinewidth": 0,
                          "ticks": ""
                        },
                        "type": "choropleth"
                      }
                    ],
                    "contour": [
                      {
                        "colorbar": {
                          "outlinewidth": 0,
                          "ticks": ""
                        },
                        "colorscale": [
                          [
                            0,
                            "#0d0887"
                          ],
                          [
                            0.1111111111111111,
                            "#46039f"
                          ],
                          [
                            0.2222222222222222,
                            "#7201a8"
                          ],
                          [
                            0.3333333333333333,
                            "#9c179e"
                          ],
                          [
                            0.4444444444444444,
                            "#bd3786"
                          ],
                          [
                            0.5555555555555556,
                            "#d8576b"
                          ],
                          [
                            0.6666666666666666,
                            "#ed7953"
                          ],
                          [
                            0.7777777777777778,
                            "#fb9f3a"
                          ],
                          [
                            0.8888888888888888,
                            "#fdca26"
                          ],
                          [
                            1,
                            "#f0f921"
                          ]
                        ],
                        "type": "contour"
                      }
                    ],
                    "contourcarpet": [
                      {
                        "colorbar": {
                          "outlinewidth": 0,
                          "ticks": ""
                        },
                        "type": "contourcarpet"
                      }
                    ],
                    "heatmap": [
                      {
                        "colorbar": {
                          "outlinewidth": 0,
                          "ticks": ""
                        },
                        "colorscale": [
                          [
                            0,
                            "#0d0887"
                          ],
                          [
                            0.1111111111111111,
                            "#46039f"
                          ],
                          [
                            0.2222222222222222,
                            "#7201a8"
                          ],
                          [
                            0.3333333333333333,
                            "#9c179e"
                          ],
                          [
                            0.4444444444444444,
                            "#bd3786"
                          ],
                          [
                            0.5555555555555556,
                            "#d8576b"
                          ],
                          [
                            0.6666666666666666,
                            "#ed7953"
                          ],
                          [
                            0.7777777777777778,
                            "#fb9f3a"
                          ],
                          [
                            0.8888888888888888,
                            "#fdca26"
                          ],
                          [
                            1,
                            "#f0f921"
                          ]
                        ],
                        "type": "heatmap"
                      }
                    ],
                    "heatmapgl": [
                      {
                        "colorbar": {
                          "outlinewidth": 0,
                          "ticks": ""
                        },
                        "colorscale": [
                          [
                            0,
                            "#0d0887"
                          ],
                          [
                            0.1111111111111111,
                            "#46039f"
                          ],
                          [
                            0.2222222222222222,
                            "#7201a8"
                          ],
                          [
                            0.3333333333333333,
                            "#9c179e"
                          ],
                          [
                            0.4444444444444444,
                            "#bd3786"
                          ],
                          [
                            0.5555555555555556,
                            "#d8576b"
                          ],
                          [
                            0.6666666666666666,
                            "#ed7953"
                          ],
                          [
                            0.7777777777777778,
                            "#fb9f3a"
                          ],
                          [
                            0.8888888888888888,
                            "#fdca26"
                          ],
                          [
                            1,
                            "#f0f921"
                          ]
                        ],
                        "type": "heatmapgl"
                      }
                    ],
                    "histogram": [
                      {
                        "marker": {
                          "pattern": {
                            "fillmode": "overlay",
                            "size": 10,
                            "solidity": 0.2
                          }
                        },
                        "type": "histogram"
                      }
                    ],
                    "histogram2d": [
                      {
                        "colorbar": {
                          "outlinewidth": 0,
                          "ticks": ""
                        },
                        "colorscale": [
                          [
                            0,
                            "#0d0887"
                          ],
                          [
                            0.1111111111111111,
                            "#46039f"
                          ],
                          [
                            0.2222222222222222,
                            "#7201a8"
                          ],
                          [
                            0.3333333333333333,
                            "#9c179e"
                          ],
                          [
                            0.4444444444444444,
                            "#bd3786"
                          ],
                          [
                            0.5555555555555556,
                            "#d8576b"
                          ],
                          [
                            0.6666666666666666,
                            "#ed7953"
                          ],
                          [
                            0.7777777777777778,
                            "#fb9f3a"
                          ],
                          [
                            0.8888888888888888,
                            "#fdca26"
                          ],
                          [
                            1,
                            "#f0f921"
                          ]
                        ],
                        "type": "histogram2d"
                      }
                    ],
                    "histogram2dcontour": [
                      {
                        "colorbar": {
                          "outlinewidth": 0,
                          "ticks": ""
                        },
                        "colorscale": [
                          [
                            0,
                            "#0d0887"
                          ],
                          [
                            0.1111111111111111,
                            "#46039f"
                          ],
                          [
                            0.2222222222222222,
                            "#7201a8"
                          ],
                          [
                            0.3333333333333333,
                            "#9c179e"
                          ],
                          [
                            0.4444444444444444,
                            "#bd3786"
                          ],
                          [
                            0.5555555555555556,
                            "#d8576b"
                          ],
                          [
                            0.6666666666666666,
                            "#ed7953"
                          ],
                          [
                            0.7777777777777778,
                            "#fb9f3a"
                          ],
                          [
                            0.8888888888888888,
                            "#fdca26"
                          ],
                          [
                            1,
                            "#f0f921"
                          ]
                        ],
                        "type": "histogram2dcontour"
                      }
                    ],
                    "mesh3d": [
                      {
                        "colorbar": {
                          "outlinewidth": 0,
                          "ticks": ""
                        },
                        "type": "mesh3d"
                      }
                    ],
                    "parcoords": [
                      {
                        "line": {
                          "colorbar": {
                            "outlinewidth": 0,
                            "ticks": ""
                          }
                        },
                        "type": "parcoords"
                      }
                    ],
                    "pie": [
                      {
                        "automargin": true,
                        "type": "pie"
                      }
                    ],
                    "scatter": [
                      {
                        "fillpattern": {
                          "fillmode": "overlay",
                          "size": 10,
                          "solidity": 0.2
                        },
                        "type": "scatter"
                      }
                    ],
                    "scatter3d": [
                      {
                        "line": {
                          "colorbar": {
                            "outlinewidth": 0,
                            "ticks": ""
                          }
                        },
                        "marker": {
                          "colorbar": {
                            "outlinewidth": 0,
                            "ticks": ""
                          }
                        },
                        "type": "scatter3d"
                      }
                    ],
                    "scattercarpet": [
                      {
                        "marker": {
                          "colorbar": {
                            "outlinewidth": 0,
                            "ticks": ""
                          }
                        },
                        "type": "scattercarpet"
                      }
                    ],
                    "scattergeo": [
                      {
                        "marker": {
                          "colorbar": {
                            "outlinewidth": 0,
                            "ticks": ""
                          }
                        },
                        "type": "scattergeo"
                      }
                    ],
                    "scattergl": [
                      {
                        "marker": {
                          "colorbar": {
                            "outlinewidth": 0,
                            "ticks": ""
                          }
                        },
                        "type": "scattergl"
                      }
                    ],
                    "scattermapbox": [
                      {
                        "marker": {
                          "colorbar": {
                            "outlinewidth": 0,
                            "ticks": ""
                          }
                        },
                        "type": "scattermapbox"
                      }
                    ],
                    "scatterpolar": [
                      {
                        "marker": {
                          "colorbar": {
                            "outlinewidth": 0,
                            "ticks": ""
                          }
                        },
                        "type": "scatterpolar"
                      }
                    ],
                    "scatterpolargl": [
                      {
                        "marker": {
                          "colorbar": {
                            "outlinewidth": 0,
                            "ticks": ""
                          }
                        },
                        "type": "scatterpolargl"
                      }
                    ],
                    "scatterternary": [
                      {
                        "marker": {
                          "colorbar": {
                            "outlinewidth": 0,
                            "ticks": ""
                          }
                        },
                        "type": "scatterternary"
                      }
                    ],
                    "surface": [
                      {
                        "colorbar": {
                          "outlinewidth": 0,
                          "ticks": ""
                        },
                        "colorscale": [
                          [
                            0,
                            "#0d0887"
                          ],
                          [
                            0.1111111111111111,
                            "#46039f"
                          ],
                          [
                            0.2222222222222222,
                            "#7201a8"
                          ],
                          [
                            0.3333333333333333,
                            "#9c179e"
                          ],
                          [
                            0.4444444444444444,
                            "#bd3786"
                          ],
                          [
                            0.5555555555555556,
                            "#d8576b"
                          ],
                          [
                            0.6666666666666666,
                            "#ed7953"
                          ],
                          [
                            0.7777777777777778,
                            "#fb9f3a"
                          ],
                          [
                            0.8888888888888888,
                            "#fdca26"
                          ],
                          [
                            1,
                            "#f0f921"
                          ]
                        ],
                        "type": "surface"
                      }
                    ],
                    "table": [
                      {
                        "cells": {
                          "fill": {
                            "color": "#EBF0F8"
                          },
                          "line": {
                            "color": "white"
                          }
                        },
                        "header": {
                          "fill": {
                            "color": "#C8D4E3"
                          },
                          "line": {
                            "color": "white"
                          }
                        },
                        "type": "table"
                      }
                    ]
                  },
                  "layout": {
                    "annotationdefaults": {
                      "arrowcolor": "#2a3f5f",
                      "arrowhead": 0,
                      "arrowwidth": 1
                    },
                    "autotypenumbers": "strict",
                    "coloraxis": {
                      "colorbar": {
                        "outlinewidth": 0,
                        "ticks": ""
                      }
                    },
                    "colorscale": {
                      "diverging": [
                        [
                          0,
                          "#8e0152"
                        ],
                        [
                          0.1,
                          "#c51b7d"
                        ],
                        [
                          0.2,
                          "#de77ae"
                        ],
                        [
                          0.3,
                          "#f1b6da"
                        ],
                        [
                          0.4,
                          "#fde0ef"
                        ],
                        [
                          0.5,
                          "#f7f7f7"
                        ],
                        [
                          0.6,
                          "#e6f5d0"
                        ],
                        [
                          0.7,
                          "#b8e186"
                        ],
                        [
                          0.8,
                          "#7fbc41"
                        ],
                        [
                          0.9,
                          "#4d9221"
                        ],
                        [
                          1,
                          "#276419"
                        ]
                      ],
                      "sequential": [
                        [
                          0,
                          "#0d0887"
                        ],
                        [
                          0.1111111111111111,
                          "#46039f"
                        ],
                        [
                          0.2222222222222222,
                          "#7201a8"
                        ],
                        [
                          0.3333333333333333,
                          "#9c179e"
                        ],
                        [
                          0.4444444444444444,
                          "#bd3786"
                        ],
                        [
                          0.5555555555555556,
                          "#d8576b"
                        ],
                        [
                          0.6666666666666666,
                          "#ed7953"
                        ],
                        [
                          0.7777777777777778,
                          "#fb9f3a"
                        ],
                        [
                          0.8888888888888888,
                          "#fdca26"
                        ],
                        [
                          1,
                          "#f0f921"
                        ]
                      ],
                      "sequentialminus": [
                        [
                          0,
                          "#0d0887"
                        ],
                        [
                          0.1111111111111111,
                          "#46039f"
                        ],
                        [
                          0.2222222222222222,
                          "#7201a8"
                        ],
                        [
                          0.3333333333333333,
                          "#9c179e"
                        ],
                        [
                          0.4444444444444444,
                          "#bd3786"
                        ],
                        [
                          0.5555555555555556,
                          "#d8576b"
                        ],
                        [
                          0.6666666666666666,
                          "#ed7953"
                        ],
                        [
                          0.7777777777777778,
                          "#fb9f3a"
                        ],
                        [
                          0.8888888888888888,
                          "#fdca26"
                        ],
                        [
                          1,
                          "#f0f921"
                        ]
                      ]
                    },
                    "colorway": [
                      "#636efa",
                      "#EF553B",
                      "#00cc96",
                      "#ab63fa",
                      "#FFA15A",
                      "#19d3f3",
                      "#FF6692",
                      "#B6E880",
                      "#FF97FF",
                      "#FECB52"
                    ],
                    "font": {
                      "color": "#2a3f5f"
                    },
                    "geo": {
                      "bgcolor": "white",
                      "lakecolor": "white",
                      "landcolor": "#E5ECF6",
                      "showlakes": true,
                      "showland": true,
                      "subunitcolor": "white"
                    },
                    "hoverlabel": {
                      "align": "left"
                    },
                    "hovermode": "closest",
                    "mapbox": {
                      "style": "light"
                    },
                    "paper_bgcolor": "white",
                    "plot_bgcolor": "#E5ECF6",
                    "polar": {
                      "angularaxis": {
                        "gridcolor": "white",
                        "linecolor": "white",
                        "ticks": ""
                      },
                      "bgcolor": "#E5ECF6",
                      "radialaxis": {
                        "gridcolor": "white",
                        "linecolor": "white",
                        "ticks": ""
                      }
                    },
                    "scene": {
                      "xaxis": {
                        "backgroundcolor": "#E5ECF6",
                        "gridcolor": "white",
                        "gridwidth": 2,
                        "linecolor": "white",
                        "showbackground": true,
                        "ticks": "",
                        "zerolinecolor": "white"
                      },
                      "yaxis": {
                        "backgroundcolor": "#E5ECF6",
                        "gridcolor": "white",
                        "gridwidth": 2,
                        "linecolor": "white",
                        "showbackground": true,
                        "ticks": "",
                        "zerolinecolor": "white"
                      },
                      "zaxis": {
                        "backgroundcolor": "#E5ECF6",
                        "gridcolor": "white",
                        "gridwidth": 2,
                        "linecolor": "white",
                        "showbackground": true,
                        "ticks": "",
                        "zerolinecolor": "white"
                      }
                    },
                    "shapedefaults": {
                      "line": {
                        "color": "#2a3f5f"
                      }
                    },
                    "ternary": {
                      "aaxis": {
                        "gridcolor": "white",
                        "linecolor": "white",
                        "ticks": ""
                      },
                      "baxis": {
                        "gridcolor": "white",
                        "linecolor": "white",
                        "ticks": ""
                      },
                      "bgcolor": "#E5ECF6",
                      "caxis": {
                        "gridcolor": "white",
                        "linecolor": "white",
                        "ticks": ""
                      }
                    },
                    "title": {
                      "x": 0.05
                    },
                    "xaxis": {
                      "automargin": true,
                      "gridcolor": "white",
                      "linecolor": "white",
                      "ticks": "",
                      "title": {
                        "standoff": 15
                      },
                      "zerolinecolor": "white",
                      "zerolinewidth": 2
                    },
                    "yaxis": {
                      "automargin": true,
                      "gridcolor": "white",
                      "linecolor": "white",
                      "ticks": "",
                      "title": {
                        "standoff": 15
                      },
                      "zerolinecolor": "white",
                      "zerolinewidth": 2
                    }
                  }
                },
                "title": {
                  "text": "2D Cluster PCA Plot"
                },
                "xaxis": {
                  "anchor": "y",
                  "domain": [
                    0,
                    1
                  ],
                  "title": {
                    "text": "PCA1"
                  }
                },
                "yaxis": {
                  "anchor": "x",
                  "domain": [
                    0,
                    1
                  ],
                  "title": {
                    "text": "PCA2"
                  }
                }
              }
            }
          },
          "metadata": {},
          "output_type": "display_data"
        }
      ],
      "source": [
        "plot_model(kmeans)"
      ]
    },
    {
      "cell_type": "code",
      "execution_count": null,
      "metadata": {
        "colab": {
          "base_uri": "https://localhost:8080/",
          "height": 817
        },
        "id": "nkhWEO5bqWnN",
        "outputId": "d22f4ba0-a49c-4f36-8297-a4c08f5ab58a"
      },
      "outputs": [
        {
          "data": {
            "text/html": [],
            "text/plain": [
              "<IPython.core.display.HTML object>"
            ]
          },
          "metadata": {},
          "output_type": "display_data"
        },
        {
          "data": {
            "text/html": [
              "<html>\n",
              "<head><meta charset=\"utf-8\" /></head>\n",
              "<body>\n",
              "    <div>            <script src=\"https://cdnjs.cloudflare.com/ajax/libs/mathjax/2.7.5/MathJax.js?config=TeX-AMS-MML_SVG\"></script><script type=\"text/javascript\">if (window.MathJax && window.MathJax.Hub && window.MathJax.Hub.Config) {window.MathJax.Hub.Config({SVG: {font: \"STIX-Web\"}});}</script>                <script type=\"text/javascript\">window.PlotlyConfig = {MathJaxConfig: 'local'};</script>\n",
              "        <script charset=\"utf-8\" src=\"https://cdn.plot.ly/plotly-2.24.1.min.js\"></script>                <div id=\"cf13d13b-cbda-45c2-b42d-10f76963022b\" class=\"plotly-graph-div\" style=\"height:800px; width:900px;\"></div>            <script type=\"text/javascript\">                                    window.PLOTLYENV=window.PLOTLYENV || {};                                    if (document.getElementById(\"cf13d13b-cbda-45c2-b42d-10f76963022b\")) {                    Plotly.newPlot(                        \"cf13d13b-cbda-45c2-b42d-10f76963022b\",                        [{\"customdata\":[[\"POST\"],[\"POST\"],[\"POST\"],[\"POST\"],[\"POST\"],[\"POST\"],[\"POST\"],[\"POST\"],[\"POST\"],[\"POST\"],[\"POST\"],[\"POST\"],[\"POST\"],[\"POST\"],[\"POST\"],[\"POST\"],[\"POST\"],[\"POST\"],[\"POST\"],[\"POST\"],[\"POST\"],[\"POST\"],[\"POST\"],[\"POST\"],[\"POST\"],[\"POST\"],[\"POST\"],[\"POST\"],[\"POST\"],[\"POST\"],[\"POST\"],[\"POST\"],[\"POST\"],[\"POST\"],[\"POST\"],[\"POST\"],[\"POST\"],[\"POST\"],[\"POST\"],[\"POST\"],[\"POST\"],[\"POST\"],[\"POST\"],[\"POST\"],[\"POST\"],[\"POST\"],[\"POST\"],[\"POST\"],[\"POST\"],[\"POST\"],[\"POST\"],[\"POST\"],[\"POST\"],[\"POST\"],[\"POST\"],[\"POST\"],[\"POST\"],[\"POST\"],[\"POST\"],[\"POST\"],[\"POST\"],[\"POST\"],[\"POST\"],[\"POST\"],[\"POST\"],[\"POST\"],[\"POST\"],[\"POST\"],[\"POST\"],[\"POST\"],[\"POST\"],[\"POST\"],[\"POST\"],[\"POST\"],[\"POST\"],[\"POST\"],[\"POST\"],[\"POST\"],[\"POST\"],[\"POST\"],[\"POST\"],[\"POST\"],[\"POST\"],[\"POST\"],[\"POST\"],[\"POST\"],[\"POST\"],[\"POST\"],[\"POST\"],[\"POST\"],[\"POST\"],[\"POST\"],[\"POST\"],[\"POST\"],[\"POST\"],[\"POST\"],[\"POST\"],[\"POST\"],[\"POST\"],[\"POST\"],[\"POST\"],[\"POST\"],[\"POST\"],[\"POST\"],[\"POST\"],[\"POST\"],[\"POST\"],[\"POST\"],[\"POST\"],[\"POST\"],[\"POST\"],[\"POST\"],[\"POST\"],[\"POST\"],[\"POST\"],[\"POST\"],[\"POST\"],[\"POST\"],[\"POST\"],[\"POST\"],[\"POST\"],[\"POST\"],[\"POST\"],[\"POST\"],[\"POST\"],[\"POST\"],[\"POST\"],[\"POST\"],[\"POST\"],[\"POST\"],[\"POST\"],[\"POST\"],[\"POST\"],[\"POST\"],[\"POST\"],[\"POST\"],[\"POST\"],[\"POST\"],[\"POST\"],[\"POST\"],[\"POST\"],[\"POST\"],[\"POST\"],[\"POST\"],[\"POST\"],[\"POST\"],[\"POST\"],[\"POST\"],[\"POST\"],[\"POST\"],[\"POST\"],[\"POST\"],[\"POST\"],[\"POST\"],[\"POST\"],[\"POST\"],[\"POST\"],[\"POST\"],[\"POST\"],[\"POST\"],[\"POST\"],[\"POST\"],[\"POST\"],[\"POST\"],[\"POST\"],[\"POST\"],[\"POST\"],[\"POST\"],[\"POST\"],[\"POST\"],[\"POST\"],[\"POST\"],[\"POST\"],[\"POST\"],[\"POST\"],[\"POST\"],[\"POST\"],[\"POST\"],[\"POST\"],[\"POST\"],[\"POST\"],[\"POST\"],[\"POST\"],[\"POST\"],[\"POST\"],[\"POST\"],[\"POST\"],[\"POST\"],[\"POST\"],[\"POST\"],[\"POST\"],[\"POST\"],[\"POST\"],[\"POST\"],[\"POST\"],[\"POST\"],[\"POST\"],[\"POST\"],[\"POST\"],[\"POST\"],[\"POST\"],[\"POST\"],[\"POST\"],[\"POST\"],[\"POST\"],[\"POST\"],[\"POST\"],[\"POST\"],[\"POST\"],[\"POST\"],[\"POST\"],[\"POST\"],[\"POST\"],[\"POST\"],[\"POST\"],[\"POST\"],[\"POST\"],[\"POST\"],[\"POST\"],[\"POST\"],[\"POST\"],[\"POST\"],[\"POST\"],[\"POST\"],[\"POST\"],[\"POST\"],[\"POST\"],[\"POST\"],[\"POST\"],[\"POST\"],[\"POST\"],[\"POST\"],[\"POST\"],[\"POST\"],[\"POST\"],[\"POST\"],[\"POST\"],[\"POST\"],[\"POST\"],[\"POST\"],[\"POST\"],[\"POST\"],[\"POST\"],[\"POST\"],[\"POST\"],[\"POST\"],[\"POST\"],[\"POST\"],[\"POST\"],[\"POST\"],[\"POST\"],[\"POST\"],[\"POST\"],[\"POST\"],[\"POST\"],[\"POST\"],[\"POST\"],[\"POST\"],[\"POST\"],[\"POST\"],[\"POST\"],[\"POST\"],[\"POST\"],[\"POST\"],[\"POST\"],[\"POST\"],[\"POST\"],[\"POST\"],[\"POST\"],[\"POST\"],[\"POST\"],[\"POST\"],[\"POST\"],[\"POST\"],[\"POST\"],[\"POST\"],[\"POST\"],[\"POST\"],[\"POST\"],[\"POST\"],[\"POST\"],[\"POST\"],[\"POST\"],[\"POST\"],[\"POST\"],[\"POST\"],[\"POST\"],[\"POST\"],[\"POST\"],[\"POST\"],[\"POST\"],[\"POST\"],[\"POST\"],[\"POST\"],[\"POST\"],[\"POST\"],[\"POST\"],[\"POST\"],[\"POST\"],[\"POST\"],[\"POST\"],[\"POST\"],[\"POST\"],[\"POST\"],[\"POST\"],[\"POST\"],[\"POST\"],[\"POST\"],[\"POST\"],[\"POST\"],[\"POST\"],[\"POST\"],[\"POST\"],[\"POST\"],[\"POST\"],[\"POST\"],[\"POST\"],[\"POST\"],[\"POST\"],[\"POST\"],[\"POST\"],[\"POST\"],[\"POST\"],[\"POST\"],[\"POST\"],[\"POST\"],[\"POST\"],[\"POST\"],[\"POST\"],[\"POST\"],[\"POST\"],[\"POST\"],[\"POST\"],[\"POST\"],[\"POST\"],[\"POST\"],[\"POST\"],[\"POST\"],[\"POST\"],[\"POST\"],[\"POST\"],[\"POST\"],[\"POST\"],[\"POST\"],[\"POST\"],[\"POST\"],[\"POST\"],[\"POST\"],[\"POST\"],[\"POST\"],[\"POST\"],[\"POST\"],[\"POST\"],[\"POST\"],[\"POST\"]],\"hovertemplate\":\"Cluster=Cluster 0\\u003cbr\\u003e0=%{x}\\u003cbr\\u003e1=%{y}\\u003cbr\\u003e2=%{z}\\u003cbr\\u003eFeature=%{customdata[0]}\\u003cextra\\u003e\\u003c\\u002fextra\\u003e\",\"legendgroup\":\"Cluster 0\",\"marker\":{\"color\":\"#636efa\",\"opacity\":0.7,\"symbol\":\"circle\"},\"mode\":\"markers\",\"name\":\"Cluster 0\",\"scene\":\"scene\",\"showlegend\":true,\"x\":[-14.543234,20.113453,7.223402,-1.7854661,2.4910216,2.4910216,1.8487246,15.488436,2.4910216,2.4910216,28.62646,2.4910216,2.4910216,8.800146,2.4910216,2.4910216,2.4910216,2.4910216,2.4910216,20.188063,2.4910216,17.562326,37.653656,-3.6897573,-1.2049911,26.171967,16.508526,2.4910216,1.7685598,2.4910216,30.967564,28.085962,23.436943,14.857372,2.4910216,31.598585,2.4910216,29.629217,-10.667022,20.489573,2.4910216,23.109211,13.883212,30.96809,2.4910216,27.505009,8.531829,2.4910216,8.869943,2.4910216,16.37866,18.359303,2.4910216,37.831547,13.660272,14.5354185,11.790157,-17.272938,13.451075,14.190643,10.815158,2.4910216,2.4910216,2.4910216,2.4910216,2.4910216,2.4910216,2.4910216,2.4910216,11.342483,2.4910216,2.4910216,2.4910216,2.4910216,2.4910216,2.4910216,2.4910216,2.4910216,2.4910216,2.4910216,2.4910216,2.4910216,2.4910216,25.868876,28.663038,37.905773,5.4407854,2.4910216,-2.2802932,2.4910216,-7.238313,-15.390777,2.4910216,-10.53888,2.4910216,2.4910216,2.4910216,2.4910216,21.272078,2.4910216,11.233849,13.723129,21.21141,2.4910216,8.625753,-15.235923,9.741055,27.356237,23.442421,-14.575009,28.591665,17.022104,13.9386635,2.4910216,6.2794447,2.164011,28.018099,-1.6567377,1.3292841,19.17659,2.4910216,36.550976,2.4910216,2.4910216,20.591644,2.4910216,2.4910216,29.631178,2.4910216,24.998968,18.989985,22.151104,2.4910216,2.4910216,22.780231,2.4910216,24.88431,16.183775,11.037821,15.460703,1.0477426,2.4910216,2.4910216,-28.812838,-12.947869,-7.1834106,-31.56812,-26.043901,-27.280859,-27.397358,-22.659594,-18.799137,-22.541735,-22.825062,-18.732166,-14.543234,2.4910216,19.221533,2.4910216,9.215022,2.4910216,27.642292,2.4910216,5.890176,31.78979,23.169374,2.4910216,2.4910216,2.4910216,-17.05929,1.3967602,-26.52774,-17.16443,2.4910216,2.9449537,2.4910216,4.2428136,36.45689,7.599625,2.4910216,2.4910216,11.554665,28.100935,34.11453,2.4910216,2.4910216,2.4910216,27.225044,2.4910216,31.738913,10.593338,2.4910216,16.78043,-10.667022,19.41136,38.49587,2.4910216,7.137721,1.1974709,-16.104935,-1.9590781,7.137721,-3.4363775,2.4910216,-19.13588,2.4910216,2.4910216,-2.014769,-1.1469274,-15.964206,3.1124923,7.2833943,14.900178,1.5949107,2.4910216,25.494287,2.4910216,4.155294,-5.7044706,-20.824772,-28.223625,-9.071045,-9.071045,-10.115111,-20.050707,-3.86173,-1.5928805,-8.371004,-28.226568,19.171873,34.168667,18.195303,33.665394,2.4910216,2.4910216,14.134634,2.4910216,11.711413,2.4910216,2.4910216,29.164589,24.914454,2.4910216,29.366741,15.478944,21.042933,2.4910216,36.400433,2.4910216,2.4910216,38.523808,28.30012,2.4910216,40.930798,28.313257,35.681602,19.537245,27.471975,10.807177,20.156088,10.460052,12.294746,2.4910216,33.737545,2.4910216,2.4910216,14.388897,19.334705,2.4910216,2.4910216,2.4910216,19.768087,2.4910216,19.246485,29.981665,2.4910216,27.602865,2.4910216,2.4910216,8.256046,2.4910216,2.4910216,26.358507,2.4910216,27.311306,2.4910216,17.84123,2.4910216,2.4910216,2.4910216,24.130802,26.225786,2.4910216,20.701523,32.63661,41.874893,2.4910216,18.561739,29.273172,36.118393,30.641457,2.4910216,20.287096,2.4910216,29.029875,30.878784,2.4910216,23.154177,26.560198,28.751593,21.437098,29.571941,2.4910216,-10.870518,-28.812838,34.782635,34.062756,17.670063,41.27894,2.4910216,2.4910216,37.637478,2.4910216,21.240086,23.235233,35.40839,2.4910216,34.69502,23.635374,35.216343,2.4910216,-12.947869,18.565622,36.09615,32.311234,-18.732166,-22.825062,-22.541735,-18.799137,-22.659594,8.82356,14.199966,2.4910216,-27.397358,30.650253,22.12952,2.4910216,2.4910216,-7.1834106,-31.56812,-26.043901,2.4910216,-28.226568,26.668947,-27.280859],\"y\":[16.400988,7.969378,17.730307,-18.866484,0.7211851,0.7211851,-36.016567,-32.453873,0.7211851,0.7211851,-25.296581,0.7211851,0.7211851,-31.337755,0.7211851,0.7211851,0.7211851,0.7211851,0.7211851,-3.6960466,0.7211851,3.682286,-0.4113519,-31.735615,-32.85723,5.3583794,-10.400039,0.7211851,-25.896082,0.7211851,-1.5537708,4.4264007,-17.497444,-17.841991,0.7211851,-19.223572,0.7211851,-9.860001,-4.2537465,-12.001872,0.7211851,-18.36414,-12.392634,-2.626164,0.7211851,-12.572994,-9.94925,0.7211851,-26.198503,0.7211851,-8.987411,-9.772216,0.7211851,-8.756807,2.5365922,-19.640085,-13.86501,-1.0492158,20.936598,25.30995,26.793762,0.7211851,0.7211851,0.7211851,0.7211851,0.7211851,0.7211851,0.7211851,0.7211851,6.6467056,0.7211851,0.7211851,0.7211851,0.7211851,0.7211851,0.7211851,0.7211851,0.7211851,0.7211851,0.7211851,0.7211851,0.7211851,0.7211851,12.111444,13.32757,12.815159,-16.588694,0.7211851,-11.052254,0.7211851,5.6683216,-1.0827687,0.7211851,-19.235798,0.7211851,0.7211851,0.7211851,0.7211851,4.22059,0.7211851,-4.349202,-24.835724,-2.6995323,0.7211851,-26.428686,-6.1270313,30.385908,-32.512363,-33.793575,-0.31201202,13.134101,-0.5779718,-1.4827709,0.7211851,-18.828596,8.497949,20.740324,-2.1293516,-26.109772,-29.228033,0.7211851,-18.763584,0.7211851,0.7211851,-10.226335,0.7211851,0.7211851,-3.199156,0.7211851,-8.984212,-19.340237,-2.703662,0.7211851,0.7211851,-25.869488,0.7211851,-11.115028,-19.262825,-2.2870479,-27.469687,15.369282,0.7211851,0.7211851,10.565145,15.0074215,17.784172,2.799273,3.1245816,7.3964753,-11.374132,6.3899827,0.50562346,14.646247,18.756245,8.150863,16.400988,0.7211851,-34.349346,0.7211851,-17.575455,0.7211851,3.1452076,0.7211851,-19.617289,-4.8912663,-1.7015162,0.7211851,0.7211851,0.7211851,-0.9892917,-10.81852,-11.473402,-2.4295878,0.7211851,-19.469404,0.7211851,1.2308396,8.694453,-4.758902,0.7211851,0.7211851,-40.040203,-27.547472,-18.736078,0.7211851,0.7211851,0.7211851,-8.170819,0.7211851,-14.099417,-23.355654,0.7211851,-25.565289,-4.2537465,-26.97144,1.4459205,0.7211851,-5.7058296,-23.045195,-8.723283,-14.137868,-5.7058296,-8.2063265,0.7211851,-17.86249,0.7211851,0.7211851,-13.3663435,-7.630336,-5.743571,2.0270946,10.0295515,11.020494,-42.349045,0.7211851,7.9026704,0.7211851,-10.971416,0.98402387,-9.390918,-7.8720245,-4.6852965,-4.6852965,-14.8341,-8.749379,-7.156787,14.445851,-34.163628,6.9658136,12.951961,17.460701,33.248547,10.4961,0.7211851,0.7211851,18.148863,0.7211851,18.936491,0.7211851,0.7211851,25.228167,19.90105,0.7211851,-6.5440364,30.957403,5.383795,0.7211851,-2.4296696,0.7211851,0.7211851,-12.701014,-30.36473,0.7211851,2.610086,-6.790191,-10.473316,-21.797512,28.186293,-34.751923,19.899437,7.009841,16.545414,0.7211851,20.63611,0.7211851,0.7211851,35.126434,-35.051964,0.7211851,0.7211851,0.7211851,25.761126,0.7211851,23.82723,-12.211032,0.7211851,-17.248756,0.7211851,0.7211851,-34.7024,0.7211851,0.7211851,12.002274,0.7211851,12.580164,0.7211851,10.57469,0.7211851,0.7211851,0.7211851,-20.082335,-25.27587,0.7211851,18.718548,-20.294127,3.9331746,0.7211851,14.301696,2.3743918,-4.8409934,22.571764,0.7211851,33.858326,0.7211851,-24.177412,1.7618945,0.7211851,20.110567,-0.8432611,17.993986,26.725508,-13.24618,0.7211851,-10.766737,10.565145,7.5214896,6.196301,-32.493134,-7.001752,0.7211851,0.7211851,-9.6893635,0.7211851,20.397852,28.607307,-23.832703,0.7211851,-0.70818895,-14.465243,-13.465281,0.7211851,15.0074215,25.133064,14.892483,7.4003696,8.150863,18.756245,14.646247,0.50562346,6.3899827,25.487467,-38.368065,0.7211851,-11.374132,5.5484424,18.402588,0.7211851,0.7211851,17.784172,2.799273,3.1245816,0.7211851,6.9658136,13.1262665,7.3964753],\"z\":[-7.6931806,-33.055668,-25.588514,-30.378029,0.0035028933,0.0035028933,-19.860956,-6.371645,0.0035028933,0.0035028933,19.708132,0.0035028933,0.0035028933,-26.324738,0.0035028933,0.0035028933,0.0035028933,0.0035028933,0.0035028933,-21.101473,0.0035028933,34.22235,8.318156,-26.413656,18.434515,29.570913,24.201988,0.0035028933,-23.27649,0.0035028933,24.777052,12.586596,-22.89319,30.590899,0.0035028933,-20.937965,0.0035028933,12.544712,-19.717358,-17.278524,0.0035028933,25.444643,-24.831512,16.018366,0.0035028933,-30.203487,28.272835,0.0035028933,-18.6344,0.0035028933,33.51485,-35.938526,0.0035028933,15.990852,-27.309233,-22.980797,-32.59392,4.6653,-19.558495,-10.686232,-25.970102,0.0035028933,0.0035028933,0.0035028933,0.0035028933,0.0035028933,0.0035028933,0.0035028933,0.0035028933,-36.302692,0.0035028933,0.0035028933,0.0035028933,0.0035028933,0.0035028933,0.0035028933,0.0035028933,0.0035028933,0.0035028933,0.0035028933,0.0035028933,0.0035028933,0.0035028933,-26.52786,-2.4498208,1.714834,-38.097023,0.0035028933,-37.156326,0.0035028933,-37.273827,3.6916683,0.0035028933,-31.522535,0.0035028933,0.0035028933,0.0035028933,0.0035028933,-23.338654,0.0035028933,-31.449654,-8.736561,-29.49839,0.0035028933,22.778461,8.61225,-16.525728,-0.96371055,-9.074979,11.880206,6.6267977,-36.823917,26.658594,0.0035028933,-25.857056,-38.177402,18.588793,-38.351295,-32.5774,0.24130963,0.0035028933,4.0692143,0.0035028933,0.0035028933,-26.821152,0.0035028933,0.0035028933,6.924919,0.0035028933,21.649704,-31.11419,28.438917,0.0035028933,0.0035028933,-24.653019,0.0035028933,30.455132,-15.044185,35.939507,-22.004116,-32.864937,0.0035028933,0.0035028933,-2.7280414,-17.29867,-10.654327,3.3278542,-4.466694,10.561861,-11.604732,17.967703,-3.022077,-10.578196,-2.6331406,-22.33008,-7.6931806,0.0035028933,-17.827642,0.0035028933,23.319956,0.0035028933,-29.946646,0.0035028933,31.159996,-27.074902,18.836136,0.0035028933,0.0035028933,0.0035028933,21.308327,19.954445,8.260388,20.707502,0.0035028933,-14.4532175,0.0035028933,-32.81288,10.487052,-39.23459,0.0035028933,0.0035028933,-8.053941,-16.218367,12.635542,0.0035028933,0.0035028933,0.0035028933,-20.656378,0.0035028933,21.282797,-31.471733,0.0035028933,25.467678,-19.717358,-13.612776,16.959425,0.0035028933,-22.82882,23.363018,20.8158,-17.534857,-22.82882,-26.026253,0.0035028933,-15.563588,0.0035028933,0.0035028933,-18.946354,21.417967,-11.921626,23.588667,-29.617683,-26.575037,-10.48243,0.0035028933,-17.073614,0.0035028933,-31.735466,22.25694,14.23391,9.962095,17.866907,17.866907,-13.055349,15.442059,-27.181984,18.118305,-17.551996,-12.096706,-20.222263,11.559763,-4.2722816,-21.061623,0.0035028933,0.0035028933,-31.468962,0.0035028933,22.26535,0.0035028933,0.0035028933,8.952626,2.6583905,0.0035028933,-2.0138276,15.534831,22.04797,0.0035028933,-16.06999,0.0035028933,0.0035028933,-11.228242,9.126185,0.0035028933,-8.71917,-10.200033,-19.911348,-4.1600866,-0.9069056,-16.517195,27.165197,28.696995,31.50907,0.0035028933,-0.093056045,0.0035028933,0.0035028933,-12.051671,7.704524,0.0035028933,0.0035028933,0.0035028933,8.929782,0.0035028933,18.62237,3.8478224,0.0035028933,-2.4877937,0.0035028933,0.0035028933,19.977325,0.0035028933,0.0035028933,15.403919,0.0035028933,-10.699303,0.0035028933,28.037071,0.0035028933,0.0035028933,0.0035028933,-14.435898,-6.850138,0.0035028933,-14.343367,-10.995995,1.4273998,0.0035028933,19.58044,-7.431985,-7.8132005,-10.046741,0.0035028933,6.0313096,0.0035028933,2.3020732,-21.702358,0.0035028933,-6.3541527,-15.32879,-18.362143,-18.332745,-14.276736,0.0035028933,-35.324944,-2.7280414,-4.3242846,-13.545931,17.516436,-0.5562848,0.0035028933,0.0035028933,6.959337,0.0035028933,-25.263496,-9.79089,-3.8239796,0.0035028933,-0.26162755,-8.566668,-3.4420753,0.0035028933,-17.29867,-0.5195166,-9.686182,20.21209,-22.33008,-2.6331406,-10.578196,-3.022077,17.967703,17.075771,0.6352084,0.0035028933,-11.604732,3.630893,11.558573,0.0035028933,0.0035028933,-10.654327,3.3278542,-4.466694,0.0035028933,-12.096706,24.509329,10.561861],\"type\":\"scatter3d\"},{\"customdata\":[[\"GET\"],[\"GET\"],[\"GET\"],[\"GET\"],[\"GET\"],[\"GET\"],[\"GET\"],[\"GET\"],[\"GET\"],[\"GET\"],[\"GET\"],[\"GET\"],[\"GET\"],[\"GET\"],[\"GET\"],[\"GET\"],[\"GET\"],[\"GET\"],[\"GET\"],[\"GET\"],[\"GET\"],[\"GET\"],[\"GET\"],[\"GET\"],[\"GET\"],[\"GET\"],[\"GET\"],[\"GET\"],[\"GET\"],[\"GET\"],[\"GET\"],[\"GET\"],[\"GET\"],[\"GET\"],[\"GET\"],[\"GET\"],[\"GET\"],[\"GET\"],[\"GET\"],[\"GET\"],[\"GET\"],[\"GET\"],[\"GET\"],[\"GET\"],[\"GET\"],[\"GET\"],[\"GET\"],[\"GET\"],[\"GET\"],[\"GET\"],[\"GET\"],[\"GET\"],[\"GET\"],[\"GET\"],[\"GET\"],[\"GET\"],[\"GET\"],[\"GET\"],[\"GET\"],[\"GET\"],[\"GET\"],[\"GET\"],[\"GET\"],[\"GET\"],[\"GET\"],[\"GET\"],[\"GET\"],[\"GET\"],[\"GET\"],[\"GET\"],[\"GET\"],[\"GET\"],[\"GET\"],[\"GET\"],[\"GET\"],[\"GET\"],[\"GET\"],[\"GET\"],[\"GET\"],[\"GET\"],[\"GET\"],[\"GET\"],[\"GET\"],[\"GET\"],[\"GET\"],[\"GET\"],[\"GET\"],[\"GET\"],[\"GET\"],[\"GET\"],[\"GET\"],[\"GET\"],[\"GET\"],[\"GET\"],[\"GET\"],[\"GET\"],[\"GET\"],[\"GET\"],[\"GET\"],[\"GET\"],[\"GET\"],[\"GET\"],[\"GET\"],[\"GET\"],[\"GET\"],[\"GET\"],[\"GET\"],[\"GET\"],[\"GET\"],[\"GET\"],[\"GET\"],[\"GET\"],[\"GET\"],[\"CONNECT\"],[\"GET\"],[\"GET\"],[\"GET\"],[\"GET\"],[\"GET\"],[\"GET\"],[\"GET\"],[\"GET\"],[\"GET\"],[\"GET\"],[\"GET\"],[\"GET\"],[\"GET\"],[\"GET\"],[\"GET\"],[\"GET\"],[\"GET\"],[\"GET\"],[\"GET\"],[\"GET\"],[\"GET\"],[\"GET\"],[\"GET\"],[\"GET\"],[\"GET\"],[\"GET\"],[\"GET\"],[\"GET\"],[\"GET\"],[\"GET\"],[\"GET\"],[\"GET\"],[\"GET\"],[\"GET\"],[\"GET\"],[\"GET\"],[\"GET\"],[\"GET\"],[\"GET\"],[\"GET\"],[\"GET\"],[\"GET\"],[\"GET\"],[\"GET\"],[\"GET\"],[\"GET\"],[\"GET\"],[\"GET\"],[\"GET\"],[\"GET\"],[\"GET\"],[\"GET\"],[\"GET\"],[\"GET\"],[\"GET\"],[\"GET\"],[\"GET\"],[\"GET\"],[\"GET\"],[\"GET\"],[\"GET\"],[\"GET\"],[\"GET\"],[\"GET\"],[\"GET\"],[\"GET\"],[\"GET\"],[\"GET\"],[\"GET\"],[\"GET\"],[\"GET\"],[\"GET\"],[\"GET\"],[\"GET\"],[\"GET\"],[\"GET\"],[\"GET\"],[\"GET\"],[\"GET\"],[\"GET\"],[\"GET\"],[\"GET\"],[\"GET\"],[\"GET\"],[\"GET\"],[\"GET\"],[\"GET\"],[\"GET\"],[\"GET\"],[\"GET\"],[\"GET\"],[\"GET\"],[\"GET\"],[\"GET\"],[\"GET\"],[\"GET\"],[\"GET\"],[\"GET\"],[\"GET\"],[\"GET\"],[\"GET\"],[\"GET\"],[\"GET\"],[\"GET\"],[\"GET\"],[\"GET\"],[\"GET\"],[\"GET\"],[\"GET\"],[\"GET\"],[\"GET\"],[\"GET\"],[\"GET\"],[\"GET\"],[\"GET\"],[\"GET\"],[\"GET\"],[\"GET\"],[\"GET\"],[\"GET\"],[\"GET\"],[\"GET\"],[\"GET\"],[\"GET\"],[\"GET\"],[\"GET\"],[\"GET\"],[\"GET\"],[\"GET\"],[\"GET\"],[\"GET\"],[\"GET\"],[\"GET\"],[\"GET\"],[\"GET\"],[\"GET\"],[\"GET\"],[\"GET\"],[\"GET\"],[\"GET\"],[\"GET\"],[\"GET\"],[\"GET\"],[\"GET\"],[\"GET\"],[\"GET\"],[\"GET\"],[\"GET\"],[\"GET\"],[\"GET\"],[\"GET\"],[\"GET\"],[\"GET\"],[\"GET\"],[\"GET\"],[\"GET\"],[\"GET\"],[\"GET\"],[\"GET\"],[\"GET\"],[\"GET\"],[\"GET\"],[\"GET\"],[\"GET\"],[\"GET\"],[\"GET\"],[\"GET\"],[\"GET\"],[\"GET\"],[\"GET\"],[\"GET\"],[\"GET\"],[\"GET\"],[\"GET\"],[\"GET\"],[\"GET\"],[\"GET\"],[\"GET\"],[\"GET\"],[\"GET\"],[\"GET\"],[\"GET\"],[\"GET\"],[\"GET\"],[\"GET\"],[\"GET\"],[\"GET\"],[\"GET\"],[\"GET\"],[\"GET\"],[\"GET\"],[\"GET\"],[\"GET\"],[\"GET\"],[\"GET\"],[\"GET\"],[\"GET\"],[\"GET\"],[\"GET\"],[\"GET\"],[\"GET\"],[\"GET\"],[\"GET\"],[\"GET\"],[\"GET\"],[\"GET\"],[\"GET\"],[\"GET\"],[\"GET\"],[\"GET\"],[\"GET\"],[\"GET\"],[\"GET\"],[\"GET\"],[\"GET\"],[\"GET\"],[\"GET\"],[\"GET\"],[\"GET\"],[\"GET\"],[\"GET\"],[\"GET\"],[\"GET\"],[\"GET\"],[\"GET\"],[\"GET\"],[\"GET\"],[\"GET\"],[\"GET\"],[\"GET\"],[\"GET\"],[\"GET\"],[\"GET\"],[\"GET\"],[\"GET\"],[\"GET\"],[\"GET\"],[\"GET\"],[\"GET\"],[\"GET\"],[\"GET\"],[\"GET\"],[\"GET\"],[\"GET\"],[\"GET\"],[\"GET\"],[\"GET\"],[\"GET\"],[\"GET\"],[\"GET\"],[\"GET\"],[\"GET\"],[\"GET\"],[\"GET\"],[\"GET\"],[\"GET\"],[\"GET\"],[\"GET\"],[\"GET\"],[\"GET\"],[\"GET\"],[\"GET\"],[\"GET\"],[\"GET\"],[\"GET\"],[\"GET\"],[\"GET\"],[\"GET\"],[\"GET\"],[\"GET\"],[\"GET\"],[\"GET\"],[\"GET\"],[\"GET\"],[\"GET\"],[\"GET\"],[\"GET\"],[\"GET\"],[\"GET\"],[\"GET\"],[\"GET\"],[\"GET\"],[\"GET\"],[\"GET\"],[\"GET\"],[\"GET\"],[\"GET\"],[\"GET\"],[\"GET\"],[\"GET\"],[\"GET\"],[\"GET\"],[\"GET\"],[\"GET\"],[\"GET\"],[\"GET\"],[\"GET\"],[\"GET\"],[\"GET\"],[\"GET\"],[\"GET\"],[\"GET\"],[\"GET\"],[\"GET\"],[\"GET\"],[\"GET\"],[\"GET\"],[\"GET\"],[\"GET\"],[\"GET\"],[\"GET\"],[\"GET\"],[\"GET\"],[\"GET\"],[\"GET\"],[\"GET\"],[\"GET\"],[\"GET\"],[\"GET\"],[\"GET\"],[\"GET\"],[\"GET\"],[\"GET\"],[\"GET\"],[\"GET\"],[\"GET\"],[\"GET\"],[\"GET\"],[\"GET\"],[\"GET\"],[\"GET\"],[\"GET\"],[\"GET\"],[\"GET\"],[\"GET\"],[\"GET\"],[\"GET\"],[\"GET\"],[\"GET\"],[\"GET\"],[\"GET\"],[\"GET\"],[\"GET\"],[\"GET\"],[\"GET\"],[\"GET\"],[\"GET\"],[\"GET\"],[\"GET\"],[\"GET\"],[\"GET\"],[\"GET\"],[\"GET\"],[\"GET\"],[\"GET\"],[\"GET\"],[\"GET\"],[\"GET\"],[\"GET\"],[\"GET\"],[\"GET\"],[\"GET\"],[\"GET\"],[\"GET\"],[\"GET\"],[\"GET\"],[\"GET\"],[\"GET\"],[\"GET\"],[\"GET\"],[\"GET\"],[\"GET\"],[\"GET\"],[\"GET\"],[\"GET\"],[\"GET\"],[\"GET\"],[\"GET\"],[\"GET\"],[\"GET\"],[\"GET\"],[\"GET\"],[\"GET\"],[\"GET\"],[\"GET\"],[\"GET\"],[\"GET\"],[\"GET\"],[\"GET\"],[\"GET\"],[\"GET\"],[\"GET\"],[\"GET\"],[\"GET\"],[\"GET\"],[\"GET\"],[\"GET\"],[\"GET\"],[\"GET\"],[\"GET\"],[\"GET\"],[\"GET\"],[\"GET\"],[\"GET\"],[\"GET\"],[\"GET\"],[\"GET\"],[\"GET\"],[\"GET\"],[\"GET\"],[\"GET\"],[\"GET\"],[\"GET\"],[\"GET\"],[\"GET\"],[\"GET\"],[\"GET\"],[\"GET\"],[\"GET\"],[\"GET\"],[\"GET\"],[\"GET\"],[\"GET\"],[\"GET\"],[\"GET\"],[\"GET\"],[\"GET\"],[\"GET\"],[\"GET\"],[\"GET\"],[\"GET\"],[\"GET\"],[\"GET\"],[\"GET\"],[\"GET\"],[\"GET\"],[\"GET\"],[\"GET\"],[\"GET\"],[\"GET\"],[\"GET\"],[\"GET\"],[\"GET\"],[\"GET\"],[\"GET\"],[\"GET\"],[\"GET\"],[\"GET\"],[\"GET\"],[\"GET\"],[\"GET\"],[\"GET\"],[\"GET\"],[\"GET\"],[\"GET\"],[\"GET\"],[\"GET\"],[\"GET\"],[\"GET\"],[\"GET\"],[\"GET\"],[\"GET\"],[\"GET\"],[\"GET\"],[\"GET\"],[\"GET\"],[\"GET\"],[\"GET\"],[\"GET\"],[\"GET\"],[\"GET\"],[\"GET\"],[\"GET\"],[\"GET\"],[\"GET\"],[\"GET\"],[\"GET\"],[\"GET\"],[\"GET\"],[\"GET\"],[\"GET\"],[\"GET\"],[\"GET\"],[\"GET\"],[\"GET\"],[\"GET\"],[\"GET\"],[\"GET\"],[\"GET\"],[\"GET\"],[\"GET\"],[\"GET\"],[\"GET\"],[\"GET\"],[\"GET\"],[\"GET\"],[\"GET\"],[\"GET\"],[\"GET\"],[\"GET\"],[\"GET\"],[\"GET\"],[\"GET\"],[\"GET\"],[\"GET\"],[\"GET\"],[\"GET\"],[\"GET\"],[\"GET\"],[\"GET\"],[\"GET\"],[\"GET\"],[\"GET\"],[\"GET\"],[\"GET\"],[\"GET\"],[\"GET\"],[\"GET\"],[\"GET\"],[\"GET\"],[\"GET\"],[\"GET\"],[\"GET\"],[\"GET\"],[\"GET\"],[\"GET\"],[\"GET\"],[\"GET\"],[\"GET\"],[\"GET\"],[\"GET\"],[\"GET\"],[\"GET\"],[\"GET\"],[\"GET\"],[\"GET\"],[\"GET\"],[\"GET\"],[\"GET\"],[\"GET\"],[\"GET\"],[\"GET\"],[\"GET\"],[\"GET\"],[\"GET\"],[\"GET\"],[\"GET\"],[\"GET\"],[\"GET\"],[\"GET\"],[\"GET\"],[\"GET\"],[\"GET\"],[\"GET\"],[\"GET\"],[\"GET\"],[\"GET\"],[\"GET\"],[\"GET\"],[\"GET\"],[\"GET\"],[\"GET\"],[\"GET\"],[\"GET\"],[\"GET\"],[\"GET\"],[\"GET\"],[\"GET\"],[\"GET\"],[\"GET\"],[\"GET\"],[\"GET\"],[\"GET\"],[\"GET\"],[\"GET\"],[\"GET\"],[\"GET\"],[\"GET\"],[\"GET\"],[\"GET\"],[\"GET\"],[\"GET\"],[\"GET\"],[\"GET\"],[\"GET\"],[\"GET\"],[\"GET\"],[\"GET\"],[\"GET\"],[\"GET\"],[\"GET\"],[\"GET\"],[\"GET\"],[\"GET\"],[\"GET\"],[\"GET\"],[\"GET\"],[\"GET\"],[\"GET\"],[\"GET\"],[\"GET\"],[\"GET\"],[\"GET\"],[\"GET\"],[\"GET\"],[\"GET\"],[\"GET\"],[\"GET\"],[\"GET\"],[\"GET\"],[\"GET\"],[\"GET\"],[\"GET\"],[\"GET\"],[\"GET\"],[\"GET\"],[\"GET\"],[\"GET\"],[\"GET\"],[\"GET\"],[\"GET\"],[\"GET\"],[\"GET\"],[\"GET\"],[\"GET\"],[\"GET\"],[\"GET\"],[\"GET\"],[\"GET\"],[\"GET\"],[\"GET\"],[\"GET\"],[\"GET\"],[\"GET\"],[\"GET\"],[\"GET\"],[\"GET\"],[\"GET\"],[\"GET\"],[\"GET\"],[\"GET\"],[\"GET\"],[\"GET\"],[\"GET\"],[\"GET\"],[\"GET\"],[\"GET\"],[\"GET\"],[\"GET\"],[\"GET\"],[\"GET\"],[\"GET\"],[\"GET\"],[\"GET\"],[\"GET\"],[\"GET\"],[\"GET\"],[\"GET\"],[\"GET\"],[\"\\u003cscript\\u003ealert(12345)\\u003c\\u002fscript\\u003e\"],[\"GET\"],[\"GET\"],[\"GET\"],[\"GET\"],[\"GET\"],[\"GET\"],[\"GET\"],[\"GET\"],[\"GET\"],[\"GET\"],[\"GET\"],[\"GET\"],[\"GET\"],[\"GET\"],[\"GET\"],[\"GET\"],[\"GET\"],[\"GET\"],[\"GET\"],[\"GET\"],[\"GET\"],[\"GET\"],[\"GET\"],[\"GET\"],[\"GET\"],[\"GET\"],[\"GET\"],[\"GET\"],[\"GET\"],[\"GET\"],[\"GET\"],[\"GET\"],[\"GET\"],[\"GET\"],[\"GET\"],[\"GET\"],[\"GET\"],[\"GET\"],[\"GET\"],[\"GET\"],[\"GET\"],[\"GET\"],[\"GET\"],[\"GET\"],[\"GET\"],[\"GET\"],[\"GET\"],[\"GET\"],[\"GET\"],[\"GET\"],[\"GET\"],[\"GET\"],[\"GET\"],[\"GET\"],[\"GET\"],[\"GET\"],[\"GET\"],[\"GET\"],[\"GET\"],[\"GET\"],[\"GET\"],[\"GET\"],[\"GET\"],[\"GET\"],[\"GET\"],[\"GET\"],[\"GET\"],[\"GET\"],[\"GET\"],[\"GET\"],[\"GET\"],[\"GET\"],[\"GET\"],[\"GET\"],[\"GET\"],[\"GET\"],[\"GET\"],[\"GET\"],[\"GET\"],[\"GET\"],[\"GET\"],[\"GET\"],[\"GET\"],[\"GET\"],[\"GET\"],[\"GET\"],[\"GET\"],[\"GET\"],[\"GET\"],[\"GET\"],[\"GET\"],[\"GET\"],[\"GET\"],[\"GET\"],[\"GET\"],[\"GET\"],[\"GET\"],[\"GET\"],[\"GET\"],[\"GET\"],[\"GET\"],[\"GET\"],[\"GET\"],[\"GET\"],[\"GET\"],[\"GET\"],[\"GET\"],[\"GET\"],[\"GET\"],[\"GET\"],[\"GET\"],[\"GET\"],[\"GET\"],[\"GET\"],[\"GET\"],[\"GET\"],[\"GET\"],[\"GET\"],[\"GET\"],[\"GET\"],[\"GET\"],[\"GET\"],[\"GET\"],[\"GET\"],[\"GET\"],[\"GET\"],[\"GET\"],[\"GET\"],[\"GET\"],[\"GET\"],[\"GET\"],[\"GET\"],[\"GET\"],[\"GET\"],[\"GET\"],[\"GET\"],[\"GET\"],[\"GET\"],[\"GET\"],[\"GET\"],[\"GET\"],[\"GET\"],[\"GET\"],[\"GET\"],[\"GET\"],[\"GET\"],[\"GET\"],[\"GET\"],[\"GET\"],[\"GET\"],[\"GET\"],[\"GET\"],[\"GET\"],[\"GET\"],[\"GET\"],[\"GET\"],[\"GET\"],[\"GET\"],[\"GET\"],[\"GET\"],[\"GET\"],[\"GET\"],[\"GET\"],[\"GET\"],[\"GET\"],[\"GET\"],[\"GET\"],[\"GET\"],[\"GET\"],[\"GET\"],[\"GET\"],[\"GET\"],[\"GET\"],[\"GET\"],[\"GET\"],[\"GET\"],[\"GET\"],[\"GET\"],[\"GET\"],[\"GET\"],[\"GET\"],[\"GET\"],[\"GET\"],[\"GET\"],[\"GET\"],[\"GET\"],[\"GET\"],[\"GET\"],[\"GET\"],[\"GET\"],[\"GET\"],[\"GET\"],[\"GET\"],[\"GET\"],[\"GET\"],[\"GET\"],[\"GET\"],[\"GET\"],[\"GET\"],[\"GET\"],[\"GET\"],[\"GET\"],[\"GET\"],[\"GET\"],[\"GET\"],[\"GET\"],[\"GET\"],[\"GET\"],[\"GET\"],[\"GET\"],[\"GET\"],[\"GET\"],[\"GET\"],[\"GET\"],[\"GET\"],[\"GET\"],[\"GET\"],[\"GET\"],[\"GET\"],[\"GET\"],[\"GET\"],[\"GET\"],[\"GET\"],[\"GET\"],[\"GET\"],[\"GET\"],[\"GET\"],[\"GET\"],[\"GET\"],[\"GET\"],[\"GET\"],[\"GET\"],[\"GET\"],[\"GET\"],[\"GET\"],[\"GET\"],[\"GET\"],[\"GET\"],[\"GET\"],[\"GET\"],[\"GET\"],[\"GET\"],[\"GET\"],[\"GET\"],[\"GET\"],[\"GET\"],[\"GET\"],[\"GET\"],[\"GET\"],[\"GET\"],[\"GET\"],[\"GET\"],[\"GET\"],[\"GET\"],[\"GET\"],[\"GET\"],[\"GET\"],[\"GET\"],[\"GET\"],[\"GET\"],[\"GET\"],[\"GET\"],[\"GET\"],[\"GET\"],[\"GET\"],[\"GET\"],[\"GET\"],[\"GET\"],[\"GET\"],[\"GET\"],[\"GET\"],[\"GET\"],[\"GET\"],[\"GET\"],[\"GET\"],[\"GET\"],[\"GET\"],[\"GET\"],[\"GET\"],[\"GET\"],[\"GET\"],[\"GET\"],[\"GET\"],[\"GET\"],[\"GET\"],[\"GET\"],[\"GET\"],[\"GET\"],[\"GET\"],[\"GET\"],[\"GET\"],[\"GET\"],[\"GET\"],[\"GET\"],[\"GET\"],[\"GET\"],[\"GET\"],[\"GET\"],[\"GET\"],[\"GET\"],[\"GET\"],[\"GET\"],[\"GET\"],[\"GET\"],[\"GET\"],[\"GET\"],[\"GET\"],[\"GET\"],[\"GET\"],[\"GET\"],[\"GET\"],[\"GET\"],[\"GET\"],[\"GET\"],[\"GET\"],[\"GET\"],[\"GET\"],[\"GET\"],[\"GET\"],[\"GET\"],[\"GET\"],[\"GET\"],[\"GET\"],[\"GET\"],[\"GET\"],[\"GET\"],[\"GET\"],[\"GET\"],[\"GET\"],[\"GET\"],[\"GET\"],[\"GET\"],[\"GET\"],[\"GET\"],[\"GET\"],[\"GET\"],[\"GET\"],[\"GET\"],[\"GET\"],[\"GET\"],[\"GET\"],[\"GET\"],[\"GET\"],[\"GET\"],[\"GET\"],[\"GET\"],[\"GET\"],[\"GET\"],[\"GET\"],[\"GET\"],[\"GET\"],[\"GET\"],[\"GET\"],[\"GET\"],[\"GET\"],[\"GET\"],[\"GET\"],[\"GET\"],[\"GET\"],[\"GET\"],[\"GET\"],[\"GET\"],[\"GET\"],[\"GET\"],[\"GET\"],[\"GET\"],[\"GET\"],[\"GET\"],[\"GET\"],[\"GET\"],[\"GET\"],[\"GET\"],[\"GET\"],[\"GET\"],[\"GET\"],[\"GET\"],[\"GET\"],[\"GET\"],[\"GET\"],[\"GET\"],[\"GET\"],[\"GET\"],[\"GET\"],[\"GET\"],[\"GET\"],[\"GET\"],[\"GET\"],[\"GET\"],[\"GET\"],[\"GET\"],[\"GET\"],[\"GET\"],[\"GET\"],[\"GET\"],[\"GET\"],[\"GET\"],[\"GET\"],[\"GET\"],[\"GET\"],[\"GET\"],[\"GET\"],[\"GET\"],[\"GET\"],[\"GET\"],[\"GET\"],[\"GET\"],[\"GET\"],[\"GET\"],[\"GET\"],[\"GET\"],[\"GET\"],[\"GET\"],[\"GET\"],[\"GET\"],[\"GET\"],[\"GET\"],[\"GET\"],[\"GET\"],[\"GET\"],[\"GET\"],[\"GET\"],[\"GET\"],[\"GET\"],[\"GET\"],[\"GET\"],[\"GET\"],[\"GET\"],[\"GET\"],[\"GET\"],[\"GET\"],[\"GET\"],[\"GET\"],[\"GET\"],[\"GET\"],[\"GET\"],[\"GET\"],[\"GET\"],[\"GET\"],[\"GET\"],[\"GET\"],[\"GET\"],[\"GET\"],[\"GET\"],[\"GET\"],[\"GET\"],[\"GET\"],[\"GET\"],[\"GET\"],[\"GET\"],[\"GET\"],[\"GET\"],[\"GET\"],[\"GET\"],[\"GET\"],[\"GET\"],[\"GET\"],[\"GET\"],[\"GET\"],[\"GET\"],[\"GET\"],[\"GET\"],[\"GET\"],[\"GET\"],[\"GET\"],[\"GET\"],[\"GET\"],[\"GET\"],[\"GET\"],[\"GET\"],[\"GET\"],[\"GET\"],[\"GET\"],[\"GET\"],[\"GET\"],[\"GET\"],[\"GET\"],[\"GET\"],[\"GET\"],[\"GET\"],[\"GET\"],[\"GET\"],[\"GET\"],[\"GET\"],[\"GET\"],[\"GET\"],[\"GET\"],[\"GET\"],[\"GET\"],[\"GET\"],[\"GET\"],[\"GET\"],[\"GET\"],[\"GET\"],[\"GET\"],[\"GET\"],[\"GET\"],[\"GET\"],[\"GET\"],[\"GET\"],[\"GET\"],[\"GET\"],[\"GET\"],[\"GET\"],[\"GET\"],[\"GET\"],[\"GET\"],[\"GET\"],[\"GET\"],[\"GET\"],[\"GET\"],[\"GET\"],[\"GET\"],[\"GET\"],[\"GET\"],[\"GET\"],[\"GET\"],[\"GET\"],[\"GET\"],[\"GET\"],[\"GET\"],[\"GET\"],[\"GET\"],[\"GET\"],[\"GET\"],[\"GET\"],[\"GET\"],[\"GET\"],[\"GET\"],[\"GET\"],[\"GET\"],[\"GET\"],[\"GET\"],[\"GET\"],[\"GET\"],[\"GET\"],[\"GET\"],[\"GET\"],[\"GET\"],[\"GET\"],[\"GET\"],[\"GET\"],[\"GET\"],[\"GET\"],[\"GET\"],[\"GET\"],[\"GET\"],[\"GET\"],[\"GET\"],[\"GET\"],[\"GET\"],[\"GET\"],[\"GET\"],[\"GET\"],[\"GET\"],[\"GET\"],[\"GET\"],[\"GET\"],[\"GET\"],[\"GET\"],[\"GET\"],[\"GET\"],[\"GET\"],[\"GET\"],[\"GET\"],[\"GET\"],[\"GET\"],[\"GET\"],[\"GET\"],[\"GET\"],[\"GET\"],[\"GET\"],[\"GET\"],[\"GET\"],[\"GET\"],[\"GET\"],[\"GET\"],[\"GET\"],[\"GET\"],[\"GET\"],[\"GET\"],[\"GET\"],[\"GET\"],[\"GET\"],[\"GET\"],[\"GET\"],[\"GET\"],[\"GET\"],[\"OPTIONS\"],[\"GET\"],[\"GET\"],[\"GET\"],[\"GET\"],[\"GET\"],[\"GET\"],[\"GET\"],[\"GET\"],[\"GET\"],[\"GET\"],[\"GET\"],[\"GET\"],[\"GET\"],[\"GET\"],[\"GET\"],[\"GET\"],[\"GET\"],[\"GET\"],[\"GET\"],[\"GET\"],[\"GET\"],[\"GET\"],[\"GET\"],[\"GET\"],[\"GET\"],[\"GET\"],[\"GET\"],[\"GET\"],[\"GET\"],[\"GET\"],[\"GET\"],[\"GET\"],[\"GET\"],[\"GET\"],[\"GET\"],[\"GET\"],[\"GET\"],[\"GET\"],[\"GET\"],[\"OPTIONS\"],[\"GET\"],[\"GET\"],[\"GET\"],[\"GET\"],[\"GET\"],[\"GET\"],[\"GET\"],[\"GET\"],[\"GET\"],[\"GET\"],[\"GET\"],[\"GET\"],[\"GET\"],[\"GET\"],[\"GET\"],[\"GET\"],[\"GET\"],[\"GET\"],[\"GET\"],[\"GET\"],[\"GET\"],[\"GET\"],[\"GET\"],[\"GET\"],[\"GET\"],[\"GET\"],[\"GET\"],[\"GET\"],[\"GET\"],[\"GET\"],[\"GET\"],[\"GET\"],[\"GET\"],[\"GET\"],[\"GET\"],[\"GET\"],[\"GET\"],[\"GET\"],[\"GET\"],[\"GET\"],[\"GET\"],[\"GET\"],[\"OPTIONS\"],[\"GET\"],[\"GET\"],[\"GET\"],[\"OPTIONS\"],[\"GET\"],[\"GET\"],[\"GET\"],[\"GET\"],[\"GET\"],[\"GET\"],[\"GET\"],[\"GET\"],[\"GET\"],[\"GET\"],[\"GET\"],[\"GET\"],[\"GET\"],[\"GET\"],[\"GET\"],[\"GET\"],[\"GET\"],[\"GET\"],[\"GET\"],[\"GET\"],[\"GET\"],[\"GET\"],[\"GET\"],[\"GET\"],[\"GET\"],[\"GET\"],[\"GET\"],[\"GET\"],[\"GET\"],[\"GET\"],[\"GET\"],[\"GET\"],[\"GET\"],[\"GET\"],[\"GET\"],[\"GET\"],[\"GET\"],[\"GET\"],[\"GET\"],[\"GET\"],[\"GET\"],[\"GET\"],[\"GET\"],[\"GET\"],[\"GET\"],[\"GET\"],[\"GET\"],[\"GET\"],[\"GET\"],[\"GET\"],[\"GET\"],[\"GET\"],[\"GET\"],[\"GET\"],[\"GET\"],[\"GET\"],[\"GET\"],[\"GET\"],[\"GET\"],[\"GET\"],[\"GET\"],[\"GET\"],[\"GET\"],[\"GET\"],[\"GET\"],[\"GET\"],[\"GET\"],[\"GET\"],[\"GET\"],[\"GET\"],[\"GET\"],[\"GET\"],[\"GET\"],[\"GET\"],[\"GET\"],[\"GET\"],[\"GET\"],[\"GET\"],[\"GET\"],[\"GET\"],[\"GET\"],[\"GET\"],[\"GET\"],[\"GET\"],[\"GET\"],[\"GET\"],[\"GET\"],[\"GET\"],[\"GET\"],[\"GET\"],[\"GET\"],[\"GET\"],[\"GET\"],[\"GET\"],[\"GET\"],[\"GET\"],[\"GET\"],[\"GET\"],[\"GET\"],[\"GET\"],[\"GET\"],[\"GET\"],[\"GET\"],[\"GET\"],[\"GET\"],[\"GET\"],[\"GET\"],[\"GET\"],[\"GET\"],[\"GET\"],[\"GET\"],[\"GET\"],[\"GET\"],[\"GET\"],[\"GET\"],[\"GET\"],[\"GET\"],[\"GET\"],[\"GET\"],[\"GET\"],[\"GET\"],[\"GET\"],[\"GET\"],[\"GET\"],[\"GET\"],[\"GET\"],[\"GET\"],[\"GET\"],[\"GET\"],[\"GET\"],[\"GET\"],[\"GET\"],[\"GET\"],[\"GET\"],[\"GET\"],[\"GET\"],[\"GET\"],[\"GET\"],[\"GET\"],[\"GET\"],[\"GET\"],[\"GET\"],[\"GET\"],[\"GET\"],[\"GET\"],[\"GET\"],[\"GET\"],[\"GET\"],[\"GET\"],[\"GET\"],[\"GET\"],[\"GET\"],[\"GET\"],[\"GET\"],[\"GET\"],[\"GET\"],[\"GET\"],[\"GET\"],[\"GET\"],[\"GET\"],[\"GET\"],[\"GET\"],[\"GET\"],[\"GET\"],[\"GET\"],[\"GET\"],[\"GET\"],[\"GET\"],[\"GET\"],[\"GET\"],[\"GET\"],[\"GET\"],[\"GET\"],[\"GET\"],[\"GET\"],[\"GET\"],[\"GET\"],[\"GET\"],[\"GET\"],[\"GET\"],[\"GET\"],[\"GET\"],[\"GET\"],[\"GET\"],[\"GET\"],[\"GET\"],[\"GET\"],[\"GET\"],[\"GET\"],[\"GET\"],[\"GET\"],[\"GET\"],[\"GET\"],[\"GET\"],[\"GET\"],[\"GET\"],[\"GET\"],[\"GET\"],[\"GET\"],[\"GET\"],[\"GET\"],[\"GET\"],[\"GET\"],[\"GET\"],[\"GET\"],[\"GET\"],[\"GET\"],[\"GET\"],[\"GET\"],[\"GET\"],[\"GET\"],[\"GET\"],[\"GET\"],[\"GET\"],[\"GET\"],[\"GET\"],[\"GET\"],[\"GET\"],[\"GET\"],[\"GET\"],[\"GET\"],[\"GET\"],[\"GET\"],[\"GET\"],[\"GET\"],[\"GET\"],[\"GET\"],[\"GET\"],[\"GET\"],[\"GET\"],[\"GET\"],[\"GET\"],[\"GET\"],[\"GET\"],[\"GET\"],[\"GET\"],[\"GET\"],[\"GET\"],[\"GET\"],[\"GET\"],[\"GET\"],[\"GET\"],[\"GET\"],[\"GET\"],[\"GET\"],[\"GET\"],[\"GET\"],[\"GET\"],[\"GET\"],[\"GET\"],[\"GET\"],[\"GET\"],[\"GET\"],[\"GET\"],[\"GET\"],[\"GET\"],[\"GET\"],[\"GET\"],[\"GET\"],[\"GET\"],[\"GET\"],[\"GET\"],[\"GET\"],[\"GET\"],[\"GET\"],[\"GET\"],[\"GET\"],[\"GET\"],[\"GET\"],[\"GET\"],[\"GET\"],[\"GET\"],[\"GET\"],[\"GET\"],[\"GET\"],[\"GET\"],[\"GET\"],[\"GET\"],[\"GET\"],[\"GET\"],[\"GET\"],[\"GET\"],[\"GET\"],[\"GET\"],[\"GET\"],[\"GET\"],[\"GET\"],[\"GET\"],[\"GET\"],[\"GET\"],[\"GET\"],[\"GET\"],[\"GET\"],[\"GET\"],[\"GET\"],[\"GET\"],[\"GET\"],[\"GET\"],[\"GET\"],[\"GET\"],[\"GET\"],[\"GET\"],[\"GET\"],[\"GET\"],[\"GET\"],[\"GET\"],[\"GET\"],[\"GET\"],[\"GET\"],[\"GET\"],[\"GET\"],[\"GET\"],[\"GET\"],[\"GET\"],[\"GET\"],[\"GET\"],[\"OPTIONS\"],[\"GET\"],[\"GET\"],[\"GET\"],[\"GET\"],[\"GET\"],[\"GET\"],[\"GET\"],[\"GET\"],[\"GET\"],[\"GET\"],[\"GET\"],[\"GET\"],[\"GET\"],[\"GET\"],[\"GET\"],[\"GET\"],[\"GET\"],[\"GET\"],[\"GET\"],[\"GET\"],[\"GET\"],[\"GET\"],[\"GET\"],[\"GET\"],[\"GET\"],[\"GET\"],[\"GET\"],[\"GET\"],[\"GET\"],[\"GET\"],[\"GET\"],[\"GET\"],[\"GET\"],[\"GET\"],[\"GET\"],[\"GET\"],[\"GET\"],[\"GET\"],[\"GET\"],[\"GET\"],[\"GET\"],[\"GET\"],[\"GET\"],[\"GET\"],[\"GET\"],[\"GET\"],[\"GET\"],[\"GET\"],[\"GET\"],[\"GET\"],[\"GET\"],[\"GET\"],[\"GET\"],[\"GET\"],[\"GET\"],[\"GET\"],[\"GET\"],[\"GET\"],[\"GET\"],[\"GET\"],[\"GET\"],[\"GET\"],[\"GET\"],[\"GET\"],[\"GET\"],[\"GET\"],[\"GET\"],[\"GET\"],[\"GET\"],[\"GET\"],[\"GET\"],[\"GET\"],[\"GET\"],[\"GET\"],[\"GET\"],[\"GET\"],[\"GET\"],[\"GET\"],[\"GET\"],[\"GET\"],[\"GET\"],[\"GET\"],[\"GET\"],[\"GET\"],[\"GET\"],[\"GET\"],[\"GET\"],[\"GET\"],[\"GET\"],[\"GET\"],[\"GET\"],[\"GET\"],[\"GET\"],[\"GET\"],[\"GET\"],[\"GET\"],[\"GET\"],[\"GET\"],[\"GET\"],[\"GET\"],[\"GET\"],[\"GET\"],[\"GET\"],[\"GET\"],[\"GET\"],[\"GET\"],[\"GET\"],[\"GET\"],[\"GET\"],[\"GET\"],[\"GET\"],[\"GET\"],[\"GET\"],[\"GET\"],[\"GET\"],[\"GET\"],[\"GET\"],[\"GET\"],[\"GET\"],[\"GET\"],[\"GET\"],[\"GET\"],[\"GET\"],[\"GET\"],[\"GET\"],[\"GET\"],[\"GET\"],[\"GET\"],[\"GET\"],[\"GET\"],[\"GET\"],[\"GET\"],[\"GET\"],[\"GET\"],[\"GET\"],[\"GET\"],[\"GET\"],[\"GET\"],[\"GET\"],[\"GET\"],[\"GET\"],[\"GET\"],[\"GET\"],[\"GET\"],[\"GET\"],[\"GET\"],[\"GET\"],[\"GET\"],[\"GET\"],[\"GET\"],[\"GET\"],[\"GET\"],[\"GET\"],[\"GET\"],[\"GET\"],[\"GET\"],[\"GET\"],[\"GET\"],[\"GET\"],[\"GET\"],[\"GET\"],[\"GET\"],[\"GET\"],[\"GET\"],[\"GET\"],[\"GET\"],[\"OPTIONS\"],[\"GET\"],[\"GET\"],[\"GET\"],[\"GET\"],[\"GET\"],[\"GET\"],[\"GET\"],[\"GET\"],[\"GET\"],[\"GET\"],[\"GET\"],[\"GET\"],[\"GET\"],[\"GET\"],[\"GET\"],[\"GET\"],[\"GET\"],[\"GET\"],[\"GET\"],[\"GET\"],[\"GET\"],[\"GET\"],[\"GET\"],[\"GET\"],[\"GET\"],[\"GET\"],[\"GET\"],[\"GET\"],[\"GET\"],[\"GET\"],[\"GET\"],[\"GET\"],[\"GET\"],[\"GET\"],[\"GET\"],[\"GET\"],[\"GET\"],[\"GET\"],[\"GET\"],[\"GET\"],[\"GET\"],[\"GET\"],[\"GET\"],[\"GET\"],[\"GET\"],[\"GET\"],[\"GET\"],[\"GET\"],[\"GET\"],[\"GET\"],[\"GET\"],[\"GET\"],[\"GET\"],[\"GET\"]],\"hovertemplate\":\"Cluster=Cluster 1\\u003cbr\\u003e0=%{x}\\u003cbr\\u003e1=%{y}\\u003cbr\\u003e2=%{z}\\u003cbr\\u003eFeature=%{customdata[0]}\\u003cextra\\u003e\\u003c\\u002fextra\\u003e\",\"legendgroup\":\"Cluster 1\",\"marker\":{\"color\":\"#EF553B\",\"opacity\":0.7,\"symbol\":\"circle\"},\"mode\":\"markers\",\"name\":\"Cluster 1\",\"scene\":\"scene\",\"showlegend\":true,\"x\":[-9.840921,2.4910216,2.4910216,2.4910216,3.909115,2.4910216,2.4910216,2.4910216,2.4910216,2.4910216,2.4910216,2.4910216,6.0289474,-5.1795583,2.0747182,2.2415152,2.4910216,2.4910216,2.4910216,2.4910216,2.4910216,19.212132,2.4910216,19.212132,2.4910216,2.4910216,2.4910216,2.4910216,2.4910216,2.4910216,2.4910216,2.4910216,2.4910216,2.4910216,2.4910216,2.4910216,2.4910216,2.4910216,2.4910216,2.4910216,2.4910216,2.4910216,2.4910216,2.4910216,2.4910216,2.4910216,2.4910216,2.4910216,2.4910216,2.4910216,2.4910216,2.4910216,2.4910216,2.4910216,2.4910216,2.4910216,2.4910216,2.4910216,2.4910216,2.4910216,-9.840921,2.4910216,2.4910216,2.4910216,2.4910216,2.4910216,2.4910216,2.4910216,2.4910216,2.4910216,2.4910216,2.4910216,2.4910216,2.4910216,2.4910216,2.4910216,2.4910216,2.4910216,2.4910216,2.4910216,2.4910216,2.4910216,2.4910216,2.4910216,2.4910216,5.9425597,2.4910216,-2.7726905,2.4910216,2.4910216,-13.31043,2.4910216,-18.270828,2.4910216,2.4910216,2.4910216,2.4910216,-0.1254732,2.4910216,-16.725588,2.750171,2.4910216,2.4910216,2.4910216,2.4910216,2.4910216,2.4910216,2.4910216,2.4910216,2.4910216,2.4910216,2.4910216,2.4910216,1.5111154,-7.7767024,2.4910216,3.3695412,2.4910216,2.4910216,2.4910216,2.4910216,2.4910216,2.4910216,2.4910216,2.4910216,2.4910216,2.4910216,2.4910216,2.4910216,2.4910216,2.4910216,2.4910216,2.4910216,-18.270828,2.4910216,2.4910216,2.4910216,2.4910216,2.4910216,2.4910216,2.4910216,2.750171,-18.270828,2.4910216,2.4910216,2.4910216,2.4910216,2.4910216,2.4910216,5.9425597,2.750171,2.2415152,19.212132,19.212132,2.750171,2.750171,2.4910216,-13.31043,2.4910216,2.4910216,6.0289474,2.4910216,2.4910216,2.4910216,2.4910216,2.4910216,2.4910216,2.4910216,2.4910216,2.4910216,2.4910216,2.4910216,2.4910216,2.4910216,2.4910216,2.4910216,2.4910216,2.4910216,2.4910216,2.4910216,2.4910216,2.4910216,2.4910216,2.4910216,2.4910216,2.4910216,2.4910216,2.4910216,2.4910216,2.4910216,2.4910216,2.4910216,2.4910216,2.4910216,2.4910216,-27.519926,2.4910216,2.4910216,2.4910216,2.4910216,2.4910216,2.4910216,2.4910216,2.4910216,2.4910216,2.4910216,-18.270828,-18.20209,-9.840921,2.4910216,2.4910216,2.4910216,2.4910216,2.4910216,2.4910216,2.4910216,2.4910216,2.4910216,2.4910216,2.4910216,2.4910216,2.4910216,-9.840921,2.4910216,2.4910216,2.4910216,2.4910216,2.4910216,2.4910216,2.4910216,2.4910216,2.4910216,-2.385509,2.4910216,2.4910216,2.4910216,2.4910216,2.4910216,2.4910216,2.4910216,2.4910216,2.4910216,2.4910216,2.4910216,2.4910216,2.4910216,2.4910216,2.4910216,2.4910216,2.4910216,2.4910216,2.4910216,2.4910216,2.4910216,-5.2596087,-5.2596087,-11.232685,-2.7726905,-2.7726905,2.4910216,2.4910216,2.4910216,2.4910216,5.9425597,-5.2596087,-13.31043,6.0289474,-7.776523,-5.2596087,19.212132,19.212132,5.691206,-13.31043,-2.7726905,2.4910216,2.4910216,2.4910216,5.9425597,-13.31043,2.4910216,6.0289474,2.2415152,2.2415152,2.4910216,-17.292574,3.909115,7.3195047,2.4910216,2.4910216,2.4910216,2.4910216,2.4910216,2.4910216,2.4910216,2.4910216,2.4910216,-18.20209,2.4910216,2.4910216,-17.292574,2.4910216,2.4910216,-17.338427,2.4910216,-18.270828,-2.7726905,7.6762824,5.9425597,-5.2596087,2.4910216,2.4910216,2.4910216,2.4910216,-15.354326,2.4910216,2.4910216,2.4910216,2.4910216,2.4910216,2.4910216,-18.270828,2.4910216,-18.270828,2.4910216,2.4910216,2.4910216,2.4910216,2.4910216,2.4910216,2.4910216,2.4910216,-18.948427,2.4910216,2.4910216,2.4910216,2.4910216,-18.270828,2.4910216,2.4910216,2.4910216,2.4910216,-18.270828,-8.905823,2.4910216,2.4910216,2.4910216,-18.20209,2.4910216,-5.2596087,2.4910216,2.4910216,2.4910216,2.4910216,2.4910216,2.4910216,2.4910216,2.4910216,2.4910216,2.4910216,2.4910216,2.4910216,-5.2550745,2.4910216,2.4910216,2.4910216,2.4910216,2.4910216,2.4910216,2.4910216,2.4910216,2.4910216,-9.840921,2.4910216,2.4910216,2.4910216,-8.845128,2.4910216,2.4910216,2.4910216,2.4910216,2.4910216,2.4910216,2.4910216,2.4910216,2.4910216,2.4910216,2.4910216,2.4910216,2.4910216,2.4910216,2.4910216,2.4910216,2.4910216,2.4910216,2.4910216,7.3195047,2.4910216,-5.1795583,2.4910216,2.4910216,2.4910216,-18.270828,-5.1795583,-17.338427,2.4910216,-8.845128,2.4910216,2.4910216,2.4910216,2.4910216,2.4910216,2.4910216,2.4910216,2.4910216,2.4910216,2.4910216,2.4910216,2.4910216,2.4910216,2.4910216,-18.270828,2.4910216,2.4910216,2.4910216,2.4910216,2.4910216,-5.2596087,2.4910216,2.4910216,2.4910216,2.4910216,2.4910216,2.4910216,2.4910216,2.4910216,2.4910216,2.4910216,2.4910216,2.4910216,2.4910216,2.4910216,2.4910216,5.7876883,2.4910216,2.4910216,2.4910216,2.4910216,2.4910216,-11.743857,2.4910216,2.4910216,2.4910216,2.4910216,-17.176228,-25.966661,2.4910216,2.4910216,-20.292835,2.4910216,2.4910216,2.4910216,2.4910216,-9.840921,2.4910216,2.4910216,-5.1795583,-18.270828,-18.270828,2.4910216,2.4910216,2.4910216,2.4910216,2.4910216,2.4910216,2.4910216,2.4910216,2.4910216,2.4910216,2.4910216,2.4910216,2.4910216,2.4910216,2.4910216,2.4910216,2.4910216,-6.2042575,2.4910216,-5.1795583,2.4910216,-23.831175,2.4910216,2.4910216,-1.4468234,2.4910216,2.4910216,2.4910216,2.4910216,-3.2724302,2.4910216,2.4910216,2.4910216,2.4910216,2.4910216,2.4910216,-34.000137,2.4910216,2.4910216,2.4910216,-18.270828,2.4910216,2.4910216,2.4910216,2.4910216,2.4910216,2.4910216,2.4910216,2.4910216,-18.270828,2.4910216,2.4910216,-5.1795583,2.4910216,2.4910216,2.4910216,2.4910216,2.4910216,2.4910216,2.4910216,2.4910216,5.9425597,-13.31043,2.4910216,2.4910216,2.4910216,2.4910216,2.4910216,6.0289474,-2.7726905,-12.922007,2.4910216,-8.677059,2.4910216,2.4910216,-0.30096707,2.4910216,2.4910216,2.4910216,2.4910216,-5.1795583,2.4910216,2.4910216,-5.1795583,2.4910216,2.4910216,2.4910216,2.4910216,2.4910216,-5.1795583,2.4910216,2.4910216,2.4910216,2.4910216,2.4910216,2.4910216,-5.1795583,2.4910216,2.4910216,2.4910216,2.4910216,2.4910216,2.4910216,-15.985041,-12.922007,2.4910216,2.4910216,2.4910216,2.4910216,-9.840921,-18.948427,-18.948427,-12.922007,2.4910216,2.1091595,2.4910216,2.4910216,2.4910216,2.4910216,2.4910216,-10.180644,-18.948427,-18.948427,-18.948427,2.4910216,-22.918547,7.8766055,2.4910216,-16.724812,2.4910216,2.4910216,-18.948427,-16.724812,-9.840921,2.4910216,2.4910216,2.4910216,-4.880211,-4.880211,-9.840921,-25.438496,2.4910216,-5.1795583,-5.1795583,-3.6352897,-9.840921,-12.922007,-9.840921,-5.1795583,2.4910216,-13.471607,-6.2042575,-3.6352897,-6.2042575,-3.6352897,-3.6352897,-5.1795583,2.4910216,2.4910216,2.4910216,-22.457304,2.4910216,2.4910216,2.4910216,2.4910216,-25.438496,2.4910216,-5.1795583,-9.840921,2.4910216,-35.6607,2.4910216,2.4910216,2.4910216,2.4910216,3.9437044,2.4910216,2.4910216,2.4910216,2.4910216,-24.714302,2.4910216,2.4910216,2.4910216,2.4910216,2.4910216,-9.840921,-18.948427,-18.948427,-16.724812,2.4910216,2.4910216,2.4910216,2.4910216,2.4910216,-16.729357,2.4910216,2.4910216,-12.922007,-27.966648,2.4910216,2.4910216,2.4910216,2.4910216,-8.677059,-6.2042575,2.4910216,-8.677059,-9.840921,-18.948427,-5.1795583,-9.840921,-9.840921,2.4910216,2.4910216,-9.798782,2.4910216,2.4910216,-9.840921,-9.840921,-6.2042575,2.4910216,-9.840921,2.4910216,2.4910216,-9.840921,1.4321827,2.4910216,-3.759869,2.4910216,2.4910216,2.4910216,-1.970567,-5.1795583,2.4910216,2.4910216,2.4910216,2.4910216,2.4910216,-9.840921,-2.3327568,-1.0678747,2.4910216,-18.948427,2.4910216,2.4910216,2.4910216,2.4910216,2.4910216,2.4910216,2.4910216,2.4910216,2.4910216,2.4910216,2.4910216,2.4910216,2.4910216,2.4910216,-1.0678747,2.4910216,-2.3327568,2.4910216,2.4910216,2.4910216,2.4910216,2.4910216,2.4910216,2.4910216,2.4910216,2.4910216,2.4910216,2.4910216,2.4910216,2.4910216,2.4910216,2.4910216,2.4910216,2.4910216,2.4910216,2.4910216,2.4910216,2.4910216,2.4910216,2.4910216,-16.49382,2.4910216,2.4910216,2.4910216,2.4910216,2.4910216,2.4910216,2.4910216,-36.739338,2.4910216,2.4910216,2.4910216,2.4910216,2.4910216,2.4910216,2.4910216,-5.1795583,7.6762824,2.4910216,-9.840921,2.4910216,-11.869537,-9.840921,-1.0678747,-9.840921,2.4910216,2.4910216,2.4910216,2.4910216,2.4910216,2.4910216,2.4910216,2.4910216,2.4910216,2.4910216,2.4910216,2.4910216,2.4910216,2.4910216,2.4910216,2.4910216,-9.840921,-1.0678747,2.4910216,2.4910216,2.4910216,-18.270828,2.4910216,2.4910216,-1.0678747,2.4910216,2.4910216,0.102050796,2.4910216,2.4910216,2.4910216,2.4910216,2.4910216,2.4910216,2.4910216,2.4910216,2.4910216,2.4910216,2.4910216,-13.519806,2.4910216,2.4910216,2.4910216,-9.840921,2.4910216,2.4910216,2.4910216,-9.840921,2.5322907,2.4910216,2.4910216,2.4910216,2.4910216,2.4910216,2.4910216,2.4910216,2.4910216,2.4910216,2.4910216,2.4910216,2.4910216,2.4910216,2.4910216,2.4910216,2.4910216,2.4910216,2.4910216,2.4910216,2.4910216,-5.1795583,2.4910216,2.4910216,-5.1795583,2.4910216,2.4910216,2.4910216,2.4910216,2.4910216,2.4910216,2.4910216,2.4910216,2.4910216,2.4910216,2.4910216,2.2415152,2.4910216,2.4910216,2.4910216,-9.840921,-9.840921,2.4910216,2.4910216,2.4910216,2.4910216,2.4910216,2.4910216,2.4910216,2.4910216,-1.0678747,2.4910216,2.4910216,2.4910216,2.4910216,2.4910216,2.4910216,-18.948427,2.4910216,2.4910216,2.4910216,2.4910216,2.4910216,2.4910216,2.4910216,2.4910216,2.4910216,2.4910216,2.4910216,2.4910216,2.4910216,2.4910216,2.4910216,2.4910216,2.4910216,2.4910216,2.4910216,-18.948427,2.4910216,2.4910216,2.4910216,2.4910216,2.4910216,-2.3327568,2.4910216,2.4910216,2.4910216,2.4910216,2.4910216,2.4910216,2.4910216,2.4910216,-13.519806,2.4910216,2.4910216,2.4910216,2.4910216,2.4910216,2.4910216,2.4910216,2.4910216,2.4910216,2.4910216,2.4910216,2.4910216,2.4910216,-5.1795583,2.4910216,2.4910216,2.4910216,2.4910216,2.4910216,2.4910216,2.4910216,2.4910216,2.4910216,2.4910216,2.4910216,2.4910216,-5.1795583,2.4910216,2.4910216,2.4910216,2.4910216,2.4910216,2.4910216,2.4910216,2.4910216,2.4910216,-9.840921,-13.31043,3.909115,2.4910216,2.4910216,2.4910216,-9.840921,2.4910216,2.4910216,2.4910216,2.4910216,2.4910216,2.4910216,2.4910216,2.4910216,2.4910216,2.4910216,2.4910216,2.4910216,-9.840921,-12.922007,2.4910216,2.4910216,-8.677059,2.4910216,2.4910216,-23.421719,2.4910216,-8.677059,-2.5100474,2.4910216,-18.948427,2.4910216,2.4910216,-27.53463,2.4910216,2.4910216,-16.724812,2.4910216,2.4910216,2.4910216,-22.918547,2.4910216,2.4910216,2.4910216,2.4910216,2.4910216,-33.886868,-19.817905,2.4910216,2.4910216,2.4910216,2.4910216,2.4910216,-16.724812,-26.590122,-4.574447,-37.93755,-5.2596087,2.4910216,-28.106026,-42.25413,2.4910216,-34.9133,-18.948427,2.4910216,2.4910216,2.4910216,2.4910216,2.4910216,2.4910216,2.4910216,2.4910216,2.4910216,2.4910216,2.4910216,2.4910216,2.4910216,2.4910216,2.4910216,2.4910216,2.4910216,2.4910216,2.4910216,2.4910216,2.4910216,-42.01156,2.4910216,2.4910216,2.4910216,2.4910216,2.4910216,2.4910216,2.4910216,2.4910216,2.4910216,2.4910216,2.4910216,2.4910216,-16.352026,-32.241776,4.994038,-19.350727,2.4910216,2.4910216,-19.265068,2.4910216,2.4910216,2.4910216,-13.501217,-18.948427,2.4910216,2.4910216,2.4910216,2.4910216,2.4910216,-18.948427,2.4910216,2.4910216,2.4910216,2.4910216,2.4910216,2.4910216,-18.948427,-18.948427,2.4910216,2.4910216,-18.948427,2.4910216,2.4910216,2.4910216,2.4910216,-18.948427,2.4910216,2.4910216,2.4910216,2.4910216,2.4910216,2.4910216,2.4910216,2.4910216,2.4910216,2.4910216,2.4910216,2.4910216,2.4910216,2.4910216,2.4910216,2.4910216,2.4910216,2.4910216,2.4910216,2.4910216,2.4910216,2.4910216,2.4910216,2.4910216,2.4910216,2.4910216,2.4910216,2.4910216,2.4910216,2.4910216,2.4910216,2.4910216,2.4910216,2.4910216,2.4910216,2.4910216,2.4910216,2.4910216,2.4910216,2.4910216,2.4910216,2.4910216,2.4910216,2.4910216,2.4910216,2.4910216,2.4910216,2.4910216,2.4910216,2.4910216,2.4910216,2.4910216,2.4910216,2.4910216,2.4910216,2.4910216,2.4910216,2.4910216,2.4910216,2.4910216,2.4910216,-5.2596087,2.4910216,2.4910216,-42.834347,2.4910216,2.4910216,2.4910216,2.4910216,-9.840921,-14.997932,-12.764231,2.4910216,2.4910216,-36.345005,2.4910216,2.4910216,-31.107447,2.4910216,-30.89083,2.4910216,2.4910216,2.4910216,2.4910216,2.4910216,-9.840921,-30.89083,-12.922007,2.4910216,2.4910216,2.4910216,2.4910216,2.4910216,2.4910216,-5.2596087,2.4910216,2.4910216,-27.650795,-5.2596087,2.4910216,-29.406847,-24.403467,2.4910216,-5.2596087,2.4910216,2.4910216,2.4910216,-28.853058,2.4910216,2.4910216,2.4910216,2.4910216,-19.040653,2.4910216,2.4910216,-5.2596087,2.4910216,2.4910216,2.4910216,2.4910216,2.4910216,2.4910216,2.4910216,-12.447824,2.4910216,2.4910216,-18.396152,2.4910216,2.4910216,2.4910216,2.4910216,2.4910216,2.4910216,2.4910216,2.4910216,2.4910216,2.4910216,2.4910216,-40.607872,-12.24723,2.4910216,2.4910216,2.4910216,2.4910216,1.8537521,2.4910216,-27.535917,2.4910216,2.4910216,2.4910216,-12.24723,6.5090737,-16.729357,-39.659786,2.4910216,2.4910216,2.4910216,-5.2596087,2.4910216,2.4910216,2.4910216,2.4910216,2.4910216,2.4910216,-35.91485,-29.331755,2.4910216,2.4910216,2.4910216,-30.889217,2.4910216,2.4910216,2.4910216,2.4910216,2.4910216,2.4910216,2.4910216,2.4910216,2.4910216,2.4910216,2.4910216,2.4910216,2.4910216,2.4910216,2.4910216,2.4910216,2.4910216,-3.6352897,2.4910216,2.4910216,2.4910216,2.4910216,2.4910216,2.4910216,-37.817722,2.4910216,-3.6352897,2.4910216,2.4910216,2.4910216,2.4910216,2.4910216,-32.704437,2.4910216,2.4910216,2.4910216,2.4910216,2.4910216,2.4910216,2.4910216,7.3540893,2.4910216,2.4910216,-0.6089422,2.4910216,2.4910216,-5.4758315,2.4910216,2.4910216,2.4910216,2.4910216,2.4910216,2.4910216,-7.45508,-21.13293,2.4910216,2.4910216,-12.922007,2.4910216,-36.06576,5.04812,2.4910216,2.4910216,-35.23218,2.4910216,2.4910216,2.4910216,-31.031286,2.4910216,2.4910216,-40.689903,2.4910216,2.4910216,2.4910216,2.4910216,-25.78475,2.4910216,2.4910216,2.4910216,2.4910216,2.4910216,2.4910216,2.4910216,-5.884228,2.4910216,2.4910216,2.4910216,2.4910216,-33.075256,2.4910216,2.4910216,2.4910216,-37.568405,2.4910216,2.4910216,2.4910216,2.4910216,2.4910216,2.4910216,2.4910216,2.4910216,-19.953531,2.4910216,2.4910216,-13.134417,2.4910216,2.4910216,2.4910216,2.4910216,-32.85047,-15.093797,2.4910216,2.4910216,2.4910216,2.4910216,2.4910216,2.4910216,-9.840921,2.4910216,2.4910216,-5.2596087,2.4910216,2.4910216,2.4910216,2.4910216,2.4910216,2.4910216,2.4910216,2.4910216,2.4910216,2.4910216,-24.78924,-18.044508,2.4910216,2.4910216,2.4910216,2.4910216,2.4910216,2.4910216,9.2275505,2.4910216,-28.34566,-26.505838,2.4910216,-13.523014,-34.017143,-21.522663,2.4910216,2.4910216,2.4910216,2.4910216,-40.066673,2.4910216,2.4910216,2.4910216,2.4910216,2.4910216,2.4910216,-32.894726,2.4910216,2.4910216,2.4910216,3.220342,-12.922007,2.4910216,-21.042875,2.4910216,2.4910216,2.4910216,2.4910216,-40.534016,2.4910216,-34.344254,2.4910216,2.4910216,2.4910216,2.4910216,2.4910216,2.4910216,0.83854866,-19.148891,2.4910216,-19.953531,2.4910216,2.4910216,2.4910216,-24.78924,-1.1675617,-11.627187,2.4910216,-19.14806,-11.986378,2.4910216,2.4910216,2.4910216,2.4910216,2.4910216,2.4910216,2.4910216,2.4910216,2.4910216,-14.995719,2.4910216,2.4910216,2.4910216,2.4910216,-18.948427,2.4910216,-9.840921,2.4910216,-37.867706,-38.969906,2.4910216,-9.840921,2.4910216,2.4910216,19.212132,-5.2596087,-2.7726905,2.4910216,2.4910216,2.4910216,5.9425597,-10.272417,2.4910216,6.0289474,-5.2596087,2.2415152,19.212132,19.212132,19.212132,2.4910216,2.4910216,2.4910216,2.4910216,2.4910216,2.4910216,2.4910216,2.4910216,2.4910216,2.4910216,2.4910216,2.4910216,2.4910216,-5.2596087,2.4910216,-5.2596087,-11.797158,6.0289474,-5.2596087,2.2415152,19.212132,19.212132,-5.2596087,-2.7726905,-18.270828,-12.922007,2.4910216,2.4910216,2.4910216,2.4910216,2.2415152,-10.238418,-5.2596087,6.0289474,-5.2596087,2.2415152,19.212132,19.212132,-5.2596087,-2.7726905,2.4910216,2.4910216,2.4910216,2.4910216,5.9425597,5.9425597,2.4910216,2.4910216,2.4910216,2.4910216,2.4910216,2.4910216,2.4910216,2.4910216,2.4910216,2.4910216,-25.08905,2.4910216,2.4910216,-25.08905,2.4910216,2.4910216,2.4910216,-2.7726905,-13.166222,5.9425597,2.4910216,2.4910216,2.4910216,2.4910216,-28.620152,-5.2596087,-17.292574,-7.776523,-17.292574,-5.2596087,-5.2596087,2.4910216,2.4910216,2.4910216,-5.2596087,2.4910216,2.4910216,2.4910216,2.4910216,2.4910216,2.4910216,2.4910216,2.4910216,2.4910216,2.4910216,2.4910216,2.4910216,2.4910216,2.4910216,2.4910216,2.4910216,-2.7726905,2.4910216,5.9425597,2.4910216,2.4910216,-13.31043,2.4910216,6.0289474,-5.2596087,2.2415152,-9.840921,-9.840921,-5.2596087,2.4910216,-2.7726905,5.9425597,2.4910216,-5.2596087,-2.7726905,2.4910216,-5.2596087,2.4910216,2.4910216,5.9425597,-17.058779,2.4910216,6.0289474,-5.2596087,2.2415152,19.212132,-7.776523,19.212132,-2.7726905,-13.31043,2.4910216,2.4910216,2.4910216,2.4910216,5.9425597,6.0289474,-5.2596087,2.2415152,19.212132,19.212132,-5.2596087,-5.2596087,-2.7726905,-5.2596087,19.212132,-5.2596087,-2.7726905,2.4910216,-14.608201,-5.2596087,2.4910216,2.4910216,2.4910216,5.9425597,-28.620152,-5.2596087,-17.292574,-7.776523,19.212132,-17.292574,-5.2596087,-2.7726905,-13.31043,-2.7726905,2.4910216,2.4910216,2.4910216,2.4910216,2.4910216,5.9425597,6.0289474,2.2415152,-5.2596087,-5.2596087,5.9425597,2.4910216,-5.2596087,2.4910216,2.4910216,-18.270828,-16.724812,-16.724812,-18.270828,-16.724812,5.6805882,-16.724812,-16.724812,-18.270828,-18.270828,2.4910216,2.4910216,-16.724812,5.6805882,-18.270828,-18.270828,-16.724812,-16.724812,-16.724812,-16.724812,-18.270828,-18.270828,-2.7726905,-18.270828,-13.31043,2.4910216,-16.724812,2.4910216,2.4910216,2.4910216,2.4910216,-13.31043,2.4910216,2.4910216,-28.620152,-5.2596087,-17.292574,-5.2596087,-17.292574,-7.776523,-5.2596087,-2.7726905,5.9425597,2.4910216,2.4910216,-5.2596087,2.4910216,2.4910216,-14.594673,-28.620152,-17.292574,-5.2596087,-17.292574,-5.2596087,-7.776523,-5.2596087,-16.724812,5.6805882,-18.270828,2.4910216,2.4910216,2.4910216,2.4910216,-16.724812,2.4910216,-4.428141,2.4910216,2.4910216,-9.840921,2.4910216,2.4910216,2.4910216,2.4910216,-22.918547,-5.2596087,-18.948427,-18.948427,-24.21131,-18.948427,2.4910216,2.4910216,2.4910216,-18.948427,-8.677059,2.4910216,-18.948427,-9.840921,2.4910216,-18.727451,-6.2042575,2.4910216,-18.948427,-9.840921,-18.948427,2.4910216,2.4910216,2.4910216,-8.859839,2.4910216,-9.945793,2.4910216,2.4910216,2.4910216,-25.512085,2.4910216,2.4910216,2.4910216,2.4910216,2.4910216,2.4910216,2.4910216,2.4910216,2.4910216,-39.94083,2.4910216,2.4910216,2.4910216,2.4910216,-31.143244,2.4910216,2.4910216,2.4910216,2.4910216,-31.361263,2.4910216,-9.840921,-6.2042575,2.4910216,2.4910216,-24.31312,2.4910216,2.4910216,2.4910216,2.4910216,-23.257923,2.4910216,2.4910216,2.4910216,2.4910216,2.4910216,2.4910216,2.4910216,2.4910216,2.4910216,2.4910216,2.4910216,2.4910216,-29.428133,2.4910216,2.4910216,2.4910216,-27.48397,2.4910216,-9.840921,-21.054718,2.4910216,2.4910216,2.4910216,2.4910216,2.4910216,2.4910216,2.4910216,-9.840921,-9.840921,2.4910216,2.4910216,2.4910216,2.4910216,-9.840921,2.4910216,2.4910216,2.4910216,-9.840921,-5.2596087,-8.634254,-19.953531,-32.111168,2.4910216,2.4910216,2.4910216,2.4910216,2.4910216,2.4910216,2.4910216,-9.840921,2.4910216,2.4910216,-5.2952614,-13.468706,2.4910216,2.4910216,2.4910216,-28.620152,-5.2596087,-17.292574,-7.776523,-17.292574,-5.2596087,-2.7726905,5.9425597,2.4910216,2.4910216,2.4910216,2.4910216,-12.708438,2.4910216,6.0289474,2.2415152,19.212132,19.212132,-5.2596087,2.4910216,2.4910216,-22.918547,2.4910216,2.4910216,2.4910216,2.4910216,2.4910216,2.4910216,-5.2596087,-5.2596087,2.4910216,-16.111408,2.4910216,-11.667493,5.9425597,6.0289474,2.2415152,-5.2596087,19.212132,19.212132,-5.2596087,-5.2596087,-2.7726905,5.9425597,2.4910216,2.4910216,2.4910216,-9.49502,2.4910216,6.0289474,-5.2596087,2.2415152,19.212132,19.212132,-5.2596087,5.9425597,-2.7726905,2.4910216,2.4910216,5.9425597,2.4910216,-18.948427,2.4910216,2.4910216,-36.031708,2.4910216,2.4910216,2.4910216,2.4910216,2.4910216,-23.451843,2.4910216,-8.859839,2.4910216,2.4910216,-6.3232408,2.4910216,2.4910216,2.4910216,2.4910216,-30.620745,-9.840921,2.4910216,2.4910216,-19.953531,2.4910216,-22.816814,2.4910216,2.4910216,2.4910216,-5.2336354,2.4910216,2.4910216,-5.2596087,-9.840921,2.4910216,2.4910216,2.4910216,2.4910216,-2.7872603,-18.948427,-18.948427,2.4910216,2.4910216,2.4910216,-18.948427,-18.2301,-8.677059,-9.840921,-18.948427,-18.948427,-6.3873954,-18.948427,-6.2042575,2.4910216,-6.2042575,-9.840921,-9.840921,-9.840921,2.4910216,-9.840921,2.4910216,2.4910216,2.4910216,-9.840921,2.4910216,-18.270828],\"y\":[-16.50277,0.7211851,0.7211851,0.7211851,-7.178924,0.7211851,0.7211851,0.7211851,0.7211851,0.7211851,0.7211851,0.7211851,-28.91658,5.4640036,-3.727489,-29.948833,0.7211851,0.7211851,0.7211851,0.7211851,0.7211851,-19.072247,0.7211851,-19.072247,0.7211851,0.7211851,0.7211851,0.7211851,0.7211851,0.7211851,0.7211851,0.7211851,0.7211851,0.7211851,0.7211851,0.7211851,0.7211851,0.7211851,0.7211851,0.7211851,0.7211851,0.7211851,0.7211851,0.7211851,0.7211851,0.7211851,0.7211851,0.7211851,0.7211851,0.7211851,0.7211851,0.7211851,0.7211851,0.7211851,0.7211851,0.7211851,0.7211851,0.7211851,0.7211851,0.7211851,-16.50277,0.7211851,0.7211851,0.7211851,0.7211851,0.7211851,0.7211851,0.7211851,0.7211851,0.7211851,0.7211851,0.7211851,0.7211851,0.7211851,0.7211851,0.7211851,0.7211851,0.7211851,0.7211851,0.7211851,0.7211851,0.7211851,0.7211851,0.7211851,0.7211851,31.963123,0.7211851,25.936937,0.7211851,0.7211851,28.006031,0.7211851,9.102637,0.7211851,0.7211851,0.7211851,0.7211851,0.009977107,0.7211851,11.342547,-5.174547,0.7211851,0.7211851,0.7211851,0.7211851,0.7211851,0.7211851,0.7211851,0.7211851,0.7211851,0.7211851,0.7211851,0.7211851,23.858364,16.29525,0.7211851,8.709472,0.7211851,0.7211851,0.7211851,0.7211851,0.7211851,0.7211851,0.7211851,0.7211851,0.7211851,0.7211851,0.7211851,0.7211851,0.7211851,0.7211851,0.7211851,0.7211851,9.102637,0.7211851,0.7211851,0.7211851,0.7211851,0.7211851,0.7211851,0.7211851,-5.174547,9.102637,0.7211851,0.7211851,0.7211851,0.7211851,0.7211851,0.7211851,31.963123,-5.174547,-29.948833,-19.072247,-19.072247,-5.174547,-5.174547,0.7211851,28.006031,0.7211851,0.7211851,-28.91658,0.7211851,0.7211851,0.7211851,0.7211851,0.7211851,0.7211851,0.7211851,0.7211851,0.7211851,0.7211851,0.7211851,0.7211851,0.7211851,0.7211851,0.7211851,0.7211851,0.7211851,0.7211851,0.7211851,0.7211851,0.7211851,0.7211851,0.7211851,0.7211851,0.7211851,0.7211851,0.7211851,0.7211851,0.7211851,0.7211851,0.7211851,0.7211851,0.7211851,0.7211851,-9.750778,0.7211851,0.7211851,0.7211851,0.7211851,0.7211851,0.7211851,0.7211851,0.7211851,0.7211851,0.7211851,9.102637,-16.786,-16.50277,0.7211851,0.7211851,0.7211851,0.7211851,0.7211851,0.7211851,0.7211851,0.7211851,0.7211851,0.7211851,0.7211851,0.7211851,0.7211851,-16.50277,0.7211851,0.7211851,0.7211851,0.7211851,0.7211851,0.7211851,0.7211851,0.7211851,0.7211851,12.994516,0.7211851,0.7211851,0.7211851,0.7211851,0.7211851,0.7211851,0.7211851,0.7211851,0.7211851,0.7211851,0.7211851,0.7211851,0.7211851,0.7211851,0.7211851,0.7211851,0.7211851,0.7211851,0.7211851,0.7211851,0.7211851,-1.8472478,-1.8472478,29.393278,25.936937,25.936937,0.7211851,0.7211851,0.7211851,0.7211851,31.963123,-1.8472478,28.006031,-28.91658,-31.093739,-1.8472478,-19.072247,-19.072247,4.9087763,28.006031,25.936937,0.7211851,0.7211851,0.7211851,31.963123,28.006031,0.7211851,-28.91658,-29.948833,-29.948833,0.7211851,-25.256828,-7.178924,-7.806102,0.7211851,0.7211851,0.7211851,0.7211851,0.7211851,0.7211851,0.7211851,0.7211851,0.7211851,-16.786,0.7211851,0.7211851,-25.256828,0.7211851,0.7211851,-7.035501,0.7211851,9.102637,25.936937,-2.1107097,31.963123,-1.8472478,0.7211851,0.7211851,0.7211851,0.7211851,24.860323,0.7211851,0.7211851,0.7211851,0.7211851,0.7211851,0.7211851,9.102637,0.7211851,9.102637,0.7211851,0.7211851,0.7211851,0.7211851,0.7211851,0.7211851,0.7211851,0.7211851,-9.928832,0.7211851,0.7211851,0.7211851,0.7211851,9.102637,0.7211851,0.7211851,0.7211851,0.7211851,9.102637,-4.1845665,0.7211851,0.7211851,0.7211851,-16.786,0.7211851,-1.8472478,0.7211851,0.7211851,0.7211851,0.7211851,0.7211851,0.7211851,0.7211851,0.7211851,0.7211851,0.7211851,0.7211851,0.7211851,1.2140914,0.7211851,0.7211851,0.7211851,0.7211851,0.7211851,0.7211851,0.7211851,0.7211851,0.7211851,-16.50277,0.7211851,0.7211851,0.7211851,-12.846072,0.7211851,0.7211851,0.7211851,0.7211851,0.7211851,0.7211851,0.7211851,0.7211851,0.7211851,0.7211851,0.7211851,0.7211851,0.7211851,0.7211851,0.7211851,0.7211851,0.7211851,0.7211851,0.7211851,-7.806102,0.7211851,5.4640036,0.7211851,0.7211851,0.7211851,9.102637,5.4640036,-7.035501,0.7211851,-12.846072,0.7211851,0.7211851,0.7211851,0.7211851,0.7211851,0.7211851,0.7211851,0.7211851,0.7211851,0.7211851,0.7211851,0.7211851,0.7211851,0.7211851,9.102637,0.7211851,0.7211851,0.7211851,0.7211851,0.7211851,-1.8472478,0.7211851,0.7211851,0.7211851,0.7211851,0.7211851,0.7211851,0.7211851,0.7211851,0.7211851,0.7211851,0.7211851,0.7211851,0.7211851,0.7211851,0.7211851,1.7332536,0.7211851,0.7211851,0.7211851,0.7211851,0.7211851,-5.369369,0.7211851,0.7211851,0.7211851,0.7211851,0.69631696,2.8187137,0.7211851,0.7211851,22.431232,0.7211851,0.7211851,0.7211851,0.7211851,-16.50277,0.7211851,0.7211851,5.4640036,9.102637,9.102637,0.7211851,0.7211851,0.7211851,0.7211851,0.7211851,0.7211851,0.7211851,0.7211851,0.7211851,0.7211851,0.7211851,0.7211851,0.7211851,0.7211851,0.7211851,0.7211851,0.7211851,-19.887554,0.7211851,5.4640036,0.7211851,36.058292,0.7211851,0.7211851,7.7300816,0.7211851,0.7211851,0.7211851,0.7211851,8.7306385,0.7211851,0.7211851,0.7211851,0.7211851,0.7211851,0.7211851,0.037465926,0.7211851,0.7211851,0.7211851,9.102637,0.7211851,0.7211851,0.7211851,0.7211851,0.7211851,0.7211851,0.7211851,0.7211851,9.102637,0.7211851,0.7211851,5.4640036,0.7211851,0.7211851,0.7211851,0.7211851,0.7211851,0.7211851,0.7211851,0.7211851,31.963123,28.006031,0.7211851,0.7211851,0.7211851,0.7211851,0.7211851,-28.91658,25.936937,7.388776,0.7211851,-22.202414,0.7211851,0.7211851,5.678566,0.7211851,0.7211851,0.7211851,0.7211851,5.4640036,0.7211851,0.7211851,5.4640036,0.7211851,0.7211851,0.7211851,0.7211851,0.7211851,5.4640036,0.7211851,0.7211851,0.7211851,0.7211851,0.7211851,0.7211851,5.4640036,0.7211851,0.7211851,0.7211851,0.7211851,0.7211851,0.7211851,19.659483,7.388776,0.7211851,0.7211851,0.7211851,0.7211851,-16.50277,-9.928832,-9.928832,7.388776,0.7211851,23.343712,0.7211851,0.7211851,0.7211851,0.7211851,0.7211851,4.405527,-9.928832,-9.928832,-9.928832,0.7211851,-0.9568034,6.279139,0.7211851,4.625587,0.7211851,0.7211851,-9.928832,4.625587,-16.50277,0.7211851,0.7211851,0.7211851,9.324027,9.324027,-16.50277,-0.12937315,0.7211851,5.4640036,5.4640036,21.453327,-16.50277,7.388776,-16.50277,5.4640036,0.7211851,35.951168,-19.887554,21.453327,-19.887554,21.453327,21.453327,5.4640036,0.7211851,0.7211851,0.7211851,-17.273869,0.7211851,0.7211851,0.7211851,0.7211851,-0.12937315,0.7211851,5.4640036,-16.50277,0.7211851,10.990847,0.7211851,0.7211851,0.7211851,0.7211851,21.069464,0.7211851,0.7211851,0.7211851,0.7211851,12.715264,0.7211851,0.7211851,0.7211851,0.7211851,0.7211851,-16.50277,-9.928832,-9.928832,4.625587,0.7211851,0.7211851,0.7211851,0.7211851,0.7211851,-1.0755017,0.7211851,0.7211851,7.388776,-9.942613,0.7211851,0.7211851,0.7211851,0.7211851,-22.202414,-19.887554,0.7211851,-22.202414,-16.50277,-9.928832,5.4640036,-16.50277,-16.50277,0.7211851,0.7211851,-21.377043,0.7211851,0.7211851,-16.50277,-16.50277,-19.887554,0.7211851,-16.50277,0.7211851,0.7211851,-16.50277,1.3261496,0.7211851,18.796116,0.7211851,0.7211851,0.7211851,7.486635,5.4640036,0.7211851,0.7211851,0.7211851,0.7211851,0.7211851,-16.50277,-10.987566,5.8810334,0.7211851,-9.928832,0.7211851,0.7211851,0.7211851,0.7211851,0.7211851,0.7211851,0.7211851,0.7211851,0.7211851,0.7211851,0.7211851,0.7211851,0.7211851,0.7211851,5.8810334,0.7211851,-10.987566,0.7211851,0.7211851,0.7211851,0.7211851,0.7211851,0.7211851,0.7211851,0.7211851,0.7211851,0.7211851,0.7211851,0.7211851,0.7211851,0.7211851,0.7211851,0.7211851,0.7211851,0.7211851,0.7211851,0.7211851,0.7211851,0.7211851,0.7211851,30.705914,0.7211851,0.7211851,0.7211851,0.7211851,0.7211851,0.7211851,0.7211851,19.602242,0.7211851,0.7211851,0.7211851,0.7211851,0.7211851,0.7211851,0.7211851,5.4640036,-2.1107097,0.7211851,-16.50277,0.7211851,-2.1588771,-16.50277,5.8810334,-16.50277,0.7211851,0.7211851,0.7211851,0.7211851,0.7211851,0.7211851,0.7211851,0.7211851,0.7211851,0.7211851,0.7211851,0.7211851,0.7211851,0.7211851,0.7211851,0.7211851,-16.50277,5.8810334,0.7211851,0.7211851,0.7211851,9.102637,0.7211851,0.7211851,5.8810334,0.7211851,0.7211851,-9.168396,0.7211851,0.7211851,0.7211851,0.7211851,0.7211851,0.7211851,0.7211851,0.7211851,0.7211851,0.7211851,0.7211851,-6.5852036,0.7211851,0.7211851,0.7211851,-16.50277,0.7211851,0.7211851,0.7211851,-16.50277,1.4002014,0.7211851,0.7211851,0.7211851,0.7211851,0.7211851,0.7211851,0.7211851,0.7211851,0.7211851,0.7211851,0.7211851,0.7211851,0.7211851,0.7211851,0.7211851,0.7211851,0.7211851,0.7211851,0.7211851,0.7211851,5.4640036,0.7211851,0.7211851,5.4640036,0.7211851,0.7211851,0.7211851,0.7211851,0.7211851,0.7211851,0.7211851,0.7211851,0.7211851,0.7211851,0.7211851,-29.948833,0.7211851,0.7211851,0.7211851,-16.50277,-16.50277,0.7211851,0.7211851,0.7211851,0.7211851,0.7211851,0.7211851,0.7211851,0.7211851,5.8810334,0.7211851,0.7211851,0.7211851,0.7211851,0.7211851,0.7211851,-9.928832,0.7211851,0.7211851,0.7211851,0.7211851,0.7211851,0.7211851,0.7211851,0.7211851,0.7211851,0.7211851,0.7211851,0.7211851,0.7211851,0.7211851,0.7211851,0.7211851,0.7211851,0.7211851,0.7211851,-9.928832,0.7211851,0.7211851,0.7211851,0.7211851,0.7211851,-10.987566,0.7211851,0.7211851,0.7211851,0.7211851,0.7211851,0.7211851,0.7211851,0.7211851,-6.5852036,0.7211851,0.7211851,0.7211851,0.7211851,0.7211851,0.7211851,0.7211851,0.7211851,0.7211851,0.7211851,0.7211851,0.7211851,0.7211851,5.4640036,0.7211851,0.7211851,0.7211851,0.7211851,0.7211851,0.7211851,0.7211851,0.7211851,0.7211851,0.7211851,0.7211851,0.7211851,5.4640036,0.7211851,0.7211851,0.7211851,0.7211851,0.7211851,0.7211851,0.7211851,0.7211851,0.7211851,-16.50277,28.006031,-7.178924,0.7211851,0.7211851,0.7211851,-16.50277,0.7211851,0.7211851,0.7211851,0.7211851,0.7211851,0.7211851,0.7211851,0.7211851,0.7211851,0.7211851,0.7211851,0.7211851,-16.50277,7.388776,0.7211851,0.7211851,-22.202414,0.7211851,0.7211851,21.401289,0.7211851,-22.202414,-23.068789,0.7211851,-9.928832,0.7211851,0.7211851,-27.372648,0.7211851,0.7211851,4.625587,0.7211851,0.7211851,0.7211851,-0.9568034,0.7211851,0.7211851,0.7211851,0.7211851,0.7211851,-8.082969,-7.933367,0.7211851,0.7211851,0.7211851,0.7211851,0.7211851,4.625587,3.158554,38.689762,-12.408185,-1.8472478,0.7211851,-25.03686,-4.243519,0.7211851,-13.928886,-9.928832,0.7211851,0.7211851,0.7211851,0.7211851,0.7211851,0.7211851,0.7211851,0.7211851,0.7211851,0.7211851,0.7211851,0.7211851,0.7211851,0.7211851,0.7211851,0.7211851,0.7211851,0.7211851,0.7211851,0.7211851,0.7211851,9.605137,0.7211851,0.7211851,0.7211851,0.7211851,0.7211851,0.7211851,0.7211851,0.7211851,0.7211851,0.7211851,0.7211851,0.7211851,12.679405,17.279085,13.858479,18.250736,0.7211851,0.7211851,-26.775497,0.7211851,0.7211851,0.7211851,27.330688,-9.928832,0.7211851,0.7211851,0.7211851,0.7211851,0.7211851,-9.928832,0.7211851,0.7211851,0.7211851,0.7211851,0.7211851,0.7211851,-9.928832,-9.928832,0.7211851,0.7211851,-9.928832,0.7211851,0.7211851,0.7211851,0.7211851,-9.928832,0.7211851,0.7211851,0.7211851,0.7211851,0.7211851,0.7211851,0.7211851,0.7211851,0.7211851,0.7211851,0.7211851,0.7211851,0.7211851,0.7211851,0.7211851,0.7211851,0.7211851,0.7211851,0.7211851,0.7211851,0.7211851,0.7211851,0.7211851,0.7211851,0.7211851,0.7211851,0.7211851,0.7211851,0.7211851,0.7211851,0.7211851,0.7211851,0.7211851,0.7211851,0.7211851,0.7211851,0.7211851,0.7211851,0.7211851,0.7211851,0.7211851,0.7211851,0.7211851,0.7211851,0.7211851,0.7211851,0.7211851,0.7211851,0.7211851,0.7211851,0.7211851,0.7211851,0.7211851,0.7211851,0.7211851,0.7211851,0.7211851,0.7211851,0.7211851,0.7211851,0.7211851,-1.8472478,0.7211851,0.7211851,-5.1182704,0.7211851,0.7211851,0.7211851,0.7211851,-16.50277,19.914944,-17.764124,0.7211851,0.7211851,-5.5706425,0.7211851,0.7211851,22.217228,0.7211851,-3.3989396,0.7211851,0.7211851,0.7211851,0.7211851,0.7211851,-16.50277,-3.3989396,7.388776,0.7211851,0.7211851,0.7211851,0.7211851,0.7211851,0.7211851,-1.8472478,0.7211851,0.7211851,24.536089,-1.8472478,0.7211851,25.32629,15.381074,0.7211851,-1.8472478,0.7211851,0.7211851,0.7211851,16.877321,0.7211851,0.7211851,0.7211851,0.7211851,-17.033651,0.7211851,0.7211851,-1.8472478,0.7211851,0.7211851,0.7211851,0.7211851,0.7211851,0.7211851,0.7211851,-32.70918,0.7211851,0.7211851,22.326378,0.7211851,0.7211851,0.7211851,0.7211851,0.7211851,0.7211851,0.7211851,0.7211851,0.7211851,0.7211851,0.7211851,-15.148058,17.104635,0.7211851,0.7211851,0.7211851,0.7211851,-6.7752304,0.7211851,-7.198956,0.7211851,0.7211851,0.7211851,17.104635,10.213644,-1.0755017,9.672101,0.7211851,0.7211851,0.7211851,-1.8472478,0.7211851,0.7211851,0.7211851,0.7211851,0.7211851,0.7211851,-10.870745,30.661541,0.7211851,0.7211851,0.7211851,17.51092,0.7211851,0.7211851,0.7211851,0.7211851,0.7211851,0.7211851,0.7211851,0.7211851,0.7211851,0.7211851,0.7211851,0.7211851,0.7211851,0.7211851,0.7211851,0.7211851,0.7211851,21.453327,0.7211851,0.7211851,0.7211851,0.7211851,0.7211851,0.7211851,4.9645925,0.7211851,21.453327,0.7211851,0.7211851,0.7211851,0.7211851,0.7211851,-17.942137,0.7211851,0.7211851,0.7211851,0.7211851,0.7211851,0.7211851,0.7211851,-10.944556,0.7211851,0.7211851,-14.968167,0.7211851,0.7211851,-8.616098,0.7211851,0.7211851,0.7211851,0.7211851,0.7211851,0.7211851,23.956947,-31.002016,0.7211851,0.7211851,7.388776,0.7211851,13.114198,1.584908,0.7211851,0.7211851,14.312932,0.7211851,0.7211851,0.7211851,9.450165,0.7211851,0.7211851,-14.0547085,0.7211851,0.7211851,0.7211851,0.7211851,-0.66871226,0.7211851,0.7211851,0.7211851,0.7211851,0.7211851,0.7211851,0.7211851,-29.293598,0.7211851,0.7211851,0.7211851,0.7211851,19.796755,0.7211851,0.7211851,0.7211851,-3.1971254,0.7211851,0.7211851,0.7211851,0.7211851,0.7211851,0.7211851,0.7211851,0.7211851,-8.012165,0.7211851,0.7211851,-0.08337373,0.7211851,0.7211851,0.7211851,0.7211851,10.144139,-12.091481,0.7211851,0.7211851,0.7211851,0.7211851,0.7211851,0.7211851,-16.50277,0.7211851,0.7211851,-1.8472478,0.7211851,0.7211851,0.7211851,0.7211851,0.7211851,0.7211851,0.7211851,0.7211851,0.7211851,0.7211851,-3.1530216,3.7348838,0.7211851,0.7211851,0.7211851,0.7211851,0.7211851,0.7211851,26.76545,0.7211851,27.875168,-16.498991,0.7211851,-5.744515,0.6772227,31.730938,0.7211851,0.7211851,0.7211851,0.7211851,20.422306,0.7211851,0.7211851,0.7211851,0.7211851,0.7211851,0.7211851,-22.625257,0.7211851,0.7211851,0.7211851,32.301258,7.388776,0.7211851,30.039171,0.7211851,0.7211851,0.7211851,0.7211851,3.5115573,0.7211851,-1.0885359,0.7211851,0.7211851,0.7211851,0.7211851,0.7211851,0.7211851,-0.03865738,2.9225798,0.7211851,-8.012165,0.7211851,0.7211851,0.7211851,-3.1530216,-41.420383,-12.344217,0.7211851,-8.386153,-11.928045,0.7211851,0.7211851,0.7211851,0.7211851,0.7211851,0.7211851,0.7211851,0.7211851,0.7211851,9.929498,0.7211851,0.7211851,0.7211851,0.7211851,-9.928832,0.7211851,-16.50277,0.7211851,-20.426842,4.266077,0.7211851,-16.50277,0.7211851,0.7211851,-19.072247,-1.8472478,25.936937,0.7211851,0.7211851,0.7211851,31.963123,30.414038,0.7211851,-28.91658,-1.8472478,-29.948833,-19.072247,-19.072247,-19.072247,0.7211851,0.7211851,0.7211851,0.7211851,0.7211851,0.7211851,0.7211851,0.7211851,0.7211851,0.7211851,0.7211851,0.7211851,0.7211851,-1.8472478,0.7211851,-1.8472478,24.348322,-28.91658,-1.8472478,-29.948833,-19.072247,-19.072247,-1.8472478,25.936937,9.102637,7.388776,0.7211851,0.7211851,0.7211851,0.7211851,-29.948833,27.205416,-1.8472478,-28.91658,-1.8472478,-29.948833,-19.072247,-19.072247,-1.8472478,25.936937,0.7211851,0.7211851,0.7211851,0.7211851,31.963123,31.963123,0.7211851,0.7211851,0.7211851,0.7211851,0.7211851,0.7211851,0.7211851,0.7211851,0.7211851,0.7211851,-1.279456,0.7211851,0.7211851,-1.279456,0.7211851,0.7211851,0.7211851,25.936937,26.169552,31.963123,0.7211851,0.7211851,0.7211851,0.7211851,-18.950089,-1.8472478,-25.256828,-31.093739,-25.256828,-1.8472478,-1.8472478,0.7211851,0.7211851,0.7211851,-1.8472478,0.7211851,0.7211851,0.7211851,0.7211851,0.7211851,0.7211851,0.7211851,0.7211851,0.7211851,0.7211851,0.7211851,0.7211851,0.7211851,0.7211851,0.7211851,0.7211851,25.936937,0.7211851,31.963123,0.7211851,0.7211851,28.006031,0.7211851,-28.91658,-1.8472478,-29.948833,-16.50277,-16.50277,-1.8472478,0.7211851,25.936937,31.963123,0.7211851,-1.8472478,25.936937,0.7211851,-1.8472478,0.7211851,0.7211851,31.963123,27.280216,0.7211851,-28.91658,-1.8472478,-29.948833,-19.072247,-31.093739,-19.072247,25.936937,28.006031,0.7211851,0.7211851,0.7211851,0.7211851,31.963123,-28.91658,-1.8472478,-29.948833,-19.072247,-19.072247,-1.8472478,-1.8472478,25.936937,-1.8472478,-19.072247,-1.8472478,25.936937,0.7211851,27.804626,-1.8472478,0.7211851,0.7211851,0.7211851,31.963123,-18.950089,-1.8472478,-25.256828,-31.093739,-19.072247,-25.256828,-1.8472478,25.936937,28.006031,25.936937,0.7211851,0.7211851,0.7211851,0.7211851,0.7211851,31.963123,-28.91658,-29.948833,-1.8472478,-1.8472478,31.963123,0.7211851,-1.8472478,0.7211851,0.7211851,9.102637,4.625587,4.625587,9.102637,4.625587,-18.288864,4.625587,4.625587,9.102637,9.102637,0.7211851,0.7211851,4.625587,-18.288864,9.102637,9.102637,4.625587,4.625587,4.625587,4.625587,9.102637,9.102637,25.936937,9.102637,28.006031,0.7211851,4.625587,0.7211851,0.7211851,0.7211851,0.7211851,28.006031,0.7211851,0.7211851,-18.950089,-1.8472478,-25.256828,-1.8472478,-25.256828,-31.093739,-1.8472478,25.936937,31.963123,0.7211851,0.7211851,-1.8472478,0.7211851,0.7211851,24.604998,-18.950089,-25.256828,-1.8472478,-25.256828,-1.8472478,-31.093739,-1.8472478,4.625587,-18.288864,9.102637,0.7211851,0.7211851,0.7211851,0.7211851,4.625587,0.7211851,-1.9211974,0.7211851,0.7211851,-16.50277,0.7211851,0.7211851,0.7211851,0.7211851,-0.9568034,-1.8472478,-9.928832,-9.928832,16.3377,-9.928832,0.7211851,0.7211851,0.7211851,-9.928832,-22.202414,0.7211851,-9.928832,-16.50277,0.7211851,-23.583157,-19.887554,0.7211851,-9.928832,-16.50277,-9.928832,0.7211851,0.7211851,0.7211851,-5.166912,0.7211851,14.789201,0.7211851,0.7211851,0.7211851,-19.790813,0.7211851,0.7211851,0.7211851,0.7211851,0.7211851,0.7211851,0.7211851,0.7211851,0.7211851,-0.14228776,0.7211851,0.7211851,0.7211851,0.7211851,-9.798512,0.7211851,0.7211851,0.7211851,0.7211851,-17.979725,0.7211851,-16.50277,-19.887554,0.7211851,0.7211851,9.082153,0.7211851,0.7211851,0.7211851,0.7211851,21.661089,0.7211851,0.7211851,0.7211851,0.7211851,0.7211851,0.7211851,0.7211851,0.7211851,0.7211851,0.7211851,0.7211851,0.7211851,-29.446133,0.7211851,0.7211851,0.7211851,26.2852,0.7211851,-16.50277,-26.2035,0.7211851,0.7211851,0.7211851,0.7211851,0.7211851,0.7211851,0.7211851,-16.50277,-16.50277,0.7211851,0.7211851,0.7211851,0.7211851,-16.50277,0.7211851,0.7211851,0.7211851,-16.50277,-1.8472478,1.4209181,-8.012165,7.219474,0.7211851,0.7211851,0.7211851,0.7211851,0.7211851,0.7211851,0.7211851,-16.50277,0.7211851,0.7211851,31.158758,23.597359,0.7211851,0.7211851,0.7211851,-18.950089,-1.8472478,-25.256828,-31.093739,-25.256828,-1.8472478,25.936937,31.963123,0.7211851,0.7211851,0.7211851,0.7211851,29.887426,0.7211851,-28.91658,-29.948833,-19.072247,-19.072247,-1.8472478,0.7211851,0.7211851,-0.9568034,0.7211851,0.7211851,0.7211851,0.7211851,0.7211851,0.7211851,-1.8472478,-1.8472478,0.7211851,28.311472,0.7211851,25.665634,31.963123,-28.91658,-29.948833,-1.8472478,-19.072247,-19.072247,-1.8472478,-1.8472478,25.936937,31.963123,0.7211851,0.7211851,0.7211851,26.953907,0.7211851,-28.91658,-1.8472478,-29.948833,-19.072247,-19.072247,-1.8472478,31.963123,25.936937,0.7211851,0.7211851,31.963123,0.7211851,-9.928832,0.7211851,0.7211851,-8.65541,0.7211851,0.7211851,0.7211851,0.7211851,0.7211851,-15.174706,0.7211851,-5.166912,0.7211851,0.7211851,24.856915,0.7211851,0.7211851,0.7211851,0.7211851,-1.594256,-16.50277,0.7211851,0.7211851,-8.012165,0.7211851,-6.0687056,0.7211851,0.7211851,0.7211851,31.561962,0.7211851,0.7211851,-1.8472478,-16.50277,0.7211851,0.7211851,0.7211851,0.7211851,16.406,-9.928832,-9.928832,0.7211851,0.7211851,0.7211851,-9.928832,29.547472,-22.202414,-16.50277,-9.928832,-9.928832,-12.508143,-9.928832,-19.887554,0.7211851,-19.887554,-16.50277,-16.50277,-16.50277,0.7211851,-16.50277,0.7211851,0.7211851,0.7211851,-16.50277,0.7211851,9.102637],\"z\":[10.759274,0.0035028933,0.0035028933,0.0035028933,1.7542748,0.0035028933,0.0035028933,0.0035028933,0.0035028933,0.0035028933,0.0035028933,0.0035028933,7.6769543,-22.596834,6.9242873,-8.0072155,0.0035028933,0.0035028933,0.0035028933,0.0035028933,0.0035028933,11.311983,0.0035028933,11.311983,0.0035028933,0.0035028933,0.0035028933,0.0035028933,0.0035028933,0.0035028933,0.0035028933,0.0035028933,0.0035028933,0.0035028933,0.0035028933,0.0035028933,0.0035028933,0.0035028933,0.0035028933,0.0035028933,0.0035028933,0.0035028933,0.0035028933,0.0035028933,0.0035028933,0.0035028933,0.0035028933,0.0035028933,0.0035028933,0.0035028933,0.0035028933,0.0035028933,0.0035028933,0.0035028933,0.0035028933,0.0035028933,0.0035028933,0.0035028933,0.0035028933,0.0035028933,10.759274,0.0035028933,0.0035028933,0.0035028933,0.0035028933,0.0035028933,0.0035028933,0.0035028933,0.0035028933,0.0035028933,0.0035028933,0.0035028933,0.0035028933,0.0035028933,0.0035028933,0.0035028933,0.0035028933,0.0035028933,0.0035028933,0.0035028933,0.0035028933,0.0035028933,0.0035028933,0.0035028933,0.0035028933,3.026656,0.0035028933,-18.874697,0.0035028933,0.0035028933,-0.63690436,0.0035028933,3.3025303,0.0035028933,0.0035028933,0.0035028933,0.0035028933,-7.781914,0.0035028933,-32.215145,-5.7049503,0.0035028933,0.0035028933,0.0035028933,0.0035028933,0.0035028933,0.0035028933,0.0035028933,0.0035028933,0.0035028933,0.0035028933,0.0035028933,0.0035028933,-32.58172,-32.87072,0.0035028933,1.6083474,0.0035028933,0.0035028933,0.0035028933,0.0035028933,0.0035028933,0.0035028933,0.0035028933,0.0035028933,0.0035028933,0.0035028933,0.0035028933,0.0035028933,0.0035028933,0.0035028933,0.0035028933,0.0035028933,3.3025303,0.0035028933,0.0035028933,0.0035028933,0.0035028933,0.0035028933,0.0035028933,0.0035028933,-5.7049503,3.3025303,0.0035028933,0.0035028933,0.0035028933,0.0035028933,0.0035028933,0.0035028933,3.026656,-5.7049503,-8.0072155,11.311983,11.311983,-5.7049503,-5.7049503,0.0035028933,-0.63690436,0.0035028933,0.0035028933,7.6769543,0.0035028933,0.0035028933,0.0035028933,0.0035028933,0.0035028933,0.0035028933,0.0035028933,0.0035028933,0.0035028933,0.0035028933,0.0035028933,0.0035028933,0.0035028933,0.0035028933,0.0035028933,0.0035028933,0.0035028933,0.0035028933,0.0035028933,0.0035028933,0.0035028933,0.0035028933,0.0035028933,0.0035028933,0.0035028933,0.0035028933,0.0035028933,0.0035028933,0.0035028933,0.0035028933,0.0035028933,0.0035028933,0.0035028933,0.0035028933,9.135279,0.0035028933,0.0035028933,0.0035028933,0.0035028933,0.0035028933,0.0035028933,0.0035028933,0.0035028933,0.0035028933,0.0035028933,3.3025303,-12.914824,10.759274,0.0035028933,0.0035028933,0.0035028933,0.0035028933,0.0035028933,0.0035028933,0.0035028933,0.0035028933,0.0035028933,0.0035028933,0.0035028933,0.0035028933,0.0035028933,10.759274,0.0035028933,0.0035028933,0.0035028933,0.0035028933,0.0035028933,0.0035028933,0.0035028933,0.0035028933,0.0035028933,16.804588,0.0035028933,0.0035028933,0.0035028933,0.0035028933,0.0035028933,0.0035028933,0.0035028933,0.0035028933,0.0035028933,0.0035028933,0.0035028933,0.0035028933,0.0035028933,0.0035028933,0.0035028933,0.0035028933,0.0035028933,0.0035028933,0.0035028933,0.0035028933,0.0035028933,0.89333016,0.89333016,-3.6453907,-18.874697,-18.874697,0.0035028933,0.0035028933,0.0035028933,0.0035028933,3.026656,0.89333016,-0.63690436,7.6769543,3.0889602,0.89333016,11.311983,11.311983,6.2730346,-0.63690436,-18.874697,0.0035028933,0.0035028933,0.0035028933,3.026656,-0.63690436,0.0035028933,7.6769543,-8.0072155,-8.0072155,0.0035028933,-4.2165003,1.7542748,-21.19954,0.0035028933,0.0035028933,0.0035028933,0.0035028933,0.0035028933,0.0035028933,0.0035028933,0.0035028933,0.0035028933,-12.914824,0.0035028933,0.0035028933,-4.2165003,0.0035028933,0.0035028933,19.137028,0.0035028933,3.3025303,-18.874697,5.673791,3.026656,0.89333016,0.0035028933,0.0035028933,0.0035028933,0.0035028933,0.84104216,0.0035028933,0.0035028933,0.0035028933,0.0035028933,0.0035028933,0.0035028933,3.3025303,0.0035028933,3.3025303,0.0035028933,0.0035028933,0.0035028933,0.0035028933,0.0035028933,0.0035028933,0.0035028933,0.0035028933,-1.631938,0.0035028933,0.0035028933,0.0035028933,0.0035028933,3.3025303,0.0035028933,0.0035028933,0.0035028933,0.0035028933,3.3025303,15.820672,0.0035028933,0.0035028933,0.0035028933,-12.914824,0.0035028933,0.89333016,0.0035028933,0.0035028933,0.0035028933,0.0035028933,0.0035028933,0.0035028933,0.0035028933,0.0035028933,0.0035028933,0.0035028933,0.0035028933,0.0035028933,20.204554,0.0035028933,0.0035028933,0.0035028933,0.0035028933,0.0035028933,0.0035028933,0.0035028933,0.0035028933,0.0035028933,10.759274,0.0035028933,0.0035028933,0.0035028933,-11.843847,0.0035028933,0.0035028933,0.0035028933,0.0035028933,0.0035028933,0.0035028933,0.0035028933,0.0035028933,0.0035028933,0.0035028933,0.0035028933,0.0035028933,0.0035028933,0.0035028933,0.0035028933,0.0035028933,0.0035028933,0.0035028933,0.0035028933,-21.19954,0.0035028933,-22.596834,0.0035028933,0.0035028933,0.0035028933,3.3025303,-22.596834,19.137028,0.0035028933,-11.843847,0.0035028933,0.0035028933,0.0035028933,0.0035028933,0.0035028933,0.0035028933,0.0035028933,0.0035028933,0.0035028933,0.0035028933,0.0035028933,0.0035028933,0.0035028933,0.0035028933,3.3025303,0.0035028933,0.0035028933,0.0035028933,0.0035028933,0.0035028933,0.89333016,0.0035028933,0.0035028933,0.0035028933,0.0035028933,0.0035028933,0.0035028933,0.0035028933,0.0035028933,0.0035028933,0.0035028933,0.0035028933,0.0035028933,0.0035028933,0.0035028933,0.0035028933,-7.4303813,0.0035028933,0.0035028933,0.0035028933,0.0035028933,0.0035028933,32.512123,0.0035028933,0.0035028933,0.0035028933,0.0035028933,36.669056,25.716776,0.0035028933,0.0035028933,12.964481,0.0035028933,0.0035028933,0.0035028933,0.0035028933,10.759274,0.0035028933,0.0035028933,-22.596834,3.3025303,3.3025303,0.0035028933,0.0035028933,0.0035028933,0.0035028933,0.0035028933,0.0035028933,0.0035028933,0.0035028933,0.0035028933,0.0035028933,0.0035028933,0.0035028933,0.0035028933,0.0035028933,0.0035028933,0.0035028933,0.0035028933,-5.561885,0.0035028933,-22.596834,0.0035028933,-0.8674016,0.0035028933,0.0035028933,32.005077,0.0035028933,0.0035028933,0.0035028933,0.0035028933,39.960094,0.0035028933,0.0035028933,0.0035028933,0.0035028933,0.0035028933,0.0035028933,27.437338,0.0035028933,0.0035028933,0.0035028933,3.3025303,0.0035028933,0.0035028933,0.0035028933,0.0035028933,0.0035028933,0.0035028933,0.0035028933,0.0035028933,3.3025303,0.0035028933,0.0035028933,-22.596834,0.0035028933,0.0035028933,0.0035028933,0.0035028933,0.0035028933,0.0035028933,0.0035028933,0.0035028933,3.026656,-0.63690436,0.0035028933,0.0035028933,0.0035028933,0.0035028933,0.0035028933,7.6769543,-18.874697,16.65398,0.0035028933,-18.928886,0.0035028933,0.0035028933,5.945529,0.0035028933,0.0035028933,0.0035028933,0.0035028933,-22.596834,0.0035028933,0.0035028933,-22.596834,0.0035028933,0.0035028933,0.0035028933,0.0035028933,0.0035028933,-22.596834,0.0035028933,0.0035028933,0.0035028933,0.0035028933,0.0035028933,0.0035028933,-22.596834,0.0035028933,0.0035028933,0.0035028933,0.0035028933,0.0035028933,0.0035028933,20.849371,16.65398,0.0035028933,0.0035028933,0.0035028933,0.0035028933,10.759274,-1.631938,-1.631938,16.65398,0.0035028933,22.490417,0.0035028933,0.0035028933,0.0035028933,0.0035028933,0.0035028933,30.967445,-1.631938,-1.631938,-1.631938,0.0035028933,12.380961,-2.6544824,0.0035028933,-11.553137,0.0035028933,0.0035028933,-1.631938,-11.553137,10.759274,0.0035028933,0.0035028933,0.0035028933,23.92527,23.92527,10.759274,-18.238842,0.0035028933,-22.596834,-22.596834,10.294227,10.759274,16.65398,10.759274,-22.596834,0.0035028933,13.614621,-5.561885,10.294227,-5.561885,10.294227,10.294227,-22.596834,0.0035028933,0.0035028933,0.0035028933,22.746405,0.0035028933,0.0035028933,0.0035028933,0.0035028933,-18.238842,0.0035028933,-22.596834,10.759274,0.0035028933,8.976408,0.0035028933,0.0035028933,0.0035028933,0.0035028933,31.971392,0.0035028933,0.0035028933,0.0035028933,0.0035028933,24.986235,0.0035028933,0.0035028933,0.0035028933,0.0035028933,0.0035028933,10.759274,-1.631938,-1.631938,-11.553137,0.0035028933,0.0035028933,0.0035028933,0.0035028933,0.0035028933,-24.642046,0.0035028933,0.0035028933,16.65398,20.30812,0.0035028933,0.0035028933,0.0035028933,0.0035028933,-18.928886,-5.561885,0.0035028933,-18.928886,10.759274,-1.631938,-22.596834,10.759274,10.759274,0.0035028933,0.0035028933,26.738281,0.0035028933,0.0035028933,10.759274,10.759274,-5.561885,0.0035028933,10.759274,0.0035028933,0.0035028933,10.759274,8.13765,0.0035028933,26.748634,0.0035028933,0.0035028933,0.0035028933,1.4718691,-22.596834,0.0035028933,0.0035028933,0.0035028933,0.0035028933,0.0035028933,10.759274,-22.707497,-5.30367,0.0035028933,-1.631938,0.0035028933,0.0035028933,0.0035028933,0.0035028933,0.0035028933,0.0035028933,0.0035028933,0.0035028933,0.0035028933,0.0035028933,0.0035028933,0.0035028933,0.0035028933,0.0035028933,-5.30367,0.0035028933,-22.707497,0.0035028933,0.0035028933,0.0035028933,0.0035028933,0.0035028933,0.0035028933,0.0035028933,0.0035028933,0.0035028933,0.0035028933,0.0035028933,0.0035028933,0.0035028933,0.0035028933,0.0035028933,0.0035028933,0.0035028933,0.0035028933,0.0035028933,0.0035028933,0.0035028933,0.0035028933,0.0035028933,-20.032063,0.0035028933,0.0035028933,0.0035028933,0.0035028933,0.0035028933,0.0035028933,0.0035028933,11.222967,0.0035028933,0.0035028933,0.0035028933,0.0035028933,0.0035028933,0.0035028933,0.0035028933,-22.596834,5.673791,0.0035028933,10.759274,0.0035028933,-34.933628,10.759274,-5.30367,10.759274,0.0035028933,0.0035028933,0.0035028933,0.0035028933,0.0035028933,0.0035028933,0.0035028933,0.0035028933,0.0035028933,0.0035028933,0.0035028933,0.0035028933,0.0035028933,0.0035028933,0.0035028933,0.0035028933,10.759274,-5.30367,0.0035028933,0.0035028933,0.0035028933,3.3025303,0.0035028933,0.0035028933,-5.30367,0.0035028933,0.0035028933,20.526611,0.0035028933,0.0035028933,0.0035028933,0.0035028933,0.0035028933,0.0035028933,0.0035028933,0.0035028933,0.0035028933,0.0035028933,0.0035028933,-11.331727,0.0035028933,0.0035028933,0.0035028933,10.759274,0.0035028933,0.0035028933,0.0035028933,10.759274,21.659264,0.0035028933,0.0035028933,0.0035028933,0.0035028933,0.0035028933,0.0035028933,0.0035028933,0.0035028933,0.0035028933,0.0035028933,0.0035028933,0.0035028933,0.0035028933,0.0035028933,0.0035028933,0.0035028933,0.0035028933,0.0035028933,0.0035028933,0.0035028933,-22.596834,0.0035028933,0.0035028933,-22.596834,0.0035028933,0.0035028933,0.0035028933,0.0035028933,0.0035028933,0.0035028933,0.0035028933,0.0035028933,0.0035028933,0.0035028933,0.0035028933,-8.0072155,0.0035028933,0.0035028933,0.0035028933,10.759274,10.759274,0.0035028933,0.0035028933,0.0035028933,0.0035028933,0.0035028933,0.0035028933,0.0035028933,0.0035028933,-5.30367,0.0035028933,0.0035028933,0.0035028933,0.0035028933,0.0035028933,0.0035028933,-1.631938,0.0035028933,0.0035028933,0.0035028933,0.0035028933,0.0035028933,0.0035028933,0.0035028933,0.0035028933,0.0035028933,0.0035028933,0.0035028933,0.0035028933,0.0035028933,0.0035028933,0.0035028933,0.0035028933,0.0035028933,0.0035028933,0.0035028933,-1.631938,0.0035028933,0.0035028933,0.0035028933,0.0035028933,0.0035028933,-22.707497,0.0035028933,0.0035028933,0.0035028933,0.0035028933,0.0035028933,0.0035028933,0.0035028933,0.0035028933,-11.331727,0.0035028933,0.0035028933,0.0035028933,0.0035028933,0.0035028933,0.0035028933,0.0035028933,0.0035028933,0.0035028933,0.0035028933,0.0035028933,0.0035028933,0.0035028933,-22.596834,0.0035028933,0.0035028933,0.0035028933,0.0035028933,0.0035028933,0.0035028933,0.0035028933,0.0035028933,0.0035028933,0.0035028933,0.0035028933,0.0035028933,-22.596834,0.0035028933,0.0035028933,0.0035028933,0.0035028933,0.0035028933,0.0035028933,0.0035028933,0.0035028933,0.0035028933,10.759274,-0.63690436,1.7542748,0.0035028933,0.0035028933,0.0035028933,10.759274,0.0035028933,0.0035028933,0.0035028933,0.0035028933,0.0035028933,0.0035028933,0.0035028933,0.0035028933,0.0035028933,0.0035028933,0.0035028933,0.0035028933,10.759274,16.65398,0.0035028933,0.0035028933,-18.928886,0.0035028933,0.0035028933,24.886772,0.0035028933,-18.928886,31.427471,0.0035028933,-1.631938,0.0035028933,0.0035028933,17.096994,0.0035028933,0.0035028933,-11.553137,0.0035028933,0.0035028933,0.0035028933,12.380961,0.0035028933,0.0035028933,0.0035028933,0.0035028933,0.0035028933,-19.53032,-32.003967,0.0035028933,0.0035028933,0.0035028933,0.0035028933,0.0035028933,-11.553137,-28.79532,11.138352,-11.267432,0.89333016,0.0035028933,-12.748897,-3.1621404,0.0035028933,9.422752,-1.631938,0.0035028933,0.0035028933,0.0035028933,0.0035028933,0.0035028933,0.0035028933,0.0035028933,0.0035028933,0.0035028933,0.0035028933,0.0035028933,0.0035028933,0.0035028933,0.0035028933,0.0035028933,0.0035028933,0.0035028933,0.0035028933,0.0035028933,0.0035028933,0.0035028933,1.8546245,0.0035028933,0.0035028933,0.0035028933,0.0035028933,0.0035028933,0.0035028933,0.0035028933,0.0035028933,0.0035028933,0.0035028933,0.0035028933,0.0035028933,26.714716,19.436014,26.937365,32.399704,0.0035028933,0.0035028933,19.433931,0.0035028933,0.0035028933,0.0035028933,15.25779,-1.631938,0.0035028933,0.0035028933,0.0035028933,0.0035028933,0.0035028933,-1.631938,0.0035028933,0.0035028933,0.0035028933,0.0035028933,0.0035028933,0.0035028933,-1.631938,-1.631938,0.0035028933,0.0035028933,-1.631938,0.0035028933,0.0035028933,0.0035028933,0.0035028933,-1.631938,0.0035028933,0.0035028933,0.0035028933,0.0035028933,0.0035028933,0.0035028933,0.0035028933,0.0035028933,0.0035028933,0.0035028933,0.0035028933,0.0035028933,0.0035028933,0.0035028933,0.0035028933,0.0035028933,0.0035028933,0.0035028933,0.0035028933,0.0035028933,0.0035028933,0.0035028933,0.0035028933,0.0035028933,0.0035028933,0.0035028933,0.0035028933,0.0035028933,0.0035028933,0.0035028933,0.0035028933,0.0035028933,0.0035028933,0.0035028933,0.0035028933,0.0035028933,0.0035028933,0.0035028933,0.0035028933,0.0035028933,0.0035028933,0.0035028933,0.0035028933,0.0035028933,0.0035028933,0.0035028933,0.0035028933,0.0035028933,0.0035028933,0.0035028933,0.0035028933,0.0035028933,0.0035028933,0.0035028933,0.0035028933,0.0035028933,0.0035028933,0.0035028933,0.0035028933,0.0035028933,0.0035028933,0.89333016,0.0035028933,0.0035028933,8.844286,0.0035028933,0.0035028933,0.0035028933,0.0035028933,10.759274,-29.617208,34.470406,0.0035028933,0.0035028933,4.0418625,0.0035028933,0.0035028933,2.6930263,0.0035028933,-3.9751954,0.0035028933,0.0035028933,0.0035028933,0.0035028933,0.0035028933,10.759274,-3.9751954,16.65398,0.0035028933,0.0035028933,0.0035028933,0.0035028933,0.0035028933,0.0035028933,0.89333016,0.0035028933,0.0035028933,10.759273,0.89333016,0.0035028933,-12.351651,-25.940548,0.0035028933,0.89333016,0.0035028933,0.0035028933,0.0035028933,9.378699,0.0035028933,0.0035028933,0.0035028933,0.0035028933,-28.590624,0.0035028933,0.0035028933,0.89333016,0.0035028933,0.0035028933,0.0035028933,0.0035028933,0.0035028933,0.0035028933,0.0035028933,18.334335,0.0035028933,0.0035028933,-22.686987,0.0035028933,0.0035028933,0.0035028933,0.0035028933,0.0035028933,0.0035028933,0.0035028933,0.0035028933,0.0035028933,0.0035028933,0.0035028933,14.352285,12.142475,0.0035028933,0.0035028933,0.0035028933,0.0035028933,31.960136,0.0035028933,-26.926798,0.0035028933,0.0035028933,0.0035028933,12.142475,36.333973,-24.642046,16.503588,0.0035028933,0.0035028933,0.0035028933,0.89333016,0.0035028933,0.0035028933,0.0035028933,0.0035028933,0.0035028933,0.0035028933,-3.275978,5.537184,0.0035028933,0.0035028933,0.0035028933,-18.419838,0.0035028933,0.0035028933,0.0035028933,0.0035028933,0.0035028933,0.0035028933,0.0035028933,0.0035028933,0.0035028933,0.0035028933,0.0035028933,0.0035028933,0.0035028933,0.0035028933,0.0035028933,0.0035028933,0.0035028933,10.294227,0.0035028933,0.0035028933,0.0035028933,0.0035028933,0.0035028933,0.0035028933,-14.465036,0.0035028933,10.294227,0.0035028933,0.0035028933,0.0035028933,0.0035028933,0.0035028933,-16.64499,0.0035028933,0.0035028933,0.0035028933,0.0035028933,0.0035028933,0.0035028933,0.0035028933,37.491283,0.0035028933,0.0035028933,34.394245,0.0035028933,0.0035028933,38.6972,0.0035028933,0.0035028933,0.0035028933,0.0035028933,0.0035028933,0.0035028933,21.055214,9.348214,0.0035028933,0.0035028933,16.65398,0.0035028933,-11.196214,32.213615,0.0035028933,0.0035028933,0.9210335,0.0035028933,0.0035028933,0.0035028933,-22.090778,0.0035028933,0.0035028933,2.979571,0.0035028933,0.0035028933,0.0035028933,0.0035028933,33.683304,0.0035028933,0.0035028933,0.0035028933,0.0035028933,0.0035028933,0.0035028933,0.0035028933,24.81657,0.0035028933,0.0035028933,0.0035028933,0.0035028933,-6.7347336,0.0035028933,0.0035028933,0.0035028933,-12.0186615,0.0035028933,0.0035028933,0.0035028933,0.0035028933,0.0035028933,0.0035028933,0.0035028933,0.0035028933,-18.136866,0.0035028933,0.0035028933,10.350512,0.0035028933,0.0035028933,0.0035028933,0.0035028933,26.230953,28.641756,0.0035028933,0.0035028933,0.0035028933,0.0035028933,0.0035028933,0.0035028933,10.759274,0.0035028933,0.0035028933,0.89333016,0.0035028933,0.0035028933,0.0035028933,0.0035028933,0.0035028933,0.0035028933,0.0035028933,0.0035028933,0.0035028933,0.0035028933,-10.314639,28.798784,0.0035028933,0.0035028933,0.0035028933,0.0035028933,0.0035028933,0.0035028933,26.766651,0.0035028933,-3.9011753,-23.290968,0.0035028933,7.421585,-22.650682,11.282053,0.0035028933,0.0035028933,0.0035028933,0.0035028933,0.040554304,0.0035028933,0.0035028933,0.0035028933,0.0035028933,0.0035028933,0.0035028933,10.514027,0.0035028933,0.0035028933,0.0035028933,19.540337,16.65398,0.0035028933,-12.664461,0.0035028933,0.0035028933,0.0035028933,0.0035028933,7.759274,0.0035028933,12.038877,0.0035028933,0.0035028933,0.0035028933,0.0035028933,0.0035028933,0.0035028933,39.31926,-34.10898,0.0035028933,-18.136866,0.0035028933,0.0035028933,0.0035028933,-10.314639,0.29889852,-19.748058,0.0035028933,36.174683,-21.073732,0.0035028933,0.0035028933,0.0035028933,0.0035028933,0.0035028933,0.0035028933,0.0035028933,0.0035028933,0.0035028933,36.36087,0.0035028933,0.0035028933,0.0035028933,0.0035028933,-1.631938,0.0035028933,10.759274,0.0035028933,-4.980714,-4.5193105,0.0035028933,10.759274,0.0035028933,0.0035028933,11.311983,0.89333016,-18.874697,0.0035028933,0.0035028933,0.0035028933,3.026656,-0.12808108,0.0035028933,7.6769543,0.89333016,-8.0072155,11.311983,11.311983,11.311983,0.0035028933,0.0035028933,0.0035028933,0.0035028933,0.0035028933,0.0035028933,0.0035028933,0.0035028933,0.0035028933,0.0035028933,0.0035028933,0.0035028933,0.0035028933,0.89333016,0.0035028933,0.89333016,0.023054952,7.6769543,0.89333016,-8.0072155,11.311983,11.311983,0.89333016,-18.874697,3.3025303,16.65398,0.0035028933,0.0035028933,0.0035028933,0.0035028933,-8.0072155,1.8334085,0.89333016,7.6769543,0.89333016,-8.0072155,11.311983,11.311983,0.89333016,-18.874697,0.0035028933,0.0035028933,0.0035028933,0.0035028933,3.026656,3.026656,0.0035028933,0.0035028933,0.0035028933,0.0035028933,0.0035028933,0.0035028933,0.0035028933,0.0035028933,0.0035028933,0.0035028933,3.92305,0.0035028933,0.0035028933,3.92305,0.0035028933,0.0035028933,0.0035028933,-18.874697,2.942626,3.026656,0.0035028933,0.0035028933,0.0035028933,0.0035028933,0.44030458,0.89333016,-4.2165003,3.0889602,-4.2165003,0.89333016,0.89333016,0.0035028933,0.0035028933,0.0035028933,0.89333016,0.0035028933,0.0035028933,0.0035028933,0.0035028933,0.0035028933,0.0035028933,0.0035028933,0.0035028933,0.0035028933,0.0035028933,0.0035028933,0.0035028933,0.0035028933,0.0035028933,0.0035028933,0.0035028933,-18.874697,0.0035028933,3.026656,0.0035028933,0.0035028933,-0.63690436,0.0035028933,7.6769543,0.89333016,-8.0072155,10.759274,10.759274,0.89333016,0.0035028933,-18.874697,3.026656,0.0035028933,0.89333016,-18.874697,0.0035028933,0.89333016,0.0035028933,0.0035028933,3.026656,-1.4683352,0.0035028933,7.6769543,0.89333016,-8.0072155,11.311983,3.0889602,11.311983,-18.874697,-0.63690436,0.0035028933,0.0035028933,0.0035028933,0.0035028933,3.026656,7.6769543,0.89333016,-8.0072155,11.311983,11.311983,0.89333016,0.89333016,-18.874697,0.89333016,11.311983,0.89333016,-18.874697,0.0035028933,-4.322504,0.89333016,0.0035028933,0.0035028933,0.0035028933,3.026656,0.44030458,0.89333016,-4.2165003,3.0889602,11.311983,-4.2165003,0.89333016,-18.874697,-0.63690436,-18.874697,0.0035028933,0.0035028933,0.0035028933,0.0035028933,0.0035028933,3.026656,7.6769543,-8.0072155,0.89333016,0.89333016,3.026656,0.0035028933,0.89333016,0.0035028933,0.0035028933,3.3025303,-11.553137,-11.553137,3.3025303,-11.553137,-14.034219,-11.553137,-11.553137,3.3025303,3.3025303,0.0035028933,0.0035028933,-11.553137,-14.034219,3.3025303,3.3025303,-11.553137,-11.553137,-11.553137,-11.553137,3.3025303,3.3025303,-18.874697,3.3025303,-0.63690436,0.0035028933,-11.553137,0.0035028933,0.0035028933,0.0035028933,0.0035028933,-0.63690436,0.0035028933,0.0035028933,0.44030458,0.89333016,-4.2165003,0.89333016,-4.2165003,3.0889602,0.89333016,-18.874697,3.026656,0.0035028933,0.0035028933,0.89333016,0.0035028933,0.0035028933,-2.3693142,0.44030458,-4.2165003,0.89333016,-4.2165003,0.89333016,3.0889602,0.89333016,-11.553137,-14.034219,3.3025303,0.0035028933,0.0035028933,0.0035028933,0.0035028933,-11.553137,0.0035028933,31.388035,0.0035028933,0.0035028933,10.759274,0.0035028933,0.0035028933,0.0035028933,0.0035028933,12.380961,0.89333016,-1.631938,-1.631938,17.16219,-1.631938,0.0035028933,0.0035028933,0.0035028933,-1.631938,-18.928886,0.0035028933,-1.631938,10.759274,0.0035028933,27.70951,-5.561885,0.0035028933,-1.631938,10.759274,-1.631938,0.0035028933,0.0035028933,0.0035028933,-17.990555,0.0035028933,31.315926,0.0035028933,0.0035028933,0.0035028933,13.852401,0.0035028933,0.0035028933,0.0035028933,0.0035028933,0.0035028933,0.0035028933,0.0035028933,0.0035028933,0.0035028933,18.025642,0.0035028933,0.0035028933,0.0035028933,0.0035028933,27.868841,0.0035028933,0.0035028933,0.0035028933,0.0035028933,20.544521,0.0035028933,10.759274,-5.561885,0.0035028933,0.0035028933,32.913074,0.0035028933,0.0035028933,0.0035028933,0.0035028933,-16.628162,0.0035028933,0.0035028933,0.0035028933,0.0035028933,0.0035028933,0.0035028933,0.0035028933,0.0035028933,0.0035028933,0.0035028933,0.0035028933,0.0035028933,4.0916624,0.0035028933,0.0035028933,0.0035028933,18.952986,0.0035028933,10.759274,-20.974426,0.0035028933,0.0035028933,0.0035028933,0.0035028933,0.0035028933,0.0035028933,0.0035028933,10.759274,10.759274,0.0035028933,0.0035028933,0.0035028933,0.0035028933,10.759274,0.0035028933,0.0035028933,0.0035028933,10.759274,0.89333016,39.18442,-18.136866,18.293352,0.0035028933,0.0035028933,0.0035028933,0.0035028933,0.0035028933,0.0035028933,0.0035028933,10.759274,0.0035028933,0.0035028933,25.100895,27.522661,0.0035028933,0.0035028933,0.0035028933,0.44030458,0.89333016,-4.2165003,3.0889602,-4.2165003,0.89333016,-18.874697,3.026656,0.0035028933,0.0035028933,0.0035028933,0.0035028933,2.7356663,0.0035028933,7.6769543,-8.0072155,11.311983,11.311983,0.89333016,0.0035028933,0.0035028933,12.380961,0.0035028933,0.0035028933,0.0035028933,0.0035028933,0.0035028933,0.0035028933,0.89333016,0.89333016,0.0035028933,2.0728028,0.0035028933,-3.4660745,3.026656,7.6769543,-8.0072155,0.89333016,11.311983,11.311983,0.89333016,0.89333016,-18.874697,3.026656,0.0035028933,0.0035028933,0.0035028933,-1.3636973,0.0035028933,7.6769543,0.89333016,-8.0072155,11.311983,11.311983,0.89333016,3.026656,-18.874697,0.0035028933,0.0035028933,3.026656,0.0035028933,-1.631938,0.0035028933,0.0035028933,18.238668,0.0035028933,0.0035028933,0.0035028933,0.0035028933,0.0035028933,30.950493,0.0035028933,-17.990555,0.0035028933,0.0035028933,32.31367,0.0035028933,0.0035028933,0.0035028933,0.0035028933,19.920107,10.759274,0.0035028933,0.0035028933,-18.136866,0.0035028933,27.813963,0.0035028933,0.0035028933,0.0035028933,16.135342,0.0035028933,0.0035028933,0.89333016,10.759274,0.0035028933,0.0035028933,0.0035028933,0.0035028933,35.615498,-1.631938,-1.631938,0.0035028933,0.0035028933,0.0035028933,-1.631938,21.724777,-18.928886,10.759274,-1.631938,-1.631938,29.117802,-1.631938,-5.561885,0.0035028933,-5.561885,10.759274,10.759274,10.759274,0.0035028933,10.759274,0.0035028933,0.0035028933,0.0035028933,10.759274,0.0035028933,3.3025303],\"type\":\"scatter3d\"}],                        {\"template\":{\"data\":{\"histogram2dcontour\":[{\"type\":\"histogram2dcontour\",\"colorbar\":{\"outlinewidth\":0,\"ticks\":\"\"},\"colorscale\":[[0.0,\"#0d0887\"],[0.1111111111111111,\"#46039f\"],[0.2222222222222222,\"#7201a8\"],[0.3333333333333333,\"#9c179e\"],[0.4444444444444444,\"#bd3786\"],[0.5555555555555556,\"#d8576b\"],[0.6666666666666666,\"#ed7953\"],[0.7777777777777778,\"#fb9f3a\"],[0.8888888888888888,\"#fdca26\"],[1.0,\"#f0f921\"]]}],\"choropleth\":[{\"type\":\"choropleth\",\"colorbar\":{\"outlinewidth\":0,\"ticks\":\"\"}}],\"histogram2d\":[{\"type\":\"histogram2d\",\"colorbar\":{\"outlinewidth\":0,\"ticks\":\"\"},\"colorscale\":[[0.0,\"#0d0887\"],[0.1111111111111111,\"#46039f\"],[0.2222222222222222,\"#7201a8\"],[0.3333333333333333,\"#9c179e\"],[0.4444444444444444,\"#bd3786\"],[0.5555555555555556,\"#d8576b\"],[0.6666666666666666,\"#ed7953\"],[0.7777777777777778,\"#fb9f3a\"],[0.8888888888888888,\"#fdca26\"],[1.0,\"#f0f921\"]]}],\"heatmap\":[{\"type\":\"heatmap\",\"colorbar\":{\"outlinewidth\":0,\"ticks\":\"\"},\"colorscale\":[[0.0,\"#0d0887\"],[0.1111111111111111,\"#46039f\"],[0.2222222222222222,\"#7201a8\"],[0.3333333333333333,\"#9c179e\"],[0.4444444444444444,\"#bd3786\"],[0.5555555555555556,\"#d8576b\"],[0.6666666666666666,\"#ed7953\"],[0.7777777777777778,\"#fb9f3a\"],[0.8888888888888888,\"#fdca26\"],[1.0,\"#f0f921\"]]}],\"heatmapgl\":[{\"type\":\"heatmapgl\",\"colorbar\":{\"outlinewidth\":0,\"ticks\":\"\"},\"colorscale\":[[0.0,\"#0d0887\"],[0.1111111111111111,\"#46039f\"],[0.2222222222222222,\"#7201a8\"],[0.3333333333333333,\"#9c179e\"],[0.4444444444444444,\"#bd3786\"],[0.5555555555555556,\"#d8576b\"],[0.6666666666666666,\"#ed7953\"],[0.7777777777777778,\"#fb9f3a\"],[0.8888888888888888,\"#fdca26\"],[1.0,\"#f0f921\"]]}],\"contourcarpet\":[{\"type\":\"contourcarpet\",\"colorbar\":{\"outlinewidth\":0,\"ticks\":\"\"}}],\"contour\":[{\"type\":\"contour\",\"colorbar\":{\"outlinewidth\":0,\"ticks\":\"\"},\"colorscale\":[[0.0,\"#0d0887\"],[0.1111111111111111,\"#46039f\"],[0.2222222222222222,\"#7201a8\"],[0.3333333333333333,\"#9c179e\"],[0.4444444444444444,\"#bd3786\"],[0.5555555555555556,\"#d8576b\"],[0.6666666666666666,\"#ed7953\"],[0.7777777777777778,\"#fb9f3a\"],[0.8888888888888888,\"#fdca26\"],[1.0,\"#f0f921\"]]}],\"surface\":[{\"type\":\"surface\",\"colorbar\":{\"outlinewidth\":0,\"ticks\":\"\"},\"colorscale\":[[0.0,\"#0d0887\"],[0.1111111111111111,\"#46039f\"],[0.2222222222222222,\"#7201a8\"],[0.3333333333333333,\"#9c179e\"],[0.4444444444444444,\"#bd3786\"],[0.5555555555555556,\"#d8576b\"],[0.6666666666666666,\"#ed7953\"],[0.7777777777777778,\"#fb9f3a\"],[0.8888888888888888,\"#fdca26\"],[1.0,\"#f0f921\"]]}],\"mesh3d\":[{\"type\":\"mesh3d\",\"colorbar\":{\"outlinewidth\":0,\"ticks\":\"\"}}],\"scatter\":[{\"fillpattern\":{\"fillmode\":\"overlay\",\"size\":10,\"solidity\":0.2},\"type\":\"scatter\"}],\"parcoords\":[{\"type\":\"parcoords\",\"line\":{\"colorbar\":{\"outlinewidth\":0,\"ticks\":\"\"}}}],\"scatterpolargl\":[{\"type\":\"scatterpolargl\",\"marker\":{\"colorbar\":{\"outlinewidth\":0,\"ticks\":\"\"}}}],\"bar\":[{\"error_x\":{\"color\":\"#2a3f5f\"},\"error_y\":{\"color\":\"#2a3f5f\"},\"marker\":{\"line\":{\"color\":\"#E5ECF6\",\"width\":0.5},\"pattern\":{\"fillmode\":\"overlay\",\"size\":10,\"solidity\":0.2}},\"type\":\"bar\"}],\"scattergeo\":[{\"type\":\"scattergeo\",\"marker\":{\"colorbar\":{\"outlinewidth\":0,\"ticks\":\"\"}}}],\"scatterpolar\":[{\"type\":\"scatterpolar\",\"marker\":{\"colorbar\":{\"outlinewidth\":0,\"ticks\":\"\"}}}],\"histogram\":[{\"marker\":{\"pattern\":{\"fillmode\":\"overlay\",\"size\":10,\"solidity\":0.2}},\"type\":\"histogram\"}],\"scattergl\":[{\"type\":\"scattergl\",\"marker\":{\"colorbar\":{\"outlinewidth\":0,\"ticks\":\"\"}}}],\"scatter3d\":[{\"type\":\"scatter3d\",\"line\":{\"colorbar\":{\"outlinewidth\":0,\"ticks\":\"\"}},\"marker\":{\"colorbar\":{\"outlinewidth\":0,\"ticks\":\"\"}}}],\"scattermapbox\":[{\"type\":\"scattermapbox\",\"marker\":{\"colorbar\":{\"outlinewidth\":0,\"ticks\":\"\"}}}],\"scatterternary\":[{\"type\":\"scatterternary\",\"marker\":{\"colorbar\":{\"outlinewidth\":0,\"ticks\":\"\"}}}],\"scattercarpet\":[{\"type\":\"scattercarpet\",\"marker\":{\"colorbar\":{\"outlinewidth\":0,\"ticks\":\"\"}}}],\"carpet\":[{\"aaxis\":{\"endlinecolor\":\"#2a3f5f\",\"gridcolor\":\"white\",\"linecolor\":\"white\",\"minorgridcolor\":\"white\",\"startlinecolor\":\"#2a3f5f\"},\"baxis\":{\"endlinecolor\":\"#2a3f5f\",\"gridcolor\":\"white\",\"linecolor\":\"white\",\"minorgridcolor\":\"white\",\"startlinecolor\":\"#2a3f5f\"},\"type\":\"carpet\"}],\"table\":[{\"cells\":{\"fill\":{\"color\":\"#EBF0F8\"},\"line\":{\"color\":\"white\"}},\"header\":{\"fill\":{\"color\":\"#C8D4E3\"},\"line\":{\"color\":\"white\"}},\"type\":\"table\"}],\"barpolar\":[{\"marker\":{\"line\":{\"color\":\"#E5ECF6\",\"width\":0.5},\"pattern\":{\"fillmode\":\"overlay\",\"size\":10,\"solidity\":0.2}},\"type\":\"barpolar\"}],\"pie\":[{\"automargin\":true,\"type\":\"pie\"}]},\"layout\":{\"autotypenumbers\":\"strict\",\"colorway\":[\"#636efa\",\"#EF553B\",\"#00cc96\",\"#ab63fa\",\"#FFA15A\",\"#19d3f3\",\"#FF6692\",\"#B6E880\",\"#FF97FF\",\"#FECB52\"],\"font\":{\"color\":\"#2a3f5f\"},\"hovermode\":\"closest\",\"hoverlabel\":{\"align\":\"left\"},\"paper_bgcolor\":\"white\",\"plot_bgcolor\":\"#E5ECF6\",\"polar\":{\"bgcolor\":\"#E5ECF6\",\"angularaxis\":{\"gridcolor\":\"white\",\"linecolor\":\"white\",\"ticks\":\"\"},\"radialaxis\":{\"gridcolor\":\"white\",\"linecolor\":\"white\",\"ticks\":\"\"}},\"ternary\":{\"bgcolor\":\"#E5ECF6\",\"aaxis\":{\"gridcolor\":\"white\",\"linecolor\":\"white\",\"ticks\":\"\"},\"baxis\":{\"gridcolor\":\"white\",\"linecolor\":\"white\",\"ticks\":\"\"},\"caxis\":{\"gridcolor\":\"white\",\"linecolor\":\"white\",\"ticks\":\"\"}},\"coloraxis\":{\"colorbar\":{\"outlinewidth\":0,\"ticks\":\"\"}},\"colorscale\":{\"sequential\":[[0.0,\"#0d0887\"],[0.1111111111111111,\"#46039f\"],[0.2222222222222222,\"#7201a8\"],[0.3333333333333333,\"#9c179e\"],[0.4444444444444444,\"#bd3786\"],[0.5555555555555556,\"#d8576b\"],[0.6666666666666666,\"#ed7953\"],[0.7777777777777778,\"#fb9f3a\"],[0.8888888888888888,\"#fdca26\"],[1.0,\"#f0f921\"]],\"sequentialminus\":[[0.0,\"#0d0887\"],[0.1111111111111111,\"#46039f\"],[0.2222222222222222,\"#7201a8\"],[0.3333333333333333,\"#9c179e\"],[0.4444444444444444,\"#bd3786\"],[0.5555555555555556,\"#d8576b\"],[0.6666666666666666,\"#ed7953\"],[0.7777777777777778,\"#fb9f3a\"],[0.8888888888888888,\"#fdca26\"],[1.0,\"#f0f921\"]],\"diverging\":[[0,\"#8e0152\"],[0.1,\"#c51b7d\"],[0.2,\"#de77ae\"],[0.3,\"#f1b6da\"],[0.4,\"#fde0ef\"],[0.5,\"#f7f7f7\"],[0.6,\"#e6f5d0\"],[0.7,\"#b8e186\"],[0.8,\"#7fbc41\"],[0.9,\"#4d9221\"],[1,\"#276419\"]]},\"xaxis\":{\"gridcolor\":\"white\",\"linecolor\":\"white\",\"ticks\":\"\",\"title\":{\"standoff\":15},\"zerolinecolor\":\"white\",\"automargin\":true,\"zerolinewidth\":2},\"yaxis\":{\"gridcolor\":\"white\",\"linecolor\":\"white\",\"ticks\":\"\",\"title\":{\"standoff\":15},\"zerolinecolor\":\"white\",\"automargin\":true,\"zerolinewidth\":2},\"scene\":{\"xaxis\":{\"backgroundcolor\":\"#E5ECF6\",\"gridcolor\":\"white\",\"linecolor\":\"white\",\"showbackground\":true,\"ticks\":\"\",\"zerolinecolor\":\"white\",\"gridwidth\":2},\"yaxis\":{\"backgroundcolor\":\"#E5ECF6\",\"gridcolor\":\"white\",\"linecolor\":\"white\",\"showbackground\":true,\"ticks\":\"\",\"zerolinecolor\":\"white\",\"gridwidth\":2},\"zaxis\":{\"backgroundcolor\":\"#E5ECF6\",\"gridcolor\":\"white\",\"linecolor\":\"white\",\"showbackground\":true,\"ticks\":\"\",\"zerolinecolor\":\"white\",\"gridwidth\":2}},\"shapedefaults\":{\"line\":{\"color\":\"#2a3f5f\"}},\"annotationdefaults\":{\"arrowcolor\":\"#2a3f5f\",\"arrowhead\":0,\"arrowwidth\":1},\"geo\":{\"bgcolor\":\"white\",\"landcolor\":\"#E5ECF6\",\"subunitcolor\":\"white\",\"showland\":true,\"showlakes\":true,\"lakecolor\":\"white\"},\"title\":{\"x\":0.05},\"mapbox\":{\"style\":\"light\"}}},\"scene\":{\"domain\":{\"x\":[0.0,1.0],\"y\":[0.0,1.0]},\"xaxis\":{\"title\":{\"text\":\"0\"}},\"yaxis\":{\"title\":{\"text\":\"1\"}},\"zaxis\":{\"title\":{\"text\":\"2\"}}},\"legend\":{\"title\":{\"text\":\"Cluster\"},\"tracegroupgap\":0},\"title\":{\"text\":\"3d TSNE Plot for Clusters\"},\"height\":800,\"width\":900},                        {\"responsive\": true}                    ).then(function(){\n",
              "                            \n",
              "var gd = document.getElementById('cf13d13b-cbda-45c2-b42d-10f76963022b');\n",
              "var x = new MutationObserver(function (mutations, observer) {{\n",
              "        var display = window.getComputedStyle(gd).display;\n",
              "        if (!display || display === 'none') {{\n",
              "            console.log([gd, 'removed!']);\n",
              "            Plotly.purge(gd);\n",
              "            observer.disconnect();\n",
              "        }}\n",
              "}});\n",
              "\n",
              "// Listen for the removal of the full notebook cells\n",
              "var notebookContainer = gd.closest('#notebook-container');\n",
              "if (notebookContainer) {{\n",
              "    x.observe(notebookContainer, {childList: true});\n",
              "}}\n",
              "\n",
              "// Listen for the clearing of the current output cell\n",
              "var outputEl = gd.closest('.output');\n",
              "if (outputEl) {{\n",
              "    x.observe(outputEl, {childList: true});\n",
              "}}\n",
              "\n",
              "                        })                };                            </script>        </div>\n",
              "</body>\n",
              "</html>"
            ]
          },
          "metadata": {},
          "output_type": "display_data"
        }
      ],
      "source": [
        "plot_model(kmeans, plot = 'tsne')"
      ]
    },
    {
      "cell_type": "code",
      "execution_count": 16,
      "metadata": {
        "id": "2OJXBJ6wKRXh"
      },
      "outputs": [],
      "source": [
        "kmeans_result = assign_model(kmeans)"
      ]
    },
    {
      "cell_type": "code",
      "execution_count": 17,
      "metadata": {
        "id": "vYk-AAJBq2Nm"
      },
      "outputs": [],
      "source": [
        "merged_data = pd.concat([http, kmeans_result[['Cluster']]], axis=1)\n",
        "\n",
        "# Save the merged data to CSV including the 'class' column\n",
        "#merged_data.to_csv('/kmeans_result_with_class.csv', index=False)"
      ]
    },
    {
      "cell_type": "code",
      "execution_count": 18,
      "metadata": {
        "colab": {
          "base_uri": "https://localhost:8080/",
          "height": 261
        },
        "id": "vnWDneY-TYN3",
        "outputId": "da5a402b-1d13-4f5c-a3a2-c9233d49131f"
      },
      "outputs": [
        {
          "data": {
            "text/html": [
              "<div>\n",
              "<style scoped>\n",
              "    .dataframe tbody tr th:only-of-type {\n",
              "        vertical-align: middle;\n",
              "    }\n",
              "\n",
              "    .dataframe tbody tr th {\n",
              "        vertical-align: top;\n",
              "    }\n",
              "\n",
              "    .dataframe thead th {\n",
              "        text-align: right;\n",
              "    }\n",
              "</style>\n",
              "<table border=\"1\" class=\"dataframe\">\n",
              "  <thead>\n",
              "    <tr style=\"text-align: right;\">\n",
              "      <th></th>\n",
              "      <th>Method</th>\n",
              "      <th>Path</th>\n",
              "      <th>Body</th>\n",
              "      <th>single_q</th>\n",
              "      <th>double_q</th>\n",
              "      <th>dashes</th>\n",
              "      <th>braces</th>\n",
              "      <th>spaces</th>\n",
              "      <th>badwords</th>\n",
              "    </tr>\n",
              "  </thead>\n",
              "  <tbody>\n",
              "    <tr>\n",
              "      <th>0</th>\n",
              "      <td>POST</td>\n",
              "      <td>b'/openrtb2/auction'</td>\n",
              "      <td>b'{\"imp\":[{\"ext\":{\"tid\":\"44e8281d-cf19-4593-a8...</td>\n",
              "      <td>0</td>\n",
              "      <td>212</td>\n",
              "      <td>1</td>\n",
              "      <td>2</td>\n",
              "      <td>11</td>\n",
              "      <td>0</td>\n",
              "    </tr>\n",
              "    <tr>\n",
              "      <th>1</th>\n",
              "      <td>POST</td>\n",
              "      <td>b'/header/auction?lib=prebid&amp;v=7.50.0&amp;referrer...</td>\n",
              "      <td>b'{\"imp\":[{\"id\":0,\"tagid\":\"gfg_desktop_300x250...</td>\n",
              "      <td>0</td>\n",
              "      <td>298</td>\n",
              "      <td>1</td>\n",
              "      <td>0</td>\n",
              "      <td>0</td>\n",
              "      <td>0</td>\n",
              "    </tr>\n",
              "    <tr>\n",
              "      <th>2</th>\n",
              "      <td>POST</td>\n",
              "      <td>b'/hb/bid-request'</td>\n",
              "      <td>b'{\"referrer\":\"https://www.geeksforgeeks.org/d...</td>\n",
              "      <td>0</td>\n",
              "      <td>106</td>\n",
              "      <td>1</td>\n",
              "      <td>0</td>\n",
              "      <td>0</td>\n",
              "      <td>0</td>\n",
              "    </tr>\n",
              "    <tr>\n",
              "      <th>3</th>\n",
              "      <td>POST</td>\n",
              "      <td>b'/hb-mm-multi'</td>\n",
              "      <td>b'{\"params\":{\"wrapper_type\":\"prebidjs\",\"wrappe...</td>\n",
              "      <td>0</td>\n",
              "      <td>124</td>\n",
              "      <td>1</td>\n",
              "      <td>2</td>\n",
              "      <td>11</td>\n",
              "      <td>0</td>\n",
              "    </tr>\n",
              "    <tr>\n",
              "      <th>4</th>\n",
              "      <td>POST</td>\n",
              "      <td>b'/openrtbb/prebidjs'</td>\n",
              "      <td>b'{\"imp\":[{\"ext\":{\"tid\":\"44e8281d-cf19-4593-a8...</td>\n",
              "      <td>0</td>\n",
              "      <td>194</td>\n",
              "      <td>1</td>\n",
              "      <td>2</td>\n",
              "      <td>11</td>\n",
              "      <td>0</td>\n",
              "    </tr>\n",
              "  </tbody>\n",
              "</table>\n",
              "</div>"
            ],
            "text/plain": [
              "  Method                                               Path  \\\n",
              "0   POST                               b'/openrtb2/auction'   \n",
              "1   POST  b'/header/auction?lib=prebid&v=7.50.0&referrer...   \n",
              "2   POST                                 b'/hb/bid-request'   \n",
              "3   POST                                    b'/hb-mm-multi'   \n",
              "4   POST                              b'/openrtbb/prebidjs'   \n",
              "\n",
              "                                                Body  single_q  double_q  \\\n",
              "0  b'{\"imp\":[{\"ext\":{\"tid\":\"44e8281d-cf19-4593-a8...         0       212   \n",
              "1  b'{\"imp\":[{\"id\":0,\"tagid\":\"gfg_desktop_300x250...         0       298   \n",
              "2  b'{\"referrer\":\"https://www.geeksforgeeks.org/d...         0       106   \n",
              "3  b'{\"params\":{\"wrapper_type\":\"prebidjs\",\"wrappe...         0       124   \n",
              "4  b'{\"imp\":[{\"ext\":{\"tid\":\"44e8281d-cf19-4593-a8...         0       194   \n",
              "\n",
              "   dashes  braces  spaces  badwords  \n",
              "0       1       2      11         0  \n",
              "1       1       0       0         0  \n",
              "2       1       0       0         0  \n",
              "3       1       2      11         0  \n",
              "4       1       2      11         0  "
            ]
          },
          "execution_count": 18,
          "metadata": {},
          "output_type": "execute_result"
        }
      ],
      "source": [
        "import pandas as pd\n",
        "test_http = pd.read_csv(\"C:\\\\Users\\\\pranil\\\\Desktop\\\\burpy-master\\\\test.csv\")\n",
        "test_http.head()"
      ]
    },
    {
      "cell_type": "code",
      "execution_count": 19,
      "metadata": {
        "colab": {
          "base_uri": "https://localhost:8080/",
          "height": 1000
        },
        "id": "AlfZbiSVPr7m",
        "outputId": "522d6c87-5c53-4e7f-a469-9d560b002e08"
      },
      "outputs": [
        {
          "name": "stdout",
          "output_type": "stream",
          "text": [
            "Requirement already satisfied: pycaret in c:\\users\\pranil\\appdata\\local\\programs\\python\\python39\\lib\\site-packages (3.2.0)\n",
            "Requirement already satisfied: pyod>=1.0.8 in c:\\users\\pranil\\appdata\\local\\programs\\python\\python39\\lib\\site-packages (from pycaret) (1.1.2)\n",
            "Requirement already satisfied: scikit-learn<1.3.0,>=1.0 in c:\\users\\pranil\\appdata\\local\\programs\\python\\python39\\lib\\site-packages (from pycaret) (1.0.2)\n",
            "Requirement already satisfied: lightgbm>=3.0.0 in c:\\users\\pranil\\appdata\\local\\programs\\python\\python39\\lib\\site-packages (from pycaret) (4.1.0)\n",
            "Requirement already satisfied: schemdraw==0.15 in c:\\users\\pranil\\appdata\\local\\programs\\python\\python39\\lib\\site-packages (from pycaret) (0.15)\n",
            "Requirement already satisfied: deprecation>=2.1.0 in c:\\users\\pranil\\appdata\\local\\programs\\python\\python39\\lib\\site-packages (from pycaret) (2.1.0)\n",
            "Requirement already satisfied: pmdarima!=1.8.1,<3.0.0,>=1.8.0 in c:\\users\\pranil\\appdata\\local\\programs\\python\\python39\\lib\\site-packages (from pycaret) (2.0.4)\n",
            "Requirement already satisfied: imbalanced-learn>=0.8.1 in c:\\users\\pranil\\appdata\\local\\programs\\python\\python39\\lib\\site-packages (from pycaret) (0.11.0)\n",
            "Requirement already satisfied: sktime!=0.17.1,!=0.17.2,!=0.18.0,<0.22.0,>=0.16.1 in c:\\users\\pranil\\appdata\\local\\programs\\python\\python39\\lib\\site-packages (from pycaret) (0.21.1)\n",
            "Requirement already satisfied: scikit-plot>=0.3.7 in c:\\users\\pranil\\appdata\\local\\programs\\python\\python39\\lib\\site-packages (from pycaret) (0.3.7)\n",
            "Requirement already satisfied: ipywidgets>=7.6.5 in c:\\users\\pranil\\appdata\\local\\programs\\python\\python39\\lib\\site-packages (from pycaret) (7.6.5)\n",
            "Requirement already satisfied: markupsafe>=2.0.1 in c:\\users\\pranil\\appdata\\local\\programs\\python\\python39\\lib\\site-packages (from pycaret) (2.1.2)\n",
            "Requirement already satisfied: ipython>=5.5.0 in c:\\users\\pranil\\appdata\\local\\programs\\python\\python39\\lib\\site-packages (from pycaret) (8.1.1)\n",
            "Requirement already satisfied: requests>=2.27.1 in c:\\users\\pranil\\appdata\\local\\programs\\python\\python39\\lib\\site-packages (from pycaret) (2.31.0)\n",
            "Requirement already satisfied: psutil>=5.9.0 in c:\\users\\pranil\\appdata\\local\\programs\\python\\python39\\lib\\site-packages (from pycaret) (5.9.6)\n",
            "Requirement already satisfied: importlib-metadata>=4.12.0 in c:\\users\\pranil\\appdata\\local\\programs\\python\\python39\\lib\\site-packages (from pycaret) (6.8.0)\n",
            "Requirement already satisfied: plotly>=5.0.0 in c:\\users\\pranil\\appdata\\local\\programs\\python\\python39\\lib\\site-packages (from pycaret) (5.18.0)\n",
            "Requirement already satisfied: joblib>=1.2.0 in c:\\users\\pranil\\appdata\\local\\programs\\python\\python39\\lib\\site-packages (from pycaret) (1.3.2)\n",
            "Requirement already satisfied: tqdm>=4.62.0 in c:\\users\\pranil\\appdata\\local\\programs\\python\\python39\\lib\\site-packages (from pycaret) (4.62.0)\n",
            "Requirement already satisfied: scipy~=1.10.1 in c:\\users\\pranil\\appdata\\local\\programs\\python\\python39\\lib\\site-packages (from pycaret) (1.10.1)\n",
            "Requirement already satisfied: pandas<2.0.0,>=1.3.0 in c:\\users\\pranil\\appdata\\local\\programs\\python\\python39\\lib\\site-packages (from pycaret) (1.3.2)\n",
            "Requirement already satisfied: category-encoders>=2.4.0 in c:\\users\\pranil\\appdata\\local\\programs\\python\\python39\\lib\\site-packages (from pycaret) (2.6.3)\n",
            "Requirement already satisfied: statsmodels>=0.12.1 in c:\\users\\pranil\\appdata\\local\\programs\\python\\python39\\lib\\site-packages (from pycaret) (0.14.0)\n",
            "Requirement already satisfied: nbformat>=4.2.0 in c:\\users\\pranil\\appdata\\local\\programs\\python\\python39\\lib\\site-packages (from pycaret) (5.1.3)\n",
            "Requirement already satisfied: matplotlib<=3.6,>=3.3.0 in c:\\users\\pranil\\appdata\\local\\programs\\python\\python39\\lib\\site-packages (from pycaret) (3.4.3)\n",
            "Requirement already satisfied: numba>=0.55.0 in c:\\users\\pranil\\appdata\\local\\programs\\python\\python39\\lib\\site-packages (from pycaret) (0.58.1)\n",
            "Requirement already satisfied: yellowbrick>=1.4 in c:\\users\\pranil\\appdata\\local\\programs\\python\\python39\\lib\\site-packages (from pycaret) (1.5)\n",
            "Requirement already satisfied: plotly-resampler>=0.8.3.1 in c:\\users\\pranil\\appdata\\local\\programs\\python\\python39\\lib\\site-packages (from pycaret) (0.9.1)\n",
            "Requirement already satisfied: jinja2>=1.2 in c:\\users\\pranil\\appdata\\local\\programs\\python\\python39\\lib\\site-packages (from pycaret) (3.0.3)\n",
            "Requirement already satisfied: tbats>=1.1.3 in c:\\users\\pranil\\appdata\\local\\programs\\python\\python39\\lib\\site-packages (from pycaret) (1.1.3)\n",
            "Requirement already satisfied: cloudpickle in c:\\users\\pranil\\appdata\\local\\programs\\python\\python39\\lib\\site-packages (from pycaret) (3.0.0)\n",
            "Requirement already satisfied: numpy<1.27,>=1.21 in c:\\users\\pranil\\appdata\\local\\programs\\python\\python39\\lib\\site-packages (from pycaret) (1.24.2)\n",
            "Requirement already satisfied: kaleido>=0.2.1 in c:\\users\\pranil\\appdata\\local\\programs\\python\\python39\\lib\\site-packages (from pycaret) (0.2.1)\n",
            "Requirement already satisfied: xxhash in c:\\users\\pranil\\appdata\\local\\programs\\python\\python39\\lib\\site-packages (from pycaret) (3.4.1)\n",
            "Requirement already satisfied: patsy>=0.5.1 in c:\\users\\pranil\\appdata\\local\\programs\\python\\python39\\lib\\site-packages (from category-encoders>=2.4.0->pycaret) (0.5.3)\n",
            "Requirement already satisfied: packaging in c:\\users\\pranil\\appdata\\local\\programs\\python\\python39\\lib\\site-packages (from deprecation>=2.1.0->pycaret) (23.2)\n",
            "Requirement already satisfied: threadpoolctl>=2.0.0 in c:\\users\\pranil\\appdata\\local\\programs\\python\\python39\\lib\\site-packages (from imbalanced-learn>=0.8.1->pycaret) (3.1.0)\n",
            "Requirement already satisfied: zipp>=0.5 in c:\\users\\pranil\\appdata\\local\\programs\\python\\python39\\lib\\site-packages (from importlib-metadata>=4.12.0->pycaret) (3.8.0)\n",
            "Requirement already satisfied: traitlets>=5 in c:\\users\\pranil\\appdata\\local\\programs\\python\\python39\\lib\\site-packages (from ipython>=5.5.0->pycaret) (5.1.1)\n",
            "Requirement already satisfied: pickleshare in c:\\users\\pranil\\appdata\\local\\programs\\python\\python39\\lib\\site-packages (from ipython>=5.5.0->pycaret) (0.7.5)\n",
            "Requirement already satisfied: decorator in c:\\users\\pranil\\appdata\\local\\programs\\python\\python39\\lib\\site-packages (from ipython>=5.5.0->pycaret) (4.4.2)\n",
            "Requirement already satisfied: pygments>=2.4.0 in c:\\users\\pranil\\appdata\\local\\programs\\python\\python39\\lib\\site-packages (from ipython>=5.5.0->pycaret) (2.10.0)\n",
            "Requirement already satisfied: setuptools>=18.5 in c:\\users\\pranil\\appdata\\local\\programs\\python\\python39\\lib\\site-packages (from ipython>=5.5.0->pycaret) (57.0.0)\n",
            "Requirement already satisfied: prompt-toolkit!=3.0.0,!=3.0.1,<3.1.0,>=2.0.0 in c:\\users\\pranil\\appdata\\local\\programs\\python\\python39\\lib\\site-packages (from ipython>=5.5.0->pycaret) (3.0.28)\n",
            "Requirement already satisfied: jedi>=0.16 in c:\\users\\pranil\\appdata\\local\\programs\\python\\python39\\lib\\site-packages (from ipython>=5.5.0->pycaret) (0.18.1)\n",
            "Requirement already satisfied: matplotlib-inline in c:\\users\\pranil\\appdata\\local\\programs\\python\\python39\\lib\\site-packages (from ipython>=5.5.0->pycaret) (0.1.3)\n",
            "Requirement already satisfied: stack-data in c:\\users\\pranil\\appdata\\local\\programs\\python\\python39\\lib\\site-packages (from ipython>=5.5.0->pycaret) (0.2.0)\n",
            "Requirement already satisfied: colorama in c:\\users\\pranil\\appdata\\local\\programs\\python\\python39\\lib\\site-packages (from ipython>=5.5.0->pycaret) (0.4.4)\n",
            "Requirement already satisfied: backcall in c:\\users\\pranil\\appdata\\local\\programs\\python\\python39\\lib\\site-packages (from ipython>=5.5.0->pycaret) (0.2.0)\n",
            "Requirement already satisfied: widgetsnbextension~=3.5.0 in c:\\users\\pranil\\appdata\\local\\programs\\python\\python39\\lib\\site-packages (from ipywidgets>=7.6.5->pycaret) (3.5.2)\n",
            "Requirement already satisfied: ipython-genutils~=0.2.0 in c:\\users\\pranil\\appdata\\local\\programs\\python\\python39\\lib\\site-packages (from ipywidgets>=7.6.5->pycaret) (0.2.0)\n",
            "Requirement already satisfied: ipykernel>=4.5.1 in c:\\users\\pranil\\appdata\\local\\programs\\python\\python39\\lib\\site-packages (from ipywidgets>=7.6.5->pycaret) (6.9.1)\n",
            "Requirement already satisfied: jupyterlab-widgets>=1.0.0 in c:\\users\\pranil\\appdata\\local\\programs\\python\\python39\\lib\\site-packages (from ipywidgets>=7.6.5->pycaret) (1.0.2)\n",
            "Requirement already satisfied: pillow>=6.2.0 in c:\\users\\pranil\\appdata\\local\\programs\\python\\python39\\lib\\site-packages (from matplotlib<=3.6,>=3.3.0->pycaret) (9.4.0)\n",
            "Requirement already satisfied: pyparsing>=2.2.1 in c:\\users\\pranil\\appdata\\local\\programs\\python\\python39\\lib\\site-packages (from matplotlib<=3.6,>=3.3.0->pycaret) (2.4.7)\n",
            "Requirement already satisfied: cycler>=0.10 in c:\\users\\pranil\\appdata\\local\\programs\\python\\python39\\lib\\site-packages (from matplotlib<=3.6,>=3.3.0->pycaret) (0.10.0)\n",
            "Requirement already satisfied: kiwisolver>=1.0.1 in c:\\users\\pranil\\appdata\\local\\programs\\python\\python39\\lib\\site-packages (from matplotlib<=3.6,>=3.3.0->pycaret) (1.3.1)\n",
            "Requirement already satisfied: python-dateutil>=2.7 in c:\\users\\pranil\\appdata\\local\\programs\\python\\python39\\lib\\site-packages (from matplotlib<=3.6,>=3.3.0->pycaret) (2.8.2)\n",
            "Requirement already satisfied: jsonschema!=2.5.0,>=2.4 in c:\\users\\pranil\\appdata\\local\\programs\\python\\python39\\lib\\site-packages (from nbformat>=4.2.0->pycaret) (4.4.0)\n",
            "Requirement already satisfied: jupyter-core in c:\\users\\pranil\\appdata\\local\\programs\\python\\python39\\lib\\site-packages (from nbformat>=4.2.0->pycaret) (4.9.2)\n",
            "Requirement already satisfied: llvmlite<0.42,>=0.41.0dev0 in c:\\users\\pranil\\appdata\\local\\programs\\python\\python39\\lib\\site-packages (from numba>=0.55.0->pycaret) (0.41.1)\n",
            "Requirement already satisfied: pytz>=2017.3 in c:\\users\\pranil\\appdata\\local\\programs\\python\\python39\\lib\\site-packages (from pandas<2.0.0,>=1.3.0->pycaret) (2021.1)\n",
            "Requirement already satisfied: tenacity>=6.2.0 in c:\\users\\pranil\\appdata\\local\\programs\\python\\python39\\lib\\site-packages (from plotly>=5.0.0->pycaret) (8.2.3)\n",
            "Requirement already satisfied: dash<3.0.0,>=2.11.0 in c:\\users\\pranil\\appdata\\local\\programs\\python\\python39\\lib\\site-packages (from plotly-resampler>=0.8.3.1->pycaret) (2.14.2)\n",
            "Requirement already satisfied: trace-updater>=0.0.8 in c:\\users\\pranil\\appdata\\local\\programs\\python\\python39\\lib\\site-packages (from plotly-resampler>=0.8.3.1->pycaret) (0.0.9.1)\n",
            "Requirement already satisfied: tsdownsample==0.1.2 in c:\\users\\pranil\\appdata\\local\\programs\\python\\python39\\lib\\site-packages (from plotly-resampler>=0.8.3.1->pycaret) (0.1.2)\n",
            "Requirement already satisfied: orjson<4.0.0,>=3.8.0 in c:\\users\\pranil\\appdata\\local\\programs\\python\\python39\\lib\\site-packages (from plotly-resampler>=0.8.3.1->pycaret) (3.9.10)\n",
            "Requirement already satisfied: Cython!=0.29.18,!=0.29.31,>=0.29 in c:\\users\\pranil\\appdata\\local\\programs\\python\\python39\\lib\\site-packages (from pmdarima!=1.8.1,<3.0.0,>=1.8.0->pycaret) (0.29.24)\n",
            "Requirement already satisfied: urllib3 in c:\\users\\pranil\\appdata\\local\\programs\\python\\python39\\lib\\site-packages (from pmdarima!=1.8.1,<3.0.0,>=1.8.0->pycaret) (1.26.3)\n",
            "Requirement already satisfied: six in c:\\users\\pranil\\appdata\\local\\programs\\python\\python39\\lib\\site-packages (from pyod>=1.0.8->pycaret) (1.15.0)\n",
            "Requirement already satisfied: idna<4,>=2.5 in c:\\users\\pranil\\appdata\\local\\programs\\python\\python39\\lib\\site-packages (from requests>=2.27.1->pycaret) (2.10)\n",
            "Requirement already satisfied: certifi>=2017.4.17 in c:\\users\\pranil\\appdata\\local\\programs\\python\\python39\\lib\\site-packages (from requests>=2.27.1->pycaret) (2020.12.5)\n",
            "Requirement already satisfied: charset-normalizer<4,>=2 in c:\\users\\pranil\\appdata\\local\\programs\\python\\python39\\lib\\site-packages (from requests>=2.27.1->pycaret) (3.3.2)\n",
            "Requirement already satisfied: deprecated>=1.2.13 in c:\\users\\pranil\\appdata\\local\\programs\\python\\python39\\lib\\site-packages (from sktime!=0.17.1,!=0.17.2,!=0.18.0,<0.22.0,>=0.16.1->pycaret) (1.2.14)\n",
            "Requirement already satisfied: scikit-base<0.6.0 in c:\\users\\pranil\\appdata\\local\\programs\\python\\python39\\lib\\site-packages (from sktime!=0.17.1,!=0.17.2,!=0.18.0,<0.22.0,>=0.16.1->pycaret) (0.5.2)\n",
            "Requirement already satisfied: typing-extensions>=4.1.1 in c:\\users\\pranil\\appdata\\local\\programs\\python\\python39\\lib\\site-packages (from dash<3.0.0,>=2.11.0->plotly-resampler>=0.8.3.1->pycaret) (4.5.0)\n",
            "Requirement already satisfied: dash-table==5.0.0 in c:\\users\\pranil\\appdata\\local\\programs\\python\\python39\\lib\\site-packages (from dash<3.0.0,>=2.11.0->plotly-resampler>=0.8.3.1->pycaret) (5.0.0)\n",
            "Requirement already satisfied: ansi2html in c:\\users\\pranil\\appdata\\local\\programs\\python\\python39\\lib\\site-packages (from dash<3.0.0,>=2.11.0->plotly-resampler>=0.8.3.1->pycaret) (1.8.0)\n",
            "Requirement already satisfied: dash-html-components==2.0.0 in c:\\users\\pranil\\appdata\\local\\programs\\python\\python39\\lib\\site-packages (from dash<3.0.0,>=2.11.0->plotly-resampler>=0.8.3.1->pycaret) (2.0.0)\n",
            "Requirement already satisfied: retrying in c:\\users\\pranil\\appdata\\local\\programs\\python\\python39\\lib\\site-packages (from dash<3.0.0,>=2.11.0->plotly-resampler>=0.8.3.1->pycaret) (1.3.4)\n",
            "Requirement already satisfied: Werkzeug<3.1 in c:\\users\\pranil\\appdata\\local\\programs\\python\\python39\\lib\\site-packages (from dash<3.0.0,>=2.11.0->plotly-resampler>=0.8.3.1->pycaret) (2.2.3)\n",
            "Requirement already satisfied: dash-core-components==2.0.0 in c:\\users\\pranil\\appdata\\local\\programs\\python\\python39\\lib\\site-packages (from dash<3.0.0,>=2.11.0->plotly-resampler>=0.8.3.1->pycaret) (2.0.0)\n",
            "Requirement already satisfied: nest-asyncio in c:\\users\\pranil\\appdata\\local\\programs\\python\\python39\\lib\\site-packages (from dash<3.0.0,>=2.11.0->plotly-resampler>=0.8.3.1->pycaret) (1.5.4)\n",
            "Requirement already satisfied: Flask<3.1,>=1.0.4 in c:\\users\\pranil\\appdata\\local\\programs\\python\\python39\\lib\\site-packages (from dash<3.0.0,>=2.11.0->plotly-resampler>=0.8.3.1->pycaret) (2.2.3)\n",
            "Requirement already satisfied: wrapt<2,>=1.10 in c:\\users\\pranil\\appdata\\local\\programs\\python\\python39\\lib\\site-packages (from deprecated>=1.2.13->sktime!=0.17.1,!=0.17.2,!=0.18.0,<0.22.0,>=0.16.1->pycaret) (1.12.1)\n",
            "Requirement already satisfied: debugpy<2.0,>=1.0.0 in c:\\users\\pranil\\appdata\\local\\programs\\python\\python39\\lib\\site-packages (from ipykernel>=4.5.1->ipywidgets>=7.6.5->pycaret) (1.5.1)\n",
            "Requirement already satisfied: jupyter-client<8.0 in c:\\users\\pranil\\appdata\\local\\programs\\python\\python39\\lib\\site-packages (from ipykernel>=4.5.1->ipywidgets>=7.6.5->pycaret) (7.1.2)\n",
            "Requirement already satisfied: tornado<7.0,>=4.2 in c:\\users\\pranil\\appdata\\local\\programs\\python\\python39\\lib\\site-packages (from ipykernel>=4.5.1->ipywidgets>=7.6.5->pycaret) (6.1)\n",
            "Requirement already satisfied: parso<0.9.0,>=0.8.0 in c:\\users\\pranil\\appdata\\local\\programs\\python\\python39\\lib\\site-packages (from jedi>=0.16->ipython>=5.5.0->pycaret) (0.8.3)\n",
            "Requirement already satisfied: pyrsistent!=0.17.0,!=0.17.1,!=0.17.2,>=0.14.0 in c:\\users\\pranil\\appdata\\local\\programs\\python\\python39\\lib\\site-packages (from jsonschema!=2.5.0,>=2.4->nbformat>=4.2.0->pycaret) (0.18.1)\n",
            "Requirement already satisfied: attrs>=17.4.0 in c:\\users\\pranil\\appdata\\local\\programs\\python\\python39\\lib\\site-packages (from jsonschema!=2.5.0,>=2.4->nbformat>=4.2.0->pycaret) (21.2.0)\n",
            "Requirement already satisfied: wcwidth in c:\\users\\pranil\\appdata\\local\\programs\\python\\python39\\lib\\site-packages (from prompt-toolkit!=3.0.0,!=3.0.1,<3.1.0,>=2.0.0->ipython>=5.5.0->pycaret) (0.2.5)\n",
            "Requirement already satisfied: notebook>=4.4.1 in c:\\users\\pranil\\appdata\\local\\programs\\python\\python39\\lib\\site-packages (from widgetsnbextension~=3.5.0->ipywidgets>=7.6.5->pycaret) (6.4.8)\n",
            "Requirement already satisfied: pywin32>=1.0 in c:\\users\\pranil\\appdata\\local\\programs\\python\\python39\\lib\\site-packages (from jupyter-core->nbformat>=4.2.0->pycaret) (301)\n",
            "Requirement already satisfied: pure-eval in c:\\users\\pranil\\appdata\\local\\programs\\python\\python39\\lib\\site-packages (from stack-data->ipython>=5.5.0->pycaret) (0.2.2)\n",
            "Requirement already satisfied: executing in c:\\users\\pranil\\appdata\\local\\programs\\python\\python39\\lib\\site-packages (from stack-data->ipython>=5.5.0->pycaret) (0.8.3)\n",
            "Requirement already satisfied: asttokens in c:\\users\\pranil\\appdata\\local\\programs\\python\\python39\\lib\\site-packages (from stack-data->ipython>=5.5.0->pycaret) (2.0.5)\n",
            "Requirement already satisfied: click>=8.0 in c:\\users\\pranil\\appdata\\local\\programs\\python\\python39\\lib\\site-packages (from Flask<3.1,>=1.0.4->dash<3.0.0,>=2.11.0->plotly-resampler>=0.8.3.1->pycaret) (8.1.3)\n",
            "Requirement already satisfied: itsdangerous>=2.0 in c:\\users\\pranil\\appdata\\local\\programs\\python\\python39\\lib\\site-packages (from Flask<3.1,>=1.0.4->dash<3.0.0,>=2.11.0->plotly-resampler>=0.8.3.1->pycaret) (2.1.2)\n",
            "Requirement already satisfied: pyzmq>=13 in c:\\users\\pranil\\appdata\\local\\programs\\python\\python39\\lib\\site-packages (from jupyter-client<8.0->ipykernel>=4.5.1->ipywidgets>=7.6.5->pycaret) (22.3.0)\n",
            "Requirement already satisfied: entrypoints in c:\\users\\pranil\\appdata\\local\\programs\\python\\python39\\lib\\site-packages (from jupyter-client<8.0->ipykernel>=4.5.1->ipywidgets>=7.6.5->pycaret) (0.4)\n",
            "Requirement already satisfied: nbconvert in c:\\users\\pranil\\appdata\\local\\programs\\python\\python39\\lib\\site-packages (from notebook>=4.4.1->widgetsnbextension~=3.5.0->ipywidgets>=7.6.5->pycaret) (6.4.2)\n",
            "Requirement already satisfied: terminado>=0.8.3 in c:\\users\\pranil\\appdata\\local\\programs\\python\\python39\\lib\\site-packages (from notebook>=4.4.1->widgetsnbextension~=3.5.0->ipywidgets>=7.6.5->pycaret) (0.13.3)\n",
            "Requirement already satisfied: prometheus-client in c:\\users\\pranil\\appdata\\local\\programs\\python\\python39\\lib\\site-packages (from notebook>=4.4.1->widgetsnbextension~=3.5.0->ipywidgets>=7.6.5->pycaret) (0.13.1)\n",
            "Requirement already satisfied: Send2Trash>=1.8.0 in c:\\users\\pranil\\appdata\\local\\programs\\python\\python39\\lib\\site-packages (from notebook>=4.4.1->widgetsnbextension~=3.5.0->ipywidgets>=7.6.5->pycaret) (1.8.0)\n",
            "Requirement already satisfied: argon2-cffi in c:\\users\\pranil\\appdata\\local\\programs\\python\\python39\\lib\\site-packages (from notebook>=4.4.1->widgetsnbextension~=3.5.0->ipywidgets>=7.6.5->pycaret) (21.3.0)\n",
            "Requirement already satisfied: pywinpty>=1.1.0 in c:\\users\\pranil\\appdata\\local\\programs\\python\\python39\\lib\\site-packages (from terminado>=0.8.3->notebook>=4.4.1->widgetsnbextension~=3.5.0->ipywidgets>=7.6.5->pycaret) (1.1.6)\n",
            "Requirement already satisfied: argon2-cffi-bindings in c:\\users\\pranil\\appdata\\local\\programs\\python\\python39\\lib\\site-packages (from argon2-cffi->notebook>=4.4.1->widgetsnbextension~=3.5.0->ipywidgets>=7.6.5->pycaret) (21.2.0)\n",
            "Requirement already satisfied: jupyterlab-pygments in c:\\users\\pranil\\appdata\\local\\programs\\python\\python39\\lib\\site-packages (from nbconvert->notebook>=4.4.1->widgetsnbextension~=3.5.0->ipywidgets>=7.6.5->pycaret) (0.1.2)\n",
            "Requirement already satisfied: mistune<2,>=0.8.1 in c:\\users\\pranil\\appdata\\local\\programs\\python\\python39\\lib\\site-packages (from nbconvert->notebook>=4.4.1->widgetsnbextension~=3.5.0->ipywidgets>=7.6.5->pycaret) (0.8.4)\n",
            "Requirement already satisfied: nbclient<0.6.0,>=0.5.0 in c:\\users\\pranil\\appdata\\local\\programs\\python\\python39\\lib\\site-packages (from nbconvert->notebook>=4.4.1->widgetsnbextension~=3.5.0->ipywidgets>=7.6.5->pycaret) (0.5.12)\n",
            "Requirement already satisfied: defusedxml in c:\\users\\pranil\\appdata\\local\\programs\\python\\python39\\lib\\site-packages (from nbconvert->notebook>=4.4.1->widgetsnbextension~=3.5.0->ipywidgets>=7.6.5->pycaret) (0.7.1)\n",
            "Requirement already satisfied: bleach in c:\\users\\pranil\\appdata\\local\\programs\\python\\python39\\lib\\site-packages (from nbconvert->notebook>=4.4.1->widgetsnbextension~=3.5.0->ipywidgets>=7.6.5->pycaret) (4.1.0)\n",
            "Requirement already satisfied: testpath in c:\\users\\pranil\\appdata\\local\\programs\\python\\python39\\lib\\site-packages (from nbconvert->notebook>=4.4.1->widgetsnbextension~=3.5.0->ipywidgets>=7.6.5->pycaret) (0.6.0)\n",
            "Requirement already satisfied: pandocfilters>=1.4.1 in c:\\users\\pranil\\appdata\\local\\programs\\python\\python39\\lib\\site-packages (from nbconvert->notebook>=4.4.1->widgetsnbextension~=3.5.0->ipywidgets>=7.6.5->pycaret) (1.5.0)\n",
            "Requirement already satisfied: cffi>=1.0.1 in c:\\users\\pranil\\appdata\\local\\programs\\python\\python39\\lib\\site-packages (from argon2-cffi-bindings->argon2-cffi->notebook>=4.4.1->widgetsnbextension~=3.5.0->ipywidgets>=7.6.5->pycaret) (1.15.0)\n",
            "Requirement already satisfied: webencodings in c:\\users\\pranil\\appdata\\local\\programs\\python\\python39\\lib\\site-packages (from bleach->nbconvert->notebook>=4.4.1->widgetsnbextension~=3.5.0->ipywidgets>=7.6.5->pycaret) (0.5.1)\n",
            "Requirement already satisfied: pycparser in c:\\users\\pranil\\appdata\\local\\programs\\python\\python39\\lib\\site-packages (from cffi>=1.0.1->argon2-cffi-bindings->argon2-cffi->notebook>=4.4.1->widgetsnbextension~=3.5.0->ipywidgets>=7.6.5->pycaret) (2.21)\n",
            "Note: you may need to restart the kernel to use updated packages.\n"
          ]
        },
        {
          "name": "stderr",
          "output_type": "stream",
          "text": [
            "WARNING: There was an error checking the latest version of pip.\n"
          ]
        }
      ],
      "source": [
        "pip install pycaret"
      ]
    },
    {
      "cell_type": "code",
      "execution_count": 20,
      "metadata": {
        "id": "On3HOip_Wt9F"
      },
      "outputs": [],
      "source": [
        "from pycaret import *\n",
        "from pycaret.clustering import predict_model\n",
        "\n",
        "# 'test_http' is your dataset for prediction\n",
        "test_result = predict_model(kmeans, data=test_http)"
      ]
    },
    {
      "cell_type": "code",
      "execution_count": 21,
      "metadata": {
        "id": "xoZa_EqkXuKn"
      },
      "outputs": [
        {
          "ename": "PermissionError",
          "evalue": "[Errno 13] Permission denied: '/test_results'",
          "output_type": "error",
          "traceback": [
            "\u001b[1;31m---------------------------------------------------------------------------\u001b[0m",
            "\u001b[1;31mPermissionError\u001b[0m                           Traceback (most recent call last)",
            "\u001b[1;32mc:\\Users\\pranil\\Desktop\\burpy-master\\789654 - Copy.ipynb Cell 14\u001b[0m line \u001b[0;36m<cell line: 1>\u001b[1;34m()\u001b[0m\n\u001b[1;32m----> <a href='vscode-notebook-cell:/c%3A/Users/pranil/Desktop/burpy-master/789654%20-%20Copy.ipynb#X16sZmlsZQ%3D%3D?line=0'>1</a>\u001b[0m test_result\u001b[39m.\u001b[39;49mto_csv(\u001b[39m\"\u001b[39;49m\u001b[39m/test_results\u001b[39;49m\u001b[39m\"\u001b[39;49m)\n",
            "File \u001b[1;32mc:\\Users\\pranil\\AppData\\Local\\Programs\\Python\\Python39\\lib\\site-packages\\pandas\\core\\generic.py:3466\u001b[0m, in \u001b[0;36mNDFrame.to_csv\u001b[1;34m(self, path_or_buf, sep, na_rep, float_format, columns, header, index, index_label, mode, encoding, compression, quoting, quotechar, line_terminator, chunksize, date_format, doublequote, escapechar, decimal, errors, storage_options)\u001b[0m\n\u001b[0;32m   3455\u001b[0m df \u001b[39m=\u001b[39m \u001b[39mself\u001b[39m \u001b[39mif\u001b[39;00m \u001b[39misinstance\u001b[39m(\u001b[39mself\u001b[39m, ABCDataFrame) \u001b[39melse\u001b[39;00m \u001b[39mself\u001b[39m\u001b[39m.\u001b[39mto_frame()\n\u001b[0;32m   3457\u001b[0m formatter \u001b[39m=\u001b[39m DataFrameFormatter(\n\u001b[0;32m   3458\u001b[0m     frame\u001b[39m=\u001b[39mdf,\n\u001b[0;32m   3459\u001b[0m     header\u001b[39m=\u001b[39mheader,\n\u001b[1;32m   (...)\u001b[0m\n\u001b[0;32m   3463\u001b[0m     decimal\u001b[39m=\u001b[39mdecimal,\n\u001b[0;32m   3464\u001b[0m )\n\u001b[1;32m-> 3466\u001b[0m \u001b[39mreturn\u001b[39;00m DataFrameRenderer(formatter)\u001b[39m.\u001b[39;49mto_csv(\n\u001b[0;32m   3467\u001b[0m     path_or_buf,\n\u001b[0;32m   3468\u001b[0m     line_terminator\u001b[39m=\u001b[39;49mline_terminator,\n\u001b[0;32m   3469\u001b[0m     sep\u001b[39m=\u001b[39;49msep,\n\u001b[0;32m   3470\u001b[0m     encoding\u001b[39m=\u001b[39;49mencoding,\n\u001b[0;32m   3471\u001b[0m     errors\u001b[39m=\u001b[39;49merrors,\n\u001b[0;32m   3472\u001b[0m     compression\u001b[39m=\u001b[39;49mcompression,\n\u001b[0;32m   3473\u001b[0m     quoting\u001b[39m=\u001b[39;49mquoting,\n\u001b[0;32m   3474\u001b[0m     columns\u001b[39m=\u001b[39;49mcolumns,\n\u001b[0;32m   3475\u001b[0m     index_label\u001b[39m=\u001b[39;49mindex_label,\n\u001b[0;32m   3476\u001b[0m     mode\u001b[39m=\u001b[39;49mmode,\n\u001b[0;32m   3477\u001b[0m     chunksize\u001b[39m=\u001b[39;49mchunksize,\n\u001b[0;32m   3478\u001b[0m     quotechar\u001b[39m=\u001b[39;49mquotechar,\n\u001b[0;32m   3479\u001b[0m     date_format\u001b[39m=\u001b[39;49mdate_format,\n\u001b[0;32m   3480\u001b[0m     doublequote\u001b[39m=\u001b[39;49mdoublequote,\n\u001b[0;32m   3481\u001b[0m     escapechar\u001b[39m=\u001b[39;49mescapechar,\n\u001b[0;32m   3482\u001b[0m     storage_options\u001b[39m=\u001b[39;49mstorage_options,\n\u001b[0;32m   3483\u001b[0m )\n",
            "File \u001b[1;32mc:\\Users\\pranil\\AppData\\Local\\Programs\\Python\\Python39\\lib\\site-packages\\pandas\\io\\formats\\format.py:1105\u001b[0m, in \u001b[0;36mDataFrameRenderer.to_csv\u001b[1;34m(self, path_or_buf, encoding, sep, columns, index_label, mode, compression, quoting, quotechar, line_terminator, chunksize, date_format, doublequote, escapechar, errors, storage_options)\u001b[0m\n\u001b[0;32m   1084\u001b[0m     created_buffer \u001b[39m=\u001b[39m \u001b[39mFalse\u001b[39;00m\n\u001b[0;32m   1086\u001b[0m csv_formatter \u001b[39m=\u001b[39m CSVFormatter(\n\u001b[0;32m   1087\u001b[0m     path_or_buf\u001b[39m=\u001b[39mpath_or_buf,\n\u001b[0;32m   1088\u001b[0m     line_terminator\u001b[39m=\u001b[39mline_terminator,\n\u001b[1;32m   (...)\u001b[0m\n\u001b[0;32m   1103\u001b[0m     formatter\u001b[39m=\u001b[39m\u001b[39mself\u001b[39m\u001b[39m.\u001b[39mfmt,\n\u001b[0;32m   1104\u001b[0m )\n\u001b[1;32m-> 1105\u001b[0m csv_formatter\u001b[39m.\u001b[39;49msave()\n\u001b[0;32m   1107\u001b[0m \u001b[39mif\u001b[39;00m created_buffer:\n\u001b[0;32m   1108\u001b[0m     \u001b[39massert\u001b[39;00m \u001b[39misinstance\u001b[39m(path_or_buf, StringIO)\n",
            "File \u001b[1;32mc:\\Users\\pranil\\AppData\\Local\\Programs\\Python\\Python39\\lib\\site-packages\\pandas\\io\\formats\\csvs.py:237\u001b[0m, in \u001b[0;36mCSVFormatter.save\u001b[1;34m(self)\u001b[0m\n\u001b[0;32m    233\u001b[0m \u001b[39m\"\"\"\u001b[39;00m\n\u001b[0;32m    234\u001b[0m \u001b[39mCreate the writer & save.\u001b[39;00m\n\u001b[0;32m    235\u001b[0m \u001b[39m\"\"\"\u001b[39;00m\n\u001b[0;32m    236\u001b[0m \u001b[39m# apply compression and byte/text conversion\u001b[39;00m\n\u001b[1;32m--> 237\u001b[0m \u001b[39mwith\u001b[39;00m get_handle(\n\u001b[0;32m    238\u001b[0m     \u001b[39mself\u001b[39;49m\u001b[39m.\u001b[39;49mfilepath_or_buffer,\n\u001b[0;32m    239\u001b[0m     \u001b[39mself\u001b[39;49m\u001b[39m.\u001b[39;49mmode,\n\u001b[0;32m    240\u001b[0m     encoding\u001b[39m=\u001b[39;49m\u001b[39mself\u001b[39;49m\u001b[39m.\u001b[39;49mencoding,\n\u001b[0;32m    241\u001b[0m     errors\u001b[39m=\u001b[39;49m\u001b[39mself\u001b[39;49m\u001b[39m.\u001b[39;49merrors,\n\u001b[0;32m    242\u001b[0m     compression\u001b[39m=\u001b[39;49m\u001b[39mself\u001b[39;49m\u001b[39m.\u001b[39;49mcompression,\n\u001b[0;32m    243\u001b[0m     storage_options\u001b[39m=\u001b[39;49m\u001b[39mself\u001b[39;49m\u001b[39m.\u001b[39;49mstorage_options,\n\u001b[0;32m    244\u001b[0m ) \u001b[39mas\u001b[39;00m handles:\n\u001b[0;32m    245\u001b[0m \n\u001b[0;32m    246\u001b[0m     \u001b[39m# Note: self.encoding is irrelevant here\u001b[39;00m\n\u001b[0;32m    247\u001b[0m     \u001b[39mself\u001b[39m\u001b[39m.\u001b[39mwriter \u001b[39m=\u001b[39m csvlib\u001b[39m.\u001b[39mwriter(\n\u001b[0;32m    248\u001b[0m         handles\u001b[39m.\u001b[39mhandle,  \u001b[39m# type: ignore[arg-type]\u001b[39;00m\n\u001b[0;32m    249\u001b[0m         lineterminator\u001b[39m=\u001b[39m\u001b[39mself\u001b[39m\u001b[39m.\u001b[39mline_terminator,\n\u001b[1;32m   (...)\u001b[0m\n\u001b[0;32m    254\u001b[0m         quotechar\u001b[39m=\u001b[39m\u001b[39mself\u001b[39m\u001b[39m.\u001b[39mquotechar,\n\u001b[0;32m    255\u001b[0m     )\n\u001b[0;32m    257\u001b[0m     \u001b[39mself\u001b[39m\u001b[39m.\u001b[39m_save()\n",
            "File \u001b[1;32mc:\\Users\\pranil\\AppData\\Local\\Programs\\Python\\Python39\\lib\\site-packages\\pandas\\io\\common.py:701\u001b[0m, in \u001b[0;36mget_handle\u001b[1;34m(path_or_buf, mode, encoding, compression, memory_map, is_text, errors, storage_options)\u001b[0m\n\u001b[0;32m    696\u001b[0m \u001b[39melif\u001b[39;00m \u001b[39misinstance\u001b[39m(handle, \u001b[39mstr\u001b[39m):\n\u001b[0;32m    697\u001b[0m     \u001b[39m# Check whether the filename is to be opened in binary mode.\u001b[39;00m\n\u001b[0;32m    698\u001b[0m     \u001b[39m# Binary mode does not support 'encoding' and 'newline'.\u001b[39;00m\n\u001b[0;32m    699\u001b[0m     \u001b[39mif\u001b[39;00m ioargs\u001b[39m.\u001b[39mencoding \u001b[39mand\u001b[39;00m \u001b[39m\"\u001b[39m\u001b[39mb\u001b[39m\u001b[39m\"\u001b[39m \u001b[39mnot\u001b[39;00m \u001b[39min\u001b[39;00m ioargs\u001b[39m.\u001b[39mmode:\n\u001b[0;32m    700\u001b[0m         \u001b[39m# Encoding\u001b[39;00m\n\u001b[1;32m--> 701\u001b[0m         handle \u001b[39m=\u001b[39m \u001b[39mopen\u001b[39;49m(\n\u001b[0;32m    702\u001b[0m             handle,\n\u001b[0;32m    703\u001b[0m             ioargs\u001b[39m.\u001b[39;49mmode,\n\u001b[0;32m    704\u001b[0m             encoding\u001b[39m=\u001b[39;49mioargs\u001b[39m.\u001b[39;49mencoding,\n\u001b[0;32m    705\u001b[0m             errors\u001b[39m=\u001b[39;49merrors,\n\u001b[0;32m    706\u001b[0m             newline\u001b[39m=\u001b[39;49m\u001b[39m\"\u001b[39;49m\u001b[39m\"\u001b[39;49m,\n\u001b[0;32m    707\u001b[0m         )\n\u001b[0;32m    708\u001b[0m     \u001b[39melse\u001b[39;00m:\n\u001b[0;32m    709\u001b[0m         \u001b[39m# Binary mode\u001b[39;00m\n\u001b[0;32m    710\u001b[0m         handle \u001b[39m=\u001b[39m \u001b[39mopen\u001b[39m(handle, ioargs\u001b[39m.\u001b[39mmode)\n",
            "\u001b[1;31mPermissionError\u001b[0m: [Errno 13] Permission denied: '/test_results'"
          ]
        }
      ],
      "source": [
        "test_result.to_csv(\"/test_results\")\n"
      ]
    },
    {
      "cell_type": "code",
      "execution_count": 22,
      "metadata": {
        "id": "dqP0fdkXaqAL"
      },
      "outputs": [],
      "source": [
        "\n",
        "from http.server import *\n",
        "from urllib import request, error\n",
        "import pandas as pd\n",
        "from pycaret.clustering import*\n",
        "import urllib.parse\n",
        "import sys"
      ]
    },
    {
      "cell_type": "code",
      "execution_count": 23,
      "metadata": {
        "id": "B_zaZW_rbMCE"
      },
      "outputs": [],
      "source": [
        "badwords = ['sleep','drop','uid','select','waitfor','delay','system','union','order by','group by']\n",
        "def ExtractFeatures(path):\n",
        "  path = urllib.parse.unquote(path)\n",
        "  badwords_count = 0\n",
        "  single_q = path.count(\"'\")\n",
        "  double_q = path.count(\"\\\"\")\n",
        "  dashes = path.count(\"--\")\n",
        "  braces = path.count(\"(\")\n",
        "  spaces = path.count(\" \")\n",
        "  for word in badwords:\n",
        "    badwords_count += path.count(word)\n",
        "  lst = [single_q,double_q,dashes,braces,spaces,badwords_count]\n",
        "  print(lst)\n",
        "  return pd.DataFrame([lst],columns = ['single_q','double_q','dashes','braces','spaces','badwords'])"
      ]
    },
    {
      "cell_type": "code",
      "execution_count": 24,
      "metadata": {
        "colab": {
          "base_uri": "https://localhost:8080/",
          "height": 708,
          "referenced_widgets": [
            "26a2576d7cb746c69e0f0006fdd260d1",
            "a8bcf2618f8c4eb7be8799fb460b5d54",
            "cb2349bd5b484dd8a49a48115a08016f",
            "36393be87d8f44f28f8a599e23cda698",
            "9ebca87beef24e2ca83c10a795658e69",
            "19ed30deb4854b90bca5736f7a8f46a2",
            "c8c8e79eedfd4aabbdf8c35185bb6b58",
            "43b0f1068ea64bffa6cd6313922f0e9b",
            "245d407efc95469c95e179c3608801c5",
            "33edb3ea88e044dd81a63192dbd6713e",
            "2f8e8e8f9b88436da6370ce1be5ebbf3"
          ]
        },
        "id": "A2v_VYhpbQeU",
        "outputId": "46a7eae4-1a42-4b1e-b442-17c95a6a4ea4"
      },
      "outputs": [
        {
          "data": {
            "text/html": [
              "<style type=\"text/css\">\n",
              "#T_ee742_row6_col1, #T_ee742_row12_col1 {\n",
              "  background-color: lightgreen;\n",
              "}\n",
              "</style>\n",
              "<table id=\"T_ee742_\">\n",
              "  <thead>\n",
              "    <tr>\n",
              "      <th class=\"blank level0\" >&nbsp;</th>\n",
              "      <th class=\"col_heading level0 col0\" >Description</th>\n",
              "      <th class=\"col_heading level0 col1\" >Value</th>\n",
              "    </tr>\n",
              "  </thead>\n",
              "  <tbody>\n",
              "    <tr>\n",
              "      <th id=\"T_ee742_level0_row0\" class=\"row_heading level0 row0\" >0</th>\n",
              "      <td id=\"T_ee742_row0_col0\" class=\"data row0 col0\" >Session id</td>\n",
              "      <td id=\"T_ee742_row0_col1\" class=\"data row0 col1\" >2489</td>\n",
              "    </tr>\n",
              "    <tr>\n",
              "      <th id=\"T_ee742_level0_row1\" class=\"row_heading level0 row1\" >1</th>\n",
              "      <td id=\"T_ee742_row1_col0\" class=\"data row1 col0\" >Original data shape</td>\n",
              "      <td id=\"T_ee742_row1_col1\" class=\"data row1 col1\" >(2342, 10)</td>\n",
              "    </tr>\n",
              "    <tr>\n",
              "      <th id=\"T_ee742_level0_row2\" class=\"row_heading level0 row2\" >2</th>\n",
              "      <td id=\"T_ee742_row2_col0\" class=\"data row2 col0\" >Transformed data shape</td>\n",
              "      <td id=\"T_ee742_row2_col1\" class=\"data row2 col1\" >(2342, 2046)</td>\n",
              "    </tr>\n",
              "    <tr>\n",
              "      <th id=\"T_ee742_level0_row3\" class=\"row_heading level0 row3\" >3</th>\n",
              "      <td id=\"T_ee742_row3_col0\" class=\"data row3 col0\" >Ignore features</td>\n",
              "      <td id=\"T_ee742_row3_col1\" class=\"data row3 col1\" >4</td>\n",
              "    </tr>\n",
              "    <tr>\n",
              "      <th id=\"T_ee742_level0_row4\" class=\"row_heading level0 row4\" >4</th>\n",
              "      <td id=\"T_ee742_row4_col0\" class=\"data row4 col0\" >Numeric features</td>\n",
              "      <td id=\"T_ee742_row4_col1\" class=\"data row4 col1\" >6</td>\n",
              "    </tr>\n",
              "    <tr>\n",
              "      <th id=\"T_ee742_level0_row5\" class=\"row_heading level0 row5\" >5</th>\n",
              "      <td id=\"T_ee742_row5_col0\" class=\"data row5 col0\" >Categorical features</td>\n",
              "      <td id=\"T_ee742_row5_col1\" class=\"data row5 col1\" >3</td>\n",
              "    </tr>\n",
              "    <tr>\n",
              "      <th id=\"T_ee742_level0_row6\" class=\"row_heading level0 row6\" >6</th>\n",
              "      <td id=\"T_ee742_row6_col0\" class=\"data row6 col0\" >Preprocess</td>\n",
              "      <td id=\"T_ee742_row6_col1\" class=\"data row6 col1\" >True</td>\n",
              "    </tr>\n",
              "    <tr>\n",
              "      <th id=\"T_ee742_level0_row7\" class=\"row_heading level0 row7\" >7</th>\n",
              "      <td id=\"T_ee742_row7_col0\" class=\"data row7 col0\" >Imputation type</td>\n",
              "      <td id=\"T_ee742_row7_col1\" class=\"data row7 col1\" >simple</td>\n",
              "    </tr>\n",
              "    <tr>\n",
              "      <th id=\"T_ee742_level0_row8\" class=\"row_heading level0 row8\" >8</th>\n",
              "      <td id=\"T_ee742_row8_col0\" class=\"data row8 col0\" >Numeric imputation</td>\n",
              "      <td id=\"T_ee742_row8_col1\" class=\"data row8 col1\" >mean</td>\n",
              "    </tr>\n",
              "    <tr>\n",
              "      <th id=\"T_ee742_level0_row9\" class=\"row_heading level0 row9\" >9</th>\n",
              "      <td id=\"T_ee742_row9_col0\" class=\"data row9 col0\" >Categorical imputation</td>\n",
              "      <td id=\"T_ee742_row9_col1\" class=\"data row9 col1\" >mode</td>\n",
              "    </tr>\n",
              "    <tr>\n",
              "      <th id=\"T_ee742_level0_row10\" class=\"row_heading level0 row10\" >10</th>\n",
              "      <td id=\"T_ee742_row10_col0\" class=\"data row10 col0\" >Maximum one-hot encoding</td>\n",
              "      <td id=\"T_ee742_row10_col1\" class=\"data row10 col1\" >-1</td>\n",
              "    </tr>\n",
              "    <tr>\n",
              "      <th id=\"T_ee742_level0_row11\" class=\"row_heading level0 row11\" >11</th>\n",
              "      <td id=\"T_ee742_row11_col0\" class=\"data row11 col0\" >Encoding method</td>\n",
              "      <td id=\"T_ee742_row11_col1\" class=\"data row11 col1\" >None</td>\n",
              "    </tr>\n",
              "    <tr>\n",
              "      <th id=\"T_ee742_level0_row12\" class=\"row_heading level0 row12\" >12</th>\n",
              "      <td id=\"T_ee742_row12_col0\" class=\"data row12 col0\" >Normalize</td>\n",
              "      <td id=\"T_ee742_row12_col1\" class=\"data row12 col1\" >True</td>\n",
              "    </tr>\n",
              "    <tr>\n",
              "      <th id=\"T_ee742_level0_row13\" class=\"row_heading level0 row13\" >13</th>\n",
              "      <td id=\"T_ee742_row13_col0\" class=\"data row13 col0\" >Normalize method</td>\n",
              "      <td id=\"T_ee742_row13_col1\" class=\"data row13 col1\" >zscore</td>\n",
              "    </tr>\n",
              "    <tr>\n",
              "      <th id=\"T_ee742_level0_row14\" class=\"row_heading level0 row14\" >14</th>\n",
              "      <td id=\"T_ee742_row14_col0\" class=\"data row14 col0\" >CPU Jobs</td>\n",
              "      <td id=\"T_ee742_row14_col1\" class=\"data row14 col1\" >-1</td>\n",
              "    </tr>\n",
              "    <tr>\n",
              "      <th id=\"T_ee742_level0_row15\" class=\"row_heading level0 row15\" >15</th>\n",
              "      <td id=\"T_ee742_row15_col0\" class=\"data row15 col0\" >Use GPU</td>\n",
              "      <td id=\"T_ee742_row15_col1\" class=\"data row15 col1\" >False</td>\n",
              "    </tr>\n",
              "    <tr>\n",
              "      <th id=\"T_ee742_level0_row16\" class=\"row_heading level0 row16\" >16</th>\n",
              "      <td id=\"T_ee742_row16_col0\" class=\"data row16 col0\" >Log Experiment</td>\n",
              "      <td id=\"T_ee742_row16_col1\" class=\"data row16 col1\" >False</td>\n",
              "    </tr>\n",
              "    <tr>\n",
              "      <th id=\"T_ee742_level0_row17\" class=\"row_heading level0 row17\" >17</th>\n",
              "      <td id=\"T_ee742_row17_col0\" class=\"data row17 col0\" >Experiment Name</td>\n",
              "      <td id=\"T_ee742_row17_col1\" class=\"data row17 col1\" >cluster-default-name</td>\n",
              "    </tr>\n",
              "    <tr>\n",
              "      <th id=\"T_ee742_level0_row18\" class=\"row_heading level0 row18\" >18</th>\n",
              "      <td id=\"T_ee742_row18_col0\" class=\"data row18 col0\" >USI</td>\n",
              "      <td id=\"T_ee742_row18_col1\" class=\"data row18 col1\" >2507</td>\n",
              "    </tr>\n",
              "  </tbody>\n",
              "</table>\n"
            ],
            "text/plain": [
              "<pandas.io.formats.style.Styler at 0x1f3976c7670>"
            ]
          },
          "metadata": {},
          "output_type": "display_data"
        },
        {
          "data": {
            "text/html": [],
            "text/plain": [
              "<IPython.core.display.HTML object>"
            ]
          },
          "metadata": {},
          "output_type": "display_data"
        },
        {
          "data": {
            "text/html": [
              "<style type=\"text/css\">\n",
              "</style>\n",
              "<table id=\"T_42fbd_\">\n",
              "  <thead>\n",
              "    <tr>\n",
              "      <th class=\"blank level0\" >&nbsp;</th>\n",
              "      <th class=\"col_heading level0 col0\" >Silhouette</th>\n",
              "      <th class=\"col_heading level0 col1\" >Calinski-Harabasz</th>\n",
              "      <th class=\"col_heading level0 col2\" >Davies-Bouldin</th>\n",
              "      <th class=\"col_heading level0 col3\" >Homogeneity</th>\n",
              "      <th class=\"col_heading level0 col4\" >Rand Index</th>\n",
              "      <th class=\"col_heading level0 col5\" >Completeness</th>\n",
              "    </tr>\n",
              "  </thead>\n",
              "  <tbody>\n",
              "    <tr>\n",
              "      <th id=\"T_42fbd_level0_row0\" class=\"row_heading level0 row0\" >0</th>\n",
              "      <td id=\"T_42fbd_row0_col0\" class=\"data row0 col0\" >0.0931</td>\n",
              "      <td id=\"T_42fbd_row0_col1\" class=\"data row0 col1\" >5.4112</td>\n",
              "      <td id=\"T_42fbd_row0_col2\" class=\"data row0 col2\" >13.5754</td>\n",
              "      <td id=\"T_42fbd_row0_col3\" class=\"data row0 col3\" >0</td>\n",
              "      <td id=\"T_42fbd_row0_col4\" class=\"data row0 col4\" >0</td>\n",
              "      <td id=\"T_42fbd_row0_col5\" class=\"data row0 col5\" >0</td>\n",
              "    </tr>\n",
              "  </tbody>\n",
              "</table>\n"
            ],
            "text/plain": [
              "<pandas.io.formats.style.Styler at 0x1f3976c9c10>"
            ]
          },
          "metadata": {},
          "output_type": "display_data"
        },
        {
          "data": {
            "application/vnd.jupyter.widget-view+json": {
              "model_id": "2778af70235f4117b0f5ca11922c90bf",
              "version_major": 2,
              "version_minor": 0
            },
            "text/plain": [
              "Processing:   0%|          | 0/3 [00:00<?, ?it/s]"
            ]
          },
          "metadata": {},
          "output_type": "display_data"
        }
      ],
      "source": [
        "http = pd.read_csv(\"C:\\\\Users\\\\pranil\\\\Desktop\\\\burpy-master\\\\merge.csv\")\n",
        "clu1 = setup(data = http, normalize = True,numeric_features = ['single_q','double_q','dashes','braces','spaces','badwords'] , ignore_features = ['method','path','body','class'] )\n",
        "kmeans = create_model('kmeans',num_clusters = 2)"
      ]
    },
    {
      "cell_type": "code",
      "execution_count": 27,
      "metadata": {
        "colab": {
          "background_save": true,
          "base_uri": "https://localhost:8080/"
        },
        "id": "wzoTDwYmcPRj",
        "outputId": "6f809b14-4ecb-485d-881e-a4e948fa8547"
      },
      "outputs": [
        {
          "name": "stdout",
          "output_type": "stream",
          "text": [
            "Listening on http://127.0.0.1:21\n",
            "['http:', '', 'demo.testfire.net', '']\n",
            "[0, 0, 0, 0, 0, 0]\n",
            "['http:', '', 'demo.testfire.net', '']\n",
            "[0, 0, 0, 0, 0, 0]\n",
            "['http:', '', 'demo.testfire.net', '']\n",
            "[0, 0, 0, 0, 0, 0]\n",
            "['http:', '', 'demo.testfire.net', '']\n",
            "[0, 0, 0, 0, 0, 0]\n"
          ]
        },
        {
          "name": "stderr",
          "output_type": "stream",
          "text": [
            "----------------------------------------\n",
            "Exception occurred during processing of request from ('127.0.0.1', 55616)\n",
            "Traceback (most recent call last):\n",
            "  File \"c:\\Users\\pranil\\AppData\\Local\\Programs\\Python\\Python39\\lib\\socketserver.py\", line 316, in _handle_request_noblock\n",
            "    self.process_request(request, client_address)\n",
            "  File \"c:\\Users\\pranil\\AppData\\Local\\Programs\\Python\\Python39\\lib\\socketserver.py\", line 347, in process_request\n",
            "    self.finish_request(request, client_address)\n",
            "  File \"c:\\Users\\pranil\\AppData\\Local\\Programs\\Python\\Python39\\lib\\socketserver.py\", line 360, in finish_request\n",
            "    self.RequestHandlerClass(request, client_address, self)\n",
            "  File \"c:\\Users\\pranil\\AppData\\Local\\Programs\\Python\\Python39\\lib\\http\\server.py\", line 653, in __init__\n",
            "    super().__init__(*args, **kwargs)\n",
            "  File \"c:\\Users\\pranil\\AppData\\Local\\Programs\\Python\\Python39\\lib\\socketserver.py\", line 720, in __init__\n",
            "    self.handle()\n",
            "  File \"c:\\Users\\pranil\\AppData\\Local\\Programs\\Python\\Python39\\lib\\http\\server.py\", line 427, in handle\n",
            "    self.handle_one_request()\n",
            "  File \"c:\\Users\\pranil\\AppData\\Local\\Programs\\Python\\Python39\\lib\\http\\server.py\", line 415, in handle_one_request\n",
            "    method()\n",
            "  File \"C:\\Users\\pranil\\AppData\\Local\\Temp\\ipykernel_28500\\3979482508.py\", line 21, in do_GET\n",
            "    result = predict_model(kmeans, data=live_data)\n",
            "  File \"c:\\Users\\pranil\\AppData\\Local\\Programs\\Python\\Python39\\lib\\site-packages\\pycaret\\clustering\\functional.py\", line 861, in predict_model\n",
            "    return experiment.predict_model(\n",
            "  File \"c:\\Users\\pranil\\AppData\\Local\\Programs\\Python\\Python39\\lib\\site-packages\\pycaret\\clustering\\oop.py\", line 94, in predict_model\n",
            "    return super().predict_model(estimator, data, ml_usecase)\n",
            "  File \"c:\\Users\\pranil\\AppData\\Local\\Programs\\Python\\Python39\\lib\\site-packages\\pycaret\\internal\\pycaret_experiment\\unsupervised_experiment.py\", line 873, in predict_model\n",
            "    data = self.pipeline.transform(data)\n",
            "  File \"c:\\Users\\pranil\\AppData\\Local\\Programs\\Python\\Python39\\lib\\site-packages\\pycaret\\internal\\pipeline.py\", line 286, in transform\n",
            "    X, y = self._memory_full_transform(\n",
            "  File \"c:\\Users\\pranil\\AppData\\Local\\Programs\\Python\\Python39\\lib\\site-packages\\joblib\\memory.py\", line 655, in __call__\n",
            "    return self._cached_call(args, kwargs)[0]\n",
            "  File \"c:\\Users\\pranil\\AppData\\Local\\Programs\\Python\\Python39\\lib\\site-packages\\pycaret\\internal\\memory.py\", line 398, in _cached_call\n",
            "    out, metadata = self.call(*args, **kwargs)\n",
            "  File \"c:\\Users\\pranil\\AppData\\Local\\Programs\\Python\\Python39\\lib\\site-packages\\pycaret\\internal\\memory.py\", line 309, in call\n",
            "    output = self.func(*args, **kwargs)\n",
            "  File \"c:\\Users\\pranil\\AppData\\Local\\Programs\\Python\\Python39\\lib\\site-packages\\pycaret\\internal\\pipeline.py\", line 110, in _full_transform\n",
            "    X, y = pipeline._memory_transform(transformer, X, y)\n",
            "  File \"c:\\Users\\pranil\\AppData\\Local\\Programs\\Python\\Python39\\lib\\site-packages\\joblib\\memory.py\", line 655, in __call__\n",
            "    return self._cached_call(args, kwargs)[0]\n",
            "  File \"c:\\Users\\pranil\\AppData\\Local\\Programs\\Python\\Python39\\lib\\site-packages\\pycaret\\internal\\memory.py\", line 398, in _cached_call\n",
            "    out, metadata = self.call(*args, **kwargs)\n",
            "  File \"c:\\Users\\pranil\\AppData\\Local\\Programs\\Python\\Python39\\lib\\site-packages\\pycaret\\internal\\memory.py\", line 309, in call\n",
            "    output = self.func(*args, **kwargs)\n",
            "  File \"c:\\Users\\pranil\\AppData\\Local\\Programs\\Python\\Python39\\lib\\site-packages\\pycaret\\internal\\pipeline.py\", line 79, in _transform_one\n",
            "    output = transformer.transform(*args)\n",
            "  File \"c:\\Users\\pranil\\AppData\\Local\\Programs\\Python\\Python39\\lib\\site-packages\\pycaret\\internal\\preprocess\\transformers.py\", line 248, in transform\n",
            "    args.append(X[self._include])\n",
            "  File \"c:\\Users\\pranil\\AppData\\Local\\Programs\\Python\\Python39\\lib\\site-packages\\pandas\\core\\frame.py\", line 3461, in __getitem__\n",
            "    indexer = self.loc._get_listlike_indexer(key, axis=1)[1]\n",
            "  File \"c:\\Users\\pranil\\AppData\\Local\\Programs\\Python\\Python39\\lib\\site-packages\\pandas\\core\\indexing.py\", line 1314, in _get_listlike_indexer\n",
            "    self._validate_read_indexer(keyarr, indexer, axis)\n",
            "  File \"c:\\Users\\pranil\\AppData\\Local\\Programs\\Python\\Python39\\lib\\site-packages\\pandas\\core\\indexing.py\", line 1374, in _validate_read_indexer\n",
            "    raise KeyError(f\"None of [{key}] are in the [{axis_name}]\")\n",
            "KeyError: \"None of [Index(['Method', 'Path', 'Body'], dtype='object')] are in the [columns]\"\n",
            "----------------------------------------\n",
            "----------------------------------------\n",
            "Exception occurred during processing of request from ('127.0.0.1', 55617)\n",
            "Traceback (most recent call last):\n",
            "  File \"c:\\Users\\pranil\\AppData\\Local\\Programs\\Python\\Python39\\lib\\socketserver.py\", line 316, in _handle_request_noblock\n",
            "    self.process_request(request, client_address)\n",
            "  File \"c:\\Users\\pranil\\AppData\\Local\\Programs\\Python\\Python39\\lib\\socketserver.py\", line 347, in process_request\n",
            "    self.finish_request(request, client_address)\n",
            "  File \"c:\\Users\\pranil\\AppData\\Local\\Programs\\Python\\Python39\\lib\\socketserver.py\", line 360, in finish_request\n",
            "    self.RequestHandlerClass(request, client_address, self)\n",
            "  File \"c:\\Users\\pranil\\AppData\\Local\\Programs\\Python\\Python39\\lib\\http\\server.py\", line 653, in __init__\n",
            "    super().__init__(*args, **kwargs)\n",
            "  File \"c:\\Users\\pranil\\AppData\\Local\\Programs\\Python\\Python39\\lib\\socketserver.py\", line 720, in __init__\n",
            "    self.handle()\n",
            "  File \"c:\\Users\\pranil\\AppData\\Local\\Programs\\Python\\Python39\\lib\\http\\server.py\", line 427, in handle\n",
            "    self.handle_one_request()\n",
            "  File \"c:\\Users\\pranil\\AppData\\Local\\Programs\\Python\\Python39\\lib\\http\\server.py\", line 415, in handle_one_request\n",
            "    method()\n",
            "  File \"C:\\Users\\pranil\\AppData\\Local\\Temp\\ipykernel_28500\\3979482508.py\", line 21, in do_GET\n",
            "    result = predict_model(kmeans, data=live_data)\n",
            "  File \"c:\\Users\\pranil\\AppData\\Local\\Programs\\Python\\Python39\\lib\\site-packages\\pycaret\\clustering\\functional.py\", line 861, in predict_model\n",
            "    return experiment.predict_model(\n",
            "  File \"c:\\Users\\pranil\\AppData\\Local\\Programs\\Python\\Python39\\lib\\site-packages\\pycaret\\clustering\\oop.py\", line 94, in predict_model\n",
            "    return super().predict_model(estimator, data, ml_usecase)\n",
            "  File \"c:\\Users\\pranil\\AppData\\Local\\Programs\\Python\\Python39\\lib\\site-packages\\pycaret\\internal\\pycaret_experiment\\unsupervised_experiment.py\", line 873, in predict_model\n",
            "    data = self.pipeline.transform(data)\n",
            "  File \"c:\\Users\\pranil\\AppData\\Local\\Programs\\Python\\Python39\\lib\\site-packages\\pycaret\\internal\\pipeline.py\", line 286, in transform\n",
            "    X, y = self._memory_full_transform(\n",
            "  File \"c:\\Users\\pranil\\AppData\\Local\\Programs\\Python\\Python39\\lib\\site-packages\\joblib\\memory.py\", line 655, in __call__\n",
            "    return self._cached_call(args, kwargs)[0]\n",
            "  File \"c:\\Users\\pranil\\AppData\\Local\\Programs\\Python\\Python39\\lib\\site-packages\\pycaret\\internal\\memory.py\", line 398, in _cached_call\n",
            "    out, metadata = self.call(*args, **kwargs)\n",
            "  File \"c:\\Users\\pranil\\AppData\\Local\\Programs\\Python\\Python39\\lib\\site-packages\\pycaret\\internal\\memory.py\", line 309, in call\n",
            "    output = self.func(*args, **kwargs)\n",
            "  File \"c:\\Users\\pranil\\AppData\\Local\\Programs\\Python\\Python39\\lib\\site-packages\\pycaret\\internal\\pipeline.py\", line 110, in _full_transform\n",
            "    X, y = pipeline._memory_transform(transformer, X, y)\n",
            "  File \"c:\\Users\\pranil\\AppData\\Local\\Programs\\Python\\Python39\\lib\\site-packages\\joblib\\memory.py\", line 655, in __call__\n",
            "    return self._cached_call(args, kwargs)[0]\n",
            "  File \"c:\\Users\\pranil\\AppData\\Local\\Programs\\Python\\Python39\\lib\\site-packages\\pycaret\\internal\\memory.py\", line 398, in _cached_call\n",
            "    out, metadata = self.call(*args, **kwargs)\n",
            "  File \"c:\\Users\\pranil\\AppData\\Local\\Programs\\Python\\Python39\\lib\\site-packages\\pycaret\\internal\\memory.py\", line 309, in call\n",
            "    output = self.func(*args, **kwargs)\n",
            "  File \"c:\\Users\\pranil\\AppData\\Local\\Programs\\Python\\Python39\\lib\\site-packages\\pycaret\\internal\\pipeline.py\", line 79, in _transform_one\n",
            "    output = transformer.transform(*args)\n",
            "  File \"c:\\Users\\pranil\\AppData\\Local\\Programs\\Python\\Python39\\lib\\site-packages\\pycaret\\internal\\preprocess\\transformers.py\", line 248, in transform\n",
            "    args.append(X[self._include])\n",
            "  File \"c:\\Users\\pranil\\AppData\\Local\\Programs\\Python\\Python39\\lib\\site-packages\\pandas\\core\\frame.py\", line 3461, in __getitem__\n",
            "    indexer = self.loc._get_listlike_indexer(key, axis=1)[1]\n",
            "  File \"c:\\Users\\pranil\\AppData\\Local\\Programs\\Python\\Python39\\lib\\site-packages\\pandas\\core\\indexing.py\", line 1314, in _get_listlike_indexer\n",
            "    self._validate_read_indexer(keyarr, indexer, axis)\n",
            "  File \"c:\\Users\\pranil\\AppData\\Local\\Programs\\Python\\Python39\\lib\\site-packages\\pandas\\core\\indexing.py\", line 1374, in _validate_read_indexer\n",
            "    raise KeyError(f\"None of [{key}] are in the [{axis_name}]\")\n",
            "KeyError: \"None of [Index(['Method', 'Path', 'Body'], dtype='object')] are in the [columns]\"\n",
            "----------------------------------------\n",
            "----------------------------------------\n",
            "Exception occurred during processing of request from ('127.0.0.1', 55618)\n",
            "Traceback (most recent call last):\n",
            "  File \"c:\\Users\\pranil\\AppData\\Local\\Programs\\Python\\Python39\\lib\\socketserver.py\", line 316, in _handle_request_noblock\n",
            "    self.process_request(request, client_address)\n",
            "  File \"c:\\Users\\pranil\\AppData\\Local\\Programs\\Python\\Python39\\lib\\socketserver.py\", line 347, in process_request\n",
            "    self.finish_request(request, client_address)\n",
            "  File \"c:\\Users\\pranil\\AppData\\Local\\Programs\\Python\\Python39\\lib\\socketserver.py\", line 360, in finish_request\n",
            "    self.RequestHandlerClass(request, client_address, self)\n",
            "  File \"c:\\Users\\pranil\\AppData\\Local\\Programs\\Python\\Python39\\lib\\http\\server.py\", line 653, in __init__\n",
            "    super().__init__(*args, **kwargs)\n",
            "  File \"c:\\Users\\pranil\\AppData\\Local\\Programs\\Python\\Python39\\lib\\socketserver.py\", line 720, in __init__\n",
            "    self.handle()\n",
            "  File \"c:\\Users\\pranil\\AppData\\Local\\Programs\\Python\\Python39\\lib\\http\\server.py\", line 427, in handle\n",
            "    self.handle_one_request()\n",
            "  File \"c:\\Users\\pranil\\AppData\\Local\\Programs\\Python\\Python39\\lib\\http\\server.py\", line 415, in handle_one_request\n",
            "    method()\n",
            "  File \"C:\\Users\\pranil\\AppData\\Local\\Temp\\ipykernel_28500\\3979482508.py\", line 21, in do_GET\n",
            "    result = predict_model(kmeans, data=live_data)\n",
            "  File \"c:\\Users\\pranil\\AppData\\Local\\Programs\\Python\\Python39\\lib\\site-packages\\pycaret\\clustering\\functional.py\", line 861, in predict_model\n",
            "    return experiment.predict_model(\n",
            "  File \"c:\\Users\\pranil\\AppData\\Local\\Programs\\Python\\Python39\\lib\\site-packages\\pycaret\\clustering\\oop.py\", line 94, in predict_model\n",
            "    return super().predict_model(estimator, data, ml_usecase)\n",
            "  File \"c:\\Users\\pranil\\AppData\\Local\\Programs\\Python\\Python39\\lib\\site-packages\\pycaret\\internal\\pycaret_experiment\\unsupervised_experiment.py\", line 873, in predict_model\n",
            "    data = self.pipeline.transform(data)\n",
            "  File \"c:\\Users\\pranil\\AppData\\Local\\Programs\\Python\\Python39\\lib\\site-packages\\pycaret\\internal\\pipeline.py\", line 286, in transform\n",
            "    X, y = self._memory_full_transform(\n",
            "  File \"c:\\Users\\pranil\\AppData\\Local\\Programs\\Python\\Python39\\lib\\site-packages\\joblib\\memory.py\", line 655, in __call__\n",
            "    return self._cached_call(args, kwargs)[0]\n",
            "  File \"c:\\Users\\pranil\\AppData\\Local\\Programs\\Python\\Python39\\lib\\site-packages\\pycaret\\internal\\memory.py\", line 398, in _cached_call\n",
            "    out, metadata = self.call(*args, **kwargs)\n",
            "  File \"c:\\Users\\pranil\\AppData\\Local\\Programs\\Python\\Python39\\lib\\site-packages\\pycaret\\internal\\memory.py\", line 309, in call\n",
            "    output = self.func(*args, **kwargs)\n",
            "  File \"c:\\Users\\pranil\\AppData\\Local\\Programs\\Python\\Python39\\lib\\site-packages\\pycaret\\internal\\pipeline.py\", line 110, in _full_transform\n",
            "    X, y = pipeline._memory_transform(transformer, X, y)\n",
            "  File \"c:\\Users\\pranil\\AppData\\Local\\Programs\\Python\\Python39\\lib\\site-packages\\joblib\\memory.py\", line 655, in __call__\n",
            "    return self._cached_call(args, kwargs)[0]\n",
            "  File \"c:\\Users\\pranil\\AppData\\Local\\Programs\\Python\\Python39\\lib\\site-packages\\pycaret\\internal\\memory.py\", line 398, in _cached_call\n",
            "    out, metadata = self.call(*args, **kwargs)\n",
            "  File \"c:\\Users\\pranil\\AppData\\Local\\Programs\\Python\\Python39\\lib\\site-packages\\pycaret\\internal\\memory.py\", line 309, in call\n",
            "    output = self.func(*args, **kwargs)\n",
            "  File \"c:\\Users\\pranil\\AppData\\Local\\Programs\\Python\\Python39\\lib\\site-packages\\pycaret\\internal\\pipeline.py\", line 79, in _transform_one\n",
            "    output = transformer.transform(*args)\n",
            "  File \"c:\\Users\\pranil\\AppData\\Local\\Programs\\Python\\Python39\\lib\\site-packages\\pycaret\\internal\\preprocess\\transformers.py\", line 248, in transform\n",
            "    args.append(X[self._include])\n",
            "  File \"c:\\Users\\pranil\\AppData\\Local\\Programs\\Python\\Python39\\lib\\site-packages\\pandas\\core\\frame.py\", line 3461, in __getitem__\n",
            "    indexer = self.loc._get_listlike_indexer(key, axis=1)[1]\n",
            "  File \"c:\\Users\\pranil\\AppData\\Local\\Programs\\Python\\Python39\\lib\\site-packages\\pandas\\core\\indexing.py\", line 1314, in _get_listlike_indexer\n",
            "    self._validate_read_indexer(keyarr, indexer, axis)\n",
            "  File \"c:\\Users\\pranil\\AppData\\Local\\Programs\\Python\\Python39\\lib\\site-packages\\pandas\\core\\indexing.py\", line 1374, in _validate_read_indexer\n",
            "    raise KeyError(f\"None of [{key}] are in the [{axis_name}]\")\n",
            "KeyError: \"None of [Index(['Method', 'Path', 'Body'], dtype='object')] are in the [columns]\"\n",
            "----------------------------------------\n",
            "----------------------------------------\n",
            "Exception occurred during processing of request from ('127.0.0.1', 55619)\n",
            "Traceback (most recent call last):\n",
            "  File \"c:\\Users\\pranil\\AppData\\Local\\Programs\\Python\\Python39\\lib\\socketserver.py\", line 316, in _handle_request_noblock\n",
            "    self.process_request(request, client_address)\n",
            "  File \"c:\\Users\\pranil\\AppData\\Local\\Programs\\Python\\Python39\\lib\\socketserver.py\", line 347, in process_request\n",
            "    self.finish_request(request, client_address)\n",
            "  File \"c:\\Users\\pranil\\AppData\\Local\\Programs\\Python\\Python39\\lib\\socketserver.py\", line 360, in finish_request\n",
            "    self.RequestHandlerClass(request, client_address, self)\n",
            "  File \"c:\\Users\\pranil\\AppData\\Local\\Programs\\Python\\Python39\\lib\\http\\server.py\", line 653, in __init__\n",
            "    super().__init__(*args, **kwargs)\n",
            "  File \"c:\\Users\\pranil\\AppData\\Local\\Programs\\Python\\Python39\\lib\\socketserver.py\", line 720, in __init__\n",
            "    self.handle()\n",
            "  File \"c:\\Users\\pranil\\AppData\\Local\\Programs\\Python\\Python39\\lib\\http\\server.py\", line 427, in handle\n",
            "    self.handle_one_request()\n",
            "  File \"c:\\Users\\pranil\\AppData\\Local\\Programs\\Python\\Python39\\lib\\http\\server.py\", line 415, in handle_one_request\n",
            "    method()\n",
            "  File \"C:\\Users\\pranil\\AppData\\Local\\Temp\\ipykernel_28500\\3979482508.py\", line 21, in do_GET\n",
            "    result = predict_model(kmeans, data=live_data)\n",
            "  File \"c:\\Users\\pranil\\AppData\\Local\\Programs\\Python\\Python39\\lib\\site-packages\\pycaret\\clustering\\functional.py\", line 861, in predict_model\n",
            "    return experiment.predict_model(\n",
            "  File \"c:\\Users\\pranil\\AppData\\Local\\Programs\\Python\\Python39\\lib\\site-packages\\pycaret\\clustering\\oop.py\", line 94, in predict_model\n",
            "    return super().predict_model(estimator, data, ml_usecase)\n",
            "  File \"c:\\Users\\pranil\\AppData\\Local\\Programs\\Python\\Python39\\lib\\site-packages\\pycaret\\internal\\pycaret_experiment\\unsupervised_experiment.py\", line 873, in predict_model\n",
            "    data = self.pipeline.transform(data)\n",
            "  File \"c:\\Users\\pranil\\AppData\\Local\\Programs\\Python\\Python39\\lib\\site-packages\\pycaret\\internal\\pipeline.py\", line 286, in transform\n",
            "    X, y = self._memory_full_transform(\n",
            "  File \"c:\\Users\\pranil\\AppData\\Local\\Programs\\Python\\Python39\\lib\\site-packages\\joblib\\memory.py\", line 655, in __call__\n",
            "    return self._cached_call(args, kwargs)[0]\n",
            "  File \"c:\\Users\\pranil\\AppData\\Local\\Programs\\Python\\Python39\\lib\\site-packages\\pycaret\\internal\\memory.py\", line 398, in _cached_call\n",
            "    out, metadata = self.call(*args, **kwargs)\n",
            "  File \"c:\\Users\\pranil\\AppData\\Local\\Programs\\Python\\Python39\\lib\\site-packages\\pycaret\\internal\\memory.py\", line 309, in call\n",
            "    output = self.func(*args, **kwargs)\n",
            "  File \"c:\\Users\\pranil\\AppData\\Local\\Programs\\Python\\Python39\\lib\\site-packages\\pycaret\\internal\\pipeline.py\", line 110, in _full_transform\n",
            "    X, y = pipeline._memory_transform(transformer, X, y)\n",
            "  File \"c:\\Users\\pranil\\AppData\\Local\\Programs\\Python\\Python39\\lib\\site-packages\\joblib\\memory.py\", line 655, in __call__\n",
            "    return self._cached_call(args, kwargs)[0]\n",
            "  File \"c:\\Users\\pranil\\AppData\\Local\\Programs\\Python\\Python39\\lib\\site-packages\\pycaret\\internal\\memory.py\", line 398, in _cached_call\n",
            "    out, metadata = self.call(*args, **kwargs)\n",
            "  File \"c:\\Users\\pranil\\AppData\\Local\\Programs\\Python\\Python39\\lib\\site-packages\\pycaret\\internal\\memory.py\", line 309, in call\n",
            "    output = self.func(*args, **kwargs)\n",
            "  File \"c:\\Users\\pranil\\AppData\\Local\\Programs\\Python\\Python39\\lib\\site-packages\\pycaret\\internal\\pipeline.py\", line 79, in _transform_one\n",
            "    output = transformer.transform(*args)\n",
            "  File \"c:\\Users\\pranil\\AppData\\Local\\Programs\\Python\\Python39\\lib\\site-packages\\pycaret\\internal\\preprocess\\transformers.py\", line 248, in transform\n",
            "    args.append(X[self._include])\n",
            "  File \"c:\\Users\\pranil\\AppData\\Local\\Programs\\Python\\Python39\\lib\\site-packages\\pandas\\core\\frame.py\", line 3461, in __getitem__\n",
            "    indexer = self.loc._get_listlike_indexer(key, axis=1)[1]\n",
            "  File \"c:\\Users\\pranil\\AppData\\Local\\Programs\\Python\\Python39\\lib\\site-packages\\pandas\\core\\indexing.py\", line 1314, in _get_listlike_indexer\n",
            "    self._validate_read_indexer(keyarr, indexer, axis)\n",
            "  File \"c:\\Users\\pranil\\AppData\\Local\\Programs\\Python\\Python39\\lib\\site-packages\\pandas\\core\\indexing.py\", line 1374, in _validate_read_indexer\n",
            "    raise KeyError(f\"None of [{key}] are in the [{axis_name}]\")\n",
            "KeyError: \"None of [Index(['Method', 'Path', 'Body'], dtype='object')] are in the [columns]\"\n",
            "----------------------------------------\n"
          ]
        },
        {
          "name": "stdout",
          "output_type": "stream",
          "text": [
            "['http:', '', 'demo.testfire.net', '']\n",
            "[0, 0, 0, 0, 0, 0]\n",
            "['http:', '', 'demo.testfire.net', '']\n",
            "[0, 0, 0, 0, 0, 0]\n",
            "['http:', '', 'demo.testfire.net', '']\n",
            "[0, 0, 0, 0, 0, 0]\n",
            "['http:', '', 'demo.testfire.net', '']\n",
            "[0, 0, 0, 0, 0, 0]\n"
          ]
        },
        {
          "name": "stderr",
          "output_type": "stream",
          "text": [
            "----------------------------------------\n",
            "Exception occurred during processing of request from ('127.0.0.1', 55620)\n",
            "Traceback (most recent call last):\n",
            "  File \"c:\\Users\\pranil\\AppData\\Local\\Programs\\Python\\Python39\\lib\\socketserver.py\", line 316, in _handle_request_noblock\n",
            "    self.process_request(request, client_address)\n",
            "  File \"c:\\Users\\pranil\\AppData\\Local\\Programs\\Python\\Python39\\lib\\socketserver.py\", line 347, in process_request\n",
            "    self.finish_request(request, client_address)\n",
            "  File \"c:\\Users\\pranil\\AppData\\Local\\Programs\\Python\\Python39\\lib\\socketserver.py\", line 360, in finish_request\n",
            "    self.RequestHandlerClass(request, client_address, self)\n",
            "  File \"c:\\Users\\pranil\\AppData\\Local\\Programs\\Python\\Python39\\lib\\http\\server.py\", line 653, in __init__\n",
            "    super().__init__(*args, **kwargs)\n",
            "  File \"c:\\Users\\pranil\\AppData\\Local\\Programs\\Python\\Python39\\lib\\socketserver.py\", line 720, in __init__\n",
            "    self.handle()\n",
            "  File \"c:\\Users\\pranil\\AppData\\Local\\Programs\\Python\\Python39\\lib\\http\\server.py\", line 427, in handle\n",
            "    self.handle_one_request()\n",
            "  File \"c:\\Users\\pranil\\AppData\\Local\\Programs\\Python\\Python39\\lib\\http\\server.py\", line 415, in handle_one_request\n",
            "    method()\n",
            "  File \"C:\\Users\\pranil\\AppData\\Local\\Temp\\ipykernel_28500\\3979482508.py\", line 21, in do_GET\n",
            "    result = predict_model(kmeans, data=live_data)\n",
            "  File \"c:\\Users\\pranil\\AppData\\Local\\Programs\\Python\\Python39\\lib\\site-packages\\pycaret\\clustering\\functional.py\", line 861, in predict_model\n",
            "    return experiment.predict_model(\n",
            "  File \"c:\\Users\\pranil\\AppData\\Local\\Programs\\Python\\Python39\\lib\\site-packages\\pycaret\\clustering\\oop.py\", line 94, in predict_model\n",
            "    return super().predict_model(estimator, data, ml_usecase)\n",
            "  File \"c:\\Users\\pranil\\AppData\\Local\\Programs\\Python\\Python39\\lib\\site-packages\\pycaret\\internal\\pycaret_experiment\\unsupervised_experiment.py\", line 873, in predict_model\n",
            "    data = self.pipeline.transform(data)\n",
            "  File \"c:\\Users\\pranil\\AppData\\Local\\Programs\\Python\\Python39\\lib\\site-packages\\pycaret\\internal\\pipeline.py\", line 286, in transform\n",
            "    X, y = self._memory_full_transform(\n",
            "  File \"c:\\Users\\pranil\\AppData\\Local\\Programs\\Python\\Python39\\lib\\site-packages\\joblib\\memory.py\", line 655, in __call__\n",
            "    return self._cached_call(args, kwargs)[0]\n",
            "  File \"c:\\Users\\pranil\\AppData\\Local\\Programs\\Python\\Python39\\lib\\site-packages\\pycaret\\internal\\memory.py\", line 398, in _cached_call\n",
            "    out, metadata = self.call(*args, **kwargs)\n",
            "  File \"c:\\Users\\pranil\\AppData\\Local\\Programs\\Python\\Python39\\lib\\site-packages\\pycaret\\internal\\memory.py\", line 309, in call\n",
            "    output = self.func(*args, **kwargs)\n",
            "  File \"c:\\Users\\pranil\\AppData\\Local\\Programs\\Python\\Python39\\lib\\site-packages\\pycaret\\internal\\pipeline.py\", line 110, in _full_transform\n",
            "    X, y = pipeline._memory_transform(transformer, X, y)\n",
            "  File \"c:\\Users\\pranil\\AppData\\Local\\Programs\\Python\\Python39\\lib\\site-packages\\joblib\\memory.py\", line 655, in __call__\n",
            "    return self._cached_call(args, kwargs)[0]\n",
            "  File \"c:\\Users\\pranil\\AppData\\Local\\Programs\\Python\\Python39\\lib\\site-packages\\pycaret\\internal\\memory.py\", line 398, in _cached_call\n",
            "    out, metadata = self.call(*args, **kwargs)\n",
            "  File \"c:\\Users\\pranil\\AppData\\Local\\Programs\\Python\\Python39\\lib\\site-packages\\pycaret\\internal\\memory.py\", line 309, in call\n",
            "    output = self.func(*args, **kwargs)\n",
            "  File \"c:\\Users\\pranil\\AppData\\Local\\Programs\\Python\\Python39\\lib\\site-packages\\pycaret\\internal\\pipeline.py\", line 79, in _transform_one\n",
            "    output = transformer.transform(*args)\n",
            "  File \"c:\\Users\\pranil\\AppData\\Local\\Programs\\Python\\Python39\\lib\\site-packages\\pycaret\\internal\\preprocess\\transformers.py\", line 248, in transform\n",
            "    args.append(X[self._include])\n",
            "  File \"c:\\Users\\pranil\\AppData\\Local\\Programs\\Python\\Python39\\lib\\site-packages\\pandas\\core\\frame.py\", line 3461, in __getitem__\n",
            "    indexer = self.loc._get_listlike_indexer(key, axis=1)[1]\n",
            "  File \"c:\\Users\\pranil\\AppData\\Local\\Programs\\Python\\Python39\\lib\\site-packages\\pandas\\core\\indexing.py\", line 1314, in _get_listlike_indexer\n",
            "    self._validate_read_indexer(keyarr, indexer, axis)\n",
            "  File \"c:\\Users\\pranil\\AppData\\Local\\Programs\\Python\\Python39\\lib\\site-packages\\pandas\\core\\indexing.py\", line 1374, in _validate_read_indexer\n",
            "    raise KeyError(f\"None of [{key}] are in the [{axis_name}]\")\n",
            "KeyError: \"None of [Index(['Method', 'Path', 'Body'], dtype='object')] are in the [columns]\"\n",
            "----------------------------------------\n",
            "----------------------------------------\n",
            "Exception occurred during processing of request from ('127.0.0.1', 55621)\n",
            "Traceback (most recent call last):\n",
            "  File \"c:\\Users\\pranil\\AppData\\Local\\Programs\\Python\\Python39\\lib\\socketserver.py\", line 316, in _handle_request_noblock\n",
            "    self.process_request(request, client_address)\n",
            "  File \"c:\\Users\\pranil\\AppData\\Local\\Programs\\Python\\Python39\\lib\\socketserver.py\", line 347, in process_request\n",
            "    self.finish_request(request, client_address)\n",
            "  File \"c:\\Users\\pranil\\AppData\\Local\\Programs\\Python\\Python39\\lib\\socketserver.py\", line 360, in finish_request\n",
            "    self.RequestHandlerClass(request, client_address, self)\n",
            "  File \"c:\\Users\\pranil\\AppData\\Local\\Programs\\Python\\Python39\\lib\\http\\server.py\", line 653, in __init__\n",
            "    super().__init__(*args, **kwargs)\n",
            "  File \"c:\\Users\\pranil\\AppData\\Local\\Programs\\Python\\Python39\\lib\\socketserver.py\", line 720, in __init__\n",
            "    self.handle()\n",
            "  File \"c:\\Users\\pranil\\AppData\\Local\\Programs\\Python\\Python39\\lib\\http\\server.py\", line 427, in handle\n",
            "    self.handle_one_request()\n",
            "  File \"c:\\Users\\pranil\\AppData\\Local\\Programs\\Python\\Python39\\lib\\http\\server.py\", line 415, in handle_one_request\n",
            "    method()\n",
            "  File \"C:\\Users\\pranil\\AppData\\Local\\Temp\\ipykernel_28500\\3979482508.py\", line 21, in do_GET\n",
            "    result = predict_model(kmeans, data=live_data)\n",
            "  File \"c:\\Users\\pranil\\AppData\\Local\\Programs\\Python\\Python39\\lib\\site-packages\\pycaret\\clustering\\functional.py\", line 861, in predict_model\n",
            "    return experiment.predict_model(\n",
            "  File \"c:\\Users\\pranil\\AppData\\Local\\Programs\\Python\\Python39\\lib\\site-packages\\pycaret\\clustering\\oop.py\", line 94, in predict_model\n",
            "    return super().predict_model(estimator, data, ml_usecase)\n",
            "  File \"c:\\Users\\pranil\\AppData\\Local\\Programs\\Python\\Python39\\lib\\site-packages\\pycaret\\internal\\pycaret_experiment\\unsupervised_experiment.py\", line 873, in predict_model\n",
            "    data = self.pipeline.transform(data)\n",
            "  File \"c:\\Users\\pranil\\AppData\\Local\\Programs\\Python\\Python39\\lib\\site-packages\\pycaret\\internal\\pipeline.py\", line 286, in transform\n",
            "    X, y = self._memory_full_transform(\n",
            "  File \"c:\\Users\\pranil\\AppData\\Local\\Programs\\Python\\Python39\\lib\\site-packages\\joblib\\memory.py\", line 655, in __call__\n",
            "    return self._cached_call(args, kwargs)[0]\n",
            "  File \"c:\\Users\\pranil\\AppData\\Local\\Programs\\Python\\Python39\\lib\\site-packages\\pycaret\\internal\\memory.py\", line 398, in _cached_call\n",
            "    out, metadata = self.call(*args, **kwargs)\n",
            "  File \"c:\\Users\\pranil\\AppData\\Local\\Programs\\Python\\Python39\\lib\\site-packages\\pycaret\\internal\\memory.py\", line 309, in call\n",
            "    output = self.func(*args, **kwargs)\n",
            "  File \"c:\\Users\\pranil\\AppData\\Local\\Programs\\Python\\Python39\\lib\\site-packages\\pycaret\\internal\\pipeline.py\", line 110, in _full_transform\n",
            "    X, y = pipeline._memory_transform(transformer, X, y)\n",
            "  File \"c:\\Users\\pranil\\AppData\\Local\\Programs\\Python\\Python39\\lib\\site-packages\\joblib\\memory.py\", line 655, in __call__\n",
            "    return self._cached_call(args, kwargs)[0]\n",
            "  File \"c:\\Users\\pranil\\AppData\\Local\\Programs\\Python\\Python39\\lib\\site-packages\\pycaret\\internal\\memory.py\", line 398, in _cached_call\n",
            "    out, metadata = self.call(*args, **kwargs)\n",
            "  File \"c:\\Users\\pranil\\AppData\\Local\\Programs\\Python\\Python39\\lib\\site-packages\\pycaret\\internal\\memory.py\", line 309, in call\n",
            "    output = self.func(*args, **kwargs)\n",
            "  File \"c:\\Users\\pranil\\AppData\\Local\\Programs\\Python\\Python39\\lib\\site-packages\\pycaret\\internal\\pipeline.py\", line 79, in _transform_one\n",
            "    output = transformer.transform(*args)\n",
            "  File \"c:\\Users\\pranil\\AppData\\Local\\Programs\\Python\\Python39\\lib\\site-packages\\pycaret\\internal\\preprocess\\transformers.py\", line 248, in transform\n",
            "    args.append(X[self._include])\n",
            "  File \"c:\\Users\\pranil\\AppData\\Local\\Programs\\Python\\Python39\\lib\\site-packages\\pandas\\core\\frame.py\", line 3461, in __getitem__\n",
            "    indexer = self.loc._get_listlike_indexer(key, axis=1)[1]\n",
            "  File \"c:\\Users\\pranil\\AppData\\Local\\Programs\\Python\\Python39\\lib\\site-packages\\pandas\\core\\indexing.py\", line 1314, in _get_listlike_indexer\n",
            "    self._validate_read_indexer(keyarr, indexer, axis)\n",
            "  File \"c:\\Users\\pranil\\AppData\\Local\\Programs\\Python\\Python39\\lib\\site-packages\\pandas\\core\\indexing.py\", line 1374, in _validate_read_indexer\n",
            "    raise KeyError(f\"None of [{key}] are in the [{axis_name}]\")\n",
            "KeyError: \"None of [Index(['Method', 'Path', 'Body'], dtype='object')] are in the [columns]\"\n",
            "----------------------------------------\n",
            "----------------------------------------\n",
            "Exception occurred during processing of request from ('127.0.0.1', 55622)\n",
            "Traceback (most recent call last):\n",
            "  File \"c:\\Users\\pranil\\AppData\\Local\\Programs\\Python\\Python39\\lib\\socketserver.py\", line 316, in _handle_request_noblock\n",
            "    self.process_request(request, client_address)\n",
            "  File \"c:\\Users\\pranil\\AppData\\Local\\Programs\\Python\\Python39\\lib\\socketserver.py\", line 347, in process_request\n",
            "    self.finish_request(request, client_address)\n",
            "  File \"c:\\Users\\pranil\\AppData\\Local\\Programs\\Python\\Python39\\lib\\socketserver.py\", line 360, in finish_request\n",
            "    self.RequestHandlerClass(request, client_address, self)\n",
            "  File \"c:\\Users\\pranil\\AppData\\Local\\Programs\\Python\\Python39\\lib\\http\\server.py\", line 653, in __init__\n",
            "    super().__init__(*args, **kwargs)\n",
            "  File \"c:\\Users\\pranil\\AppData\\Local\\Programs\\Python\\Python39\\lib\\socketserver.py\", line 720, in __init__\n",
            "    self.handle()\n",
            "  File \"c:\\Users\\pranil\\AppData\\Local\\Programs\\Python\\Python39\\lib\\http\\server.py\", line 427, in handle\n",
            "    self.handle_one_request()\n",
            "  File \"c:\\Users\\pranil\\AppData\\Local\\Programs\\Python\\Python39\\lib\\http\\server.py\", line 415, in handle_one_request\n",
            "    method()\n",
            "  File \"C:\\Users\\pranil\\AppData\\Local\\Temp\\ipykernel_28500\\3979482508.py\", line 21, in do_GET\n",
            "    result = predict_model(kmeans, data=live_data)\n",
            "  File \"c:\\Users\\pranil\\AppData\\Local\\Programs\\Python\\Python39\\lib\\site-packages\\pycaret\\clustering\\functional.py\", line 861, in predict_model\n",
            "    return experiment.predict_model(\n",
            "  File \"c:\\Users\\pranil\\AppData\\Local\\Programs\\Python\\Python39\\lib\\site-packages\\pycaret\\clustering\\oop.py\", line 94, in predict_model\n",
            "    return super().predict_model(estimator, data, ml_usecase)\n",
            "  File \"c:\\Users\\pranil\\AppData\\Local\\Programs\\Python\\Python39\\lib\\site-packages\\pycaret\\internal\\pycaret_experiment\\unsupervised_experiment.py\", line 873, in predict_model\n",
            "    data = self.pipeline.transform(data)\n",
            "  File \"c:\\Users\\pranil\\AppData\\Local\\Programs\\Python\\Python39\\lib\\site-packages\\pycaret\\internal\\pipeline.py\", line 286, in transform\n",
            "    X, y = self._memory_full_transform(\n",
            "  File \"c:\\Users\\pranil\\AppData\\Local\\Programs\\Python\\Python39\\lib\\site-packages\\joblib\\memory.py\", line 655, in __call__\n",
            "    return self._cached_call(args, kwargs)[0]\n",
            "  File \"c:\\Users\\pranil\\AppData\\Local\\Programs\\Python\\Python39\\lib\\site-packages\\pycaret\\internal\\memory.py\", line 398, in _cached_call\n",
            "    out, metadata = self.call(*args, **kwargs)\n",
            "  File \"c:\\Users\\pranil\\AppData\\Local\\Programs\\Python\\Python39\\lib\\site-packages\\pycaret\\internal\\memory.py\", line 309, in call\n",
            "    output = self.func(*args, **kwargs)\n",
            "  File \"c:\\Users\\pranil\\AppData\\Local\\Programs\\Python\\Python39\\lib\\site-packages\\pycaret\\internal\\pipeline.py\", line 110, in _full_transform\n",
            "    X, y = pipeline._memory_transform(transformer, X, y)\n",
            "  File \"c:\\Users\\pranil\\AppData\\Local\\Programs\\Python\\Python39\\lib\\site-packages\\joblib\\memory.py\", line 655, in __call__\n",
            "    return self._cached_call(args, kwargs)[0]\n",
            "  File \"c:\\Users\\pranil\\AppData\\Local\\Programs\\Python\\Python39\\lib\\site-packages\\pycaret\\internal\\memory.py\", line 398, in _cached_call\n",
            "    out, metadata = self.call(*args, **kwargs)\n",
            "  File \"c:\\Users\\pranil\\AppData\\Local\\Programs\\Python\\Python39\\lib\\site-packages\\pycaret\\internal\\memory.py\", line 309, in call\n",
            "    output = self.func(*args, **kwargs)\n",
            "  File \"c:\\Users\\pranil\\AppData\\Local\\Programs\\Python\\Python39\\lib\\site-packages\\pycaret\\internal\\pipeline.py\", line 79, in _transform_one\n",
            "    output = transformer.transform(*args)\n",
            "  File \"c:\\Users\\pranil\\AppData\\Local\\Programs\\Python\\Python39\\lib\\site-packages\\pycaret\\internal\\preprocess\\transformers.py\", line 248, in transform\n",
            "    args.append(X[self._include])\n",
            "  File \"c:\\Users\\pranil\\AppData\\Local\\Programs\\Python\\Python39\\lib\\site-packages\\pandas\\core\\frame.py\", line 3461, in __getitem__\n",
            "    indexer = self.loc._get_listlike_indexer(key, axis=1)[1]\n",
            "  File \"c:\\Users\\pranil\\AppData\\Local\\Programs\\Python\\Python39\\lib\\site-packages\\pandas\\core\\indexing.py\", line 1314, in _get_listlike_indexer\n",
            "    self._validate_read_indexer(keyarr, indexer, axis)\n",
            "  File \"c:\\Users\\pranil\\AppData\\Local\\Programs\\Python\\Python39\\lib\\site-packages\\pandas\\core\\indexing.py\", line 1374, in _validate_read_indexer\n",
            "    raise KeyError(f\"None of [{key}] are in the [{axis_name}]\")\n",
            "KeyError: \"None of [Index(['Method', 'Path', 'Body'], dtype='object')] are in the [columns]\"\n",
            "----------------------------------------\n",
            "----------------------------------------\n",
            "Exception occurred during processing of request from ('127.0.0.1', 55623)\n",
            "Traceback (most recent call last):\n",
            "  File \"c:\\Users\\pranil\\AppData\\Local\\Programs\\Python\\Python39\\lib\\socketserver.py\", line 316, in _handle_request_noblock\n",
            "    self.process_request(request, client_address)\n",
            "  File \"c:\\Users\\pranil\\AppData\\Local\\Programs\\Python\\Python39\\lib\\socketserver.py\", line 347, in process_request\n",
            "    self.finish_request(request, client_address)\n",
            "  File \"c:\\Users\\pranil\\AppData\\Local\\Programs\\Python\\Python39\\lib\\socketserver.py\", line 360, in finish_request\n",
            "    self.RequestHandlerClass(request, client_address, self)\n",
            "  File \"c:\\Users\\pranil\\AppData\\Local\\Programs\\Python\\Python39\\lib\\http\\server.py\", line 653, in __init__\n",
            "    super().__init__(*args, **kwargs)\n",
            "  File \"c:\\Users\\pranil\\AppData\\Local\\Programs\\Python\\Python39\\lib\\socketserver.py\", line 720, in __init__\n",
            "    self.handle()\n",
            "  File \"c:\\Users\\pranil\\AppData\\Local\\Programs\\Python\\Python39\\lib\\http\\server.py\", line 427, in handle\n",
            "    self.handle_one_request()\n",
            "  File \"c:\\Users\\pranil\\AppData\\Local\\Programs\\Python\\Python39\\lib\\http\\server.py\", line 415, in handle_one_request\n",
            "    method()\n",
            "  File \"C:\\Users\\pranil\\AppData\\Local\\Temp\\ipykernel_28500\\3979482508.py\", line 21, in do_GET\n",
            "    result = predict_model(kmeans, data=live_data)\n",
            "  File \"c:\\Users\\pranil\\AppData\\Local\\Programs\\Python\\Python39\\lib\\site-packages\\pycaret\\clustering\\functional.py\", line 861, in predict_model\n",
            "    return experiment.predict_model(\n",
            "  File \"c:\\Users\\pranil\\AppData\\Local\\Programs\\Python\\Python39\\lib\\site-packages\\pycaret\\clustering\\oop.py\", line 94, in predict_model\n",
            "    return super().predict_model(estimator, data, ml_usecase)\n",
            "  File \"c:\\Users\\pranil\\AppData\\Local\\Programs\\Python\\Python39\\lib\\site-packages\\pycaret\\internal\\pycaret_experiment\\unsupervised_experiment.py\", line 873, in predict_model\n",
            "    data = self.pipeline.transform(data)\n",
            "  File \"c:\\Users\\pranil\\AppData\\Local\\Programs\\Python\\Python39\\lib\\site-packages\\pycaret\\internal\\pipeline.py\", line 286, in transform\n",
            "    X, y = self._memory_full_transform(\n",
            "  File \"c:\\Users\\pranil\\AppData\\Local\\Programs\\Python\\Python39\\lib\\site-packages\\joblib\\memory.py\", line 655, in __call__\n",
            "    return self._cached_call(args, kwargs)[0]\n",
            "  File \"c:\\Users\\pranil\\AppData\\Local\\Programs\\Python\\Python39\\lib\\site-packages\\pycaret\\internal\\memory.py\", line 398, in _cached_call\n",
            "    out, metadata = self.call(*args, **kwargs)\n",
            "  File \"c:\\Users\\pranil\\AppData\\Local\\Programs\\Python\\Python39\\lib\\site-packages\\pycaret\\internal\\memory.py\", line 309, in call\n",
            "    output = self.func(*args, **kwargs)\n",
            "  File \"c:\\Users\\pranil\\AppData\\Local\\Programs\\Python\\Python39\\lib\\site-packages\\pycaret\\internal\\pipeline.py\", line 110, in _full_transform\n",
            "    X, y = pipeline._memory_transform(transformer, X, y)\n",
            "  File \"c:\\Users\\pranil\\AppData\\Local\\Programs\\Python\\Python39\\lib\\site-packages\\joblib\\memory.py\", line 655, in __call__\n",
            "    return self._cached_call(args, kwargs)[0]\n",
            "  File \"c:\\Users\\pranil\\AppData\\Local\\Programs\\Python\\Python39\\lib\\site-packages\\pycaret\\internal\\memory.py\", line 398, in _cached_call\n",
            "    out, metadata = self.call(*args, **kwargs)\n",
            "  File \"c:\\Users\\pranil\\AppData\\Local\\Programs\\Python\\Python39\\lib\\site-packages\\pycaret\\internal\\memory.py\", line 309, in call\n",
            "    output = self.func(*args, **kwargs)\n",
            "  File \"c:\\Users\\pranil\\AppData\\Local\\Programs\\Python\\Python39\\lib\\site-packages\\pycaret\\internal\\pipeline.py\", line 79, in _transform_one\n",
            "    output = transformer.transform(*args)\n",
            "  File \"c:\\Users\\pranil\\AppData\\Local\\Programs\\Python\\Python39\\lib\\site-packages\\pycaret\\internal\\preprocess\\transformers.py\", line 248, in transform\n",
            "    args.append(X[self._include])\n",
            "  File \"c:\\Users\\pranil\\AppData\\Local\\Programs\\Python\\Python39\\lib\\site-packages\\pandas\\core\\frame.py\", line 3461, in __getitem__\n",
            "    indexer = self.loc._get_listlike_indexer(key, axis=1)[1]\n",
            "  File \"c:\\Users\\pranil\\AppData\\Local\\Programs\\Python\\Python39\\lib\\site-packages\\pandas\\core\\indexing.py\", line 1314, in _get_listlike_indexer\n",
            "    self._validate_read_indexer(keyarr, indexer, axis)\n",
            "  File \"c:\\Users\\pranil\\AppData\\Local\\Programs\\Python\\Python39\\lib\\site-packages\\pandas\\core\\indexing.py\", line 1374, in _validate_read_indexer\n",
            "    raise KeyError(f\"None of [{key}] are in the [{axis_name}]\")\n",
            "KeyError: \"None of [Index(['Method', 'Path', 'Body'], dtype='object')] are in the [columns]\"\n",
            "----------------------------------------\n"
          ]
        },
        {
          "name": "stdout",
          "output_type": "stream",
          "text": [
            "['http:', '', 'demo.testfire.net', '']\n",
            "[0, 0, 0, 0, 0, 0]\n",
            "['http:', '', 'demo.testfire.net', '']\n",
            "[0, 0, 0, 0, 0, 0]\n"
          ]
        },
        {
          "name": "stderr",
          "output_type": "stream",
          "text": [
            "----------------------------------------\n",
            "Exception occurred during processing of request from ('127.0.0.1', 55624)\n",
            "Traceback (most recent call last):\n",
            "  File \"c:\\Users\\pranil\\AppData\\Local\\Programs\\Python\\Python39\\lib\\socketserver.py\", line 316, in _handle_request_noblock\n",
            "    self.process_request(request, client_address)\n",
            "  File \"c:\\Users\\pranil\\AppData\\Local\\Programs\\Python\\Python39\\lib\\socketserver.py\", line 347, in process_request\n",
            "    self.finish_request(request, client_address)\n",
            "  File \"c:\\Users\\pranil\\AppData\\Local\\Programs\\Python\\Python39\\lib\\socketserver.py\", line 360, in finish_request\n",
            "    self.RequestHandlerClass(request, client_address, self)\n",
            "  File \"c:\\Users\\pranil\\AppData\\Local\\Programs\\Python\\Python39\\lib\\http\\server.py\", line 653, in __init__\n",
            "    super().__init__(*args, **kwargs)\n",
            "  File \"c:\\Users\\pranil\\AppData\\Local\\Programs\\Python\\Python39\\lib\\socketserver.py\", line 720, in __init__\n",
            "    self.handle()\n",
            "  File \"c:\\Users\\pranil\\AppData\\Local\\Programs\\Python\\Python39\\lib\\http\\server.py\", line 427, in handle\n",
            "    self.handle_one_request()\n",
            "  File \"c:\\Users\\pranil\\AppData\\Local\\Programs\\Python\\Python39\\lib\\http\\server.py\", line 415, in handle_one_request\n",
            "    method()\n",
            "  File \"C:\\Users\\pranil\\AppData\\Local\\Temp\\ipykernel_28500\\3979482508.py\", line 21, in do_GET\n",
            "    result = predict_model(kmeans, data=live_data)\n",
            "  File \"c:\\Users\\pranil\\AppData\\Local\\Programs\\Python\\Python39\\lib\\site-packages\\pycaret\\clustering\\functional.py\", line 861, in predict_model\n",
            "    return experiment.predict_model(\n",
            "  File \"c:\\Users\\pranil\\AppData\\Local\\Programs\\Python\\Python39\\lib\\site-packages\\pycaret\\clustering\\oop.py\", line 94, in predict_model\n",
            "    return super().predict_model(estimator, data, ml_usecase)\n",
            "  File \"c:\\Users\\pranil\\AppData\\Local\\Programs\\Python\\Python39\\lib\\site-packages\\pycaret\\internal\\pycaret_experiment\\unsupervised_experiment.py\", line 873, in predict_model\n",
            "    data = self.pipeline.transform(data)\n",
            "  File \"c:\\Users\\pranil\\AppData\\Local\\Programs\\Python\\Python39\\lib\\site-packages\\pycaret\\internal\\pipeline.py\", line 286, in transform\n",
            "    X, y = self._memory_full_transform(\n",
            "  File \"c:\\Users\\pranil\\AppData\\Local\\Programs\\Python\\Python39\\lib\\site-packages\\joblib\\memory.py\", line 655, in __call__\n",
            "    return self._cached_call(args, kwargs)[0]\n",
            "  File \"c:\\Users\\pranil\\AppData\\Local\\Programs\\Python\\Python39\\lib\\site-packages\\pycaret\\internal\\memory.py\", line 398, in _cached_call\n",
            "    out, metadata = self.call(*args, **kwargs)\n",
            "  File \"c:\\Users\\pranil\\AppData\\Local\\Programs\\Python\\Python39\\lib\\site-packages\\pycaret\\internal\\memory.py\", line 309, in call\n",
            "    output = self.func(*args, **kwargs)\n",
            "  File \"c:\\Users\\pranil\\AppData\\Local\\Programs\\Python\\Python39\\lib\\site-packages\\pycaret\\internal\\pipeline.py\", line 110, in _full_transform\n",
            "    X, y = pipeline._memory_transform(transformer, X, y)\n",
            "  File \"c:\\Users\\pranil\\AppData\\Local\\Programs\\Python\\Python39\\lib\\site-packages\\joblib\\memory.py\", line 655, in __call__\n",
            "    return self._cached_call(args, kwargs)[0]\n",
            "  File \"c:\\Users\\pranil\\AppData\\Local\\Programs\\Python\\Python39\\lib\\site-packages\\pycaret\\internal\\memory.py\", line 398, in _cached_call\n",
            "    out, metadata = self.call(*args, **kwargs)\n",
            "  File \"c:\\Users\\pranil\\AppData\\Local\\Programs\\Python\\Python39\\lib\\site-packages\\pycaret\\internal\\memory.py\", line 309, in call\n",
            "    output = self.func(*args, **kwargs)\n",
            "  File \"c:\\Users\\pranil\\AppData\\Local\\Programs\\Python\\Python39\\lib\\site-packages\\pycaret\\internal\\pipeline.py\", line 79, in _transform_one\n",
            "    output = transformer.transform(*args)\n",
            "  File \"c:\\Users\\pranil\\AppData\\Local\\Programs\\Python\\Python39\\lib\\site-packages\\pycaret\\internal\\preprocess\\transformers.py\", line 248, in transform\n",
            "    args.append(X[self._include])\n",
            "  File \"c:\\Users\\pranil\\AppData\\Local\\Programs\\Python\\Python39\\lib\\site-packages\\pandas\\core\\frame.py\", line 3461, in __getitem__\n",
            "    indexer = self.loc._get_listlike_indexer(key, axis=1)[1]\n",
            "  File \"c:\\Users\\pranil\\AppData\\Local\\Programs\\Python\\Python39\\lib\\site-packages\\pandas\\core\\indexing.py\", line 1314, in _get_listlike_indexer\n",
            "    self._validate_read_indexer(keyarr, indexer, axis)\n",
            "  File \"c:\\Users\\pranil\\AppData\\Local\\Programs\\Python\\Python39\\lib\\site-packages\\pandas\\core\\indexing.py\", line 1374, in _validate_read_indexer\n",
            "    raise KeyError(f\"None of [{key}] are in the [{axis_name}]\")\n",
            "KeyError: \"None of [Index(['Method', 'Path', 'Body'], dtype='object')] are in the [columns]\"\n",
            "----------------------------------------\n",
            "----------------------------------------\n",
            "Exception occurred during processing of request from ('127.0.0.1', 55625)\n",
            "Traceback (most recent call last):\n",
            "  File \"c:\\Users\\pranil\\AppData\\Local\\Programs\\Python\\Python39\\lib\\socketserver.py\", line 316, in _handle_request_noblock\n",
            "    self.process_request(request, client_address)\n",
            "  File \"c:\\Users\\pranil\\AppData\\Local\\Programs\\Python\\Python39\\lib\\socketserver.py\", line 347, in process_request\n",
            "    self.finish_request(request, client_address)\n",
            "  File \"c:\\Users\\pranil\\AppData\\Local\\Programs\\Python\\Python39\\lib\\socketserver.py\", line 360, in finish_request\n",
            "    self.RequestHandlerClass(request, client_address, self)\n",
            "  File \"c:\\Users\\pranil\\AppData\\Local\\Programs\\Python\\Python39\\lib\\http\\server.py\", line 653, in __init__\n",
            "    super().__init__(*args, **kwargs)\n",
            "  File \"c:\\Users\\pranil\\AppData\\Local\\Programs\\Python\\Python39\\lib\\socketserver.py\", line 720, in __init__\n",
            "    self.handle()\n",
            "  File \"c:\\Users\\pranil\\AppData\\Local\\Programs\\Python\\Python39\\lib\\http\\server.py\", line 427, in handle\n",
            "    self.handle_one_request()\n",
            "  File \"c:\\Users\\pranil\\AppData\\Local\\Programs\\Python\\Python39\\lib\\http\\server.py\", line 415, in handle_one_request\n",
            "    method()\n",
            "  File \"C:\\Users\\pranil\\AppData\\Local\\Temp\\ipykernel_28500\\3979482508.py\", line 21, in do_GET\n",
            "    result = predict_model(kmeans, data=live_data)\n",
            "  File \"c:\\Users\\pranil\\AppData\\Local\\Programs\\Python\\Python39\\lib\\site-packages\\pycaret\\clustering\\functional.py\", line 861, in predict_model\n",
            "    return experiment.predict_model(\n",
            "  File \"c:\\Users\\pranil\\AppData\\Local\\Programs\\Python\\Python39\\lib\\site-packages\\pycaret\\clustering\\oop.py\", line 94, in predict_model\n",
            "    return super().predict_model(estimator, data, ml_usecase)\n",
            "  File \"c:\\Users\\pranil\\AppData\\Local\\Programs\\Python\\Python39\\lib\\site-packages\\pycaret\\internal\\pycaret_experiment\\unsupervised_experiment.py\", line 873, in predict_model\n",
            "    data = self.pipeline.transform(data)\n",
            "  File \"c:\\Users\\pranil\\AppData\\Local\\Programs\\Python\\Python39\\lib\\site-packages\\pycaret\\internal\\pipeline.py\", line 286, in transform\n",
            "    X, y = self._memory_full_transform(\n",
            "  File \"c:\\Users\\pranil\\AppData\\Local\\Programs\\Python\\Python39\\lib\\site-packages\\joblib\\memory.py\", line 655, in __call__\n",
            "    return self._cached_call(args, kwargs)[0]\n",
            "  File \"c:\\Users\\pranil\\AppData\\Local\\Programs\\Python\\Python39\\lib\\site-packages\\pycaret\\internal\\memory.py\", line 398, in _cached_call\n",
            "    out, metadata = self.call(*args, **kwargs)\n",
            "  File \"c:\\Users\\pranil\\AppData\\Local\\Programs\\Python\\Python39\\lib\\site-packages\\pycaret\\internal\\memory.py\", line 309, in call\n",
            "    output = self.func(*args, **kwargs)\n",
            "  File \"c:\\Users\\pranil\\AppData\\Local\\Programs\\Python\\Python39\\lib\\site-packages\\pycaret\\internal\\pipeline.py\", line 110, in _full_transform\n",
            "    X, y = pipeline._memory_transform(transformer, X, y)\n",
            "  File \"c:\\Users\\pranil\\AppData\\Local\\Programs\\Python\\Python39\\lib\\site-packages\\joblib\\memory.py\", line 655, in __call__\n",
            "    return self._cached_call(args, kwargs)[0]\n",
            "  File \"c:\\Users\\pranil\\AppData\\Local\\Programs\\Python\\Python39\\lib\\site-packages\\pycaret\\internal\\memory.py\", line 398, in _cached_call\n",
            "    out, metadata = self.call(*args, **kwargs)\n",
            "  File \"c:\\Users\\pranil\\AppData\\Local\\Programs\\Python\\Python39\\lib\\site-packages\\pycaret\\internal\\memory.py\", line 309, in call\n",
            "    output = self.func(*args, **kwargs)\n",
            "  File \"c:\\Users\\pranil\\AppData\\Local\\Programs\\Python\\Python39\\lib\\site-packages\\pycaret\\internal\\pipeline.py\", line 79, in _transform_one\n",
            "    output = transformer.transform(*args)\n",
            "  File \"c:\\Users\\pranil\\AppData\\Local\\Programs\\Python\\Python39\\lib\\site-packages\\pycaret\\internal\\preprocess\\transformers.py\", line 248, in transform\n",
            "    args.append(X[self._include])\n",
            "  File \"c:\\Users\\pranil\\AppData\\Local\\Programs\\Python\\Python39\\lib\\site-packages\\pandas\\core\\frame.py\", line 3461, in __getitem__\n",
            "    indexer = self.loc._get_listlike_indexer(key, axis=1)[1]\n",
            "  File \"c:\\Users\\pranil\\AppData\\Local\\Programs\\Python\\Python39\\lib\\site-packages\\pandas\\core\\indexing.py\", line 1314, in _get_listlike_indexer\n",
            "    self._validate_read_indexer(keyarr, indexer, axis)\n",
            "  File \"c:\\Users\\pranil\\AppData\\Local\\Programs\\Python\\Python39\\lib\\site-packages\\pandas\\core\\indexing.py\", line 1374, in _validate_read_indexer\n",
            "    raise KeyError(f\"None of [{key}] are in the [{axis_name}]\")\n",
            "KeyError: \"None of [Index(['Method', 'Path', 'Body'], dtype='object')] are in the [columns]\"\n",
            "----------------------------------------\n"
          ]
        },
        {
          "name": "stdout",
          "output_type": "stream",
          "text": [
            "\n",
            "Keyboard interrupt received, exiting\n"
          ]
        },
        {
          "ename": "AssertionError",
          "evalue": "",
          "output_type": "error",
          "traceback": [
            "\u001b[1;31m---------------------------------------------------------------------------\u001b[0m",
            "\u001b[1;31mKeyboardInterrupt\u001b[0m                         Traceback (most recent call last)",
            "\u001b[1;32mc:\\Users\\pranil\\Desktop\\burpy-master\\789654 - Copy.ipynb Cell 18\u001b[0m line \u001b[0;36m<cell line: 47>\u001b[1;34m()\u001b[0m\n\u001b[0;32m     <a href='vscode-notebook-cell:/c%3A/Users/pranil/Desktop/burpy-master/789654%20-%20Copy.ipynb#X23sZmlsZQ%3D%3D?line=49'>50</a>\u001b[0m \u001b[39mtry\u001b[39;00m:\n\u001b[1;32m---> <a href='vscode-notebook-cell:/c%3A/Users/pranil/Desktop/burpy-master/789654%20-%20Copy.ipynb#X23sZmlsZQ%3D%3D?line=50'>51</a>\u001b[0m     httpd\u001b[39m.\u001b[39;49mserve_forever()\n\u001b[0;32m     <a href='vscode-notebook-cell:/c%3A/Users/pranil/Desktop/burpy-master/789654%20-%20Copy.ipynb#X23sZmlsZQ%3D%3D?line=51'>52</a>\u001b[0m \u001b[39mexcept\u001b[39;00m \u001b[39mKeyboardInterrupt\u001b[39;00m:\n",
            "File \u001b[1;32mc:\\Users\\pranil\\AppData\\Local\\Programs\\Python\\Python39\\lib\\socketserver.py:232\u001b[0m, in \u001b[0;36mBaseServer.serve_forever\u001b[1;34m(self, poll_interval)\u001b[0m\n\u001b[0;32m    231\u001b[0m \u001b[39mwhile\u001b[39;00m \u001b[39mnot\u001b[39;00m \u001b[39mself\u001b[39m\u001b[39m.\u001b[39m__shutdown_request:\n\u001b[1;32m--> 232\u001b[0m     ready \u001b[39m=\u001b[39m selector\u001b[39m.\u001b[39;49mselect(poll_interval)\n\u001b[0;32m    233\u001b[0m     \u001b[39m# bpo-35017: shutdown() called during select(), exit immediately.\u001b[39;00m\n",
            "File \u001b[1;32mc:\\Users\\pranil\\AppData\\Local\\Programs\\Python\\Python39\\lib\\selectors.py:324\u001b[0m, in \u001b[0;36mSelectSelector.select\u001b[1;34m(self, timeout)\u001b[0m\n\u001b[0;32m    323\u001b[0m \u001b[39mtry\u001b[39;00m:\n\u001b[1;32m--> 324\u001b[0m     r, w, _ \u001b[39m=\u001b[39m \u001b[39mself\u001b[39;49m\u001b[39m.\u001b[39;49m_select(\u001b[39mself\u001b[39;49m\u001b[39m.\u001b[39;49m_readers, \u001b[39mself\u001b[39;49m\u001b[39m.\u001b[39;49m_writers, [], timeout)\n\u001b[0;32m    325\u001b[0m \u001b[39mexcept\u001b[39;00m \u001b[39mInterruptedError\u001b[39;00m:\n",
            "File \u001b[1;32mc:\\Users\\pranil\\AppData\\Local\\Programs\\Python\\Python39\\lib\\selectors.py:315\u001b[0m, in \u001b[0;36mSelectSelector._select\u001b[1;34m(self, r, w, _, timeout)\u001b[0m\n\u001b[0;32m    314\u001b[0m \u001b[39mdef\u001b[39;00m \u001b[39m_select\u001b[39m(\u001b[39mself\u001b[39m, r, w, _, timeout\u001b[39m=\u001b[39m\u001b[39mNone\u001b[39;00m):\n\u001b[1;32m--> 315\u001b[0m     r, w, x \u001b[39m=\u001b[39m select\u001b[39m.\u001b[39;49mselect(r, w, w, timeout)\n\u001b[0;32m    316\u001b[0m     \u001b[39mreturn\u001b[39;00m r, w \u001b[39m+\u001b[39m x, []\n",
            "\u001b[1;31mKeyboardInterrupt\u001b[0m: ",
            "\nDuring handling of the above exception, another exception occurred:\n",
            "\u001b[1;31mSystemExit\u001b[0m                                Traceback (most recent call last)",
            "    \u001b[1;31m[... skipping hidden 1 frame]\u001b[0m\n",
            "\u001b[1;32mc:\\Users\\pranil\\Desktop\\burpy-master\\789654 - Copy.ipynb Cell 18\u001b[0m line \u001b[0;36m<cell line: 47>\u001b[1;34m()\u001b[0m\n\u001b[0;32m     <a href='vscode-notebook-cell:/c%3A/Users/pranil/Desktop/burpy-master/789654%20-%20Copy.ipynb#X23sZmlsZQ%3D%3D?line=52'>53</a>\u001b[0m \u001b[39mprint\u001b[39m(\u001b[39m\"\u001b[39m\u001b[39m\\n\u001b[39;00m\u001b[39mKeyboard interrupt received, exiting\u001b[39m\u001b[39m\"\u001b[39m)\n\u001b[1;32m---> <a href='vscode-notebook-cell:/c%3A/Users/pranil/Desktop/burpy-master/789654%20-%20Copy.ipynb#X23sZmlsZQ%3D%3D?line=53'>54</a>\u001b[0m sys\u001b[39m.\u001b[39;49mexit(\u001b[39m0\u001b[39;49m)\n",
            "\u001b[1;31mSystemExit\u001b[0m: 0",
            "\nDuring handling of the above exception, another exception occurred:\n",
            "\u001b[1;31mAssertionError\u001b[0m                            Traceback (most recent call last)",
            "    \u001b[1;31m[... skipping hidden 1 frame]\u001b[0m\n",
            "File \u001b[1;32mc:\\Users\\pranil\\AppData\\Local\\Programs\\Python\\Python39\\lib\\site-packages\\IPython\\core\\interactiveshell.py:1972\u001b[0m, in \u001b[0;36mInteractiveShell.showtraceback\u001b[1;34m(self, exc_tuple, filename, tb_offset, exception_only, running_compiled_code)\u001b[0m\n\u001b[0;32m   1969\u001b[0m \u001b[39mif\u001b[39;00m exception_only:\n\u001b[0;32m   1970\u001b[0m     stb \u001b[39m=\u001b[39m [\u001b[39m'\u001b[39m\u001b[39mAn exception has occurred, use \u001b[39m\u001b[39m%\u001b[39m\u001b[39mtb to see \u001b[39m\u001b[39m'\u001b[39m\n\u001b[0;32m   1971\u001b[0m            \u001b[39m'\u001b[39m\u001b[39mthe full traceback.\u001b[39m\u001b[39m\\n\u001b[39;00m\u001b[39m'\u001b[39m]\n\u001b[1;32m-> 1972\u001b[0m     stb\u001b[39m.\u001b[39mextend(\u001b[39mself\u001b[39;49m\u001b[39m.\u001b[39;49mInteractiveTB\u001b[39m.\u001b[39;49mget_exception_only(etype,\n\u001b[0;32m   1973\u001b[0m                                                      value))\n\u001b[0;32m   1974\u001b[0m \u001b[39melse\u001b[39;00m:\n\u001b[0;32m   1975\u001b[0m     \u001b[39mtry\u001b[39;00m:\n\u001b[0;32m   1976\u001b[0m         \u001b[39m# Exception classes can customise their traceback - we\u001b[39;00m\n\u001b[0;32m   1977\u001b[0m         \u001b[39m# use this in IPython.parallel for exceptions occurring\u001b[39;00m\n\u001b[0;32m   1978\u001b[0m         \u001b[39m# in the engines. This should return a list of strings.\u001b[39;00m\n",
            "File \u001b[1;32mc:\\Users\\pranil\\AppData\\Local\\Programs\\Python\\Python39\\lib\\site-packages\\IPython\\core\\ultratb.py:578\u001b[0m, in \u001b[0;36mListTB.get_exception_only\u001b[1;34m(self, etype, value)\u001b[0m\n\u001b[0;32m    570\u001b[0m \u001b[39mdef\u001b[39;00m \u001b[39mget_exception_only\u001b[39m(\u001b[39mself\u001b[39m, etype, value):\n\u001b[0;32m    571\u001b[0m     \u001b[39m\"\"\"Only print the exception type and message, without a traceback.\u001b[39;00m\n\u001b[0;32m    572\u001b[0m \n\u001b[0;32m    573\u001b[0m \u001b[39m    Parameters\u001b[39;00m\n\u001b[1;32m   (...)\u001b[0m\n\u001b[0;32m    576\u001b[0m \u001b[39m    value : exception value\u001b[39;00m\n\u001b[0;32m    577\u001b[0m \u001b[39m    \"\"\"\u001b[39;00m\n\u001b[1;32m--> 578\u001b[0m     \u001b[39mreturn\u001b[39;00m ListTB\u001b[39m.\u001b[39;49mstructured_traceback(\u001b[39mself\u001b[39;49m, etype, value)\n",
            "File \u001b[1;32mc:\\Users\\pranil\\AppData\\Local\\Programs\\Python\\Python39\\lib\\site-packages\\IPython\\core\\ultratb.py:436\u001b[0m, in \u001b[0;36mListTB.structured_traceback\u001b[1;34m(self, etype, evalue, etb, tb_offset, context)\u001b[0m\n\u001b[0;32m    433\u001b[0m     chained_exc_ids\u001b[39m.\u001b[39madd(\u001b[39mid\u001b[39m(exception[\u001b[39m1\u001b[39m]))\n\u001b[0;32m    434\u001b[0m     chained_exceptions_tb_offset \u001b[39m=\u001b[39m \u001b[39m0\u001b[39m\n\u001b[0;32m    435\u001b[0m     out_list \u001b[39m=\u001b[39m (\n\u001b[1;32m--> 436\u001b[0m         \u001b[39mself\u001b[39;49m\u001b[39m.\u001b[39;49mstructured_traceback(\n\u001b[0;32m    437\u001b[0m             etype, evalue, (etb, chained_exc_ids),\n\u001b[0;32m    438\u001b[0m             chained_exceptions_tb_offset, context)\n\u001b[0;32m    439\u001b[0m         \u001b[39m+\u001b[39m chained_exception_message\n\u001b[0;32m    440\u001b[0m         \u001b[39m+\u001b[39m out_list)\n\u001b[0;32m    442\u001b[0m \u001b[39mreturn\u001b[39;00m out_list\n",
            "File \u001b[1;32mc:\\Users\\pranil\\AppData\\Local\\Programs\\Python\\Python39\\lib\\site-packages\\IPython\\core\\ultratb.py:1105\u001b[0m, in \u001b[0;36mAutoFormattedTB.structured_traceback\u001b[1;34m(self, etype, value, tb, tb_offset, number_of_lines_of_context)\u001b[0m\n\u001b[0;32m   1103\u001b[0m \u001b[39melse\u001b[39;00m:\n\u001b[0;32m   1104\u001b[0m     \u001b[39mself\u001b[39m\u001b[39m.\u001b[39mtb \u001b[39m=\u001b[39m tb\n\u001b[1;32m-> 1105\u001b[0m \u001b[39mreturn\u001b[39;00m FormattedTB\u001b[39m.\u001b[39;49mstructured_traceback(\n\u001b[0;32m   1106\u001b[0m     \u001b[39mself\u001b[39;49m, etype, value, tb, tb_offset, number_of_lines_of_context)\n",
            "File \u001b[1;32mc:\\Users\\pranil\\AppData\\Local\\Programs\\Python\\Python39\\lib\\site-packages\\IPython\\core\\ultratb.py:999\u001b[0m, in \u001b[0;36mFormattedTB.structured_traceback\u001b[1;34m(self, etype, value, tb, tb_offset, number_of_lines_of_context)\u001b[0m\n\u001b[0;32m    996\u001b[0m mode \u001b[39m=\u001b[39m \u001b[39mself\u001b[39m\u001b[39m.\u001b[39mmode\n\u001b[0;32m    997\u001b[0m \u001b[39mif\u001b[39;00m mode \u001b[39min\u001b[39;00m \u001b[39mself\u001b[39m\u001b[39m.\u001b[39mverbose_modes:\n\u001b[0;32m    998\u001b[0m     \u001b[39m# Verbose modes need a full traceback\u001b[39;00m\n\u001b[1;32m--> 999\u001b[0m     \u001b[39mreturn\u001b[39;00m VerboseTB\u001b[39m.\u001b[39;49mstructured_traceback(\n\u001b[0;32m   1000\u001b[0m         \u001b[39mself\u001b[39;49m, etype, value, tb, tb_offset, number_of_lines_of_context\n\u001b[0;32m   1001\u001b[0m     )\n\u001b[0;32m   1002\u001b[0m \u001b[39melif\u001b[39;00m mode \u001b[39m==\u001b[39m \u001b[39m'\u001b[39m\u001b[39mMinimal\u001b[39m\u001b[39m'\u001b[39m:\n\u001b[0;32m   1003\u001b[0m     \u001b[39mreturn\u001b[39;00m ListTB\u001b[39m.\u001b[39mget_exception_only(\u001b[39mself\u001b[39m, etype, value)\n",
            "File \u001b[1;32mc:\\Users\\pranil\\AppData\\Local\\Programs\\Python\\Python39\\lib\\site-packages\\IPython\\core\\ultratb.py:852\u001b[0m, in \u001b[0;36mVerboseTB.structured_traceback\u001b[1;34m(self, etype, evalue, etb, tb_offset, number_of_lines_of_context)\u001b[0m\n\u001b[0;32m    850\u001b[0m \u001b[39m\"\"\"Return a nice text document describing the traceback.\"\"\"\u001b[39;00m\n\u001b[0;32m    851\u001b[0m \u001b[39massert\u001b[39;00m etb \u001b[39mis\u001b[39;00m \u001b[39mnot\u001b[39;00m \u001b[39mNone\u001b[39;00m\n\u001b[1;32m--> 852\u001b[0m formatted_exception \u001b[39m=\u001b[39m \u001b[39mself\u001b[39;49m\u001b[39m.\u001b[39;49mformat_exception_as_a_whole(etype, evalue, etb, number_of_lines_of_context,\n\u001b[0;32m    853\u001b[0m                                                        tb_offset)\n\u001b[0;32m    855\u001b[0m colors \u001b[39m=\u001b[39m \u001b[39mself\u001b[39m\u001b[39m.\u001b[39mColors  \u001b[39m# just a shorthand + quicker name lookup\u001b[39;00m\n\u001b[0;32m    856\u001b[0m colorsnormal \u001b[39m=\u001b[39m colors\u001b[39m.\u001b[39mNormal  \u001b[39m# used a lot\u001b[39;00m\n",
            "File \u001b[1;32mc:\\Users\\pranil\\AppData\\Local\\Programs\\Python\\Python39\\lib\\site-packages\\IPython\\core\\ultratb.py:786\u001b[0m, in \u001b[0;36mVerboseTB.format_exception_as_a_whole\u001b[1;34m(self, etype, evalue, etb, number_of_lines_of_context, tb_offset)\u001b[0m\n\u001b[0;32m    784\u001b[0m \u001b[39massert\u001b[39;00m \u001b[39misinstance\u001b[39m(tb_offset, \u001b[39mint\u001b[39m)\n\u001b[0;32m    785\u001b[0m head \u001b[39m=\u001b[39m \u001b[39mself\u001b[39m\u001b[39m.\u001b[39mprepare_header(etype, \u001b[39mself\u001b[39m\u001b[39m.\u001b[39mlong_header)\n\u001b[1;32m--> 786\u001b[0m records \u001b[39m=\u001b[39m \u001b[39mself\u001b[39;49m\u001b[39m.\u001b[39;49mget_records(etb, number_of_lines_of_context, tb_offset)\n\u001b[0;32m    788\u001b[0m frames \u001b[39m=\u001b[39m []\n\u001b[0;32m    789\u001b[0m skipped \u001b[39m=\u001b[39m \u001b[39m0\u001b[39m\n",
            "File \u001b[1;32mc:\\Users\\pranil\\AppData\\Local\\Programs\\Python\\Python39\\lib\\site-packages\\IPython\\core\\ultratb.py:840\u001b[0m, in \u001b[0;36mVerboseTB.get_records\u001b[1;34m(self, etb, number_of_lines_of_context, tb_offset)\u001b[0m\n\u001b[0;32m    834\u001b[0m options \u001b[39m=\u001b[39m stack_data\u001b[39m.\u001b[39mOptions(\n\u001b[0;32m    835\u001b[0m     before\u001b[39m=\u001b[39mbefore,\n\u001b[0;32m    836\u001b[0m     after\u001b[39m=\u001b[39mafter,\n\u001b[0;32m    837\u001b[0m     pygments_formatter\u001b[39m=\u001b[39mformatter,\n\u001b[0;32m    838\u001b[0m )\n\u001b[0;32m    839\u001b[0m \u001b[39massert\u001b[39;00m etb \u001b[39mis\u001b[39;00m \u001b[39mnot\u001b[39;00m \u001b[39mNone\u001b[39;00m\n\u001b[1;32m--> 840\u001b[0m \u001b[39mreturn\u001b[39;00m \u001b[39mlist\u001b[39;49m(stack_data\u001b[39m.\u001b[39;49mFrameInfo\u001b[39m.\u001b[39;49mstack_data(etb, options\u001b[39m=\u001b[39;49moptions))[tb_offset:]\n",
            "File \u001b[1;32mc:\\Users\\pranil\\AppData\\Local\\Programs\\Python\\Python39\\lib\\site-packages\\stack_data\\core.py:546\u001b[0m, in \u001b[0;36mFrameInfo.stack_data\u001b[1;34m(cls, frame_or_tb, options, collapse_repeated_frames)\u001b[0m\n\u001b[0;32m    530\u001b[0m \u001b[39m@classmethod\u001b[39m\n\u001b[0;32m    531\u001b[0m \u001b[39mdef\u001b[39;00m \u001b[39mstack_data\u001b[39m(\n\u001b[0;32m    532\u001b[0m         \u001b[39mcls\u001b[39m,\n\u001b[1;32m   (...)\u001b[0m\n\u001b[0;32m    536\u001b[0m         collapse_repeated_frames: \u001b[39mbool\u001b[39m \u001b[39m=\u001b[39m \u001b[39mTrue\u001b[39;00m\n\u001b[0;32m    537\u001b[0m ) \u001b[39m-\u001b[39m\u001b[39m>\u001b[39m Iterator[Union[\u001b[39m'\u001b[39m\u001b[39mFrameInfo\u001b[39m\u001b[39m'\u001b[39m, RepeatedFrames]]:\n\u001b[0;32m    538\u001b[0m     \u001b[39m\"\"\"\u001b[39;00m\n\u001b[0;32m    539\u001b[0m \u001b[39m    An iterator of FrameInfo and RepeatedFrames objects representing\u001b[39;00m\n\u001b[0;32m    540\u001b[0m \u001b[39m    a full traceback or stack. Similar consecutive frames are collapsed into RepeatedFrames\u001b[39;00m\n\u001b[1;32m   (...)\u001b[0m\n\u001b[0;32m    544\u001b[0m \u001b[39m    and optionally an Options object to configure.\u001b[39;00m\n\u001b[0;32m    545\u001b[0m \u001b[39m    \"\"\"\u001b[39;00m\n\u001b[1;32m--> 546\u001b[0m     stack \u001b[39m=\u001b[39m \u001b[39mlist\u001b[39;49m(iter_stack(frame_or_tb))\n\u001b[0;32m    548\u001b[0m     \u001b[39m# Reverse the stack from a frame so that it's in the same order\u001b[39;00m\n\u001b[0;32m    549\u001b[0m     \u001b[39m# as the order from a traceback, which is the order of a printed\u001b[39;00m\n\u001b[0;32m    550\u001b[0m     \u001b[39m# traceback when read top to bottom (most recent call last)\u001b[39;00m\n\u001b[0;32m    551\u001b[0m     \u001b[39mif\u001b[39;00m is_frame(frame_or_tb):\n",
            "File \u001b[1;32mc:\\Users\\pranil\\AppData\\Local\\Programs\\Python\\Python39\\lib\\site-packages\\stack_data\\utils.py:98\u001b[0m, in \u001b[0;36miter_stack\u001b[1;34m(frame_or_tb)\u001b[0m\n\u001b[0;32m     96\u001b[0m \u001b[39mwhile\u001b[39;00m frame_or_tb:\n\u001b[0;32m     97\u001b[0m     \u001b[39myield\u001b[39;00m frame_or_tb\n\u001b[1;32m---> 98\u001b[0m     \u001b[39mif\u001b[39;00m is_frame(frame_or_tb):\n\u001b[0;32m     99\u001b[0m         frame_or_tb \u001b[39m=\u001b[39m frame_or_tb\u001b[39m.\u001b[39mf_back\n\u001b[0;32m    100\u001b[0m     \u001b[39melse\u001b[39;00m:\n",
            "File \u001b[1;32mc:\\Users\\pranil\\AppData\\Local\\Programs\\Python\\Python39\\lib\\site-packages\\stack_data\\utils.py:91\u001b[0m, in \u001b[0;36mis_frame\u001b[1;34m(frame_or_tb)\u001b[0m\n\u001b[0;32m     90\u001b[0m \u001b[39mdef\u001b[39;00m \u001b[39mis_frame\u001b[39m(frame_or_tb: Union[FrameType, TracebackType]) \u001b[39m-\u001b[39m\u001b[39m>\u001b[39m \u001b[39mbool\u001b[39m:\n\u001b[1;32m---> 91\u001b[0m     assert_(\u001b[39misinstance\u001b[39;49m(frame_or_tb, (types\u001b[39m.\u001b[39;49mFrameType, types\u001b[39m.\u001b[39;49mTracebackType)))\n\u001b[0;32m     92\u001b[0m     \u001b[39mreturn\u001b[39;00m \u001b[39misinstance\u001b[39m(frame_or_tb, (types\u001b[39m.\u001b[39mFrameType,))\n",
            "File \u001b[1;32mc:\\Users\\pranil\\AppData\\Local\\Programs\\Python\\Python39\\lib\\site-packages\\stack_data\\utils.py:172\u001b[0m, in \u001b[0;36massert_\u001b[1;34m(condition, error)\u001b[0m\n\u001b[0;32m    170\u001b[0m \u001b[39mif\u001b[39;00m \u001b[39misinstance\u001b[39m(error, \u001b[39mstr\u001b[39m):\n\u001b[0;32m    171\u001b[0m     error \u001b[39m=\u001b[39m \u001b[39mAssertionError\u001b[39;00m(error)\n\u001b[1;32m--> 172\u001b[0m \u001b[39mraise\u001b[39;00m error\n",
            "\u001b[1;31mAssertionError\u001b[0m: "
          ]
        }
      ],
      "source": [
        "from http.server import SimpleHTTPRequestHandler, HTTPServer\n",
        "from urllib import request, error\n",
        "import sys\n",
        "\n",
        "# Assuming ExtractFeatures is defined and functional\n",
        "# Also assuming a KMeans model named 'kmeans' is trained previously\n",
        "\n",
        "class SimpleHTTPProxy(SimpleHTTPRequestHandler):\n",
        "    proxy_routes = {}\n",
        "\n",
        "    @classmethod\n",
        "    def set_routes(cls, proxy_routes):\n",
        "        cls.proxy_routes = proxy_routes\n",
        "\n",
        "    def do_GET(self):\n",
        "        parts = self.path.split('/')\n",
        "        print(parts)\n",
        "\n",
        "        if len(parts) >= 4:\n",
        "            live_data = ExtractFeatures(parts[3])  # Fixed typo: parts, not part\n",
        "            result = predict_model(kmeans, data=live_data)\n",
        "            print(result['Cluster'][0])\n",
        "            if result['Cluster'][0] == \"Cluster 1\":\n",
        "                print('Intrusion Detected')\n",
        "\n",
        "        if len(parts) >= 3:\n",
        "            self.proxy_request('http://' + parts[2] + '/')\n",
        "        else:\n",
        "            super().do_GET()\n",
        "\n",
        "    def proxy_request(self, url):\n",
        "        try:\n",
        "            response = request.urlopen(url)\n",
        "        except error.HTTPError as e:\n",
        "            print('err')\n",
        "            self.send_response_only(e.code)\n",
        "            self.end_headers()\n",
        "            return\n",
        "\n",
        "        self.send_response_only(response.status)\n",
        "        for name, value in response.headers.items():\n",
        "            self.send_header(name, value)\n",
        "        self.end_headers()\n",
        "        self.copyfile(response, self.wfile)\n",
        "\n",
        "SimpleHTTPProxy.set_routes({'proxy_route': 'http://demo.testfire.net/'})\n",
        "with HTTPServer(('127.0.0.1', 21), SimpleHTTPProxy) as httpd:\n",
        "    host, port = httpd.socket.getsockname()\n",
        "    print(f'Listening on http://{host}:{port}')\n",
        "    try:\n",
        "        httpd.serve_forever()\n",
        "    except KeyboardInterrupt:\n",
        "        print(\"\\nKeyboard interrupt received, exiting\")\n",
        "        sys.exit(0)\n"
      ]
    }
  ],
  "metadata": {
    "accelerator": "GPU",
    "colab": {
      "gpuType": "T4",
      "provenance": []
    },
    "kernelspec": {
      "display_name": "Python 3",
      "name": "python3"
    },
    "language_info": {
      "codemirror_mode": {
        "name": "ipython",
        "version": 3
      },
      "file_extension": ".py",
      "mimetype": "text/x-python",
      "name": "python",
      "nbconvert_exporter": "python",
      "pygments_lexer": "ipython3",
      "version": "3.9.1"
    },
    "widgets": {
      "application/vnd.jupyter.widget-state+json": {
        "1746b73a70a04aeca15d606f67cf41ca": {
          "model_module": "@jupyter-widgets/controls",
          "model_module_version": "1.5.0",
          "model_name": "DescriptionStyleModel",
          "state": {
            "_model_module": "@jupyter-widgets/controls",
            "_model_module_version": "1.5.0",
            "_model_name": "DescriptionStyleModel",
            "_view_count": null,
            "_view_module": "@jupyter-widgets/base",
            "_view_module_version": "1.2.0",
            "_view_name": "StyleView",
            "description_width": ""
          }
        },
        "176baefe68524523acf7f54a06ede7a2": {
          "model_module": "@jupyter-widgets/base",
          "model_module_version": "1.2.0",
          "model_name": "LayoutModel",
          "state": {
            "_model_module": "@jupyter-widgets/base",
            "_model_module_version": "1.2.0",
            "_model_name": "LayoutModel",
            "_view_count": null,
            "_view_module": "@jupyter-widgets/base",
            "_view_module_version": "1.2.0",
            "_view_name": "LayoutView",
            "align_content": null,
            "align_items": null,
            "align_self": null,
            "border": null,
            "bottom": null,
            "display": null,
            "flex": null,
            "flex_flow": null,
            "grid_area": null,
            "grid_auto_columns": null,
            "grid_auto_flow": null,
            "grid_auto_rows": null,
            "grid_column": null,
            "grid_gap": null,
            "grid_row": null,
            "grid_template_areas": null,
            "grid_template_columns": null,
            "grid_template_rows": null,
            "height": null,
            "justify_content": null,
            "justify_items": null,
            "left": null,
            "margin": null,
            "max_height": null,
            "max_width": null,
            "min_height": null,
            "min_width": null,
            "object_fit": null,
            "object_position": null,
            "order": null,
            "overflow": null,
            "overflow_x": null,
            "overflow_y": null,
            "padding": null,
            "right": null,
            "top": null,
            "visibility": null,
            "width": null
          }
        },
        "19ed30deb4854b90bca5736f7a8f46a2": {
          "model_module": "@jupyter-widgets/base",
          "model_module_version": "1.2.0",
          "model_name": "LayoutModel",
          "state": {
            "_model_module": "@jupyter-widgets/base",
            "_model_module_version": "1.2.0",
            "_model_name": "LayoutModel",
            "_view_count": null,
            "_view_module": "@jupyter-widgets/base",
            "_view_module_version": "1.2.0",
            "_view_name": "LayoutView",
            "align_content": null,
            "align_items": null,
            "align_self": null,
            "border": null,
            "bottom": null,
            "display": null,
            "flex": null,
            "flex_flow": null,
            "grid_area": null,
            "grid_auto_columns": null,
            "grid_auto_flow": null,
            "grid_auto_rows": null,
            "grid_column": null,
            "grid_gap": null,
            "grid_row": null,
            "grid_template_areas": null,
            "grid_template_columns": null,
            "grid_template_rows": null,
            "height": null,
            "justify_content": null,
            "justify_items": null,
            "left": null,
            "margin": null,
            "max_height": null,
            "max_width": null,
            "min_height": null,
            "min_width": null,
            "object_fit": null,
            "object_position": null,
            "order": null,
            "overflow": null,
            "overflow_x": null,
            "overflow_y": null,
            "padding": null,
            "right": null,
            "top": null,
            "visibility": null,
            "width": null
          }
        },
        "1cfe44965d3441f89cdf90f437b7d6cc": {
          "model_module": "@jupyter-widgets/base",
          "model_module_version": "1.2.0",
          "model_name": "LayoutModel",
          "state": {
            "_model_module": "@jupyter-widgets/base",
            "_model_module_version": "1.2.0",
            "_model_name": "LayoutModel",
            "_view_count": null,
            "_view_module": "@jupyter-widgets/base",
            "_view_module_version": "1.2.0",
            "_view_name": "LayoutView",
            "align_content": null,
            "align_items": null,
            "align_self": null,
            "border": null,
            "bottom": null,
            "display": null,
            "flex": null,
            "flex_flow": null,
            "grid_area": null,
            "grid_auto_columns": null,
            "grid_auto_flow": null,
            "grid_auto_rows": null,
            "grid_column": null,
            "grid_gap": null,
            "grid_row": null,
            "grid_template_areas": null,
            "grid_template_columns": null,
            "grid_template_rows": null,
            "height": null,
            "justify_content": null,
            "justify_items": null,
            "left": null,
            "margin": null,
            "max_height": null,
            "max_width": null,
            "min_height": null,
            "min_width": null,
            "object_fit": null,
            "object_position": null,
            "order": null,
            "overflow": null,
            "overflow_x": null,
            "overflow_y": null,
            "padding": null,
            "right": null,
            "top": null,
            "visibility": null,
            "width": null
          }
        },
        "213f1a217e2d46f0b29a139361b366a2": {
          "model_module": "@jupyter-widgets/controls",
          "model_module_version": "1.5.0",
          "model_name": "DescriptionStyleModel",
          "state": {
            "_model_module": "@jupyter-widgets/controls",
            "_model_module_version": "1.5.0",
            "_model_name": "DescriptionStyleModel",
            "_view_count": null,
            "_view_module": "@jupyter-widgets/base",
            "_view_module_version": "1.2.0",
            "_view_name": "StyleView",
            "description_width": ""
          }
        },
        "245d407efc95469c95e179c3608801c5": {
          "model_module": "@jupyter-widgets/controls",
          "model_module_version": "1.5.0",
          "model_name": "ProgressStyleModel",
          "state": {
            "_model_module": "@jupyter-widgets/controls",
            "_model_module_version": "1.5.0",
            "_model_name": "ProgressStyleModel",
            "_view_count": null,
            "_view_module": "@jupyter-widgets/base",
            "_view_module_version": "1.2.0",
            "_view_name": "StyleView",
            "bar_color": null,
            "description_width": ""
          }
        },
        "25b6bed5b25045d5b57b8edc93917c4f": {
          "model_module": "@jupyter-widgets/controls",
          "model_module_version": "1.5.0",
          "model_name": "HBoxModel",
          "state": {
            "_dom_classes": [],
            "_model_module": "@jupyter-widgets/controls",
            "_model_module_version": "1.5.0",
            "_model_name": "HBoxModel",
            "_view_count": null,
            "_view_module": "@jupyter-widgets/controls",
            "_view_module_version": "1.5.0",
            "_view_name": "HBoxView",
            "box_style": "",
            "children": [
              "IPY_MODEL_adc2a024afca40a4b4742deaf2ba3316",
              "IPY_MODEL_cbb1ab5aafb747f2ae50deaddaef5b34",
              "IPY_MODEL_85f99bdf7a274e02a673a1b33bb4db88"
            ],
            "layout": "IPY_MODEL_7e4b1b8b8cef4a86b5f42b5ea3a23ac1"
          }
        },
        "26a2576d7cb746c69e0f0006fdd260d1": {
          "model_module": "@jupyter-widgets/controls",
          "model_module_version": "1.5.0",
          "model_name": "HBoxModel",
          "state": {
            "_dom_classes": [],
            "_model_module": "@jupyter-widgets/controls",
            "_model_module_version": "1.5.0",
            "_model_name": "HBoxModel",
            "_view_count": null,
            "_view_module": "@jupyter-widgets/controls",
            "_view_module_version": "1.5.0",
            "_view_name": "HBoxView",
            "box_style": "",
            "children": [
              "IPY_MODEL_a8bcf2618f8c4eb7be8799fb460b5d54",
              "IPY_MODEL_cb2349bd5b484dd8a49a48115a08016f",
              "IPY_MODEL_36393be87d8f44f28f8a599e23cda698"
            ],
            "layout": "IPY_MODEL_9ebca87beef24e2ca83c10a795658e69"
          }
        },
        "2f8e8e8f9b88436da6370ce1be5ebbf3": {
          "model_module": "@jupyter-widgets/controls",
          "model_module_version": "1.5.0",
          "model_name": "DescriptionStyleModel",
          "state": {
            "_model_module": "@jupyter-widgets/controls",
            "_model_module_version": "1.5.0",
            "_model_name": "DescriptionStyleModel",
            "_view_count": null,
            "_view_module": "@jupyter-widgets/base",
            "_view_module_version": "1.2.0",
            "_view_name": "StyleView",
            "description_width": ""
          }
        },
        "33edb3ea88e044dd81a63192dbd6713e": {
          "model_module": "@jupyter-widgets/base",
          "model_module_version": "1.2.0",
          "model_name": "LayoutModel",
          "state": {
            "_model_module": "@jupyter-widgets/base",
            "_model_module_version": "1.2.0",
            "_model_name": "LayoutModel",
            "_view_count": null,
            "_view_module": "@jupyter-widgets/base",
            "_view_module_version": "1.2.0",
            "_view_name": "LayoutView",
            "align_content": null,
            "align_items": null,
            "align_self": null,
            "border": null,
            "bottom": null,
            "display": null,
            "flex": null,
            "flex_flow": null,
            "grid_area": null,
            "grid_auto_columns": null,
            "grid_auto_flow": null,
            "grid_auto_rows": null,
            "grid_column": null,
            "grid_gap": null,
            "grid_row": null,
            "grid_template_areas": null,
            "grid_template_columns": null,
            "grid_template_rows": null,
            "height": null,
            "justify_content": null,
            "justify_items": null,
            "left": null,
            "margin": null,
            "max_height": null,
            "max_width": null,
            "min_height": null,
            "min_width": null,
            "object_fit": null,
            "object_position": null,
            "order": null,
            "overflow": null,
            "overflow_x": null,
            "overflow_y": null,
            "padding": null,
            "right": null,
            "top": null,
            "visibility": null,
            "width": null
          }
        },
        "36393be87d8f44f28f8a599e23cda698": {
          "model_module": "@jupyter-widgets/controls",
          "model_module_version": "1.5.0",
          "model_name": "HTMLModel",
          "state": {
            "_dom_classes": [],
            "_model_module": "@jupyter-widgets/controls",
            "_model_module_version": "1.5.0",
            "_model_name": "HTMLModel",
            "_view_count": null,
            "_view_module": "@jupyter-widgets/controls",
            "_view_module_version": "1.5.0",
            "_view_name": "HTMLView",
            "description": "",
            "description_tooltip": null,
            "layout": "IPY_MODEL_33edb3ea88e044dd81a63192dbd6713e",
            "placeholder": "​",
            "style": "IPY_MODEL_2f8e8e8f9b88436da6370ce1be5ebbf3",
            "value": " 3/3 [00:08&lt;00:00,  2.66s/it]"
          }
        },
        "43b0f1068ea64bffa6cd6313922f0e9b": {
          "model_module": "@jupyter-widgets/base",
          "model_module_version": "1.2.0",
          "model_name": "LayoutModel",
          "state": {
            "_model_module": "@jupyter-widgets/base",
            "_model_module_version": "1.2.0",
            "_model_name": "LayoutModel",
            "_view_count": null,
            "_view_module": "@jupyter-widgets/base",
            "_view_module_version": "1.2.0",
            "_view_name": "LayoutView",
            "align_content": null,
            "align_items": null,
            "align_self": null,
            "border": null,
            "bottom": null,
            "display": null,
            "flex": null,
            "flex_flow": null,
            "grid_area": null,
            "grid_auto_columns": null,
            "grid_auto_flow": null,
            "grid_auto_rows": null,
            "grid_column": null,
            "grid_gap": null,
            "grid_row": null,
            "grid_template_areas": null,
            "grid_template_columns": null,
            "grid_template_rows": null,
            "height": null,
            "justify_content": null,
            "justify_items": null,
            "left": null,
            "margin": null,
            "max_height": null,
            "max_width": null,
            "min_height": null,
            "min_width": null,
            "object_fit": null,
            "object_position": null,
            "order": null,
            "overflow": null,
            "overflow_x": null,
            "overflow_y": null,
            "padding": null,
            "right": null,
            "top": null,
            "visibility": null,
            "width": null
          }
        },
        "7e4b1b8b8cef4a86b5f42b5ea3a23ac1": {
          "model_module": "@jupyter-widgets/base",
          "model_module_version": "1.2.0",
          "model_name": "LayoutModel",
          "state": {
            "_model_module": "@jupyter-widgets/base",
            "_model_module_version": "1.2.0",
            "_model_name": "LayoutModel",
            "_view_count": null,
            "_view_module": "@jupyter-widgets/base",
            "_view_module_version": "1.2.0",
            "_view_name": "LayoutView",
            "align_content": null,
            "align_items": null,
            "align_self": null,
            "border": null,
            "bottom": null,
            "display": null,
            "flex": null,
            "flex_flow": null,
            "grid_area": null,
            "grid_auto_columns": null,
            "grid_auto_flow": null,
            "grid_auto_rows": null,
            "grid_column": null,
            "grid_gap": null,
            "grid_row": null,
            "grid_template_areas": null,
            "grid_template_columns": null,
            "grid_template_rows": null,
            "height": null,
            "justify_content": null,
            "justify_items": null,
            "left": null,
            "margin": null,
            "max_height": null,
            "max_width": null,
            "min_height": null,
            "min_width": null,
            "object_fit": null,
            "object_position": null,
            "order": null,
            "overflow": null,
            "overflow_x": null,
            "overflow_y": null,
            "padding": null,
            "right": null,
            "top": null,
            "visibility": "hidden",
            "width": null
          }
        },
        "85f99bdf7a274e02a673a1b33bb4db88": {
          "model_module": "@jupyter-widgets/controls",
          "model_module_version": "1.5.0",
          "model_name": "HTMLModel",
          "state": {
            "_dom_classes": [],
            "_model_module": "@jupyter-widgets/controls",
            "_model_module_version": "1.5.0",
            "_model_name": "HTMLModel",
            "_view_count": null,
            "_view_module": "@jupyter-widgets/controls",
            "_view_module_version": "1.5.0",
            "_view_name": "HTMLView",
            "description": "",
            "description_tooltip": null,
            "layout": "IPY_MODEL_176baefe68524523acf7f54a06ede7a2",
            "placeholder": "​",
            "style": "IPY_MODEL_213f1a217e2d46f0b29a139361b366a2",
            "value": " 3/3 [00:05&lt;00:00,  1.64s/it]"
          }
        },
        "9ebca87beef24e2ca83c10a795658e69": {
          "model_module": "@jupyter-widgets/base",
          "model_module_version": "1.2.0",
          "model_name": "LayoutModel",
          "state": {
            "_model_module": "@jupyter-widgets/base",
            "_model_module_version": "1.2.0",
            "_model_name": "LayoutModel",
            "_view_count": null,
            "_view_module": "@jupyter-widgets/base",
            "_view_module_version": "1.2.0",
            "_view_name": "LayoutView",
            "align_content": null,
            "align_items": null,
            "align_self": null,
            "border": null,
            "bottom": null,
            "display": null,
            "flex": null,
            "flex_flow": null,
            "grid_area": null,
            "grid_auto_columns": null,
            "grid_auto_flow": null,
            "grid_auto_rows": null,
            "grid_column": null,
            "grid_gap": null,
            "grid_row": null,
            "grid_template_areas": null,
            "grid_template_columns": null,
            "grid_template_rows": null,
            "height": null,
            "justify_content": null,
            "justify_items": null,
            "left": null,
            "margin": null,
            "max_height": null,
            "max_width": null,
            "min_height": null,
            "min_width": null,
            "object_fit": null,
            "object_position": null,
            "order": null,
            "overflow": null,
            "overflow_x": null,
            "overflow_y": null,
            "padding": null,
            "right": null,
            "top": null,
            "visibility": "hidden",
            "width": null
          }
        },
        "a8bcf2618f8c4eb7be8799fb460b5d54": {
          "model_module": "@jupyter-widgets/controls",
          "model_module_version": "1.5.0",
          "model_name": "HTMLModel",
          "state": {
            "_dom_classes": [],
            "_model_module": "@jupyter-widgets/controls",
            "_model_module_version": "1.5.0",
            "_model_name": "HTMLModel",
            "_view_count": null,
            "_view_module": "@jupyter-widgets/controls",
            "_view_module_version": "1.5.0",
            "_view_name": "HTMLView",
            "description": "",
            "description_tooltip": null,
            "layout": "IPY_MODEL_19ed30deb4854b90bca5736f7a8f46a2",
            "placeholder": "​",
            "style": "IPY_MODEL_c8c8e79eedfd4aabbdf8c35185bb6b58",
            "value": "Processing: 100%"
          }
        },
        "adc2a024afca40a4b4742deaf2ba3316": {
          "model_module": "@jupyter-widgets/controls",
          "model_module_version": "1.5.0",
          "model_name": "HTMLModel",
          "state": {
            "_dom_classes": [],
            "_model_module": "@jupyter-widgets/controls",
            "_model_module_version": "1.5.0",
            "_model_name": "HTMLModel",
            "_view_count": null,
            "_view_module": "@jupyter-widgets/controls",
            "_view_module_version": "1.5.0",
            "_view_name": "HTMLView",
            "description": "",
            "description_tooltip": null,
            "layout": "IPY_MODEL_1cfe44965d3441f89cdf90f437b7d6cc",
            "placeholder": "​",
            "style": "IPY_MODEL_1746b73a70a04aeca15d606f67cf41ca",
            "value": "Processing: 100%"
          }
        },
        "b6b36b321158450d971aa23bb9343882": {
          "model_module": "@jupyter-widgets/controls",
          "model_module_version": "1.5.0",
          "model_name": "ProgressStyleModel",
          "state": {
            "_model_module": "@jupyter-widgets/controls",
            "_model_module_version": "1.5.0",
            "_model_name": "ProgressStyleModel",
            "_view_count": null,
            "_view_module": "@jupyter-widgets/base",
            "_view_module_version": "1.2.0",
            "_view_name": "StyleView",
            "bar_color": null,
            "description_width": ""
          }
        },
        "c3b403900bcf4791a79a45ac07bdeb7c": {
          "model_module": "@jupyter-widgets/base",
          "model_module_version": "1.2.0",
          "model_name": "LayoutModel",
          "state": {
            "_model_module": "@jupyter-widgets/base",
            "_model_module_version": "1.2.0",
            "_model_name": "LayoutModel",
            "_view_count": null,
            "_view_module": "@jupyter-widgets/base",
            "_view_module_version": "1.2.0",
            "_view_name": "LayoutView",
            "align_content": null,
            "align_items": null,
            "align_self": null,
            "border": null,
            "bottom": null,
            "display": null,
            "flex": null,
            "flex_flow": null,
            "grid_area": null,
            "grid_auto_columns": null,
            "grid_auto_flow": null,
            "grid_auto_rows": null,
            "grid_column": null,
            "grid_gap": null,
            "grid_row": null,
            "grid_template_areas": null,
            "grid_template_columns": null,
            "grid_template_rows": null,
            "height": null,
            "justify_content": null,
            "justify_items": null,
            "left": null,
            "margin": null,
            "max_height": null,
            "max_width": null,
            "min_height": null,
            "min_width": null,
            "object_fit": null,
            "object_position": null,
            "order": null,
            "overflow": null,
            "overflow_x": null,
            "overflow_y": null,
            "padding": null,
            "right": null,
            "top": null,
            "visibility": null,
            "width": null
          }
        },
        "c8c8e79eedfd4aabbdf8c35185bb6b58": {
          "model_module": "@jupyter-widgets/controls",
          "model_module_version": "1.5.0",
          "model_name": "DescriptionStyleModel",
          "state": {
            "_model_module": "@jupyter-widgets/controls",
            "_model_module_version": "1.5.0",
            "_model_name": "DescriptionStyleModel",
            "_view_count": null,
            "_view_module": "@jupyter-widgets/base",
            "_view_module_version": "1.2.0",
            "_view_name": "StyleView",
            "description_width": ""
          }
        },
        "cb2349bd5b484dd8a49a48115a08016f": {
          "model_module": "@jupyter-widgets/controls",
          "model_module_version": "1.5.0",
          "model_name": "FloatProgressModel",
          "state": {
            "_dom_classes": [],
            "_model_module": "@jupyter-widgets/controls",
            "_model_module_version": "1.5.0",
            "_model_name": "FloatProgressModel",
            "_view_count": null,
            "_view_module": "@jupyter-widgets/controls",
            "_view_module_version": "1.5.0",
            "_view_name": "ProgressView",
            "bar_style": "",
            "description": "",
            "description_tooltip": null,
            "layout": "IPY_MODEL_43b0f1068ea64bffa6cd6313922f0e9b",
            "max": 3,
            "min": 0,
            "orientation": "horizontal",
            "style": "IPY_MODEL_245d407efc95469c95e179c3608801c5",
            "value": 3
          }
        },
        "cbb1ab5aafb747f2ae50deaddaef5b34": {
          "model_module": "@jupyter-widgets/controls",
          "model_module_version": "1.5.0",
          "model_name": "FloatProgressModel",
          "state": {
            "_dom_classes": [],
            "_model_module": "@jupyter-widgets/controls",
            "_model_module_version": "1.5.0",
            "_model_name": "FloatProgressModel",
            "_view_count": null,
            "_view_module": "@jupyter-widgets/controls",
            "_view_module_version": "1.5.0",
            "_view_name": "ProgressView",
            "bar_style": "",
            "description": "",
            "description_tooltip": null,
            "layout": "IPY_MODEL_c3b403900bcf4791a79a45ac07bdeb7c",
            "max": 3,
            "min": 0,
            "orientation": "horizontal",
            "style": "IPY_MODEL_b6b36b321158450d971aa23bb9343882",
            "value": 3
          }
        }
      }
    }
  },
  "nbformat": 4,
  "nbformat_minor": 0
}
